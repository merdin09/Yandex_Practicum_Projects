{
 "cells": [
  {
   "cell_type": "markdown",
   "metadata": {},
   "source": [
    "<h1>Содержание<span class=\"tocSkip\"></span></h1>\n",
    "<div class=\"toc\"><ul class=\"toc-item\"><li><span><a href=\"#Часть-1.-Приоритизация-гипотез.\" data-toc-modified-id=\"Часть-1.-Приоритизация-гипотез.-1\"><span class=\"toc-item-num\">1&nbsp;&nbsp;</span>Часть 1. Приоритизация гипотез.</a></span><ul class=\"toc-item\"><li><span><a href=\"#Применим-фреймворк-ICE-для-приоритизации-гипотез.-Отсортируем-их-по-убыванию-приоритета.\" data-toc-modified-id=\"Применим-фреймворк-ICE-для-приоритизации-гипотез.-Отсортируем-их-по-убыванию-приоритета.-1.1\"><span class=\"toc-item-num\">1.1&nbsp;&nbsp;</span>Применим фреймворк ICE для приоритизации гипотез. Отсортируем их по убыванию приоритета.</a></span></li><li><span><a href=\"#Применим-фреймворк-RICE-для-приоритизации-гипотез.-Отсортируем-их-по-убыванию-приоритета.\" data-toc-modified-id=\"Применим-фреймворк-RICE-для-приоритизации-гипотез.-Отсортируем-их-по-убыванию-приоритета.-1.2\"><span class=\"toc-item-num\">1.2&nbsp;&nbsp;</span>Применим фреймворк RICE для приоритизации гипотез. Отсортируем их по убыванию приоритета.</a></span></li></ul></li><li><span><a href=\"#Часть-2.-Анализ-A/B-теста\" data-toc-modified-id=\"Часть-2.-Анализ-A/B-теста-2\"><span class=\"toc-item-num\">2&nbsp;&nbsp;</span>Часть 2. Анализ A/B-теста</a></span><ul class=\"toc-item\"><li><span><a href=\"#Построим-график-кумулятивной-выручки-по-группам.\" data-toc-modified-id=\"Построим-график-кумулятивной-выручки-по-группам.-2.1\"><span class=\"toc-item-num\">2.1&nbsp;&nbsp;</span>Построим график кумулятивной выручки по группам.</a></span><ul class=\"toc-item\"><li><span><a href=\"#Проведем-предобработку-данных\" data-toc-modified-id=\"Проведем-предобработку-данных-2.1.1\"><span class=\"toc-item-num\">2.1.1&nbsp;&nbsp;</span>Проведем предобработку данных</a></span></li><li><span><a href=\"#Проведем-исследование-качества-данных\" data-toc-modified-id=\"Проведем-исследование-качества-данных-2.1.2\"><span class=\"toc-item-num\">2.1.2&nbsp;&nbsp;</span>Проведем исследование качества данных</a></span></li><li><span><a href=\"#Построим-график-кумулятивной-выручки-по-группам.\" data-toc-modified-id=\"Построим-график-кумулятивной-выручки-по-группам.-2.1.3\"><span class=\"toc-item-num\">2.1.3&nbsp;&nbsp;</span>Построим график кумулятивной выручки по группам.</a></span></li></ul></li><li><span><a href=\"#Построим-график-кумулятивного-среднего-чека-по-группам.\" data-toc-modified-id=\"Построим-график-кумулятивного-среднего-чека-по-группам.-2.2\"><span class=\"toc-item-num\">2.2&nbsp;&nbsp;</span>Построим график кумулятивного среднего чека по группам.</a></span></li><li><span><a href=\"#Построим-график-относительного-изменения-кумулятивного-среднего-чека-группы-B-к-группе-A.\" data-toc-modified-id=\"Построим-график-относительного-изменения-кумулятивного-среднего-чека-группы-B-к-группе-A.-2.3\"><span class=\"toc-item-num\">2.3&nbsp;&nbsp;</span>Построим график относительного изменения кумулятивного среднего чека группы B к группе A.</a></span></li><li><span><a href=\"#Построим-график-кумулятивного-среднего-количества-заказов-на-посетителя-по-группам.\" data-toc-modified-id=\"Построим-график-кумулятивного-среднего-количества-заказов-на-посетителя-по-группам.-2.4\"><span class=\"toc-item-num\">2.4&nbsp;&nbsp;</span>Построим график кумулятивного среднего количества заказов на посетителя по группам.</a></span></li><li><span><a href=\"#Построим-график-относительного-изменения-кумулятивного-среднего-количества-заказов-на-посетителя-группы-B-к-группе-A.\" data-toc-modified-id=\"Построим-график-относительного-изменения-кумулятивного-среднего-количества-заказов-на-посетителя-группы-B-к-группе-A.-2.5\"><span class=\"toc-item-num\">2.5&nbsp;&nbsp;</span>Построим график относительного изменения кумулятивного среднего количества заказов на посетителя группы B к группе A.</a></span></li><li><span><a href=\"#Построим-точечный-график-количества-заказов-по-пользователям.\" data-toc-modified-id=\"Построим-точечный-график-количества-заказов-по-пользователям.-2.6\"><span class=\"toc-item-num\">2.6&nbsp;&nbsp;</span>Построим точечный график количества заказов по пользователям.</a></span></li><li><span><a href=\"#Посчитаем-95-й-и-99-й-перцентили-количества-заказов-на-пользователя.-Выберем-границу-для-определения-аномальных-пользователей.\" data-toc-modified-id=\"Посчитаем-95-й-и-99-й-перцентили-количества-заказов-на-пользователя.-Выберем-границу-для-определения-аномальных-пользователей.-2.7\"><span class=\"toc-item-num\">2.7&nbsp;&nbsp;</span>Посчитаем 95-й и 99-й перцентили количества заказов на пользователя. Выберем границу для определения аномальных пользователей.</a></span></li><li><span><a href=\"#Построим-точечный-график-стоимостей-заказов.\" data-toc-modified-id=\"Построим-точечный-график-стоимостей-заказов.-2.8\"><span class=\"toc-item-num\">2.8&nbsp;&nbsp;</span>Построим точечный график стоимостей заказов.</a></span></li><li><span><a href=\"#Посчитаем-95-й-и-99-й-перцентили-стоимости-заказов.-Выберем-границу-для-определения-аномальных-заказов.\" data-toc-modified-id=\"Посчитаем-95-й-и-99-й-перцентили-стоимости-заказов.-Выберем-границу-для-определения-аномальных-заказов.-2.9\"><span class=\"toc-item-num\">2.9&nbsp;&nbsp;</span>Посчитаем 95-й и 99-й перцентили стоимости заказов. Выберем границу для определения аномальных заказов.</a></span></li><li><span><a href=\"#Посчитайтаем-статистическую-значимость-различий-в-среднем-количестве-заказов-на-посетителя-между-группами-по-«сырым»-данным.\" data-toc-modified-id=\"Посчитайтаем-статистическую-значимость-различий-в-среднем-количестве-заказов-на-посетителя-между-группами-по-«сырым»-данным.-2.10\"><span class=\"toc-item-num\">2.10&nbsp;&nbsp;</span>Посчитайтаем статистическую значимость различий в среднем количестве заказов на посетителя между группами по «сырым» данным.</a></span><ul class=\"toc-item\"><li><span><a href=\"#Сформируем-таблицу-количества-посетителей-по-датам-для-групп-А-и-В\" data-toc-modified-id=\"Сформируем-таблицу-количества-посетителей-по-датам-для-групп-А-и-В-2.10.1\"><span class=\"toc-item-num\">2.10.1&nbsp;&nbsp;</span>Сформируем таблицу количества посетителей по датам для групп А и В</a></span></li><li><span><a href=\"#Сформируем-таблицу-с-кумулятивным-количеством-посетителей-по-датам-для-групп-А-и-В\" data-toc-modified-id=\"Сформируем-таблицу-с-кумулятивным-количеством-посетителей-по-датам-для-групп-А-и-В-2.10.2\"><span class=\"toc-item-num\">2.10.2&nbsp;&nbsp;</span>Сформируем таблицу с кумулятивным количеством посетителей по датам для групп А и В</a></span></li><li><span><a href=\"#Сформируем-таблицу-с-количеством-заказов-по-датам-для-групп-А-и-В\" data-toc-modified-id=\"Сформируем-таблицу-с-количеством-заказов-по-датам-для-групп-А-и-В-2.10.3\"><span class=\"toc-item-num\">2.10.3&nbsp;&nbsp;</span>Сформируем таблицу с количеством заказов по датам для групп А и В</a></span></li><li><span><a href=\"#Сформируем-таблицу-с-кумулятивным-количеством-заказов-по-датам-для-групп-А-и-В\" data-toc-modified-id=\"Сформируем-таблицу-с-кумулятивным-количеством-заказов-по-датам-для-групп-А-и-В-2.10.4\"><span class=\"toc-item-num\">2.10.4&nbsp;&nbsp;</span>Сформируем таблицу с кумулятивным количеством заказов по датам для групп А и В</a></span></li><li><span><a href=\"#Соеденим-все-данные-в-одну-таблицу-по-датам.\" data-toc-modified-id=\"Соеденим-все-данные-в-одну-таблицу-по-датам.-2.10.5\"><span class=\"toc-item-num\">2.10.5&nbsp;&nbsp;</span>Соеденим все данные в одну таблицу по датам.</a></span></li><li><span><a href=\"#Посчитаем-статистическую-значимость-различия-в-среднем-количестве-заказов-между-группами.-Создадим-переменные-ordersByUsersA-и-ordersByUsersB-со-столбцами-['userId',-'orders'].-В-них-для-пользователей,-которые-заказывали-хотя-бы-1-раз,-укажем-число-совершённых-заказов.\" data-toc-modified-id=\"Посчитаем-статистическую-значимость-различия-в-среднем-количестве-заказов-между-группами.-Создадим-переменные-ordersByUsersA-и-ordersByUsersB-со-столбцами-['userId',-'orders'].-В-них-для-пользователей,-которые-заказывали-хотя-бы-1-раз,-укажем-число-совершённых-заказов.-2.10.6\"><span class=\"toc-item-num\">2.10.6&nbsp;&nbsp;</span>Посчитаем статистическую значимость различия в среднем количестве заказов между группами. Создадим переменные ordersByUsersA и ordersByUsersB со столбцами ['userId', 'orders']. В них для пользователей, которые заказывали хотя бы 1 раз, укажем число совершённых заказов.</a></span></li></ul></li><li><span><a href=\"#Посчитаем-статистическую-значимость-различий-в-среднем-чеке-заказа-между-группами-по-«сырым»-данным.\" data-toc-modified-id=\"Посчитаем-статистическую-значимость-различий-в-среднем-чеке-заказа-между-группами-по-«сырым»-данным.-2.11\"><span class=\"toc-item-num\">2.11&nbsp;&nbsp;</span>Посчитаем статистическую значимость различий в среднем чеке заказа между группами по «сырым» данным.</a></span></li><li><span><a href=\"#Посчитаем-статистическую-значимость-различий-в-среднем-количестве-заказов-на-посетителя-между-группами-по-«очищенным»-данным.\" data-toc-modified-id=\"Посчитаем-статистическую-значимость-различий-в-среднем-количестве-заказов-на-посетителя-между-группами-по-«очищенным»-данным.-2.12\"><span class=\"toc-item-num\">2.12&nbsp;&nbsp;</span>Посчитаем статистическую значимость различий в среднем количестве заказов на посетителя между группами по «очищенным» данным.</a></span></li><li><span><a href=\"#Посчитаем-статистическую-значимость-различий-в-среднем-чеке-заказа-между-группами-по-«очищенным»-данным.\" data-toc-modified-id=\"Посчитаем-статистическую-значимость-различий-в-среднем-чеке-заказа-между-группами-по-«очищенным»-данным.-2.13\"><span class=\"toc-item-num\">2.13&nbsp;&nbsp;</span>Посчитаем статистическую значимость различий в среднем чеке заказа между группами по «очищенным» данным.</a></span></li><li><span><a href=\"#Вывод\" data-toc-modified-id=\"Вывод-2.14\"><span class=\"toc-item-num\">2.14&nbsp;&nbsp;</span>Вывод</a></span></li></ul></li></ul></div>"
   ]
  },
  {
   "cell_type": "markdown",
   "metadata": {},
   "source": [
    "# Проверка списка гипотез для увеличения выручки крупного интернет-магазина."
   ]
  },
  {
   "cell_type": "markdown",
   "metadata": {},
   "source": [
    "Необходимо проверить список гипотез для увеличения выручки интернет-магазина.\n",
    "Приоритизируем гипотезы, запустим A/B-тесты и проанализируем результаты."
   ]
  },
  {
   "cell_type": "markdown",
   "metadata": {},
   "source": [
    "## Приоритизация гипотез."
   ]
  },
  {
   "cell_type": "code",
   "execution_count": 1,
   "metadata": {},
   "outputs": [],
   "source": [
    "import pandas  as pd\n",
    "import matplotlib.pyplot as plt\n",
    "import seaborn as sb\n",
    "import numpy   as np\n",
    "import scipy.stats as stats\n",
    "from datetime import datetime, timedelta\n",
    "pd.set_option('display.max_columns', None)   # отобразим все столбцы датафрейма\n",
    "pd.set_option('display.max_colwidth', None)  # отобразим полностью столбцы"
   ]
  },
  {
   "cell_type": "code",
   "execution_count": 2,
   "metadata": {},
   "outputs": [],
   "source": [
    "try:\n",
    "    hypothesis = pd.read_csv('/datasets/hypothesis.csv')\n",
    "except:\n",
    "    hypothesis = pd.read_csv('/Users/sergeipakhar/Desktop/Phyton/8 СПРИНТ Принятие решение в бизнесе/Проект/hypothesis.csv')"
   ]
  },
  {
   "cell_type": "code",
   "execution_count": 3,
   "metadata": {},
   "outputs": [
    {
     "data": {
      "text/html": [
       "<div>\n",
       "<style scoped>\n",
       "    .dataframe tbody tr th:only-of-type {\n",
       "        vertical-align: middle;\n",
       "    }\n",
       "\n",
       "    .dataframe tbody tr th {\n",
       "        vertical-align: top;\n",
       "    }\n",
       "\n",
       "    .dataframe thead th {\n",
       "        text-align: right;\n",
       "    }\n",
       "</style>\n",
       "<table border=\"1\" class=\"dataframe\">\n",
       "  <thead>\n",
       "    <tr style=\"text-align: right;\">\n",
       "      <th></th>\n",
       "      <th>Hypothesis</th>\n",
       "      <th>Reach</th>\n",
       "      <th>Impact</th>\n",
       "      <th>Confidence</th>\n",
       "      <th>Efforts</th>\n",
       "    </tr>\n",
       "  </thead>\n",
       "  <tbody>\n",
       "    <tr>\n",
       "      <th>0</th>\n",
       "      <td>Добавить два новых канала привлечения трафика, что позволит привлекать на 30% больше пользователей</td>\n",
       "      <td>3</td>\n",
       "      <td>10</td>\n",
       "      <td>8</td>\n",
       "      <td>6</td>\n",
       "    </tr>\n",
       "    <tr>\n",
       "      <th>1</th>\n",
       "      <td>Запустить собственную службу доставки, что сократит срок доставки заказов</td>\n",
       "      <td>2</td>\n",
       "      <td>5</td>\n",
       "      <td>4</td>\n",
       "      <td>10</td>\n",
       "    </tr>\n",
       "    <tr>\n",
       "      <th>2</th>\n",
       "      <td>Добавить блоки рекомендаций товаров на сайт интернет магазина, чтобы повысить конверсию и средний чек заказа</td>\n",
       "      <td>8</td>\n",
       "      <td>3</td>\n",
       "      <td>7</td>\n",
       "      <td>3</td>\n",
       "    </tr>\n",
       "    <tr>\n",
       "      <th>3</th>\n",
       "      <td>Изменить структура категорий, что увеличит конверсию, т.к. пользователи быстрее найдут нужный товар</td>\n",
       "      <td>8</td>\n",
       "      <td>3</td>\n",
       "      <td>3</td>\n",
       "      <td>8</td>\n",
       "    </tr>\n",
       "    <tr>\n",
       "      <th>4</th>\n",
       "      <td>Изменить цвет фона главной страницы, чтобы увеличить вовлеченность пользователей</td>\n",
       "      <td>3</td>\n",
       "      <td>1</td>\n",
       "      <td>1</td>\n",
       "      <td>1</td>\n",
       "    </tr>\n",
       "    <tr>\n",
       "      <th>5</th>\n",
       "      <td>Добавить страницу отзывов клиентов о магазине, что позволит увеличить количество заказов</td>\n",
       "      <td>3</td>\n",
       "      <td>2</td>\n",
       "      <td>2</td>\n",
       "      <td>3</td>\n",
       "    </tr>\n",
       "    <tr>\n",
       "      <th>6</th>\n",
       "      <td>Показать на главной странице баннеры с актуальными акциями и распродажами, чтобы увеличить конверсию</td>\n",
       "      <td>5</td>\n",
       "      <td>3</td>\n",
       "      <td>8</td>\n",
       "      <td>3</td>\n",
       "    </tr>\n",
       "    <tr>\n",
       "      <th>7</th>\n",
       "      <td>Добавить форму подписки на все основные страницы, чтобы собрать базу клиентов для email-рассылок</td>\n",
       "      <td>10</td>\n",
       "      <td>7</td>\n",
       "      <td>8</td>\n",
       "      <td>5</td>\n",
       "    </tr>\n",
       "    <tr>\n",
       "      <th>8</th>\n",
       "      <td>Запустить акцию, дающую скидку на товар в день рождения</td>\n",
       "      <td>1</td>\n",
       "      <td>9</td>\n",
       "      <td>9</td>\n",
       "      <td>5</td>\n",
       "    </tr>\n",
       "  </tbody>\n",
       "</table>\n",
       "</div>"
      ],
      "text/plain": [
       "                                                                                                     Hypothesis  \\\n",
       "0            Добавить два новых канала привлечения трафика, что позволит привлекать на 30% больше пользователей   \n",
       "1                                     Запустить собственную службу доставки, что сократит срок доставки заказов   \n",
       "2  Добавить блоки рекомендаций товаров на сайт интернет магазина, чтобы повысить конверсию и средний чек заказа   \n",
       "3           Изменить структура категорий, что увеличит конверсию, т.к. пользователи быстрее найдут нужный товар   \n",
       "4                              Изменить цвет фона главной страницы, чтобы увеличить вовлеченность пользователей   \n",
       "5                      Добавить страницу отзывов клиентов о магазине, что позволит увеличить количество заказов   \n",
       "6          Показать на главной странице баннеры с актуальными акциями и распродажами, чтобы увеличить конверсию   \n",
       "7              Добавить форму подписки на все основные страницы, чтобы собрать базу клиентов для email-рассылок   \n",
       "8                                                       Запустить акцию, дающую скидку на товар в день рождения   \n",
       "\n",
       "   Reach  Impact  Confidence  Efforts  \n",
       "0      3      10           8        6  \n",
       "1      2       5           4       10  \n",
       "2      8       3           7        3  \n",
       "3      8       3           3        8  \n",
       "4      3       1           1        1  \n",
       "5      3       2           2        3  \n",
       "6      5       3           8        3  \n",
       "7     10       7           8        5  \n",
       "8      1       9           9        5  "
      ]
     },
     "execution_count": 3,
     "metadata": {},
     "output_type": "execute_result"
    }
   ],
   "source": [
    "hypothesis"
   ]
  },
  {
   "cell_type": "markdown",
   "metadata": {},
   "source": [
    "### Применим фреймворк ICE для приоритизации гипотез. Отсортируем их по убыванию приоритета."
   ]
  },
  {
   "cell_type": "markdown",
   "metadata": {},
   "source": [
    "Расчитаем ICE по следующей формуле: $ICE=\\frac{Impact*Cofidence}{Efforts}$ "
   ]
  },
  {
   "cell_type": "code",
   "execution_count": 4,
   "metadata": {},
   "outputs": [],
   "source": [
    "hypothesis['ICE'] = (hypothesis['Impact']*hypothesis['Confidence'])/hypothesis['Efforts']"
   ]
  },
  {
   "cell_type": "code",
   "execution_count": 5,
   "metadata": {},
   "outputs": [
    {
     "data": {
      "text/html": [
       "<style type=\"text/css\">\n",
       "#T_7be68_row0_col1 {\n",
       "  background-color: #081d58;\n",
       "  color: #f1f1f1;\n",
       "}\n",
       "#T_7be68_row1_col1 {\n",
       "  background-color: #24459c;\n",
       "  color: #f1f1f1;\n",
       "}\n",
       "#T_7be68_row2_col1 {\n",
       "  background-color: #1f7ab5;\n",
       "  color: #f1f1f1;\n",
       "}\n",
       "#T_7be68_row3_col1 {\n",
       "  background-color: #52bcc2;\n",
       "  color: #000000;\n",
       "}\n",
       "#T_7be68_row4_col1 {\n",
       "  background-color: #73c8bd;\n",
       "  color: #000000;\n",
       "}\n",
       "#T_7be68_row5_col1 {\n",
       "  background-color: #f5fbc4;\n",
       "  color: #000000;\n",
       "}\n",
       "#T_7be68_row6_col1 {\n",
       "  background-color: #fcfed3;\n",
       "  color: #000000;\n",
       "}\n",
       "#T_7be68_row7_col1 {\n",
       "  background-color: #feffd6;\n",
       "  color: #000000;\n",
       "}\n",
       "#T_7be68_row8_col1 {\n",
       "  background-color: #ffffd9;\n",
       "  color: #000000;\n",
       "}\n",
       "</style>\n",
       "<table id=\"T_7be68\">\n",
       "  <thead>\n",
       "    <tr>\n",
       "      <th class=\"blank level0\" >&nbsp;</th>\n",
       "      <th id=\"T_7be68_level0_col0\" class=\"col_heading level0 col0\" >Hypothesis</th>\n",
       "      <th id=\"T_7be68_level0_col1\" class=\"col_heading level0 col1\" >ICE</th>\n",
       "    </tr>\n",
       "  </thead>\n",
       "  <tbody>\n",
       "    <tr>\n",
       "      <th id=\"T_7be68_level0_row0\" class=\"row_heading level0 row0\" >8</th>\n",
       "      <td id=\"T_7be68_row0_col0\" class=\"data row0 col0\" >Запустить акцию, дающую скидку на товар в день рождения</td>\n",
       "      <td id=\"T_7be68_row0_col1\" class=\"data row0 col1\" >16.200000</td>\n",
       "    </tr>\n",
       "    <tr>\n",
       "      <th id=\"T_7be68_level0_row1\" class=\"row_heading level0 row1\" >0</th>\n",
       "      <td id=\"T_7be68_row1_col0\" class=\"data row1 col0\" >Добавить два новых канала привлечения трафика, что позволит привлекать на 30% больше пользователей</td>\n",
       "      <td id=\"T_7be68_row1_col1\" class=\"data row1 col1\" >13.333333</td>\n",
       "    </tr>\n",
       "    <tr>\n",
       "      <th id=\"T_7be68_level0_row2\" class=\"row_heading level0 row2\" >7</th>\n",
       "      <td id=\"T_7be68_row2_col0\" class=\"data row2 col0\" >Добавить форму подписки на все основные страницы, чтобы собрать базу клиентов для email-рассылок</td>\n",
       "      <td id=\"T_7be68_row2_col1\" class=\"data row2 col1\" >11.200000</td>\n",
       "    </tr>\n",
       "    <tr>\n",
       "      <th id=\"T_7be68_level0_row3\" class=\"row_heading level0 row3\" >6</th>\n",
       "      <td id=\"T_7be68_row3_col0\" class=\"data row3 col0\" >Показать на главной странице баннеры с актуальными акциями и распродажами, чтобы увеличить конверсию</td>\n",
       "      <td id=\"T_7be68_row3_col1\" class=\"data row3 col1\" >8.000000</td>\n",
       "    </tr>\n",
       "    <tr>\n",
       "      <th id=\"T_7be68_level0_row4\" class=\"row_heading level0 row4\" >2</th>\n",
       "      <td id=\"T_7be68_row4_col0\" class=\"data row4 col0\" >Добавить блоки рекомендаций товаров на сайт интернет магазина, чтобы повысить конверсию и средний чек заказа</td>\n",
       "      <td id=\"T_7be68_row4_col1\" class=\"data row4 col1\" >7.000000</td>\n",
       "    </tr>\n",
       "    <tr>\n",
       "      <th id=\"T_7be68_level0_row5\" class=\"row_heading level0 row5\" >1</th>\n",
       "      <td id=\"T_7be68_row5_col0\" class=\"data row5 col0\" >Запустить собственную службу доставки, что сократит срок доставки заказов</td>\n",
       "      <td id=\"T_7be68_row5_col1\" class=\"data row5 col1\" >2.000000</td>\n",
       "    </tr>\n",
       "    <tr>\n",
       "      <th id=\"T_7be68_level0_row6\" class=\"row_heading level0 row6\" >5</th>\n",
       "      <td id=\"T_7be68_row6_col0\" class=\"data row6 col0\" >Добавить страницу отзывов клиентов о магазине, что позволит увеличить количество заказов</td>\n",
       "      <td id=\"T_7be68_row6_col1\" class=\"data row6 col1\" >1.333333</td>\n",
       "    </tr>\n",
       "    <tr>\n",
       "      <th id=\"T_7be68_level0_row7\" class=\"row_heading level0 row7\" >3</th>\n",
       "      <td id=\"T_7be68_row7_col0\" class=\"data row7 col0\" >Изменить структура категорий, что увеличит конверсию, т.к. пользователи быстрее найдут нужный товар</td>\n",
       "      <td id=\"T_7be68_row7_col1\" class=\"data row7 col1\" >1.125000</td>\n",
       "    </tr>\n",
       "    <tr>\n",
       "      <th id=\"T_7be68_level0_row8\" class=\"row_heading level0 row8\" >4</th>\n",
       "      <td id=\"T_7be68_row8_col0\" class=\"data row8 col0\" >Изменить цвет фона главной страницы, чтобы увеличить вовлеченность пользователей</td>\n",
       "      <td id=\"T_7be68_row8_col1\" class=\"data row8 col1\" >1.000000</td>\n",
       "    </tr>\n",
       "  </tbody>\n",
       "</table>\n"
      ],
      "text/plain": [
       "<pandas.io.formats.style.Styler at 0x7fa1a0b6e8e0>"
      ]
     },
     "execution_count": 5,
     "metadata": {},
     "output_type": "execute_result"
    }
   ],
   "source": [
    "hypothesis[['Hypothesis','ICE']].sort_values('ICE', ascending=False)\\\n",
    "                                 .style.background_gradient(axis=None, vmin=1, vmax=16, cmap=\"YlGnBu\")\n"
   ]
  },
  {
   "cell_type": "markdown",
   "metadata": {},
   "source": [
    "### Применим фреймворк RICE для приоритизации гипотез. Отсортируем их по убыванию приоритета."
   ]
  },
  {
   "cell_type": "markdown",
   "metadata": {},
   "source": [
    "Расчитаем RICE по следующей формуле: $RICE=\\frac{Reach*Impact*Cofidence}{Efforts}$"
   ]
  },
  {
   "cell_type": "code",
   "execution_count": 6,
   "metadata": {},
   "outputs": [],
   "source": [
    "hypothesis['RICE'] = (hypothesis['Reach']*hypothesis['Impact']*hypothesis['Confidence'])/hypothesis['Efforts']"
   ]
  },
  {
   "cell_type": "code",
   "execution_count": 7,
   "metadata": {},
   "outputs": [
    {
     "data": {
      "text/html": [
       "<style type=\"text/css\">\n",
       "#T_737b0_row0_col1 {\n",
       "  background-color: #081d58;\n",
       "  color: #f1f1f1;\n",
       "}\n",
       "#T_737b0_row1_col1 {\n",
       "  background-color: #48b9c3;\n",
       "  color: #f1f1f1;\n",
       "}\n",
       "#T_737b0_row2_col1, #T_737b0_row3_col1 {\n",
       "  background-color: #95d5b9;\n",
       "  color: #000000;\n",
       "}\n",
       "#T_737b0_row4_col1 {\n",
       "  background-color: #edf8b2;\n",
       "  color: #000000;\n",
       "}\n",
       "#T_737b0_row5_col1 {\n",
       "  background-color: #f7fcc7;\n",
       "  color: #000000;\n",
       "}\n",
       "#T_737b0_row6_col1, #T_737b0_row7_col1 {\n",
       "  background-color: #feffd6;\n",
       "  color: #000000;\n",
       "}\n",
       "#T_737b0_row8_col1 {\n",
       "  background-color: #ffffd9;\n",
       "  color: #000000;\n",
       "}\n",
       "</style>\n",
       "<table id=\"T_737b0\">\n",
       "  <thead>\n",
       "    <tr>\n",
       "      <th class=\"blank level0\" >&nbsp;</th>\n",
       "      <th id=\"T_737b0_level0_col0\" class=\"col_heading level0 col0\" >Hypothesis</th>\n",
       "      <th id=\"T_737b0_level0_col1\" class=\"col_heading level0 col1\" >RICE</th>\n",
       "    </tr>\n",
       "  </thead>\n",
       "  <tbody>\n",
       "    <tr>\n",
       "      <th id=\"T_737b0_level0_row0\" class=\"row_heading level0 row0\" >7</th>\n",
       "      <td id=\"T_737b0_row0_col0\" class=\"data row0 col0\" >Добавить форму подписки на все основные страницы, чтобы собрать базу клиентов для email-рассылок</td>\n",
       "      <td id=\"T_737b0_row0_col1\" class=\"data row0 col1\" >112.000000</td>\n",
       "    </tr>\n",
       "    <tr>\n",
       "      <th id=\"T_737b0_level0_row1\" class=\"row_heading level0 row1\" >2</th>\n",
       "      <td id=\"T_737b0_row1_col0\" class=\"data row1 col0\" >Добавить блоки рекомендаций товаров на сайт интернет магазина, чтобы повысить конверсию и средний чек заказа</td>\n",
       "      <td id=\"T_737b0_row1_col1\" class=\"data row1 col1\" >56.000000</td>\n",
       "    </tr>\n",
       "    <tr>\n",
       "      <th id=\"T_737b0_level0_row2\" class=\"row_heading level0 row2\" >0</th>\n",
       "      <td id=\"T_737b0_row2_col0\" class=\"data row2 col0\" >Добавить два новых канала привлечения трафика, что позволит привлекать на 30% больше пользователей</td>\n",
       "      <td id=\"T_737b0_row2_col1\" class=\"data row2 col1\" >40.000000</td>\n",
       "    </tr>\n",
       "    <tr>\n",
       "      <th id=\"T_737b0_level0_row3\" class=\"row_heading level0 row3\" >6</th>\n",
       "      <td id=\"T_737b0_row3_col0\" class=\"data row3 col0\" >Показать на главной странице баннеры с актуальными акциями и распродажами, чтобы увеличить конверсию</td>\n",
       "      <td id=\"T_737b0_row3_col1\" class=\"data row3 col1\" >40.000000</td>\n",
       "    </tr>\n",
       "    <tr>\n",
       "      <th id=\"T_737b0_level0_row4\" class=\"row_heading level0 row4\" >8</th>\n",
       "      <td id=\"T_737b0_row4_col0\" class=\"data row4 col0\" >Запустить акцию, дающую скидку на товар в день рождения</td>\n",
       "      <td id=\"T_737b0_row4_col1\" class=\"data row4 col1\" >16.200000</td>\n",
       "    </tr>\n",
       "    <tr>\n",
       "      <th id=\"T_737b0_level0_row5\" class=\"row_heading level0 row5\" >3</th>\n",
       "      <td id=\"T_737b0_row5_col0\" class=\"data row5 col0\" >Изменить структура категорий, что увеличит конверсию, т.к. пользователи быстрее найдут нужный товар</td>\n",
       "      <td id=\"T_737b0_row5_col1\" class=\"data row5 col1\" >9.000000</td>\n",
       "    </tr>\n",
       "    <tr>\n",
       "      <th id=\"T_737b0_level0_row6\" class=\"row_heading level0 row6\" >1</th>\n",
       "      <td id=\"T_737b0_row6_col0\" class=\"data row6 col0\" >Запустить собственную службу доставки, что сократит срок доставки заказов</td>\n",
       "      <td id=\"T_737b0_row6_col1\" class=\"data row6 col1\" >4.000000</td>\n",
       "    </tr>\n",
       "    <tr>\n",
       "      <th id=\"T_737b0_level0_row7\" class=\"row_heading level0 row7\" >5</th>\n",
       "      <td id=\"T_737b0_row7_col0\" class=\"data row7 col0\" >Добавить страницу отзывов клиентов о магазине, что позволит увеличить количество заказов</td>\n",
       "      <td id=\"T_737b0_row7_col1\" class=\"data row7 col1\" >4.000000</td>\n",
       "    </tr>\n",
       "    <tr>\n",
       "      <th id=\"T_737b0_level0_row8\" class=\"row_heading level0 row8\" >4</th>\n",
       "      <td id=\"T_737b0_row8_col0\" class=\"data row8 col0\" >Изменить цвет фона главной страницы, чтобы увеличить вовлеченность пользователей</td>\n",
       "      <td id=\"T_737b0_row8_col1\" class=\"data row8 col1\" >3.000000</td>\n",
       "    </tr>\n",
       "  </tbody>\n",
       "</table>\n"
      ],
      "text/plain": [
       "<pandas.io.formats.style.Styler at 0x7fa1a0c29820>"
      ]
     },
     "execution_count": 7,
     "metadata": {},
     "output_type": "execute_result"
    }
   ],
   "source": [
    "hypothesis[['Hypothesis','RICE']].sort_values('RICE', ascending=False)\\\n",
    "                                 .style.background_gradient(axis=None, vmin=3, vmax=112, cmap=\"YlGnBu\")"
   ]
  },
  {
   "cell_type": "markdown",
   "metadata": {},
   "source": [
    "При применении RICE вместо ICE приоритизация гипотез изменилась. Если при применении ICE на первом месте была гипотеза \"8 Запустить акцию, дающую скидку на товар в день рождения\", то при применении RICE на первом месте гипотеза \"7 Добавить форму подписки на все основные страницы, чтобы собрать базу клиентов для email-рассылок\". Данное изменение связано с тем, что при расчете RICE в расчете добавляется параметр Reach (охват; скольких пользователей затронет изменение, которое мы хотим внести). Метод RICE более сбалансирован так охватывает большую аудиторию.\n",
    "\n"
   ]
  },
  {
   "cell_type": "markdown",
   "metadata": {},
   "source": [
    "## Анализ A/B-теста"
   ]
  },
  {
   "cell_type": "markdown",
   "metadata": {},
   "source": [
    "### Построим график кумулятивной выручки по группам."
   ]
  },
  {
   "cell_type": "markdown",
   "metadata": {},
   "source": [
    "#### Проведем предобработку данных"
   ]
  },
  {
   "cell_type": "markdown",
   "metadata": {},
   "source": [
    "Посмотрим информацию о датафреймах"
   ]
  },
  {
   "cell_type": "code",
   "execution_count": 8,
   "metadata": {},
   "outputs": [],
   "source": [
    "try:\n",
    "    visitors = pd.read_csv('/datasets/visitors.csv')\n",
    "except:\n",
    "    visitors = pd.read_csv('/Users/sergeipakhar/Desktop/Phyton/8 СПРИНТ Принятие решение в бизнесе/Проект/visitors.csv')"
   ]
  },
  {
   "cell_type": "code",
   "execution_count": 9,
   "metadata": {},
   "outputs": [],
   "source": [
    "try:\n",
    "    orders = pd.read_csv('/datasets/orders.csv')\n",
    "except:\n",
    "    orders = pd.read_csv('/Users/sergeipakhar/Desktop/Phyton/8 СПРИНТ Принятие решение в бизнесе/Проект/orders.csv')"
   ]
  },
  {
   "cell_type": "code",
   "execution_count": 10,
   "metadata": {
    "scrolled": true
   },
   "outputs": [
    {
     "data": {
      "text/html": [
       "<div>\n",
       "<style scoped>\n",
       "    .dataframe tbody tr th:only-of-type {\n",
       "        vertical-align: middle;\n",
       "    }\n",
       "\n",
       "    .dataframe tbody tr th {\n",
       "        vertical-align: top;\n",
       "    }\n",
       "\n",
       "    .dataframe thead th {\n",
       "        text-align: right;\n",
       "    }\n",
       "</style>\n",
       "<table border=\"1\" class=\"dataframe\">\n",
       "  <thead>\n",
       "    <tr style=\"text-align: right;\">\n",
       "      <th></th>\n",
       "      <th>date</th>\n",
       "      <th>group</th>\n",
       "      <th>visitors</th>\n",
       "    </tr>\n",
       "  </thead>\n",
       "  <tbody>\n",
       "    <tr>\n",
       "      <th>0</th>\n",
       "      <td>2019-08-01</td>\n",
       "      <td>A</td>\n",
       "      <td>719</td>\n",
       "    </tr>\n",
       "    <tr>\n",
       "      <th>1</th>\n",
       "      <td>2019-08-02</td>\n",
       "      <td>A</td>\n",
       "      <td>619</td>\n",
       "    </tr>\n",
       "    <tr>\n",
       "      <th>2</th>\n",
       "      <td>2019-08-03</td>\n",
       "      <td>A</td>\n",
       "      <td>507</td>\n",
       "    </tr>\n",
       "    <tr>\n",
       "      <th>3</th>\n",
       "      <td>2019-08-04</td>\n",
       "      <td>A</td>\n",
       "      <td>717</td>\n",
       "    </tr>\n",
       "    <tr>\n",
       "      <th>4</th>\n",
       "      <td>2019-08-05</td>\n",
       "      <td>A</td>\n",
       "      <td>756</td>\n",
       "    </tr>\n",
       "  </tbody>\n",
       "</table>\n",
       "</div>"
      ],
      "text/plain": [
       "         date group  visitors\n",
       "0  2019-08-01     A       719\n",
       "1  2019-08-02     A       619\n",
       "2  2019-08-03     A       507\n",
       "3  2019-08-04     A       717\n",
       "4  2019-08-05     A       756"
      ]
     },
     "execution_count": 10,
     "metadata": {},
     "output_type": "execute_result"
    }
   ],
   "source": [
    "visitors.head(5)"
   ]
  },
  {
   "cell_type": "code",
   "execution_count": 11,
   "metadata": {},
   "outputs": [
    {
     "name": "stdout",
     "output_type": "stream",
     "text": [
      "<class 'pandas.core.frame.DataFrame'>\n",
      "RangeIndex: 62 entries, 0 to 61\n",
      "Data columns (total 3 columns):\n",
      " #   Column    Non-Null Count  Dtype \n",
      "---  ------    --------------  ----- \n",
      " 0   date      62 non-null     object\n",
      " 1   group     62 non-null     object\n",
      " 2   visitors  62 non-null     int64 \n",
      "dtypes: int64(1), object(2)\n",
      "memory usage: 1.6+ KB\n"
     ]
    }
   ],
   "source": [
    "visitors.info()"
   ]
  },
  {
   "cell_type": "code",
   "execution_count": 12,
   "metadata": {},
   "outputs": [
    {
     "data": {
      "text/html": [
       "<div>\n",
       "<style scoped>\n",
       "    .dataframe tbody tr th:only-of-type {\n",
       "        vertical-align: middle;\n",
       "    }\n",
       "\n",
       "    .dataframe tbody tr th {\n",
       "        vertical-align: top;\n",
       "    }\n",
       "\n",
       "    .dataframe thead th {\n",
       "        text-align: right;\n",
       "    }\n",
       "</style>\n",
       "<table border=\"1\" class=\"dataframe\">\n",
       "  <thead>\n",
       "    <tr style=\"text-align: right;\">\n",
       "      <th></th>\n",
       "      <th>transactionId</th>\n",
       "      <th>visitorId</th>\n",
       "      <th>date</th>\n",
       "      <th>revenue</th>\n",
       "      <th>group</th>\n",
       "    </tr>\n",
       "  </thead>\n",
       "  <tbody>\n",
       "    <tr>\n",
       "      <th>0</th>\n",
       "      <td>3667963787</td>\n",
       "      <td>3312258926</td>\n",
       "      <td>2019-08-15</td>\n",
       "      <td>1650</td>\n",
       "      <td>B</td>\n",
       "    </tr>\n",
       "    <tr>\n",
       "      <th>1</th>\n",
       "      <td>2804400009</td>\n",
       "      <td>3642806036</td>\n",
       "      <td>2019-08-15</td>\n",
       "      <td>730</td>\n",
       "      <td>B</td>\n",
       "    </tr>\n",
       "    <tr>\n",
       "      <th>2</th>\n",
       "      <td>2961555356</td>\n",
       "      <td>4069496402</td>\n",
       "      <td>2019-08-15</td>\n",
       "      <td>400</td>\n",
       "      <td>A</td>\n",
       "    </tr>\n",
       "    <tr>\n",
       "      <th>3</th>\n",
       "      <td>3797467345</td>\n",
       "      <td>1196621759</td>\n",
       "      <td>2019-08-15</td>\n",
       "      <td>9759</td>\n",
       "      <td>B</td>\n",
       "    </tr>\n",
       "    <tr>\n",
       "      <th>4</th>\n",
       "      <td>2282983706</td>\n",
       "      <td>2322279887</td>\n",
       "      <td>2019-08-15</td>\n",
       "      <td>2308</td>\n",
       "      <td>B</td>\n",
       "    </tr>\n",
       "  </tbody>\n",
       "</table>\n",
       "</div>"
      ],
      "text/plain": [
       "   transactionId   visitorId        date  revenue group\n",
       "0     3667963787  3312258926  2019-08-15     1650     B\n",
       "1     2804400009  3642806036  2019-08-15      730     B\n",
       "2     2961555356  4069496402  2019-08-15      400     A\n",
       "3     3797467345  1196621759  2019-08-15     9759     B\n",
       "4     2282983706  2322279887  2019-08-15     2308     B"
      ]
     },
     "execution_count": 12,
     "metadata": {},
     "output_type": "execute_result"
    }
   ],
   "source": [
    "orders.head(5)"
   ]
  },
  {
   "cell_type": "code",
   "execution_count": 13,
   "metadata": {},
   "outputs": [
    {
     "name": "stdout",
     "output_type": "stream",
     "text": [
      "<class 'pandas.core.frame.DataFrame'>\n",
      "RangeIndex: 1197 entries, 0 to 1196\n",
      "Data columns (total 5 columns):\n",
      " #   Column         Non-Null Count  Dtype \n",
      "---  ------         --------------  ----- \n",
      " 0   transactionId  1197 non-null   int64 \n",
      " 1   visitorId      1197 non-null   int64 \n",
      " 2   date           1197 non-null   object\n",
      " 3   revenue        1197 non-null   int64 \n",
      " 4   group          1197 non-null   object\n",
      "dtypes: int64(3), object(2)\n",
      "memory usage: 46.9+ KB\n"
     ]
    }
   ],
   "source": [
    "orders.info()"
   ]
  },
  {
   "cell_type": "markdown",
   "metadata": {},
   "source": [
    "Проверим на пропуски"
   ]
  },
  {
   "cell_type": "code",
   "execution_count": 14,
   "metadata": {},
   "outputs": [
    {
     "data": {
      "text/plain": [
       "transactionId    0\n",
       "visitorId        0\n",
       "date             0\n",
       "revenue          0\n",
       "group            0\n",
       "dtype: int64"
      ]
     },
     "execution_count": 14,
     "metadata": {},
     "output_type": "execute_result"
    }
   ],
   "source": [
    "orders.isna().sum()"
   ]
  },
  {
   "cell_type": "code",
   "execution_count": 15,
   "metadata": {},
   "outputs": [
    {
     "data": {
      "text/plain": [
       "date        0\n",
       "group       0\n",
       "visitors    0\n",
       "dtype: int64"
      ]
     },
     "execution_count": 15,
     "metadata": {},
     "output_type": "execute_result"
    }
   ],
   "source": [
    "visitors.isna().sum()"
   ]
  },
  {
   "cell_type": "markdown",
   "metadata": {},
   "source": [
    "Проверим на дубликаты"
   ]
  },
  {
   "cell_type": "code",
   "execution_count": 16,
   "metadata": {},
   "outputs": [
    {
     "data": {
      "text/plain": [
       "0"
      ]
     },
     "execution_count": 16,
     "metadata": {},
     "output_type": "execute_result"
    }
   ],
   "source": [
    "orders.duplicated().sum()"
   ]
  },
  {
   "cell_type": "code",
   "execution_count": 17,
   "metadata": {},
   "outputs": [
    {
     "data": {
      "text/plain": [
       "0"
      ]
     },
     "execution_count": 17,
     "metadata": {},
     "output_type": "execute_result"
    }
   ],
   "source": [
    "visitors.duplicated().sum()"
   ]
  },
  {
   "cell_type": "markdown",
   "metadata": {},
   "source": [
    "Приведем названия столбцов к змеиному и нижнему регистрам"
   ]
  },
  {
   "cell_type": "code",
   "execution_count": 18,
   "metadata": {
    "scrolled": true
   },
   "outputs": [],
   "source": [
    "orders.columns = orders.columns.str.lower()\n",
    "visitors.columns = visitors.columns.str.lower()"
   ]
  },
  {
   "cell_type": "code",
   "execution_count": 19,
   "metadata": {},
   "outputs": [
    {
     "name": "stdout",
     "output_type": "stream",
     "text": [
      "['transaction_id', 'visitor_id', 'date', 'revenue', 'group']\n"
     ]
    },
    {
     "data": {
      "text/plain": [
       "['date', 'group', 'visitors']"
      ]
     },
     "execution_count": 19,
     "metadata": {},
     "output_type": "execute_result"
    }
   ],
   "source": [
    "orders = orders.rename(columns={'transactionid':'transaction_id', 'visitorid':'visitor_id'})\n",
    "print(list(orders))\n",
    "list(visitors)"
   ]
  },
  {
   "cell_type": "markdown",
   "metadata": {},
   "source": [
    "Привели названия столбцов к нижнему и змеиному регистрам, наличие пропусков и дубликатов не обнаружено"
   ]
  },
  {
   "cell_type": "markdown",
   "metadata": {},
   "source": [
    "#### Проведем исследование качества данных. Посчитаем, сколько пользователей попало в обе группы"
   ]
  },
  {
   "cell_type": "code",
   "execution_count": 20,
   "metadata": {},
   "outputs": [
    {
     "name": "stdout",
     "output_type": "stream",
     "text": [
      "Количество пользователей в группе А: 503\n",
      "Количество пользователей в группе В: 586\n",
      "Количество пользователей, попавших в обе группы: 58\n"
     ]
    }
   ],
   "source": [
    "ab_users = orders.groupby('visitor_id').agg({'group': ['nunique', 'unique']}) \n",
    "ab_users.columns = ['groups', 'group_name'] \n",
    "ab_users = ab_users.query('groups > 1') \n",
    "print('Количество пользователей в группе А:', orders.query('group == \"A\"')['visitor_id'].nunique()) \n",
    "print('Количество пользователей в группе В:', orders.query('group == \"B\"')['visitor_id'].nunique()) \n",
    "print('Количество пользователей, попавших в обе группы:',len(ab_users))"
   ]
  },
  {
   "cell_type": "markdown",
   "metadata": {},
   "source": [
    "#### Построим график кумулятивной выручки по группам. \n",
    "Cоздадим массив уникальных пар значений дат и групп теста\n",
    "\n"
   ]
  },
  {
   "cell_type": "code",
   "execution_count": 21,
   "metadata": {
    "scrolled": true
   },
   "outputs": [
    {
     "name": "stdout",
     "output_type": "stream",
     "text": [
      "           date group\n",
      "55   2019-08-01     A\n",
      "66   2019-08-01     B\n",
      "175  2019-08-02     A\n",
      "173  2019-08-02     B\n",
      "291  2019-08-03     A\n"
     ]
    },
    {
     "data": {
      "text/plain": [
       "62"
      ]
     },
     "execution_count": 21,
     "metadata": {},
     "output_type": "execute_result"
    }
   ],
   "source": [
    "datesGroups = orders[['date','group']].drop_duplicates() \n",
    "print(datesGroups.sort_values('date').head(5))\n",
    "len(datesGroups)"
   ]
  },
  {
   "cell_type": "markdown",
   "metadata": {},
   "source": [
    "Вычислим максимальную дату, для группы тоже рассчитаем максимум, чтобы столбец 'group' не пропал из итогового вывода, посчитаем число уникальных ID заказов, пользователей, сумму средних чеков:"
   ]
  },
  {
   "cell_type": "code",
   "execution_count": 22,
   "metadata": {},
   "outputs": [],
   "source": [
    "ordersAggregated = datesGroups.apply(\n",
    "    lambda x: orders[np.logical_and(orders['date'] <= x['date'], orders['group'] == x['group'])]\\\n",
    "                .agg\n",
    "                    ({'date'  : 'max', \n",
    "                      'group' : 'max',\n",
    "                      'transaction_id' : 'nunique',  # количество заказов\n",
    "                      'visitor_id' : 'nunique',      # количество покупателей\n",
    "                      'revenue' : 'sum'}), axis=1)\\\n",
    "                .sort_values(by=['date','group'])"
   ]
  },
  {
   "cell_type": "code",
   "execution_count": 23,
   "metadata": {},
   "outputs": [
    {
     "name": "stdout",
     "output_type": "stream",
     "text": [
      "<class 'pandas.core.frame.DataFrame'>\n",
      "Int64Index: 62 entries, 55 to 930\n",
      "Data columns (total 5 columns):\n",
      " #   Column          Non-Null Count  Dtype \n",
      "---  ------          --------------  ----- \n",
      " 0   date            62 non-null     object\n",
      " 1   group           62 non-null     object\n",
      " 2   transaction_id  62 non-null     int64 \n",
      " 3   visitor_id      62 non-null     int64 \n",
      " 4   revenue         62 non-null     int64 \n",
      "dtypes: int64(3), object(2)\n",
      "memory usage: 2.9+ KB\n"
     ]
    }
   ],
   "source": [
    "ordersAggregated.info()"
   ]
  },
  {
   "cell_type": "code",
   "execution_count": 24,
   "metadata": {},
   "outputs": [
    {
     "data": {
      "text/html": [
       "<div>\n",
       "<style scoped>\n",
       "    .dataframe tbody tr th:only-of-type {\n",
       "        vertical-align: middle;\n",
       "    }\n",
       "\n",
       "    .dataframe tbody tr th {\n",
       "        vertical-align: top;\n",
       "    }\n",
       "\n",
       "    .dataframe thead th {\n",
       "        text-align: right;\n",
       "    }\n",
       "</style>\n",
       "<table border=\"1\" class=\"dataframe\">\n",
       "  <thead>\n",
       "    <tr style=\"text-align: right;\">\n",
       "      <th></th>\n",
       "      <th>date</th>\n",
       "      <th>group</th>\n",
       "      <th>transaction_id</th>\n",
       "      <th>visitor_id</th>\n",
       "      <th>revenue</th>\n",
       "    </tr>\n",
       "  </thead>\n",
       "  <tbody>\n",
       "    <tr>\n",
       "      <th>55</th>\n",
       "      <td>2019-08-01</td>\n",
       "      <td>A</td>\n",
       "      <td>24</td>\n",
       "      <td>20</td>\n",
       "      <td>148579</td>\n",
       "    </tr>\n",
       "    <tr>\n",
       "      <th>66</th>\n",
       "      <td>2019-08-01</td>\n",
       "      <td>B</td>\n",
       "      <td>21</td>\n",
       "      <td>20</td>\n",
       "      <td>101217</td>\n",
       "    </tr>\n",
       "    <tr>\n",
       "      <th>175</th>\n",
       "      <td>2019-08-02</td>\n",
       "      <td>A</td>\n",
       "      <td>44</td>\n",
       "      <td>38</td>\n",
       "      <td>242401</td>\n",
       "    </tr>\n",
       "    <tr>\n",
       "      <th>173</th>\n",
       "      <td>2019-08-02</td>\n",
       "      <td>B</td>\n",
       "      <td>45</td>\n",
       "      <td>43</td>\n",
       "      <td>266748</td>\n",
       "    </tr>\n",
       "    <tr>\n",
       "      <th>291</th>\n",
       "      <td>2019-08-03</td>\n",
       "      <td>A</td>\n",
       "      <td>68</td>\n",
       "      <td>62</td>\n",
       "      <td>354874</td>\n",
       "    </tr>\n",
       "    <tr>\n",
       "      <th>...</th>\n",
       "      <td>...</td>\n",
       "      <td>...</td>\n",
       "      <td>...</td>\n",
       "      <td>...</td>\n",
       "      <td>...</td>\n",
       "    </tr>\n",
       "    <tr>\n",
       "      <th>496</th>\n",
       "      <td>2019-08-29</td>\n",
       "      <td>B</td>\n",
       "      <td>596</td>\n",
       "      <td>544</td>\n",
       "      <td>5559398</td>\n",
       "    </tr>\n",
       "    <tr>\n",
       "      <th>730</th>\n",
       "      <td>2019-08-30</td>\n",
       "      <td>A</td>\n",
       "      <td>545</td>\n",
       "      <td>493</td>\n",
       "      <td>4022970</td>\n",
       "    </tr>\n",
       "    <tr>\n",
       "      <th>690</th>\n",
       "      <td>2019-08-30</td>\n",
       "      <td>B</td>\n",
       "      <td>620</td>\n",
       "      <td>567</td>\n",
       "      <td>5774631</td>\n",
       "    </tr>\n",
       "    <tr>\n",
       "      <th>958</th>\n",
       "      <td>2019-08-31</td>\n",
       "      <td>A</td>\n",
       "      <td>557</td>\n",
       "      <td>503</td>\n",
       "      <td>4084803</td>\n",
       "    </tr>\n",
       "    <tr>\n",
       "      <th>930</th>\n",
       "      <td>2019-08-31</td>\n",
       "      <td>B</td>\n",
       "      <td>640</td>\n",
       "      <td>586</td>\n",
       "      <td>5907760</td>\n",
       "    </tr>\n",
       "  </tbody>\n",
       "</table>\n",
       "<p>62 rows × 5 columns</p>\n",
       "</div>"
      ],
      "text/plain": [
       "           date group  transaction_id  visitor_id  revenue\n",
       "55   2019-08-01     A              24          20   148579\n",
       "66   2019-08-01     B              21          20   101217\n",
       "175  2019-08-02     A              44          38   242401\n",
       "173  2019-08-02     B              45          43   266748\n",
       "291  2019-08-03     A              68          62   354874\n",
       "..          ...   ...             ...         ...      ...\n",
       "496  2019-08-29     B             596         544  5559398\n",
       "730  2019-08-30     A             545         493  4022970\n",
       "690  2019-08-30     B             620         567  5774631\n",
       "958  2019-08-31     A             557         503  4084803\n",
       "930  2019-08-31     B             640         586  5907760\n",
       "\n",
       "[62 rows x 5 columns]"
      ]
     },
     "execution_count": 24,
     "metadata": {},
     "output_type": "execute_result"
    }
   ],
   "source": [
    "ordersAggregated"
   ]
  },
  {
   "cell_type": "markdown",
   "metadata": {},
   "source": [
    "Вычислим кумулятивные данные для поситителей магазина"
   ]
  },
  {
   "cell_type": "code",
   "execution_count": 25,
   "metadata": {},
   "outputs": [],
   "source": [
    "visitorsAggregated = datesGroups.apply(\n",
    "    lambda x: visitors[np.logical_and(visitors['date'] <= x['date'], visitors['group'] == x['group'])]\\\n",
    "                .agg\n",
    "                    ({'date' : 'max', \n",
    "                      'group' : 'max',\n",
    "                      'visitors' : 'sum'}), axis=1)\\\n",
    "                .sort_values(by=['date','group'])"
   ]
  },
  {
   "cell_type": "code",
   "execution_count": 26,
   "metadata": {},
   "outputs": [
    {
     "data": {
      "text/html": [
       "<div>\n",
       "<style scoped>\n",
       "    .dataframe tbody tr th:only-of-type {\n",
       "        vertical-align: middle;\n",
       "    }\n",
       "\n",
       "    .dataframe tbody tr th {\n",
       "        vertical-align: top;\n",
       "    }\n",
       "\n",
       "    .dataframe thead th {\n",
       "        text-align: right;\n",
       "    }\n",
       "</style>\n",
       "<table border=\"1\" class=\"dataframe\">\n",
       "  <thead>\n",
       "    <tr style=\"text-align: right;\">\n",
       "      <th></th>\n",
       "      <th>date</th>\n",
       "      <th>group</th>\n",
       "      <th>visitors</th>\n",
       "    </tr>\n",
       "  </thead>\n",
       "  <tbody>\n",
       "    <tr>\n",
       "      <th>55</th>\n",
       "      <td>2019-08-01</td>\n",
       "      <td>A</td>\n",
       "      <td>719</td>\n",
       "    </tr>\n",
       "    <tr>\n",
       "      <th>66</th>\n",
       "      <td>2019-08-01</td>\n",
       "      <td>B</td>\n",
       "      <td>713</td>\n",
       "    </tr>\n",
       "    <tr>\n",
       "      <th>175</th>\n",
       "      <td>2019-08-02</td>\n",
       "      <td>A</td>\n",
       "      <td>1338</td>\n",
       "    </tr>\n",
       "    <tr>\n",
       "      <th>173</th>\n",
       "      <td>2019-08-02</td>\n",
       "      <td>B</td>\n",
       "      <td>1294</td>\n",
       "    </tr>\n",
       "    <tr>\n",
       "      <th>291</th>\n",
       "      <td>2019-08-03</td>\n",
       "      <td>A</td>\n",
       "      <td>1845</td>\n",
       "    </tr>\n",
       "    <tr>\n",
       "      <th>...</th>\n",
       "      <td>...</td>\n",
       "      <td>...</td>\n",
       "      <td>...</td>\n",
       "    </tr>\n",
       "    <tr>\n",
       "      <th>496</th>\n",
       "      <td>2019-08-29</td>\n",
       "      <td>B</td>\n",
       "      <td>17708</td>\n",
       "    </tr>\n",
       "    <tr>\n",
       "      <th>730</th>\n",
       "      <td>2019-08-30</td>\n",
       "      <td>A</td>\n",
       "      <td>18037</td>\n",
       "    </tr>\n",
       "    <tr>\n",
       "      <th>690</th>\n",
       "      <td>2019-08-30</td>\n",
       "      <td>B</td>\n",
       "      <td>18198</td>\n",
       "    </tr>\n",
       "    <tr>\n",
       "      <th>958</th>\n",
       "      <td>2019-08-31</td>\n",
       "      <td>A</td>\n",
       "      <td>18736</td>\n",
       "    </tr>\n",
       "    <tr>\n",
       "      <th>930</th>\n",
       "      <td>2019-08-31</td>\n",
       "      <td>B</td>\n",
       "      <td>18916</td>\n",
       "    </tr>\n",
       "  </tbody>\n",
       "</table>\n",
       "<p>62 rows × 3 columns</p>\n",
       "</div>"
      ],
      "text/plain": [
       "           date group  visitors\n",
       "55   2019-08-01     A       719\n",
       "66   2019-08-01     B       713\n",
       "175  2019-08-02     A      1338\n",
       "173  2019-08-02     B      1294\n",
       "291  2019-08-03     A      1845\n",
       "..          ...   ...       ...\n",
       "496  2019-08-29     B     17708\n",
       "730  2019-08-30     A     18037\n",
       "690  2019-08-30     B     18198\n",
       "958  2019-08-31     A     18736\n",
       "930  2019-08-31     B     18916\n",
       "\n",
       "[62 rows x 3 columns]"
      ]
     },
     "execution_count": 26,
     "metadata": {},
     "output_type": "execute_result"
    }
   ],
   "source": [
    "visitorsAggregated"
   ]
  },
  {
   "cell_type": "markdown",
   "metadata": {},
   "source": [
    "Объединим кумулятинвые данные в одну таблицу и переименуем столбцы"
   ]
  },
  {
   "cell_type": "code",
   "execution_count": 27,
   "metadata": {},
   "outputs": [
    {
     "data": {
      "text/html": [
       "<div>\n",
       "<style scoped>\n",
       "    .dataframe tbody tr th:only-of-type {\n",
       "        vertical-align: middle;\n",
       "    }\n",
       "\n",
       "    .dataframe tbody tr th {\n",
       "        vertical-align: top;\n",
       "    }\n",
       "\n",
       "    .dataframe thead th {\n",
       "        text-align: right;\n",
       "    }\n",
       "</style>\n",
       "<table border=\"1\" class=\"dataframe\">\n",
       "  <thead>\n",
       "    <tr style=\"text-align: right;\">\n",
       "      <th></th>\n",
       "      <th>date</th>\n",
       "      <th>group</th>\n",
       "      <th>transaction_id</th>\n",
       "      <th>visitor_id</th>\n",
       "      <th>revenue</th>\n",
       "      <th>visitors</th>\n",
       "    </tr>\n",
       "  </thead>\n",
       "  <tbody>\n",
       "    <tr>\n",
       "      <th>0</th>\n",
       "      <td>2019-08-01</td>\n",
       "      <td>A</td>\n",
       "      <td>24</td>\n",
       "      <td>20</td>\n",
       "      <td>148579</td>\n",
       "      <td>719</td>\n",
       "    </tr>\n",
       "    <tr>\n",
       "      <th>1</th>\n",
       "      <td>2019-08-01</td>\n",
       "      <td>B</td>\n",
       "      <td>21</td>\n",
       "      <td>20</td>\n",
       "      <td>101217</td>\n",
       "      <td>713</td>\n",
       "    </tr>\n",
       "    <tr>\n",
       "      <th>2</th>\n",
       "      <td>2019-08-02</td>\n",
       "      <td>A</td>\n",
       "      <td>44</td>\n",
       "      <td>38</td>\n",
       "      <td>242401</td>\n",
       "      <td>1338</td>\n",
       "    </tr>\n",
       "    <tr>\n",
       "      <th>3</th>\n",
       "      <td>2019-08-02</td>\n",
       "      <td>B</td>\n",
       "      <td>45</td>\n",
       "      <td>43</td>\n",
       "      <td>266748</td>\n",
       "      <td>1294</td>\n",
       "    </tr>\n",
       "    <tr>\n",
       "      <th>4</th>\n",
       "      <td>2019-08-03</td>\n",
       "      <td>A</td>\n",
       "      <td>68</td>\n",
       "      <td>62</td>\n",
       "      <td>354874</td>\n",
       "      <td>1845</td>\n",
       "    </tr>\n",
       "  </tbody>\n",
       "</table>\n",
       "</div>"
      ],
      "text/plain": [
       "         date group  transaction_id  visitor_id  revenue  visitors\n",
       "0  2019-08-01     A              24          20   148579       719\n",
       "1  2019-08-01     B              21          20   101217       713\n",
       "2  2019-08-02     A              44          38   242401      1338\n",
       "3  2019-08-02     B              45          43   266748      1294\n",
       "4  2019-08-03     A              68          62   354874      1845"
      ]
     },
     "execution_count": 27,
     "metadata": {},
     "output_type": "execute_result"
    }
   ],
   "source": [
    "cumulativeData = ordersAggregated.merge(visitorsAggregated, left_on=['date', 'group'], right_on=['date', 'group'])\n",
    "cumulativeData.head()"
   ]
  },
  {
   "cell_type": "code",
   "execution_count": 28,
   "metadata": {},
   "outputs": [
    {
     "data": {
      "text/html": [
       "<div>\n",
       "<style scoped>\n",
       "    .dataframe tbody tr th:only-of-type {\n",
       "        vertical-align: middle;\n",
       "    }\n",
       "\n",
       "    .dataframe tbody tr th {\n",
       "        vertical-align: top;\n",
       "    }\n",
       "\n",
       "    .dataframe thead th {\n",
       "        text-align: right;\n",
       "    }\n",
       "</style>\n",
       "<table border=\"1\" class=\"dataframe\">\n",
       "  <thead>\n",
       "    <tr style=\"text-align: right;\">\n",
       "      <th></th>\n",
       "      <th>date</th>\n",
       "      <th>group</th>\n",
       "      <th>orders</th>\n",
       "      <th>buyers</th>\n",
       "      <th>revenue</th>\n",
       "      <th>visitors</th>\n",
       "    </tr>\n",
       "  </thead>\n",
       "  <tbody>\n",
       "    <tr>\n",
       "      <th>0</th>\n",
       "      <td>2019-08-01</td>\n",
       "      <td>A</td>\n",
       "      <td>24</td>\n",
       "      <td>20</td>\n",
       "      <td>148579</td>\n",
       "      <td>719</td>\n",
       "    </tr>\n",
       "    <tr>\n",
       "      <th>1</th>\n",
       "      <td>2019-08-01</td>\n",
       "      <td>B</td>\n",
       "      <td>21</td>\n",
       "      <td>20</td>\n",
       "      <td>101217</td>\n",
       "      <td>713</td>\n",
       "    </tr>\n",
       "    <tr>\n",
       "      <th>2</th>\n",
       "      <td>2019-08-02</td>\n",
       "      <td>A</td>\n",
       "      <td>44</td>\n",
       "      <td>38</td>\n",
       "      <td>242401</td>\n",
       "      <td>1338</td>\n",
       "    </tr>\n",
       "    <tr>\n",
       "      <th>3</th>\n",
       "      <td>2019-08-02</td>\n",
       "      <td>B</td>\n",
       "      <td>45</td>\n",
       "      <td>43</td>\n",
       "      <td>266748</td>\n",
       "      <td>1294</td>\n",
       "    </tr>\n",
       "    <tr>\n",
       "      <th>4</th>\n",
       "      <td>2019-08-03</td>\n",
       "      <td>A</td>\n",
       "      <td>68</td>\n",
       "      <td>62</td>\n",
       "      <td>354874</td>\n",
       "      <td>1845</td>\n",
       "    </tr>\n",
       "    <tr>\n",
       "      <th>...</th>\n",
       "      <td>...</td>\n",
       "      <td>...</td>\n",
       "      <td>...</td>\n",
       "      <td>...</td>\n",
       "      <td>...</td>\n",
       "      <td>...</td>\n",
       "    </tr>\n",
       "    <tr>\n",
       "      <th>57</th>\n",
       "      <td>2019-08-29</td>\n",
       "      <td>B</td>\n",
       "      <td>596</td>\n",
       "      <td>544</td>\n",
       "      <td>5559398</td>\n",
       "      <td>17708</td>\n",
       "    </tr>\n",
       "    <tr>\n",
       "      <th>58</th>\n",
       "      <td>2019-08-30</td>\n",
       "      <td>A</td>\n",
       "      <td>545</td>\n",
       "      <td>493</td>\n",
       "      <td>4022970</td>\n",
       "      <td>18037</td>\n",
       "    </tr>\n",
       "    <tr>\n",
       "      <th>59</th>\n",
       "      <td>2019-08-30</td>\n",
       "      <td>B</td>\n",
       "      <td>620</td>\n",
       "      <td>567</td>\n",
       "      <td>5774631</td>\n",
       "      <td>18198</td>\n",
       "    </tr>\n",
       "    <tr>\n",
       "      <th>60</th>\n",
       "      <td>2019-08-31</td>\n",
       "      <td>A</td>\n",
       "      <td>557</td>\n",
       "      <td>503</td>\n",
       "      <td>4084803</td>\n",
       "      <td>18736</td>\n",
       "    </tr>\n",
       "    <tr>\n",
       "      <th>61</th>\n",
       "      <td>2019-08-31</td>\n",
       "      <td>B</td>\n",
       "      <td>640</td>\n",
       "      <td>586</td>\n",
       "      <td>5907760</td>\n",
       "      <td>18916</td>\n",
       "    </tr>\n",
       "  </tbody>\n",
       "</table>\n",
       "<p>62 rows × 6 columns</p>\n",
       "</div>"
      ],
      "text/plain": [
       "          date group  orders  buyers  revenue  visitors\n",
       "0   2019-08-01     A      24      20   148579       719\n",
       "1   2019-08-01     B      21      20   101217       713\n",
       "2   2019-08-02     A      44      38   242401      1338\n",
       "3   2019-08-02     B      45      43   266748      1294\n",
       "4   2019-08-03     A      68      62   354874      1845\n",
       "..         ...   ...     ...     ...      ...       ...\n",
       "57  2019-08-29     B     596     544  5559398     17708\n",
       "58  2019-08-30     A     545     493  4022970     18037\n",
       "59  2019-08-30     B     620     567  5774631     18198\n",
       "60  2019-08-31     A     557     503  4084803     18736\n",
       "61  2019-08-31     B     640     586  5907760     18916\n",
       "\n",
       "[62 rows x 6 columns]"
      ]
     },
     "execution_count": 28,
     "metadata": {},
     "output_type": "execute_result"
    }
   ],
   "source": [
    "cumulativeData.columns = ['date', 'group', 'orders', 'buyers', 'revenue', 'visitors']\n",
    "cumulativeData"
   ]
  },
  {
   "cell_type": "markdown",
   "metadata": {},
   "source": [
    "Создадим таблицы с комулятивными значениями заказов и выручки для А и В групп"
   ]
  },
  {
   "cell_type": "code",
   "execution_count": 29,
   "metadata": {},
   "outputs": [],
   "source": [
    "cumulativeRevenueA = cumulativeData[cumulativeData['group']=='A'][['date','revenue', 'orders']]\n",
    "cumulativeRevenueB = cumulativeData[cumulativeData['group']=='B'][['date','revenue', 'orders']]\n"
   ]
  },
  {
   "cell_type": "markdown",
   "metadata": {},
   "source": [
    "Построим их графики"
   ]
  },
  {
   "cell_type": "code",
   "execution_count": 30,
   "metadata": {},
   "outputs": [
    {
     "data": {
      "image/png": "[encoded data removed]",
      "text/plain": [
       "<Figure size 1000x500 with 1 Axes>"
      ]
     },
     "metadata": {},
     "output_type": "display_data"
    }
   ],
   "source": [
    "plt.figure(figsize=(10,5))\n",
    "plt.plot(cumulativeRevenueA['date'], cumulativeRevenueA['revenue'], color = 'blue',  label='A')\n",
    "plt.plot(cumulativeRevenueB['date'], cumulativeRevenueB['revenue'], color = 'red', label='B')\n",
    "plt.xlabel('Дата', fontsize=15)\n",
    "plt.ylabel('Выручка', fontsize=15)\n",
    "plt.title('Накопленная выручка по дням для групп А и В', fontsize=15)\n",
    "plt.xticks(rotation=90)\n",
    "plt.grid(True, color = 'grey',    #  цвет линий\n",
    "               linewidth = 1,     #  толщина\n",
    "               linestyle = '--', ); #  тип\n",
    "\n",
    "plt.legend();\n",
    "\n"
   ]
  },
  {
   "cell_type": "markdown",
   "metadata": {},
   "source": [
    "Выручка почти равномерно увеличивается в течение всего теста. \n",
    "График выручки группы В резко растет 18 августа. Это может быть связано или с ростом числа заказов, или с появлении очень дорогих заказов в выборке. В целом выручка в группе В выше выручки в группе А.\n",
    "\n",
    "\n",
    "Так же сплеск выручки группы В может быть связан с тем, что с момента посещения сайта пользователем до совершения покупки проходит примерно 2 недели, соответственно пользователям группы В, посетившим сайт впервые, понадобился временной лаг в 2 недели для принятия решения о покупке, следовательно и результат проведения теста будет сдвинут на эти 2 недели от начала теста. "
   ]
  },
  {
   "cell_type": "markdown",
   "metadata": {},
   "source": [
    "### Построим график кумулятивного среднего чека по группам."
   ]
  },
  {
   "cell_type": "code",
   "execution_count": 31,
   "metadata": {
    "scrolled": false
   },
   "outputs": [
    {
     "data": {
      "image/png": "[encoded data removed]",
      "text/plain": [
       "<Figure size 1000x500 with 1 Axes>"
      ]
     },
     "metadata": {},
     "output_type": "display_data"
    }
   ],
   "source": [
    "plt.figure(figsize=(10,5))\n",
    "plt.plot(cumulativeRevenueA['date'], cumulativeRevenueA['revenue']/cumulativeRevenueA['orders'],color = 'blue',label='A')\n",
    "plt.plot(cumulativeRevenueB['date'], cumulativeRevenueB['revenue']/cumulativeRevenueB['orders'],color = 'red',  label='B')\n",
    "plt.xlabel('Дата', fontsize=15)\n",
    "plt.ylabel('Средняя выручка', fontsize=15)\n",
    "plt.title('Накопленная средняя выручка по дням для групп А и В', fontsize=15)\n",
    "plt.xticks(rotation=90)\n",
    "plt.grid(True, color = 'grey',    #  цвет линий\n",
    "               linewidth = 1,     #  толщина\n",
    "               linestyle = '--', ); #  тип\n",
    "plt.legend();\n"
   ]
  },
  {
   "cell_type": "markdown",
   "metadata": {},
   "source": [
    "Средняя выручка для группы А стала стабильной 15 августа и имеет слабый рост к концу теста. Средняя выручка группы В имеет скачок 18 августа и дальнейшее слабое снижение. Всплеск средней выручки в группе В может быть связан с наличием крупных или дорогих заказов в середине теста.\n"
   ]
  },
  {
   "cell_type": "markdown",
   "metadata": {},
   "source": [
    "### Построим график относительного изменения кумулятивного среднего чека группы B к группе A."
   ]
  },
  {
   "cell_type": "code",
   "execution_count": 32,
   "metadata": {},
   "outputs": [
    {
     "data": {
      "image/png": "[encoded data removed]",
      "text/plain": [
       "<Figure size 1000x500 with 1 Axes>"
      ]
     },
     "metadata": {},
     "output_type": "display_data"
    }
   ],
   "source": [
    "# собираем данные в одном датафрейме\n",
    "mergedCumulativeRevenue = cumulativeRevenueA\\\n",
    "            .merge(cumulativeRevenueB, left_on='date', right_on='date', how='left', suffixes=['A', 'B'])\n",
    "\n",
    "# cтроим отношение средних чеков\n",
    "plt.figure(figsize=(10,5))\n",
    "plt.plot(mergedCumulativeRevenue['date']\\\n",
    "                         ,(mergedCumulativeRevenue['revenueB']/mergedCumulativeRevenue['ordersB'])\\\n",
    "                          /(mergedCumulativeRevenue['revenueA']/mergedCumulativeRevenue['ordersA'])-1, color='blue')\n",
    "\n",
    "# добавляем ось X\n",
    "plt.axhline(y=0, color='black', linestyle='--') \n",
    "\n",
    "plt.xlabel('Дата', fontsize=15)\n",
    "#plt.ylabel('Средняя выручка', fontsize=15)\n",
    "plt.title('Относительное изменение кумулятивного среднего чека группы B к группе A', fontsize=15)\n",
    "plt.xticks(rotation=90)\n",
    "plt.grid(True, color = 'grey',    #  цвет линий\n",
    "               linewidth = 1,     #  толщина\n",
    "               linestyle = '--', ); #  тип\n",
    "\n",
    "#plt.legend();"
   ]
  },
  {
   "cell_type": "markdown",
   "metadata": {},
   "source": [
    "В начале теста группа B значительно проигрывала группе A, затем вырвалась вперёд. Потом её конверсия к группе А снова падала, но затем резко возросла и со значения 0.5 начала плавное снижение. \n",
    "В целом по такому графику какие-либо выводы по тесту нельзя. "
   ]
  },
  {
   "cell_type": "markdown",
   "metadata": {},
   "source": [
    "### Построим график кумулятивного среднего количества заказов на посетителя по группам. "
   ]
  },
  {
   "cell_type": "markdown",
   "metadata": {},
   "source": [
    "Создадим таблицы с комулятивными значениями заказов и выручки для А и В групп"
   ]
  },
  {
   "cell_type": "code",
   "execution_count": 33,
   "metadata": {},
   "outputs": [
    {
     "data": {
      "text/html": [
       "<div>\n",
       "<style scoped>\n",
       "    .dataframe tbody tr th:only-of-type {\n",
       "        vertical-align: middle;\n",
       "    }\n",
       "\n",
       "    .dataframe tbody tr th {\n",
       "        vertical-align: top;\n",
       "    }\n",
       "\n",
       "    .dataframe thead th {\n",
       "        text-align: right;\n",
       "    }\n",
       "</style>\n",
       "<table border=\"1\" class=\"dataframe\">\n",
       "  <thead>\n",
       "    <tr style=\"text-align: right;\">\n",
       "      <th></th>\n",
       "      <th>date</th>\n",
       "      <th>group</th>\n",
       "      <th>orders</th>\n",
       "      <th>buyers</th>\n",
       "      <th>revenue</th>\n",
       "      <th>visitors</th>\n",
       "    </tr>\n",
       "  </thead>\n",
       "  <tbody>\n",
       "    <tr>\n",
       "      <th>0</th>\n",
       "      <td>2019-08-01</td>\n",
       "      <td>A</td>\n",
       "      <td>24</td>\n",
       "      <td>20</td>\n",
       "      <td>148579</td>\n",
       "      <td>719</td>\n",
       "    </tr>\n",
       "    <tr>\n",
       "      <th>1</th>\n",
       "      <td>2019-08-01</td>\n",
       "      <td>B</td>\n",
       "      <td>21</td>\n",
       "      <td>20</td>\n",
       "      <td>101217</td>\n",
       "      <td>713</td>\n",
       "    </tr>\n",
       "    <tr>\n",
       "      <th>2</th>\n",
       "      <td>2019-08-02</td>\n",
       "      <td>A</td>\n",
       "      <td>44</td>\n",
       "      <td>38</td>\n",
       "      <td>242401</td>\n",
       "      <td>1338</td>\n",
       "    </tr>\n",
       "    <tr>\n",
       "      <th>3</th>\n",
       "      <td>2019-08-02</td>\n",
       "      <td>B</td>\n",
       "      <td>45</td>\n",
       "      <td>43</td>\n",
       "      <td>266748</td>\n",
       "      <td>1294</td>\n",
       "    </tr>\n",
       "    <tr>\n",
       "      <th>4</th>\n",
       "      <td>2019-08-03</td>\n",
       "      <td>A</td>\n",
       "      <td>68</td>\n",
       "      <td>62</td>\n",
       "      <td>354874</td>\n",
       "      <td>1845</td>\n",
       "    </tr>\n",
       "  </tbody>\n",
       "</table>\n",
       "</div>"
      ],
      "text/plain": [
       "         date group  orders  buyers  revenue  visitors\n",
       "0  2019-08-01     A      24      20   148579       719\n",
       "1  2019-08-01     B      21      20   101217       713\n",
       "2  2019-08-02     A      44      38   242401      1338\n",
       "3  2019-08-02     B      45      43   266748      1294\n",
       "4  2019-08-03     A      68      62   354874      1845"
      ]
     },
     "execution_count": 33,
     "metadata": {},
     "output_type": "execute_result"
    }
   ],
   "source": [
    "cumulativeData.head()"
   ]
  },
  {
   "cell_type": "code",
   "execution_count": 34,
   "metadata": {},
   "outputs": [],
   "source": [
    "cumulativeOrdersA = cumulativeData[cumulativeData['group'] == 'A'][['date','orders','visitors']]\n",
    "cumulativeOrdersB = cumulativeData[cumulativeData['group'] == 'B'][['date','orders','visitors']]"
   ]
  },
  {
   "cell_type": "code",
   "execution_count": 35,
   "metadata": {
    "scrolled": false
   },
   "outputs": [
    {
     "data": {
      "image/png": "[encoded data removed]",
      "text/plain": [
       "<Figure size 1000x500 with 1 Axes>"
      ]
     },
     "metadata": {},
     "output_type": "display_data"
    }
   ],
   "source": [
    "plt.figure(figsize=(10,5))\n",
    "plt.plot(\n",
    "    cumulativeOrdersA['date'], cumulativeOrdersA['orders']/cumulativeOrdersA['visitors'],color = 'blue',label='A')\n",
    "plt.plot(\n",
    "    cumulativeOrdersB['date'], cumulativeOrdersB['orders']/cumulativeOrdersB['visitors'],color = 'red',  label='B')\n",
    "plt.xlabel('Дата', fontsize=15)\n",
    "plt.ylabel('Среднее количество заказов', fontsize=15)\n",
    "plt.title('Накопленное среднее количество заказов на посетителя по группам', fontsize=15)\n",
    "plt.xticks(rotation=90)\n",
    "plt.grid(True, color = 'grey',    #  цвет линий\n",
    "               linewidth = 1,     #  толщина\n",
    "               linestyle = '--', ); #  тип\n",
    "\n",
    "plt.legend();"
   ]
  },
  {
   "cell_type": "markdown",
   "metadata": {},
   "source": [
    "В начале теста наблюдаются сильные колебания графиков. С 06 августа накопленное среднее число заказов на поситителя группы А стало снижаться, а группы В увеличиваться. К концу теста графики стабилизировались и значение группы А составило 0.03, а группы В 0.035, что на 16,6% выше. Возможно, мероприятия по увеличению выручки магазина привели к ее увеличению."
   ]
  },
  {
   "cell_type": "markdown",
   "metadata": {},
   "source": [
    "### Построим график относительного изменения кумулятивного среднего количества заказов на посетителя группы B к группе A. "
   ]
  },
  {
   "cell_type": "code",
   "execution_count": 36,
   "metadata": {},
   "outputs": [
    {
     "data": {
      "image/png": "[encoded data removed]",
      "text/plain": [
       "<Figure size 1000x500 with 1 Axes>"
      ]
     },
     "metadata": {},
     "output_type": "display_data"
    }
   ],
   "source": [
    "# собираем данные в одном датафрейме\n",
    "mergedCumulativeOrders = cumulativeOrdersA\\\n",
    "            .merge(cumulativeOrdersB, left_on='date', right_on='date', how='left', suffixes=['A', 'B'])\n",
    "\n",
    "# cтроим отношение средних чеков\n",
    "plt.figure(figsize=(10,5))\n",
    "plt.plot(mergedCumulativeOrders['date']\\\n",
    "                         ,(mergedCumulativeOrders['ordersB']/mergedCumulativeOrders['visitorsB'])\\\n",
    "                          /(mergedCumulativeOrders['ordersA']/mergedCumulativeOrders['visitorsA'])-1, color='blue')\n",
    "\n",
    "# добавляем ось X\n",
    "plt.axhline(y=0, color='black', linestyle='--') \n",
    "\n",
    "plt.xlabel('Дата', fontsize=15)\n",
    "#plt.ylabel('Средняя выручка', fontsize=15)\n",
    "plt.title('Относительное изменение кумулятивного среднего количества заказов на одного посетителя группы B к группе A', fontsize=15)\n",
    "plt.xticks(rotation=90)\n",
    "plt.grid(True, color = 'grey',    #  цвет линий\n",
    "               linewidth = 1,     #  толщина\n",
    "               linestyle = '--', ); #  тип\n",
    "\n",
    "#plt.legend();"
   ]
  },
  {
   "cell_type": "markdown",
   "metadata": {},
   "source": [
    "До 6 августа наблюдается колебание графика. После конверсия группы В к группе А резко возрастает и с середины теста начинает плавно снижаться до значения в 0.14 к концу теста. Это так же дает нап право предположить об успешности А/В теста."
   ]
  },
  {
   "cell_type": "markdown",
   "metadata": {},
   "source": [
    "### Построим точечный график количества заказов по пользователям."
   ]
  },
  {
   "cell_type": "markdown",
   "metadata": {},
   "source": [
    "Посчитаем количество заказов для каждого пользователя"
   ]
  },
  {
   "cell_type": "code",
   "execution_count": 37,
   "metadata": {
    "scrolled": false
   },
   "outputs": [
    {
     "data": {
      "text/html": [
       "<div>\n",
       "<style scoped>\n",
       "    .dataframe tbody tr th:only-of-type {\n",
       "        vertical-align: middle;\n",
       "    }\n",
       "\n",
       "    .dataframe tbody tr th {\n",
       "        vertical-align: top;\n",
       "    }\n",
       "\n",
       "    .dataframe thead th {\n",
       "        text-align: right;\n",
       "    }\n",
       "</style>\n",
       "<table border=\"1\" class=\"dataframe\">\n",
       "  <thead>\n",
       "    <tr style=\"text-align: right;\">\n",
       "      <th></th>\n",
       "      <th>visitor_id</th>\n",
       "      <th>transaction_id</th>\n",
       "    </tr>\n",
       "  </thead>\n",
       "  <tbody>\n",
       "    <tr>\n",
       "      <th>1023</th>\n",
       "      <td>4256040402</td>\n",
       "      <td>11</td>\n",
       "    </tr>\n",
       "    <tr>\n",
       "      <th>591</th>\n",
       "      <td>2458001652</td>\n",
       "      <td>11</td>\n",
       "    </tr>\n",
       "    <tr>\n",
       "      <th>569</th>\n",
       "      <td>2378935119</td>\n",
       "      <td>9</td>\n",
       "    </tr>\n",
       "    <tr>\n",
       "      <th>487</th>\n",
       "      <td>2038680547</td>\n",
       "      <td>8</td>\n",
       "    </tr>\n",
       "    <tr>\n",
       "      <th>44</th>\n",
       "      <td>199603092</td>\n",
       "      <td>5</td>\n",
       "    </tr>\n",
       "  </tbody>\n",
       "</table>\n",
       "</div>"
      ],
      "text/plain": [
       "      visitor_id  transaction_id\n",
       "1023  4256040402              11\n",
       "591   2458001652              11\n",
       "569   2378935119               9\n",
       "487   2038680547               8\n",
       "44     199603092               5"
      ]
     },
     "execution_count": 37,
     "metadata": {},
     "output_type": "execute_result"
    }
   ],
   "source": [
    "orders.head()\n",
    "orders_users = orders.groupby('visitor_id', as_index=False)\\\n",
    "                     .agg({'transaction_id': 'nunique'})\\\n",
    "                     #.sort_values(by='transaction_id', ascending=False)\n",
    "orders_users.sort_values('transaction_id', ascending=False).head()"
   ]
  },
  {
   "cell_type": "code",
   "execution_count": 38,
   "metadata": {
    "scrolled": false
   },
   "outputs": [
    {
     "data": {
      "image/png": "[encoded data removed]",
      "text/plain": [
       "<Figure size 700x300 with 1 Axes>"
      ]
     },
     "metadata": {},
     "output_type": "display_data"
    }
   ],
   "source": [
    "plt.figure(figsize=(7,3))\n",
    "plt.hist(orders_users['transaction_id'],bins=11);"
   ]
  },
  {
   "cell_type": "code",
   "execution_count": 39,
   "metadata": {},
   "outputs": [
    {
     "data": {
      "image/png": "[encoded data removed]",
      "text/plain": [
       "<Figure size 1000x500 with 1 Axes>"
      ]
     },
     "metadata": {},
     "output_type": "display_data"
    }
   ],
   "source": [
    "plt.figure(figsize=(10,5))\n",
    "x_values = pd.Series(range(0,len(orders_users)))\n",
    "plt.scatter(x_values, orders_users['transaction_id'], color='blue') \n",
    "plt.grid(True, color = 'grey',    #  цвет линий\n",
    "               linewidth = 1,     #  толщина\n",
    "               linestyle = '--', ); #  тип\n",
    "\n"
   ]
  },
  {
   "cell_type": "markdown",
   "metadata": {},
   "source": [
    "Большинство покупателей совершает 1 заказ. Но количество покупателей с 2-4 заказами тоже велико. Так же наблюдаем некоторое количество покупателей с заказами более 10. Предположим, что наличие пользователей, совершивших более 4 заказов, подтверждает всплеск выручки в середине теста."
   ]
  },
  {
   "cell_type": "markdown",
   "metadata": {
    "scrolled": false
   },
   "source": [
    "### Посчитаем 95-й и 99-й перцентили количества заказов на пользователя. Выберем границу для определения аномальных пользователей."
   ]
  },
  {
   "cell_type": "code",
   "execution_count": 40,
   "metadata": {},
   "outputs": [
    {
     "name": "stdout",
     "output_type": "stream",
     "text": [
      "[1. 2. 4.]\n"
     ]
    }
   ],
   "source": [
    "print(np.percentile(orders_users['transaction_id'], [90, 95, 99])) "
   ]
  },
  {
   "cell_type": "markdown",
   "metadata": {},
   "source": [
    "Не более 10% пользователей совершали более 1 заказа. Не болееь 5% совершали более 2 заказов. И только 1% совершал более 4 заказов. Выберем 2 заказа на одного пользователя за верхнюю границу числа заказов, что бы отсеять аномальных пользователей по ней."
   ]
  },
  {
   "cell_type": "markdown",
   "metadata": {},
   "source": [
    "### Построим точечный график стоимостей заказов. "
   ]
  },
  {
   "cell_type": "code",
   "execution_count": 41,
   "metadata": {},
   "outputs": [
    {
     "data": {
      "text/html": [
       "<div>\n",
       "<style scoped>\n",
       "    .dataframe tbody tr th:only-of-type {\n",
       "        vertical-align: middle;\n",
       "    }\n",
       "\n",
       "    .dataframe tbody tr th {\n",
       "        vertical-align: top;\n",
       "    }\n",
       "\n",
       "    .dataframe thead th {\n",
       "        text-align: right;\n",
       "    }\n",
       "</style>\n",
       "<table border=\"1\" class=\"dataframe\">\n",
       "  <thead>\n",
       "    <tr style=\"text-align: right;\">\n",
       "      <th></th>\n",
       "      <th>transaction_id</th>\n",
       "      <th>visitor_id</th>\n",
       "      <th>date</th>\n",
       "      <th>revenue</th>\n",
       "      <th>group</th>\n",
       "    </tr>\n",
       "  </thead>\n",
       "  <tbody>\n",
       "    <tr>\n",
       "      <th>425</th>\n",
       "      <td>590470918</td>\n",
       "      <td>1920142716</td>\n",
       "      <td>2019-08-19</td>\n",
       "      <td>1294500</td>\n",
       "      <td>B</td>\n",
       "    </tr>\n",
       "    <tr>\n",
       "      <th>1196</th>\n",
       "      <td>3936777065</td>\n",
       "      <td>2108080724</td>\n",
       "      <td>2019-08-15</td>\n",
       "      <td>202740</td>\n",
       "      <td>B</td>\n",
       "    </tr>\n",
       "    <tr>\n",
       "      <th>858</th>\n",
       "      <td>192721366</td>\n",
       "      <td>1316129916</td>\n",
       "      <td>2019-08-27</td>\n",
       "      <td>93940</td>\n",
       "      <td>A</td>\n",
       "    </tr>\n",
       "    <tr>\n",
       "      <th>1136</th>\n",
       "      <td>666610489</td>\n",
       "      <td>1307669133</td>\n",
       "      <td>2019-08-13</td>\n",
       "      <td>92550</td>\n",
       "      <td>A</td>\n",
       "    </tr>\n",
       "    <tr>\n",
       "      <th>744</th>\n",
       "      <td>3668308183</td>\n",
       "      <td>888512513</td>\n",
       "      <td>2019-08-27</td>\n",
       "      <td>86620</td>\n",
       "      <td>B</td>\n",
       "    </tr>\n",
       "  </tbody>\n",
       "</table>\n",
       "</div>"
      ],
      "text/plain": [
       "      transaction_id  visitor_id        date  revenue group\n",
       "425        590470918  1920142716  2019-08-19  1294500     B\n",
       "1196      3936777065  2108080724  2019-08-15   202740     B\n",
       "858        192721366  1316129916  2019-08-27    93940     A\n",
       "1136       666610489  1307669133  2019-08-13    92550     A\n",
       "744       3668308183   888512513  2019-08-27    86620     B"
      ]
     },
     "execution_count": 41,
     "metadata": {},
     "output_type": "execute_result"
    }
   ],
   "source": [
    "orders.sort_values('revenue', ascending=False).head()"
   ]
  },
  {
   "cell_type": "code",
   "execution_count": 42,
   "metadata": {},
   "outputs": [
    {
     "data": {
      "image/png": "[encoded data removed]",
      "text/plain": [
       "<Figure size 1000x500 with 1 Axes>"
      ]
     },
     "metadata": {},
     "output_type": "display_data"
    }
   ],
   "source": [
    "plt.figure(figsize=(10,5))\n",
    "x_values = pd.Series(range(0,len(orders)))\n",
    "plt.scatter(x_values, orders['revenue'], color='blue') \n",
    "plt.grid(True, color = 'grey',    #  цвет линий\n",
    "               linewidth = 1,     #  толщина\n",
    "               linestyle = '--', ); #  тип\n"
   ]
  },
  {
   "cell_type": "markdown",
   "metadata": {},
   "source": [
    "Большинство заказов имеют стоимость ниже 50 000, имеем некоторое количество заказов выше 50 000 и аномально большие закары со стоимостью примерно 200 000 и более 1 200 000, эти дорогие заказы могли повлиять на наше тестирование, спровацировав всплеск в группе В с середине тестирования"
   ]
  },
  {
   "cell_type": "markdown",
   "metadata": {},
   "source": [
    "### Посчитаем 95-й и 99-й перцентили стоимости заказов. Выберем границу для определения аномальных заказов."
   ]
  },
  {
   "cell_type": "code",
   "execution_count": 43,
   "metadata": {},
   "outputs": [
    {
     "name": "stdout",
     "output_type": "stream",
     "text": [
      "[18168.  28000.  58233.2]\n"
     ]
    }
   ],
   "source": [
    "print(np.percentile(orders['revenue'], [90, 95, 99])) "
   ]
  },
  {
   "cell_type": "markdown",
   "metadata": {},
   "source": [
    "Не более 10% заказов имеют стоимость более 18168. Не болееь 5% имеют стоимость более 28000. И только 1% заказов имеют стоимость более 58233.2. Выберем стоимость заказа равную 28000 заказа за верхнюю границу."
   ]
  },
  {
   "cell_type": "markdown",
   "metadata": {},
   "source": [
    "### Посчитайтаем статистическую значимость различий в среднем количестве заказов на посетителя между группами по «сырым» данным. "
   ]
  },
  {
   "cell_type": "markdown",
   "metadata": {},
   "source": [
    "Подготовим данные к анализу"
   ]
  },
  {
   "cell_type": "markdown",
   "metadata": {},
   "source": [
    "#### Сформируем таблицу количества посетителей по датам для групп А и В"
   ]
  },
  {
   "cell_type": "code",
   "execution_count": 44,
   "metadata": {},
   "outputs": [
    {
     "data": {
      "text/html": [
       "<div>\n",
       "<style scoped>\n",
       "    .dataframe tbody tr th:only-of-type {\n",
       "        vertical-align: middle;\n",
       "    }\n",
       "\n",
       "    .dataframe tbody tr th {\n",
       "        vertical-align: top;\n",
       "    }\n",
       "\n",
       "    .dataframe thead th {\n",
       "        text-align: right;\n",
       "    }\n",
       "</style>\n",
       "<table border=\"1\" class=\"dataframe\">\n",
       "  <thead>\n",
       "    <tr style=\"text-align: right;\">\n",
       "      <th></th>\n",
       "      <th>date</th>\n",
       "      <th>visitorsPerDateA</th>\n",
       "    </tr>\n",
       "  </thead>\n",
       "  <tbody>\n",
       "    <tr>\n",
       "      <th>0</th>\n",
       "      <td>2019-08-01</td>\n",
       "      <td>719</td>\n",
       "    </tr>\n",
       "    <tr>\n",
       "      <th>1</th>\n",
       "      <td>2019-08-02</td>\n",
       "      <td>619</td>\n",
       "    </tr>\n",
       "    <tr>\n",
       "      <th>2</th>\n",
       "      <td>2019-08-03</td>\n",
       "      <td>507</td>\n",
       "    </tr>\n",
       "    <tr>\n",
       "      <th>3</th>\n",
       "      <td>2019-08-04</td>\n",
       "      <td>717</td>\n",
       "    </tr>\n",
       "    <tr>\n",
       "      <th>4</th>\n",
       "      <td>2019-08-05</td>\n",
       "      <td>756</td>\n",
       "    </tr>\n",
       "  </tbody>\n",
       "</table>\n",
       "</div>"
      ],
      "text/plain": [
       "         date  visitorsPerDateA\n",
       "0  2019-08-01               719\n",
       "1  2019-08-02               619\n",
       "2  2019-08-03               507\n",
       "3  2019-08-04               717\n",
       "4  2019-08-05               756"
      ]
     },
     "execution_count": 44,
     "metadata": {},
     "output_type": "execute_result"
    }
   ],
   "source": [
    "visitorsADaily = visitors[visitors['group'] == 'A'][['date', 'visitors']]\n",
    "visitorsADaily.columns = ['date', 'visitorsPerDateA']\n",
    "visitorsADaily.head()"
   ]
  },
  {
   "cell_type": "code",
   "execution_count": 45,
   "metadata": {},
   "outputs": [
    {
     "data": {
      "text/html": [
       "<div>\n",
       "<style scoped>\n",
       "    .dataframe tbody tr th:only-of-type {\n",
       "        vertical-align: middle;\n",
       "    }\n",
       "\n",
       "    .dataframe tbody tr th {\n",
       "        vertical-align: top;\n",
       "    }\n",
       "\n",
       "    .dataframe thead th {\n",
       "        text-align: right;\n",
       "    }\n",
       "</style>\n",
       "<table border=\"1\" class=\"dataframe\">\n",
       "  <thead>\n",
       "    <tr style=\"text-align: right;\">\n",
       "      <th></th>\n",
       "      <th>date</th>\n",
       "      <th>visitorsPerDateB</th>\n",
       "    </tr>\n",
       "  </thead>\n",
       "  <tbody>\n",
       "    <tr>\n",
       "      <th>31</th>\n",
       "      <td>2019-08-01</td>\n",
       "      <td>713</td>\n",
       "    </tr>\n",
       "    <tr>\n",
       "      <th>32</th>\n",
       "      <td>2019-08-02</td>\n",
       "      <td>581</td>\n",
       "    </tr>\n",
       "    <tr>\n",
       "      <th>33</th>\n",
       "      <td>2019-08-03</td>\n",
       "      <td>509</td>\n",
       "    </tr>\n",
       "    <tr>\n",
       "      <th>34</th>\n",
       "      <td>2019-08-04</td>\n",
       "      <td>770</td>\n",
       "    </tr>\n",
       "    <tr>\n",
       "      <th>35</th>\n",
       "      <td>2019-08-05</td>\n",
       "      <td>707</td>\n",
       "    </tr>\n",
       "  </tbody>\n",
       "</table>\n",
       "</div>"
      ],
      "text/plain": [
       "          date  visitorsPerDateB\n",
       "31  2019-08-01               713\n",
       "32  2019-08-02               581\n",
       "33  2019-08-03               509\n",
       "34  2019-08-04               770\n",
       "35  2019-08-05               707"
      ]
     },
     "execution_count": 45,
     "metadata": {},
     "output_type": "execute_result"
    }
   ],
   "source": [
    "visitorsBDaily = visitors[visitors['group'] == 'B'][['date', 'visitors']]\n",
    "visitorsBDaily.columns = ['date', 'visitorsPerDateB']\n",
    "visitorsBDaily.head()"
   ]
  },
  {
   "cell_type": "markdown",
   "metadata": {},
   "source": [
    "#### Сформируем таблицу с кумулятивным количеством посетителей по датам для групп А и В"
   ]
  },
  {
   "cell_type": "code",
   "execution_count": 46,
   "metadata": {},
   "outputs": [
    {
     "data": {
      "text/html": [
       "<div>\n",
       "<style scoped>\n",
       "    .dataframe tbody tr th:only-of-type {\n",
       "        vertical-align: middle;\n",
       "    }\n",
       "\n",
       "    .dataframe tbody tr th {\n",
       "        vertical-align: top;\n",
       "    }\n",
       "\n",
       "    .dataframe thead th {\n",
       "        text-align: right;\n",
       "    }\n",
       "</style>\n",
       "<table border=\"1\" class=\"dataframe\">\n",
       "  <thead>\n",
       "    <tr style=\"text-align: right;\">\n",
       "      <th></th>\n",
       "      <th>date</th>\n",
       "      <th>visitorsCummulativeA</th>\n",
       "    </tr>\n",
       "  </thead>\n",
       "  <tbody>\n",
       "    <tr>\n",
       "      <th>0</th>\n",
       "      <td>2019-08-01</td>\n",
       "      <td>719</td>\n",
       "    </tr>\n",
       "    <tr>\n",
       "      <th>1</th>\n",
       "      <td>2019-08-02</td>\n",
       "      <td>1338</td>\n",
       "    </tr>\n",
       "    <tr>\n",
       "      <th>2</th>\n",
       "      <td>2019-08-03</td>\n",
       "      <td>1845</td>\n",
       "    </tr>\n",
       "    <tr>\n",
       "      <th>3</th>\n",
       "      <td>2019-08-04</td>\n",
       "      <td>2562</td>\n",
       "    </tr>\n",
       "    <tr>\n",
       "      <th>4</th>\n",
       "      <td>2019-08-05</td>\n",
       "      <td>3318</td>\n",
       "    </tr>\n",
       "  </tbody>\n",
       "</table>\n",
       "</div>"
      ],
      "text/plain": [
       "         date  visitorsCummulativeA\n",
       "0  2019-08-01                   719\n",
       "1  2019-08-02                  1338\n",
       "2  2019-08-03                  1845\n",
       "3  2019-08-04                  2562\n",
       "4  2019-08-05                  3318"
      ]
     },
     "execution_count": 46,
     "metadata": {},
     "output_type": "execute_result"
    }
   ],
   "source": [
    "visitorsACummulative = visitorsADaily.apply(\n",
    "    lambda x: visitorsADaily[visitorsADaily['date'] <= x['date']].agg(\n",
    "        {'date': 'max', 'visitorsPerDateA': 'sum'}\n",
    "    ),\n",
    "    axis=1,\n",
    ")\n",
    "visitorsACummulative.columns = ['date', 'visitorsCummulativeA']\n",
    "visitorsACummulative.head()"
   ]
  },
  {
   "cell_type": "code",
   "execution_count": 47,
   "metadata": {},
   "outputs": [
    {
     "data": {
      "text/html": [
       "<div>\n",
       "<style scoped>\n",
       "    .dataframe tbody tr th:only-of-type {\n",
       "        vertical-align: middle;\n",
       "    }\n",
       "\n",
       "    .dataframe tbody tr th {\n",
       "        vertical-align: top;\n",
       "    }\n",
       "\n",
       "    .dataframe thead th {\n",
       "        text-align: right;\n",
       "    }\n",
       "</style>\n",
       "<table border=\"1\" class=\"dataframe\">\n",
       "  <thead>\n",
       "    <tr style=\"text-align: right;\">\n",
       "      <th></th>\n",
       "      <th>date</th>\n",
       "      <th>visitorsCummulativeB</th>\n",
       "    </tr>\n",
       "  </thead>\n",
       "  <tbody>\n",
       "    <tr>\n",
       "      <th>31</th>\n",
       "      <td>2019-08-01</td>\n",
       "      <td>713</td>\n",
       "    </tr>\n",
       "    <tr>\n",
       "      <th>32</th>\n",
       "      <td>2019-08-02</td>\n",
       "      <td>1294</td>\n",
       "    </tr>\n",
       "    <tr>\n",
       "      <th>33</th>\n",
       "      <td>2019-08-03</td>\n",
       "      <td>1803</td>\n",
       "    </tr>\n",
       "    <tr>\n",
       "      <th>34</th>\n",
       "      <td>2019-08-04</td>\n",
       "      <td>2573</td>\n",
       "    </tr>\n",
       "    <tr>\n",
       "      <th>35</th>\n",
       "      <td>2019-08-05</td>\n",
       "      <td>3280</td>\n",
       "    </tr>\n",
       "  </tbody>\n",
       "</table>\n",
       "</div>"
      ],
      "text/plain": [
       "          date  visitorsCummulativeB\n",
       "31  2019-08-01                   713\n",
       "32  2019-08-02                  1294\n",
       "33  2019-08-03                  1803\n",
       "34  2019-08-04                  2573\n",
       "35  2019-08-05                  3280"
      ]
     },
     "execution_count": 47,
     "metadata": {},
     "output_type": "execute_result"
    }
   ],
   "source": [
    "visitorsBCummulative = visitorsBDaily.apply(\n",
    "    lambda x: visitorsBDaily[visitorsBDaily['date'] <= x['date']].agg(\n",
    "        {'date': 'max', 'visitorsPerDateB': 'sum'}\n",
    "    ),\n",
    "    axis=1,\n",
    ")\n",
    "visitorsBCummulative.columns = ['date', 'visitorsCummulativeB']\n",
    "visitorsBCummulative.head()"
   ]
  },
  {
   "cell_type": "markdown",
   "metadata": {},
   "source": [
    "#### Сформируем таблицу с количеством заказов по датам для групп А и В"
   ]
  },
  {
   "cell_type": "code",
   "execution_count": 48,
   "metadata": {},
   "outputs": [
    {
     "data": {
      "text/html": [
       "<div>\n",
       "<style scoped>\n",
       "    .dataframe tbody tr th:only-of-type {\n",
       "        vertical-align: middle;\n",
       "    }\n",
       "\n",
       "    .dataframe tbody tr th {\n",
       "        vertical-align: top;\n",
       "    }\n",
       "\n",
       "    .dataframe thead th {\n",
       "        text-align: right;\n",
       "    }\n",
       "</style>\n",
       "<table border=\"1\" class=\"dataframe\">\n",
       "  <thead>\n",
       "    <tr style=\"text-align: right;\">\n",
       "      <th></th>\n",
       "      <th>date</th>\n",
       "      <th>ordersPerDateA</th>\n",
       "      <th>revenuePerDateA</th>\n",
       "    </tr>\n",
       "  </thead>\n",
       "  <tbody>\n",
       "    <tr>\n",
       "      <th>0</th>\n",
       "      <td>2019-08-01</td>\n",
       "      <td>24</td>\n",
       "      <td>148579</td>\n",
       "    </tr>\n",
       "    <tr>\n",
       "      <th>1</th>\n",
       "      <td>2019-08-02</td>\n",
       "      <td>20</td>\n",
       "      <td>93822</td>\n",
       "    </tr>\n",
       "    <tr>\n",
       "      <th>2</th>\n",
       "      <td>2019-08-03</td>\n",
       "      <td>24</td>\n",
       "      <td>112473</td>\n",
       "    </tr>\n",
       "    <tr>\n",
       "      <th>3</th>\n",
       "      <td>2019-08-04</td>\n",
       "      <td>16</td>\n",
       "      <td>70825</td>\n",
       "    </tr>\n",
       "    <tr>\n",
       "      <th>4</th>\n",
       "      <td>2019-08-05</td>\n",
       "      <td>25</td>\n",
       "      <td>124218</td>\n",
       "    </tr>\n",
       "  </tbody>\n",
       "</table>\n",
       "</div>"
      ],
      "text/plain": [
       "         date  ordersPerDateA  revenuePerDateA\n",
       "0  2019-08-01              24           148579\n",
       "1  2019-08-02              20            93822\n",
       "2  2019-08-03              24           112473\n",
       "3  2019-08-04              16            70825\n",
       "4  2019-08-05              25           124218"
      ]
     },
     "execution_count": 48,
     "metadata": {},
     "output_type": "execute_result"
    }
   ],
   "source": [
    "ordersADaily = (\n",
    "    orders[orders['group'] == 'A'][['date', 'transaction_id', 'visitor_id', 'revenue']]\n",
    "    .groupby('date', as_index=False)\n",
    "    .agg({'transaction_id': pd.Series.nunique, 'revenue': 'sum'})\n",
    ")\n",
    "ordersADaily.columns = ['date', 'ordersPerDateA', 'revenuePerDateA']\n",
    "ordersADaily.head()"
   ]
  },
  {
   "cell_type": "code",
   "execution_count": 49,
   "metadata": {},
   "outputs": [
    {
     "data": {
      "text/html": [
       "<div>\n",
       "<style scoped>\n",
       "    .dataframe tbody tr th:only-of-type {\n",
       "        vertical-align: middle;\n",
       "    }\n",
       "\n",
       "    .dataframe tbody tr th {\n",
       "        vertical-align: top;\n",
       "    }\n",
       "\n",
       "    .dataframe thead th {\n",
       "        text-align: right;\n",
       "    }\n",
       "</style>\n",
       "<table border=\"1\" class=\"dataframe\">\n",
       "  <thead>\n",
       "    <tr style=\"text-align: right;\">\n",
       "      <th></th>\n",
       "      <th>date</th>\n",
       "      <th>ordersPerDateB</th>\n",
       "      <th>revenuePerDateB</th>\n",
       "    </tr>\n",
       "  </thead>\n",
       "  <tbody>\n",
       "    <tr>\n",
       "      <th>0</th>\n",
       "      <td>2019-08-01</td>\n",
       "      <td>21</td>\n",
       "      <td>101217</td>\n",
       "    </tr>\n",
       "    <tr>\n",
       "      <th>1</th>\n",
       "      <td>2019-08-02</td>\n",
       "      <td>24</td>\n",
       "      <td>165531</td>\n",
       "    </tr>\n",
       "    <tr>\n",
       "      <th>2</th>\n",
       "      <td>2019-08-03</td>\n",
       "      <td>16</td>\n",
       "      <td>114248</td>\n",
       "    </tr>\n",
       "    <tr>\n",
       "      <th>3</th>\n",
       "      <td>2019-08-04</td>\n",
       "      <td>17</td>\n",
       "      <td>108571</td>\n",
       "    </tr>\n",
       "    <tr>\n",
       "      <th>4</th>\n",
       "      <td>2019-08-05</td>\n",
       "      <td>23</td>\n",
       "      <td>92428</td>\n",
       "    </tr>\n",
       "  </tbody>\n",
       "</table>\n",
       "</div>"
      ],
      "text/plain": [
       "         date  ordersPerDateB  revenuePerDateB\n",
       "0  2019-08-01              21           101217\n",
       "1  2019-08-02              24           165531\n",
       "2  2019-08-03              16           114248\n",
       "3  2019-08-04              17           108571\n",
       "4  2019-08-05              23            92428"
      ]
     },
     "execution_count": 49,
     "metadata": {},
     "output_type": "execute_result"
    }
   ],
   "source": [
    "ordersBDaily = (\n",
    "    orders[orders['group'] == 'B'][['date', 'transaction_id', 'visitor_id', 'revenue']]\n",
    "    .groupby('date', as_index=False)\n",
    "    .agg({'transaction_id': pd.Series.nunique, 'revenue': 'sum'})\n",
    ")\n",
    "ordersBDaily.columns = ['date', 'ordersPerDateB', 'revenuePerDateB']\n",
    "ordersBDaily.head()"
   ]
  },
  {
   "cell_type": "markdown",
   "metadata": {},
   "source": [
    "#### Сформируем таблицу с кумулятивным количеством заказов по датам для групп А и В"
   ]
  },
  {
   "cell_type": "code",
   "execution_count": 50,
   "metadata": {},
   "outputs": [
    {
     "data": {
      "text/html": [
       "<div>\n",
       "<style scoped>\n",
       "    .dataframe tbody tr th:only-of-type {\n",
       "        vertical-align: middle;\n",
       "    }\n",
       "\n",
       "    .dataframe tbody tr th {\n",
       "        vertical-align: top;\n",
       "    }\n",
       "\n",
       "    .dataframe thead th {\n",
       "        text-align: right;\n",
       "    }\n",
       "</style>\n",
       "<table border=\"1\" class=\"dataframe\">\n",
       "  <thead>\n",
       "    <tr style=\"text-align: right;\">\n",
       "      <th></th>\n",
       "      <th>date</th>\n",
       "      <th>ordersCummulativeA</th>\n",
       "      <th>revenueCummulativeA</th>\n",
       "    </tr>\n",
       "  </thead>\n",
       "  <tbody>\n",
       "    <tr>\n",
       "      <th>0</th>\n",
       "      <td>2019-08-01</td>\n",
       "      <td>24</td>\n",
       "      <td>148579</td>\n",
       "    </tr>\n",
       "    <tr>\n",
       "      <th>1</th>\n",
       "      <td>2019-08-02</td>\n",
       "      <td>44</td>\n",
       "      <td>242401</td>\n",
       "    </tr>\n",
       "    <tr>\n",
       "      <th>2</th>\n",
       "      <td>2019-08-03</td>\n",
       "      <td>68</td>\n",
       "      <td>354874</td>\n",
       "    </tr>\n",
       "    <tr>\n",
       "      <th>3</th>\n",
       "      <td>2019-08-04</td>\n",
       "      <td>84</td>\n",
       "      <td>425699</td>\n",
       "    </tr>\n",
       "    <tr>\n",
       "      <th>4</th>\n",
       "      <td>2019-08-05</td>\n",
       "      <td>109</td>\n",
       "      <td>549917</td>\n",
       "    </tr>\n",
       "  </tbody>\n",
       "</table>\n",
       "</div>"
      ],
      "text/plain": [
       "         date  ordersCummulativeA  revenueCummulativeA\n",
       "0  2019-08-01                  24               148579\n",
       "1  2019-08-02                  44               242401\n",
       "2  2019-08-03                  68               354874\n",
       "3  2019-08-04                  84               425699\n",
       "4  2019-08-05                 109               549917"
      ]
     },
     "execution_count": 50,
     "metadata": {},
     "output_type": "execute_result"
    }
   ],
   "source": [
    "ordersACummulative = ordersADaily.apply(\n",
    "    lambda x: ordersADaily[ordersADaily['date'] <= x['date']].agg(\n",
    "        {'date': 'max', 'ordersPerDateA': 'sum', 'revenuePerDateA': 'sum'}\n",
    "    ),\n",
    "    axis=1,\n",
    ").sort_values(by=['date'])\n",
    "ordersACummulative.columns = ['date','ordersCummulativeA','revenueCummulativeA',]\n",
    "ordersACummulative.head()"
   ]
  },
  {
   "cell_type": "code",
   "execution_count": 51,
   "metadata": {},
   "outputs": [
    {
     "data": {
      "text/html": [
       "<div>\n",
       "<style scoped>\n",
       "    .dataframe tbody tr th:only-of-type {\n",
       "        vertical-align: middle;\n",
       "    }\n",
       "\n",
       "    .dataframe tbody tr th {\n",
       "        vertical-align: top;\n",
       "    }\n",
       "\n",
       "    .dataframe thead th {\n",
       "        text-align: right;\n",
       "    }\n",
       "</style>\n",
       "<table border=\"1\" class=\"dataframe\">\n",
       "  <thead>\n",
       "    <tr style=\"text-align: right;\">\n",
       "      <th></th>\n",
       "      <th>date</th>\n",
       "      <th>ordersCummulativeB</th>\n",
       "      <th>revenueCummulativeB</th>\n",
       "    </tr>\n",
       "  </thead>\n",
       "  <tbody>\n",
       "    <tr>\n",
       "      <th>0</th>\n",
       "      <td>2019-08-01</td>\n",
       "      <td>21</td>\n",
       "      <td>101217</td>\n",
       "    </tr>\n",
       "    <tr>\n",
       "      <th>1</th>\n",
       "      <td>2019-08-02</td>\n",
       "      <td>45</td>\n",
       "      <td>266748</td>\n",
       "    </tr>\n",
       "    <tr>\n",
       "      <th>2</th>\n",
       "      <td>2019-08-03</td>\n",
       "      <td>61</td>\n",
       "      <td>380996</td>\n",
       "    </tr>\n",
       "    <tr>\n",
       "      <th>3</th>\n",
       "      <td>2019-08-04</td>\n",
       "      <td>78</td>\n",
       "      <td>489567</td>\n",
       "    </tr>\n",
       "    <tr>\n",
       "      <th>4</th>\n",
       "      <td>2019-08-05</td>\n",
       "      <td>101</td>\n",
       "      <td>581995</td>\n",
       "    </tr>\n",
       "  </tbody>\n",
       "</table>\n",
       "</div>"
      ],
      "text/plain": [
       "         date  ordersCummulativeB  revenueCummulativeB\n",
       "0  2019-08-01                  21               101217\n",
       "1  2019-08-02                  45               266748\n",
       "2  2019-08-03                  61               380996\n",
       "3  2019-08-04                  78               489567\n",
       "4  2019-08-05                 101               581995"
      ]
     },
     "execution_count": 51,
     "metadata": {},
     "output_type": "execute_result"
    }
   ],
   "source": [
    "ordersBCummulative = ordersBDaily.apply(\n",
    "    lambda x: ordersBDaily[ordersBDaily['date'] <= x['date']].agg(\n",
    "        {'date': 'max', 'ordersPerDateB': 'sum', 'revenuePerDateB': 'sum'}\n",
    "    ),\n",
    "    axis=1,\n",
    ").sort_values(by=['date'])\n",
    "ordersBCummulative.columns = ['date','ordersCummulativeB','revenueCummulativeB',]\n",
    "ordersBCummulative.head()"
   ]
  },
  {
   "cell_type": "markdown",
   "metadata": {},
   "source": [
    "#### Соеденим все данные в одну таблицу по датам."
   ]
  },
  {
   "cell_type": "code",
   "execution_count": 52,
   "metadata": {},
   "outputs": [],
   "source": [
    "data = (\n",
    "    ordersADaily.merge(\n",
    "        ordersBDaily, left_on='date', right_on='date', how='left'\n",
    "    )\n",
    "    .merge(ordersACummulative, left_on='date', right_on='date', how='left')\n",
    "    .merge(ordersBCummulative, left_on='date', right_on='date', how='left')\n",
    "    .merge(visitorsADaily, left_on='date', right_on='date', how='left')\n",
    "    .merge(visitorsBDaily, left_on='date', right_on='date', how='left')\n",
    "    .merge(visitorsACummulative, left_on='date', right_on='date', how='left')\n",
    "    .merge(visitorsBCummulative, left_on='date', right_on='date', how='left')\n",
    ")"
   ]
  },
  {
   "cell_type": "code",
   "execution_count": 53,
   "metadata": {},
   "outputs": [
    {
     "data": {
      "text/html": [
       "<div>\n",
       "<style scoped>\n",
       "    .dataframe tbody tr th:only-of-type {\n",
       "        vertical-align: middle;\n",
       "    }\n",
       "\n",
       "    .dataframe tbody tr th {\n",
       "        vertical-align: top;\n",
       "    }\n",
       "\n",
       "    .dataframe thead th {\n",
       "        text-align: right;\n",
       "    }\n",
       "</style>\n",
       "<table border=\"1\" class=\"dataframe\">\n",
       "  <thead>\n",
       "    <tr style=\"text-align: right;\">\n",
       "      <th></th>\n",
       "      <th>date</th>\n",
       "      <th>ordersPerDateA</th>\n",
       "      <th>revenuePerDateA</th>\n",
       "      <th>ordersPerDateB</th>\n",
       "      <th>revenuePerDateB</th>\n",
       "      <th>ordersCummulativeA</th>\n",
       "      <th>revenueCummulativeA</th>\n",
       "      <th>ordersCummulativeB</th>\n",
       "      <th>revenueCummulativeB</th>\n",
       "      <th>visitorsPerDateA</th>\n",
       "      <th>visitorsPerDateB</th>\n",
       "      <th>visitorsCummulativeA</th>\n",
       "      <th>visitorsCummulativeB</th>\n",
       "    </tr>\n",
       "  </thead>\n",
       "  <tbody>\n",
       "    <tr>\n",
       "      <th>0</th>\n",
       "      <td>2019-08-01</td>\n",
       "      <td>24</td>\n",
       "      <td>148579</td>\n",
       "      <td>21</td>\n",
       "      <td>101217</td>\n",
       "      <td>24</td>\n",
       "      <td>148579</td>\n",
       "      <td>21</td>\n",
       "      <td>101217</td>\n",
       "      <td>719</td>\n",
       "      <td>713</td>\n",
       "      <td>719</td>\n",
       "      <td>713</td>\n",
       "    </tr>\n",
       "    <tr>\n",
       "      <th>1</th>\n",
       "      <td>2019-08-02</td>\n",
       "      <td>20</td>\n",
       "      <td>93822</td>\n",
       "      <td>24</td>\n",
       "      <td>165531</td>\n",
       "      <td>44</td>\n",
       "      <td>242401</td>\n",
       "      <td>45</td>\n",
       "      <td>266748</td>\n",
       "      <td>619</td>\n",
       "      <td>581</td>\n",
       "      <td>1338</td>\n",
       "      <td>1294</td>\n",
       "    </tr>\n",
       "    <tr>\n",
       "      <th>2</th>\n",
       "      <td>2019-08-03</td>\n",
       "      <td>24</td>\n",
       "      <td>112473</td>\n",
       "      <td>16</td>\n",
       "      <td>114248</td>\n",
       "      <td>68</td>\n",
       "      <td>354874</td>\n",
       "      <td>61</td>\n",
       "      <td>380996</td>\n",
       "      <td>507</td>\n",
       "      <td>509</td>\n",
       "      <td>1845</td>\n",
       "      <td>1803</td>\n",
       "    </tr>\n",
       "    <tr>\n",
       "      <th>3</th>\n",
       "      <td>2019-08-04</td>\n",
       "      <td>16</td>\n",
       "      <td>70825</td>\n",
       "      <td>17</td>\n",
       "      <td>108571</td>\n",
       "      <td>84</td>\n",
       "      <td>425699</td>\n",
       "      <td>78</td>\n",
       "      <td>489567</td>\n",
       "      <td>717</td>\n",
       "      <td>770</td>\n",
       "      <td>2562</td>\n",
       "      <td>2573</td>\n",
       "    </tr>\n",
       "    <tr>\n",
       "      <th>4</th>\n",
       "      <td>2019-08-05</td>\n",
       "      <td>25</td>\n",
       "      <td>124218</td>\n",
       "      <td>23</td>\n",
       "      <td>92428</td>\n",
       "      <td>109</td>\n",
       "      <td>549917</td>\n",
       "      <td>101</td>\n",
       "      <td>581995</td>\n",
       "      <td>756</td>\n",
       "      <td>707</td>\n",
       "      <td>3318</td>\n",
       "      <td>3280</td>\n",
       "    </tr>\n",
       "  </tbody>\n",
       "</table>\n",
       "</div>"
      ],
      "text/plain": [
       "         date  ordersPerDateA  revenuePerDateA  ordersPerDateB  \\\n",
       "0  2019-08-01              24           148579              21   \n",
       "1  2019-08-02              20            93822              24   \n",
       "2  2019-08-03              24           112473              16   \n",
       "3  2019-08-04              16            70825              17   \n",
       "4  2019-08-05              25           124218              23   \n",
       "\n",
       "   revenuePerDateB  ordersCummulativeA  revenueCummulativeA  \\\n",
       "0           101217                  24               148579   \n",
       "1           165531                  44               242401   \n",
       "2           114248                  68               354874   \n",
       "3           108571                  84               425699   \n",
       "4            92428                 109               549917   \n",
       "\n",
       "   ordersCummulativeB  revenueCummulativeB  visitorsPerDateA  \\\n",
       "0                  21               101217               719   \n",
       "1                  45               266748               619   \n",
       "2                  61               380996               507   \n",
       "3                  78               489567               717   \n",
       "4                 101               581995               756   \n",
       "\n",
       "   visitorsPerDateB  visitorsCummulativeA  visitorsCummulativeB  \n",
       "0               713                   719                   713  \n",
       "1               581                  1338                  1294  \n",
       "2               509                  1845                  1803  \n",
       "3               770                  2562                  2573  \n",
       "4               707                  3318                  3280  "
      ]
     },
     "execution_count": 53,
     "metadata": {},
     "output_type": "execute_result"
    }
   ],
   "source": [
    "data.head()"
   ]
  },
  {
   "cell_type": "markdown",
   "metadata": {},
   "source": [
    "#### Посчитаем статистическую значимость различия в среднем количестве заказов между группами. Создадим переменные ordersByUsersA и ordersByUsersB со столбцами ['userId', 'orders']. В них для пользователей, которые заказывали хотя бы 1 раз, укажем число совершённых заказов."
   ]
  },
  {
   "cell_type": "code",
   "execution_count": 54,
   "metadata": {},
   "outputs": [
    {
     "data": {
      "text/html": [
       "<div>\n",
       "<style scoped>\n",
       "    .dataframe tbody tr th:only-of-type {\n",
       "        vertical-align: middle;\n",
       "    }\n",
       "\n",
       "    .dataframe tbody tr th {\n",
       "        vertical-align: top;\n",
       "    }\n",
       "\n",
       "    .dataframe thead th {\n",
       "        text-align: right;\n",
       "    }\n",
       "</style>\n",
       "<table border=\"1\" class=\"dataframe\">\n",
       "  <thead>\n",
       "    <tr style=\"text-align: right;\">\n",
       "      <th></th>\n",
       "      <th>transaction_id</th>\n",
       "      <th>visitor_id</th>\n",
       "      <th>date</th>\n",
       "      <th>revenue</th>\n",
       "      <th>group</th>\n",
       "    </tr>\n",
       "  </thead>\n",
       "  <tbody>\n",
       "    <tr>\n",
       "      <th>0</th>\n",
       "      <td>3667963787</td>\n",
       "      <td>3312258926</td>\n",
       "      <td>2019-08-15</td>\n",
       "      <td>1650</td>\n",
       "      <td>B</td>\n",
       "    </tr>\n",
       "    <tr>\n",
       "      <th>1</th>\n",
       "      <td>2804400009</td>\n",
       "      <td>3642806036</td>\n",
       "      <td>2019-08-15</td>\n",
       "      <td>730</td>\n",
       "      <td>B</td>\n",
       "    </tr>\n",
       "    <tr>\n",
       "      <th>2</th>\n",
       "      <td>2961555356</td>\n",
       "      <td>4069496402</td>\n",
       "      <td>2019-08-15</td>\n",
       "      <td>400</td>\n",
       "      <td>A</td>\n",
       "    </tr>\n",
       "    <tr>\n",
       "      <th>3</th>\n",
       "      <td>3797467345</td>\n",
       "      <td>1196621759</td>\n",
       "      <td>2019-08-15</td>\n",
       "      <td>9759</td>\n",
       "      <td>B</td>\n",
       "    </tr>\n",
       "    <tr>\n",
       "      <th>4</th>\n",
       "      <td>2282983706</td>\n",
       "      <td>2322279887</td>\n",
       "      <td>2019-08-15</td>\n",
       "      <td>2308</td>\n",
       "      <td>B</td>\n",
       "    </tr>\n",
       "    <tr>\n",
       "      <th>...</th>\n",
       "      <td>...</td>\n",
       "      <td>...</td>\n",
       "      <td>...</td>\n",
       "      <td>...</td>\n",
       "      <td>...</td>\n",
       "    </tr>\n",
       "    <tr>\n",
       "      <th>1192</th>\n",
       "      <td>2662137336</td>\n",
       "      <td>3733762160</td>\n",
       "      <td>2019-08-14</td>\n",
       "      <td>6490</td>\n",
       "      <td>B</td>\n",
       "    </tr>\n",
       "    <tr>\n",
       "      <th>1193</th>\n",
       "      <td>2203539145</td>\n",
       "      <td>370388673</td>\n",
       "      <td>2019-08-14</td>\n",
       "      <td>3190</td>\n",
       "      <td>A</td>\n",
       "    </tr>\n",
       "    <tr>\n",
       "      <th>1194</th>\n",
       "      <td>1807773912</td>\n",
       "      <td>573423106</td>\n",
       "      <td>2019-08-14</td>\n",
       "      <td>10550</td>\n",
       "      <td>A</td>\n",
       "    </tr>\n",
       "    <tr>\n",
       "      <th>1195</th>\n",
       "      <td>1947021204</td>\n",
       "      <td>1614305549</td>\n",
       "      <td>2019-08-14</td>\n",
       "      <td>100</td>\n",
       "      <td>A</td>\n",
       "    </tr>\n",
       "    <tr>\n",
       "      <th>1196</th>\n",
       "      <td>3936777065</td>\n",
       "      <td>2108080724</td>\n",
       "      <td>2019-08-15</td>\n",
       "      <td>202740</td>\n",
       "      <td>B</td>\n",
       "    </tr>\n",
       "  </tbody>\n",
       "</table>\n",
       "<p>1197 rows × 5 columns</p>\n",
       "</div>"
      ],
      "text/plain": [
       "      transaction_id  visitor_id        date  revenue group\n",
       "0         3667963787  3312258926  2019-08-15     1650     B\n",
       "1         2804400009  3642806036  2019-08-15      730     B\n",
       "2         2961555356  4069496402  2019-08-15      400     A\n",
       "3         3797467345  1196621759  2019-08-15     9759     B\n",
       "4         2282983706  2322279887  2019-08-15     2308     B\n",
       "...              ...         ...         ...      ...   ...\n",
       "1192      2662137336  3733762160  2019-08-14     6490     B\n",
       "1193      2203539145   370388673  2019-08-14     3190     A\n",
       "1194      1807773912   573423106  2019-08-14    10550     A\n",
       "1195      1947021204  1614305549  2019-08-14      100     A\n",
       "1196      3936777065  2108080724  2019-08-15   202740     B\n",
       "\n",
       "[1197 rows x 5 columns]"
      ]
     },
     "execution_count": 54,
     "metadata": {},
     "output_type": "execute_result"
    }
   ],
   "source": [
    "orders"
   ]
  },
  {
   "cell_type": "code",
   "execution_count": 55,
   "metadata": {},
   "outputs": [
    {
     "data": {
      "text/html": [
       "<div>\n",
       "<style scoped>\n",
       "    .dataframe tbody tr th:only-of-type {\n",
       "        vertical-align: middle;\n",
       "    }\n",
       "\n",
       "    .dataframe tbody tr th {\n",
       "        vertical-align: top;\n",
       "    }\n",
       "\n",
       "    .dataframe thead th {\n",
       "        text-align: right;\n",
       "    }\n",
       "</style>\n",
       "<table border=\"1\" class=\"dataframe\">\n",
       "  <thead>\n",
       "    <tr style=\"text-align: right;\">\n",
       "      <th></th>\n",
       "      <th>user_id</th>\n",
       "      <th>orders</th>\n",
       "    </tr>\n",
       "  </thead>\n",
       "  <tbody>\n",
       "    <tr>\n",
       "      <th>499</th>\n",
       "      <td>4256040402</td>\n",
       "      <td>7</td>\n",
       "    </tr>\n",
       "    <tr>\n",
       "      <th>227</th>\n",
       "      <td>2038680547</td>\n",
       "      <td>5</td>\n",
       "    </tr>\n",
       "    <tr>\n",
       "      <th>278</th>\n",
       "      <td>2458001652</td>\n",
       "      <td>5</td>\n",
       "    </tr>\n",
       "    <tr>\n",
       "      <th>269</th>\n",
       "      <td>2378935119</td>\n",
       "      <td>4</td>\n",
       "    </tr>\n",
       "    <tr>\n",
       "      <th>18</th>\n",
       "      <td>199603092</td>\n",
       "      <td>4</td>\n",
       "    </tr>\n",
       "  </tbody>\n",
       "</table>\n",
       "</div>"
      ],
      "text/plain": [
       "        user_id  orders\n",
       "499  4256040402       7\n",
       "227  2038680547       5\n",
       "278  2458001652       5\n",
       "269  2378935119       4\n",
       "18    199603092       4"
      ]
     },
     "execution_count": 55,
     "metadata": {},
     "output_type": "execute_result"
    }
   ],
   "source": [
    "ordersByUsersA = (\n",
    "    orders[orders['group'] == 'A']\n",
    "    .groupby('visitor_id', as_index=False)\n",
    "    .agg({'transaction_id': pd.Series.nunique})\n",
    ")\n",
    "ordersByUsersA.columns = ['user_id', 'orders']\n",
    "ordersByUsersA.sort_values('orders',ascending=False).head()"
   ]
  },
  {
   "cell_type": "code",
   "execution_count": 56,
   "metadata": {},
   "outputs": [
    {
     "data": {
      "text/html": [
       "<div>\n",
       "<style scoped>\n",
       "    .dataframe tbody tr th:only-of-type {\n",
       "        vertical-align: middle;\n",
       "    }\n",
       "\n",
       "    .dataframe tbody tr th {\n",
       "        vertical-align: top;\n",
       "    }\n",
       "\n",
       "    .dataframe thead th {\n",
       "        text-align: right;\n",
       "    }\n",
       "</style>\n",
       "<table border=\"1\" class=\"dataframe\">\n",
       "  <thead>\n",
       "    <tr style=\"text-align: right;\">\n",
       "      <th></th>\n",
       "      <th>user_id</th>\n",
       "      <th>orders</th>\n",
       "    </tr>\n",
       "  </thead>\n",
       "  <tbody>\n",
       "    <tr>\n",
       "      <th>340</th>\n",
       "      <td>2458001652</td>\n",
       "      <td>6</td>\n",
       "    </tr>\n",
       "    <tr>\n",
       "      <th>326</th>\n",
       "      <td>2378935119</td>\n",
       "      <td>5</td>\n",
       "    </tr>\n",
       "    <tr>\n",
       "      <th>501</th>\n",
       "      <td>3717692402</td>\n",
       "      <td>4</td>\n",
       "    </tr>\n",
       "    <tr>\n",
       "      <th>514</th>\n",
       "      <td>3803269165</td>\n",
       "      <td>4</td>\n",
       "    </tr>\n",
       "    <tr>\n",
       "      <th>580</th>\n",
       "      <td>4256040402</td>\n",
       "      <td>4</td>\n",
       "    </tr>\n",
       "  </tbody>\n",
       "</table>\n",
       "</div>"
      ],
      "text/plain": [
       "        user_id  orders\n",
       "340  2458001652       6\n",
       "326  2378935119       5\n",
       "501  3717692402       4\n",
       "514  3803269165       4\n",
       "580  4256040402       4"
      ]
     },
     "execution_count": 56,
     "metadata": {},
     "output_type": "execute_result"
    }
   ],
   "source": [
    "ordersByUsersB = (\n",
    "    orders[orders['group'] == 'B']\n",
    "    .groupby('visitor_id', as_index=False)\n",
    "    .agg({'transaction_id': pd.Series.nunique})\n",
    ")\n",
    "ordersByUsersB.columns = ['user_id', 'orders']\n",
    "ordersByUsersB.sort_values('orders',ascending=False).head()"
   ]
  },
  {
   "cell_type": "markdown",
   "metadata": {},
   "source": [
    "Найдем количество пользователей которые ни чего не заказывали"
   ]
  },
  {
   "cell_type": "code",
   "execution_count": 57,
   "metadata": {},
   "outputs": [
    {
     "data": {
      "text/plain": [
       "0        0\n",
       "1        0\n",
       "2        0\n",
       "3        0\n",
       "4        0\n",
       "        ..\n",
       "18228    0\n",
       "18229    0\n",
       "18230    0\n",
       "18231    0\n",
       "18232    0\n",
       "Name: orders, Length: 18233, dtype: int64"
      ]
     },
     "execution_count": 57,
     "metadata": {},
     "output_type": "execute_result"
    }
   ],
   "source": [
    "pd.Series(0, index=np.arange(data['visitorsPerDateA'].sum() - len(ordersByUsersA['orders'])), name='orders')"
   ]
  },
  {
   "cell_type": "code",
   "execution_count": 58,
   "metadata": {},
   "outputs": [
    {
     "data": {
      "text/plain": [
       "[0      1\n",
       " 1      1\n",
       " 2      1\n",
       " 3      1\n",
       " 4      1\n",
       "       ..\n",
       " 498    1\n",
       " 499    7\n",
       " 500    1\n",
       " 501    1\n",
       " 502    1\n",
       " Name: orders, Length: 503, dtype: int64,\n",
       " 0        0\n",
       " 1        0\n",
       " 2        0\n",
       " 3        0\n",
       " 4        0\n",
       "         ..\n",
       " 18228    0\n",
       " 18229    0\n",
       " 18230    0\n",
       " 18231    0\n",
       " 18232    0\n",
       " Name: orders, Length: 18233, dtype: int64]"
      ]
     },
     "execution_count": 58,
     "metadata": {},
     "output_type": "execute_result"
    }
   ],
   "source": [
    "[ordersByUsersA['orders'],pd.Series(\n",
    "       0, index=np.arange(data['visitorsPerDateA'].sum() - len(ordersByUsersA['orders'])), name='orders')]"
   ]
  },
  {
   "cell_type": "markdown",
   "metadata": {},
   "source": [
    "Объявим переменные sampleA и sampleB, в которых пользователям из разных групп будет соответствовать количество заказов. Тем, кто ничего не заказал, будут соответствовать нули. Это нужно, чтобы подготовить выборки к проверке критерием Манна-Уитни."
   ]
  },
  {
   "cell_type": "code",
   "execution_count": 59,
   "metadata": {},
   "outputs": [],
   "source": [
    "sampleA = pd.concat([ordersByUsersA['orders'],pd.Series(0, index=np.arange(data['visitorsPerDateA']\\\n",
    "                                         .sum() - len(ordersByUsersA['orders'])), name='orders')],axis=0)\n",
    "\n",
    "sampleB = pd.concat([ordersByUsersB['orders'],pd.Series(0, index=np.arange(data['visitorsPerDateB']\\\n",
    "                                         .sum() - len(ordersByUsersB['orders'])), name='orders')],axis=0) "
   ]
  },
  {
   "cell_type": "markdown",
   "metadata": {},
   "source": [
    "Сформулируем гипотезы о равенстве среднего количества заказов между группами А и В по «сырым» данным. \n",
    "\n",
    "```\n",
    "H_0: Среднее количество заказов группы А = среднему количеству заказов группы В\n",
    "H_1: Среднее количество заказов группы А ≠ среднему количеству заказов группы В\n",
    "alpha = 0.05\n",
    "```"
   ]
  },
  {
   "cell_type": "markdown",
   "metadata": {},
   "source": [
    "Посчитаем статистическую разницу и относительный прирост количества заказов для шрупп А и В."
   ]
  },
  {
   "cell_type": "code",
   "execution_count": 60,
   "metadata": {},
   "outputs": [
    {
     "name": "stdout",
     "output_type": "stream",
     "text": [
      "0.017\n",
      "0.138\n"
     ]
    }
   ],
   "source": [
    "sampleA = pd.concat(\n",
    "    [\n",
    "        ordersByUsersA['orders'],\n",
    "        pd.Series(\n",
    "            0,\n",
    "            index=np.arange(\n",
    "                data['visitorsPerDateA'].sum() - len(ordersByUsersA['orders'])\n",
    "            ),\n",
    "            name='orders',\n",
    "        ),\n",
    "    ],\n",
    "    axis=0,\n",
    ")\n",
    "\n",
    "sampleB = pd.concat(\n",
    "    [\n",
    "        ordersByUsersB['orders'],\n",
    "        pd.Series(\n",
    "            0,\n",
    "            index=np.arange(\n",
    "                data['visitorsPerDateB'].sum() - len(ordersByUsersB['orders'])\n",
    "            ),\n",
    "            name='orders',\n",
    "        ),\n",
    "    ],\n",
    "    axis=0,\n",
    ")\n",
    "\n",
    "print(\"{0:.3f}\".format(stats.mannwhitneyu(sampleA, sampleB)[1]))\n",
    "\n",
    "print(\"{0:.3f}\".format(sampleB.mean() / sampleA.mean() - 1))\n",
    " "
   ]
  },
  {
   "cell_type": "markdown",
   "metadata": {},
   "source": [
    "Вероятность p-value = 0.017, меньше 0.05. Значит, нулевую гипотезу о том, что статистически значимых различий в среднем числе заказов между группами нет, отвергаем. Относительный прирост числа заказов группы B по отношению к группе А равен 13.8%. Это может быть обусловлено наличием пользователей с аномально большим количеством заказовв группе В."
   ]
  },
  {
   "cell_type": "markdown",
   "metadata": {},
   "source": [
    "### Посчитаем статистическую значимость различий в среднем чеке заказа между группами по «сырым» данным."
   ]
  },
  {
   "cell_type": "markdown",
   "metadata": {},
   "source": [
    "Сформулируем гипотезы о равенстве  среднего чека заказов между группами А и В по «сырым» данным. \n",
    "\n",
    "```\n",
    "H_0: Средний чек заказов группы А = среднему чеку заказов группы В\n",
    "H_1: Средний чек заказов группы А ≠ среднему чеку заказов группы В\n",
    "alpha = 0.05\n",
    "```"
   ]
  },
  {
   "cell_type": "code",
   "execution_count": 61,
   "metadata": {},
   "outputs": [
    {
     "name": "stdout",
     "output_type": "stream",
     "text": [
      "0.729\n",
      "0.259\n"
     ]
    }
   ],
   "source": [
    "print('{0:.3f}'.format(\n",
    "    stats.mannwhitneyu(orders[orders['group']=='A']['revenue'], orders[orders['group']=='B']['revenue'])[1]))\n",
    "print('{0:.3f}'.format(\n",
    "    orders[orders['group']=='B']['revenue'].mean()/orders[orders['group']=='A']['revenue'].mean()-1)) "
   ]
  },
  {
   "cell_type": "markdown",
   "metadata": {},
   "source": [
    "P-value значительно больше 0.05. Значит, причин отвергать нулевую гипотезу и считать, что в среднем чеке есть различия, нет. Но, средний чек группы B на 25.9% выше среднего чека группы A, что быть обусловлено наличием \"дорогих\" заказов."
   ]
  },
  {
   "cell_type": "markdown",
   "metadata": {},
   "source": [
    "### Посчитаем статистическую значимость различий в среднем количестве заказов на посетителя между группами по «очищенным» данным. "
   ]
  },
  {
   "cell_type": "markdown",
   "metadata": {},
   "source": [
    "Примем за аномальных пользователей тех, кто совершил больше 2 заказов или совершил заказ дороже 28 000 рублей. Так мы уберём 5% пользователей с наибольшим числом заказов и 5% пользователей с дорогими заказами.\n",
    "\n",
    "Сделаем срезы пользователей с числом заказов больше 2 — usersWithManyOrders и пользователей, совершивших заказы дороже 28 000 — usersWithExpensiveOrders. Объединим их в таблице abnormalUsers. \n"
   ]
  },
  {
   "cell_type": "code",
   "execution_count": 62,
   "metadata": {},
   "outputs": [
    {
     "name": "stdout",
     "output_type": "stream",
     "text": [
      "1099    148427295\n",
      "18      199603092\n",
      "928     204675465\n",
      "23      237748145\n",
      "37      249864742\n",
      "dtype: int64\n",
      "74\n"
     ]
    }
   ],
   "source": [
    "usersWithManyOrders = pd.concat(\n",
    "    [\n",
    "        ordersByUsersA[ordersByUsersA['orders'] > 2]['user_id'],\n",
    "        ordersByUsersB[ordersByUsersB['orders'] > 2]['user_id'],\n",
    "    ],\n",
    "    axis=0,\n",
    ")\n",
    "usersWithExpensiveOrders = orders[orders['revenue'] > 28000]['visitor_id']\n",
    "abnormalUsers = (\n",
    "    pd.concat([usersWithManyOrders, usersWithExpensiveOrders], axis=0)\n",
    "    .drop_duplicates()\n",
    "    .sort_values()\n",
    ")\n",
    "print(abnormalUsers.head(5))\n",
    "print(abnormalUsers.shape[0]) \n"
   ]
  },
  {
   "cell_type": "markdown",
   "metadata": {},
   "source": [
    "Получили 74 аномальных пользователя"
   ]
  },
  {
   "cell_type": "markdown",
   "metadata": {},
   "source": [
    "Подготовим выборки количества заказов по пользователям по группам теста:"
   ]
  },
  {
   "cell_type": "code",
   "execution_count": 63,
   "metadata": {},
   "outputs": [],
   "source": [
    "sampleAFiltered = pd.concat(\n",
    "    [\n",
    "        ordersByUsersA[\n",
    "            np.logical_not(ordersByUsersA['user_id'].isin(abnormalUsers))\n",
    "        ]['orders'],\n",
    "        pd.Series(\n",
    "            0,\n",
    "            index=np.arange(\n",
    "                data['visitorsPerDateA'].sum() - len(ordersByUsersA['orders'])\n",
    "            ),\n",
    "            name='orders',\n",
    "        ),\n",
    "    ],\n",
    "    axis=0,\n",
    ")\n",
    "\n",
    "sampleBFiltered = pd.concat(\n",
    "    [\n",
    "        ordersByUsersB[\n",
    "            np.logical_not(ordersByUsersB['user_id'].isin(abnormalUsers))\n",
    "        ]['orders'],\n",
    "        pd.Series(\n",
    "            0,\n",
    "            index=np.arange(\n",
    "                data['visitorsPerDateB'].sum() - len(ordersByUsersB['orders'])\n",
    "            ),\n",
    "            name='orders',\n",
    "        ),\n",
    "    ],\n",
    "    axis=0,\n",
    ") "
   ]
  },
  {
   "cell_type": "markdown",
   "metadata": {},
   "source": [
    "\n",
    "Сформулируем гипотезы о равенстве среднего количества заказов между группами А и В по «очищенным» данным. \n",
    "\n",
    "```\n",
    "H_0: Среднее количество заказов группы А = среднему количеству заказов группы В\n",
    "H_1: Среднее количество заказов группы А ≠ среднему количеству заказов группы В\n",
    "alpha = 0.05\n",
    "```"
   ]
  },
  {
   "cell_type": "markdown",
   "metadata": {},
   "source": [
    "Применим статистический критерий Манна-Уитни к полученным выборкам:"
   ]
  },
  {
   "cell_type": "code",
   "execution_count": 64,
   "metadata": {},
   "outputs": [
    {
     "name": "stdout",
     "output_type": "stream",
     "text": [
      "0.01304\n",
      "0.173\n"
     ]
    }
   ],
   "source": [
    "print('{0:.5f}'.format(stats.mannwhitneyu(sampleAFiltered, sampleBFiltered)[1]))\n",
    "print('{0:.3f}'.format(sampleBFiltered.mean()/sampleAFiltered.mean()-1)) "
   ]
  },
  {
   "cell_type": "markdown",
   "metadata": {},
   "source": [
    "Вероятность p-value = 0.013, меньше 0.05. Значит, нулевую гипотезу о том, что статистически значимых различий в среднем числе заказов между группами нет, отвергаем. Относительный прирост числа заказов группы B по отношению к группе А равен 17.3%. \n",
    " \n",
    "Статистический тест по \"очищенным данным\" подтверждает результат теста по \"сырым\" и говорит нам о том, что с вероятностью 98,696 среднее число заказов группы В выше чем группы А на 17,3 %. Следовательно тест привел к положительным результатам (увеличению числа заказов на пользователя)."
   ]
  },
  {
   "cell_type": "markdown",
   "metadata": {},
   "source": [
    "### Посчитаем статистическую значимость различий в среднем чеке заказа между группами по «очищенным» данным. "
   ]
  },
  {
   "cell_type": "markdown",
   "metadata": {},
   "source": [
    "\n",
    "Сформулируем гипотезы о равенстве  среднего чека заказов между группами А и В по «очищенным» данным. \n",
    "\n",
    "```\n",
    "H_0: Средний чек заказов группы А = среднему чеку заказов группы В\n",
    "H_1: Средний чек заказов группы А ≠ среднему чеку заказов группы В\n",
    "alpha = 0.05\n",
    "```"
   ]
  },
  {
   "cell_type": "code",
   "execution_count": 65,
   "metadata": {},
   "outputs": [
    {
     "name": "stdout",
     "output_type": "stream",
     "text": [
      "0.738\n",
      "-0.020\n"
     ]
    }
   ],
   "source": [
    "print(\n",
    "    '{0:.3f}'.format(\n",
    "        stats.mannwhitneyu(\n",
    "            orders[\n",
    "                np.logical_and(\n",
    "                    orders['group'] == 'A',\n",
    "                    np.logical_not(orders['visitor_id'].isin(abnormalUsers)),\n",
    "                )\n",
    "            ]['revenue'],\n",
    "            orders[\n",
    "                np.logical_and(\n",
    "                    orders['group'] == 'B',\n",
    "                    np.logical_not(orders['visitor_id'].isin(abnormalUsers)),\n",
    "                )\n",
    "            ]['revenue'],\n",
    "        )[1]\n",
    "    )\n",
    ")\n",
    "\n",
    "print(\n",
    "    \"{0:.3f}\".format(\n",
    "        orders[\n",
    "            np.logical_and(\n",
    "                orders['group'] == 'B',\n",
    "                np.logical_not(orders['visitor_id'].isin(abnormalUsers)),\n",
    "            )\n",
    "        ]['revenue'].mean()\n",
    "        / orders[\n",
    "            np.logical_and(\n",
    "                orders['group'] == 'A',\n",
    "                np.logical_not(orders['visitor_id'].isin(abnormalUsers)),\n",
    "            )\n",
    "        ]['revenue'].mean()\n",
    "        - 1\n",
    "    )\n",
    ") "
   ]
  },
  {
   "cell_type": "markdown",
   "metadata": {},
   "source": [
    "P-value значительно больше 0.05. Значит, причин отвергать нулевую гипотезу и считать, что в среднем чеке есть различия, нет. Cредний чек группы B почти равен сумме среднего чека группы A. (разница в 2 %). Такое снижение вызванно отсутствием аномально дорогих заказов в данных. Результаты теста не дают нам отвергнуть нулевую теорию о равенстве средних чеков для групп А и В, следовательно тест по увеличению выручки не дает результатов."
   ]
  },
  {
   "cell_type": "markdown",
   "metadata": {},
   "source": [
    "##  Вывод"
   ]
  },
  {
   "cell_type": "markdown",
   "metadata": {},
   "source": [
    "Примите решение по результатам теста и объясните его. Варианты решений:\n",
    "1. Остановить тест, зафиксировать победу одной из групп.\n",
    "2. Остановить тест, зафиксировать отсутствие различий между группами.\n",
    "3. Продолжить тест."
   ]
  },
  {
   "cell_type": "markdown",
   "metadata": {},
   "source": [
    "Перед проведение А/В теста провели предобработку данных:\n",
    "- привели названия столбцов к нижнему и змеиному регистрам,\n",
    "- проверили на наличие пропусков и дубликатов.\n",
    "\n",
    "Построили следующие графики:\n",
    "\n",
    "- график кумулятивной выручки по дням для групп А и В:\n",
    "\n",
    "Выручка почти равномерно увеличивается в течение всего теста.\n",
    "График выручки группы В резко растет 18 августа. Это может быть связано или с ростом числа заказов, или с появлении очень дорогих заказов в выборке. В целом выручка в группе В выше выручки в группе А.\n",
    "\n",
    "\n",
    "- график среднего чека по дням для групп А и В:\n",
    "\n",
    "Средняя выручка для группы А стала стабильной 15 августа и имеет слабый рост к концу теста. Средняя выручка группы В имеет скачок 18 августа и дальнейшее слабое снижение. Всплеск средней выручки в группе В может быть связан с наличием крупных или дорогих заказов в середине теста.\n",
    "\n",
    " \n",
    "- график отсительного изменение кумулятивного среднего чека группы B к группе A:\n",
    "\n",
    "В начале теста группа B значительно проигрывала группе A, затем вырвалась вперёд. Потом её конверсия к группе А снова падала, но затем резко возросла и со значения 0.5 начала плавное снижение. В целом по такому графику какие-либо выводы по тесту нельзя.\n",
    "\n",
    "- график накопленного среднего количества заказов на посетителя для групп А и В:\n",
    "\n",
    "В начале теста наблюдаются сильные колебания графиков. С 06 августа накопленное среднее число заказов на поситителя группы А стало снижаться, а группы В увеличиваться. К концу теста графики стабилизировались и значение группы А составило 0.03, а группы В 0.035, что на 16,6% выше. Возможно, мероприятия по увеличению выручки магазина привели к ее увеличению.\n",
    "\n",
    "\n",
    "- график относительного изменения кумулятивного среднего количества заказов на одного поситителя группы B к группе A:\n",
    "\n",
    "До 6 августа наблюдается колебание графика. После конверсия группы В к группе А резко возрастает и с середины теста начинает плавно снижаться до значения в 0.14 к концу теста. Это так же дает нап право предположить об успешности А/В теста.\n",
    "\n",
    "- точечный график количества заказов по пользователям:\n",
    "\n",
    "Большинство покупателей совершает 1 заказ. Но количество покупателей с 2-4 заказами тоже велико. Так же наблюдаем некоторое количество покупателей с заказами более 10. Предположим, что наличие пользователей, совершивших более 4 заказов, подтверждает всплеск выручки в середине теста.\n",
    "\n",
    "\n",
    "Посчитали 95-й и 99-й перцентили количества заказов на пользователя. Не более 10% пользователей совершали более 1 заказа. Не болееь 5% совершали более 2 заказов. И только 1% совершал более 4 заказов. Выберем 2 заказа на одного пользователя за верхнюю границу числа заказов, что бы отсеять аномальных пользователей по ней.\n",
    "\n",
    "\n",
    "- точечный график стоимостей заказов:\n",
    "\n",
    "Большинство заказов имеют стоимость ниже 50 000, имеем некоторое количество заказов выше 50 000 и аномально большие закары со стоимостью примерно 200 000 и более 1 200 000, эти дорогие заказы могли повлиять на наше тестирование, спровацировав всплеск в группе В с середине тестирования\n",
    "\n",
    "Посчитали 95-й и 99-й перцентили стоимости заказов. Не более 10% заказов имеют стоимость более 18168. Не болееь 5% имеют стоимость более 28000. И только 1% заказов имеют стоимость более 58233.2. Выберем стоимость заказа равную 28000 заказа за верхнюю границу.\n",
    "\n",
    "\n",
    "Посчитали статистическую значимость различий в среднем количестве заказов на посетителя между группами А и В по «сырым» данным и «очищенным» данным:\n",
    "\n",
    "- «сырые» данные: p-value = 0.017; относительный прирост = 13.8%\n",
    "- «очищенные»: p-value = 0.013; относительный прирост = 17,3%\n",
    "\n",
    "Статистический тест по «очищенным» данным подтверждает результат теста по \"сырым\" и говорит нам о том, что с вероятностью 98,696 среднее число заказов группы В выше чем группы А на 17,3 %. Следовательно, можно говорить о том, что нулевая гипотеза о равенстве среднего количества заказов не подтвердиласть.\n",
    "\n",
    "\n",
    "\n",
    "Посчитали статистическую значимость различий в среднем чеке заказов группами А и В по «сырым» данным и «очищенным» данным:\n",
    "\n",
    "- «сырые» данные: p-value = 0.729; относительный прирост = 25.9%\n",
    "- «очищенные»: p-value = 0.738; относительный прирост = -2%\n",
    "\n",
    "P-value значительно больше 0.05. Значит, причин отвергать нулевую гипотезу и считать, что в среднем чеке есть различия, нет. Но, средний чек группы B на 25.9% выше среднего чека группы A, что быть обусловлено наличием \"дорогих\" заказов.\n",
    "0.729\n",
    "0.259\n",
    "\n",
    "P-value в обоих случаях значительно больше 0.05. Значит, причин отвергать нулевую гипотезу и считать, что в среднем чеке есть различия, нет.Cредний чек группы B выше суммы среднего чека группы A для «сырых» данных из за наличия аноиально дорогих заказов.  Cредний чек группы B почти равен сумме среднего чека группы A. (разница в 2 %) для «очищенных» данных. \n",
    "\n",
    "Исходя из вышеперечисленного, следует остановить тест, и зафиксировать различие между группами А и В по среднему количестве заказов."
   ]
  }
 ],
 "metadata": {
  "ExecuteTimeLog": [
   {
    "duration": 4,
    "start_time": "2023-02-27T06:07:42.987Z"
   },
   {
    "duration": 36,
    "start_time": "2023-02-27T06:07:43.440Z"
   },
   {
    "duration": 4,
    "start_time": "2023-02-27T06:08:04.019Z"
   },
   {
    "duration": 39,
    "start_time": "2023-02-27T06:08:04.411Z"
   },
   {
    "duration": 3,
    "start_time": "2023-02-27T06:15:00.614Z"
   },
   {
    "duration": 4,
    "start_time": "2023-02-27T06:15:42.399Z"
   },
   {
    "duration": 4,
    "start_time": "2023-02-27T06:15:45.684Z"
   },
   {
    "duration": 33,
    "start_time": "2023-02-27T06:15:46.008Z"
   },
   {
    "duration": 105,
    "start_time": "2023-02-27T06:26:17.548Z"
   },
   {
    "duration": 7,
    "start_time": "2023-02-27T06:26:27.649Z"
   },
   {
    "duration": 11,
    "start_time": "2023-02-27T06:27:05.080Z"
   },
   {
    "duration": 10,
    "start_time": "2023-02-27T06:27:22.082Z"
   },
   {
    "duration": 9,
    "start_time": "2023-02-27T06:27:38.666Z"
   },
   {
    "duration": 5,
    "start_time": "2023-02-27T06:29:51.366Z"
   },
   {
    "duration": 11,
    "start_time": "2023-02-27T06:29:52.402Z"
   },
   {
    "duration": 5,
    "start_time": "2023-02-27T06:30:48.065Z"
   },
   {
    "duration": 11,
    "start_time": "2023-02-27T06:30:48.883Z"
   },
   {
    "duration": 7,
    "start_time": "2023-02-27T06:30:50.484Z"
   },
   {
    "duration": 9,
    "start_time": "2023-02-27T06:30:52.298Z"
   },
   {
    "duration": 22,
    "start_time": "2023-02-27T06:30:59.837Z"
   },
   {
    "duration": 11,
    "start_time": "2023-02-27T06:34:31.368Z"
   },
   {
    "duration": 1180,
    "start_time": "2023-02-27T06:34:39.117Z"
   },
   {
    "duration": 39,
    "start_time": "2023-02-27T06:34:40.300Z"
   },
   {
    "duration": 11,
    "start_time": "2023-02-27T06:34:40.341Z"
   },
   {
    "duration": 28,
    "start_time": "2023-02-27T06:34:40.356Z"
   },
   {
    "duration": 8,
    "start_time": "2023-02-27T06:34:40.386Z"
   },
   {
    "duration": 13,
    "start_time": "2023-02-27T06:34:40.396Z"
   },
   {
    "duration": 1376,
    "start_time": "2023-02-27T08:46:01.787Z"
   },
   {
    "duration": 102,
    "start_time": "2023-02-27T08:46:03.166Z"
   },
   {
    "duration": 5,
    "start_time": "2023-02-27T08:46:03.270Z"
   },
   {
    "duration": 13,
    "start_time": "2023-02-27T08:46:03.277Z"
   },
   {
    "duration": 7,
    "start_time": "2023-02-27T08:46:03.292Z"
   },
   {
    "duration": 12,
    "start_time": "2023-02-27T08:46:03.300Z"
   },
   {
    "duration": 66,
    "start_time": "2023-02-27T08:46:03.314Z"
   },
   {
    "duration": 71,
    "start_time": "2023-02-27T08:46:03.382Z"
   },
   {
    "duration": 115,
    "start_time": "2023-02-27T08:46:34.353Z"
   },
   {
    "duration": 10,
    "start_time": "2023-02-27T08:46:34.696Z"
   },
   {
    "duration": 21,
    "start_time": "2023-02-27T08:46:35.158Z"
   },
   {
    "duration": 5,
    "start_time": "2023-02-27T09:23:30.569Z"
   },
   {
    "duration": 11,
    "start_time": "2023-02-27T09:23:35.219Z"
   },
   {
    "duration": 11,
    "start_time": "2023-02-27T09:24:34.062Z"
   },
   {
    "duration": 53,
    "start_time": "2023-02-27T09:24:56.485Z"
   },
   {
    "duration": 12,
    "start_time": "2023-02-27T09:25:01.727Z"
   },
   {
    "duration": 13,
    "start_time": "2023-02-27T09:25:21.731Z"
   },
   {
    "duration": 15,
    "start_time": "2023-02-27T09:25:38.046Z"
   },
   {
    "duration": 12,
    "start_time": "2023-02-27T09:26:19.965Z"
   },
   {
    "duration": 93,
    "start_time": "2023-02-27T09:27:03.896Z"
   },
   {
    "duration": 8,
    "start_time": "2023-02-27T09:27:11.805Z"
   },
   {
    "duration": 10,
    "start_time": "2023-02-27T09:27:26.433Z"
   },
   {
    "duration": 14,
    "start_time": "2023-02-27T09:28:07.868Z"
   },
   {
    "duration": 11,
    "start_time": "2023-02-27T09:28:28.993Z"
   },
   {
    "duration": 8,
    "start_time": "2023-02-27T09:29:08.860Z"
   },
   {
    "duration": 12,
    "start_time": "2023-02-27T09:29:20.730Z"
   },
   {
    "duration": 24,
    "start_time": "2023-02-27T09:30:38.325Z"
   },
   {
    "duration": 23,
    "start_time": "2023-02-27T09:33:54.070Z"
   },
   {
    "duration": 11,
    "start_time": "2023-02-27T09:34:26.397Z"
   },
   {
    "duration": 10,
    "start_time": "2023-02-27T09:35:05.275Z"
   },
   {
    "duration": 10,
    "start_time": "2023-02-27T09:35:27.086Z"
   },
   {
    "duration": 10,
    "start_time": "2023-02-27T09:35:34.770Z"
   },
   {
    "duration": 24,
    "start_time": "2023-02-27T09:36:36.563Z"
   },
   {
    "duration": 22,
    "start_time": "2023-02-27T09:37:57.360Z"
   },
   {
    "duration": 63,
    "start_time": "2023-02-27T09:42:00.971Z"
   },
   {
    "duration": 22,
    "start_time": "2023-02-27T09:42:13.385Z"
   },
   {
    "duration": 23,
    "start_time": "2023-02-27T09:42:33.493Z"
   },
   {
    "duration": 156,
    "start_time": "2023-02-27T09:43:17.087Z"
   },
   {
    "duration": 12,
    "start_time": "2023-02-27T09:44:28.167Z"
   },
   {
    "duration": 11,
    "start_time": "2023-02-27T09:49:11.925Z"
   },
   {
    "duration": 6,
    "start_time": "2023-02-27T09:53:03.675Z"
   },
   {
    "duration": 10,
    "start_time": "2023-02-27T09:53:17.030Z"
   },
   {
    "duration": 8,
    "start_time": "2023-02-27T09:53:37.808Z"
   },
   {
    "duration": 10,
    "start_time": "2023-02-27T09:54:03.420Z"
   },
   {
    "duration": 8,
    "start_time": "2023-02-27T10:25:52.429Z"
   },
   {
    "duration": 4,
    "start_time": "2023-02-27T10:26:01.585Z"
   },
   {
    "duration": 12,
    "start_time": "2023-02-27T10:29:05.583Z"
   },
   {
    "duration": 11,
    "start_time": "2023-02-27T10:29:10.853Z"
   },
   {
    "duration": 14,
    "start_time": "2023-02-27T10:29:28.105Z"
   },
   {
    "duration": 10,
    "start_time": "2023-02-27T10:29:59.655Z"
   },
   {
    "duration": 14,
    "start_time": "2023-02-27T10:30:21.055Z"
   },
   {
    "duration": 14,
    "start_time": "2023-02-27T10:30:50.127Z"
   },
   {
    "duration": 1064,
    "start_time": "2023-02-27T10:30:58.633Z"
   },
   {
    "duration": 34,
    "start_time": "2023-02-27T10:30:59.699Z"
   },
   {
    "duration": 4,
    "start_time": "2023-02-27T10:30:59.735Z"
   },
   {
    "duration": 25,
    "start_time": "2023-02-27T10:30:59.741Z"
   },
   {
    "duration": 8,
    "start_time": "2023-02-27T10:30:59.768Z"
   },
   {
    "duration": 24,
    "start_time": "2023-02-27T10:30:59.778Z"
   },
   {
    "duration": 83,
    "start_time": "2023-02-27T10:30:59.804Z"
   },
   {
    "duration": 9,
    "start_time": "2023-02-27T10:30:59.889Z"
   },
   {
    "duration": 24,
    "start_time": "2023-02-27T10:30:59.900Z"
   },
   {
    "duration": 16,
    "start_time": "2023-02-27T10:30:59.927Z"
   },
   {
    "duration": 18,
    "start_time": "2023-02-27T10:30:59.944Z"
   },
   {
    "duration": 29,
    "start_time": "2023-02-27T10:30:59.964Z"
   },
   {
    "duration": 30,
    "start_time": "2023-02-27T10:30:59.994Z"
   },
   {
    "duration": 117,
    "start_time": "2023-02-27T10:31:00.026Z"
   },
   {
    "duration": 0,
    "start_time": "2023-02-27T10:31:00.145Z"
   },
   {
    "duration": 61,
    "start_time": "2023-02-27T10:31:34.469Z"
   },
   {
    "duration": 42,
    "start_time": "2023-02-27T10:31:39.665Z"
   },
   {
    "duration": 52,
    "start_time": "2023-02-27T10:31:48.558Z"
   },
   {
    "duration": 26,
    "start_time": "2023-02-27T10:33:07.822Z"
   },
   {
    "duration": 4,
    "start_time": "2023-02-27T10:33:35.186Z"
   },
   {
    "duration": 15,
    "start_time": "2023-02-27T10:33:37.364Z"
   },
   {
    "duration": 11,
    "start_time": "2023-02-27T10:33:43.167Z"
   },
   {
    "duration": 14,
    "start_time": "2023-02-27T10:35:26.217Z"
   },
   {
    "duration": 210,
    "start_time": "2023-02-27T10:35:42.068Z"
   },
   {
    "duration": 198,
    "start_time": "2023-02-27T10:35:56.280Z"
   },
   {
    "duration": 13,
    "start_time": "2023-02-27T10:36:04.701Z"
   },
   {
    "duration": 5,
    "start_time": "2023-02-27T10:36:38.142Z"
   },
   {
    "duration": 5,
    "start_time": "2023-02-27T10:37:57.488Z"
   },
   {
    "duration": 1074,
    "start_time": "2023-02-27T10:38:20.217Z"
   },
   {
    "duration": 34,
    "start_time": "2023-02-27T10:38:21.293Z"
   },
   {
    "duration": 5,
    "start_time": "2023-02-27T10:38:21.329Z"
   },
   {
    "duration": 10,
    "start_time": "2023-02-27T10:38:21.336Z"
   },
   {
    "duration": 7,
    "start_time": "2023-02-27T10:38:21.347Z"
   },
   {
    "duration": 13,
    "start_time": "2023-02-27T10:38:21.355Z"
   },
   {
    "duration": 56,
    "start_time": "2023-02-27T10:38:21.370Z"
   },
   {
    "duration": 8,
    "start_time": "2023-02-27T10:38:21.427Z"
   },
   {
    "duration": 12,
    "start_time": "2023-02-27T10:38:21.436Z"
   },
   {
    "duration": 9,
    "start_time": "2023-02-27T10:38:21.451Z"
   },
   {
    "duration": 15,
    "start_time": "2023-02-27T10:38:21.462Z"
   },
   {
    "duration": 18,
    "start_time": "2023-02-27T10:38:21.478Z"
   },
   {
    "duration": 16,
    "start_time": "2023-02-27T10:38:21.498Z"
   },
   {
    "duration": 13,
    "start_time": "2023-02-27T10:38:21.515Z"
   },
   {
    "duration": 113,
    "start_time": "2023-02-27T10:38:21.529Z"
   },
   {
    "duration": 0,
    "start_time": "2023-02-27T10:38:21.644Z"
   },
   {
    "duration": 4,
    "start_time": "2023-02-27T10:38:55.872Z"
   },
   {
    "duration": 4,
    "start_time": "2023-02-27T10:38:57.825Z"
   },
   {
    "duration": 1084,
    "start_time": "2023-02-27T10:39:03.197Z"
   },
   {
    "duration": 35,
    "start_time": "2023-02-27T10:39:04.283Z"
   },
   {
    "duration": 5,
    "start_time": "2023-02-27T10:39:04.320Z"
   },
   {
    "duration": 11,
    "start_time": "2023-02-27T10:39:04.327Z"
   },
   {
    "duration": 5,
    "start_time": "2023-02-27T10:39:04.340Z"
   },
   {
    "duration": 11,
    "start_time": "2023-02-27T10:39:04.346Z"
   },
   {
    "duration": 53,
    "start_time": "2023-02-27T10:39:04.359Z"
   },
   {
    "duration": 7,
    "start_time": "2023-02-27T10:39:04.415Z"
   },
   {
    "duration": 13,
    "start_time": "2023-02-27T10:39:04.424Z"
   },
   {
    "duration": 11,
    "start_time": "2023-02-27T10:39:04.438Z"
   },
   {
    "duration": 11,
    "start_time": "2023-02-27T10:39:04.450Z"
   },
   {
    "duration": 7,
    "start_time": "2023-02-27T10:39:04.462Z"
   },
   {
    "duration": 5,
    "start_time": "2023-02-27T10:39:04.471Z"
   },
   {
    "duration": 13,
    "start_time": "2023-02-27T10:39:04.478Z"
   },
   {
    "duration": 119,
    "start_time": "2023-02-27T10:39:04.493Z"
   },
   {
    "duration": 0,
    "start_time": "2023-02-27T10:39:04.613Z"
   },
   {
    "duration": 3,
    "start_time": "2023-02-27T10:43:51.725Z"
   },
   {
    "duration": 12,
    "start_time": "2023-02-27T10:43:59.253Z"
   },
   {
    "duration": 14,
    "start_time": "2023-02-27T10:45:30.391Z"
   },
   {
    "duration": 14,
    "start_time": "2023-02-27T10:45:42.713Z"
   },
   {
    "duration": 1167,
    "start_time": "2023-02-27T10:46:04.731Z"
   },
   {
    "duration": 37,
    "start_time": "2023-02-27T10:46:05.900Z"
   },
   {
    "duration": 5,
    "start_time": "2023-02-27T10:46:05.939Z"
   },
   {
    "duration": 13,
    "start_time": "2023-02-27T10:46:05.946Z"
   },
   {
    "duration": 9,
    "start_time": "2023-02-27T10:46:05.961Z"
   },
   {
    "duration": 38,
    "start_time": "2023-02-27T10:46:05.972Z"
   },
   {
    "duration": 56,
    "start_time": "2023-02-27T10:46:06.013Z"
   },
   {
    "duration": 9,
    "start_time": "2023-02-27T10:46:06.071Z"
   },
   {
    "duration": 25,
    "start_time": "2023-02-27T10:46:06.082Z"
   },
   {
    "duration": 14,
    "start_time": "2023-02-27T10:46:06.109Z"
   },
   {
    "duration": 25,
    "start_time": "2023-02-27T10:46:06.125Z"
   },
   {
    "duration": 21,
    "start_time": "2023-02-27T10:46:06.152Z"
   },
   {
    "duration": 7,
    "start_time": "2023-02-27T10:46:06.175Z"
   },
   {
    "duration": 17,
    "start_time": "2023-02-27T10:46:06.185Z"
   },
   {
    "duration": 142,
    "start_time": "2023-02-27T10:46:06.208Z"
   },
   {
    "duration": 0,
    "start_time": "2023-02-27T10:46:06.352Z"
   },
   {
    "duration": 4,
    "start_time": "2023-02-27T10:46:55.116Z"
   },
   {
    "duration": 15,
    "start_time": "2023-02-27T10:46:55.979Z"
   },
   {
    "duration": 1103,
    "start_time": "2023-02-27T10:47:20.949Z"
   },
   {
    "duration": 34,
    "start_time": "2023-02-27T10:47:22.054Z"
   },
   {
    "duration": 8,
    "start_time": "2023-02-27T10:47:22.089Z"
   },
   {
    "duration": 34,
    "start_time": "2023-02-27T10:47:22.099Z"
   },
   {
    "duration": 5,
    "start_time": "2023-02-27T10:47:22.135Z"
   },
   {
    "duration": 12,
    "start_time": "2023-02-27T10:47:22.142Z"
   },
   {
    "duration": 64,
    "start_time": "2023-02-27T10:47:22.155Z"
   },
   {
    "duration": 8,
    "start_time": "2023-02-27T10:47:22.221Z"
   },
   {
    "duration": 16,
    "start_time": "2023-02-27T10:47:22.231Z"
   },
   {
    "duration": 10,
    "start_time": "2023-02-27T10:47:22.248Z"
   },
   {
    "duration": 20,
    "start_time": "2023-02-27T10:47:22.260Z"
   },
   {
    "duration": 5,
    "start_time": "2023-02-27T10:47:22.281Z"
   },
   {
    "duration": 37,
    "start_time": "2023-02-27T10:47:22.288Z"
   },
   {
    "duration": 12,
    "start_time": "2023-02-27T10:47:22.327Z"
   },
   {
    "duration": 121,
    "start_time": "2023-02-27T10:47:22.340Z"
   },
   {
    "duration": 0,
    "start_time": "2023-02-27T10:47:22.463Z"
   },
   {
    "duration": 5,
    "start_time": "2023-02-27T10:48:20.940Z"
   },
   {
    "duration": 162,
    "start_time": "2023-02-27T10:48:40.160Z"
   },
   {
    "duration": 18,
    "start_time": "2023-02-27T10:48:43.592Z"
   },
   {
    "duration": 12,
    "start_time": "2023-02-27T10:50:17.616Z"
   },
   {
    "duration": 9,
    "start_time": "2023-02-27T10:50:21.386Z"
   },
   {
    "duration": 7,
    "start_time": "2023-02-27T10:50:46.426Z"
   },
   {
    "duration": 10,
    "start_time": "2023-02-27T10:53:11.574Z"
   },
   {
    "duration": 6,
    "start_time": "2023-02-27T10:53:33.038Z"
   },
   {
    "duration": 14,
    "start_time": "2023-02-27T10:53:45.109Z"
   },
   {
    "duration": 8,
    "start_time": "2023-02-27T10:55:55.635Z"
   },
   {
    "duration": 203,
    "start_time": "2023-02-27T10:56:14.483Z"
   },
   {
    "duration": 173,
    "start_time": "2023-02-27T10:56:47.260Z"
   },
   {
    "duration": 171,
    "start_time": "2023-02-27T10:57:18.458Z"
   },
   {
    "duration": 9,
    "start_time": "2023-02-27T10:57:22.335Z"
   },
   {
    "duration": 2,
    "start_time": "2023-02-27T10:57:34.755Z"
   },
   {
    "duration": 2,
    "start_time": "2023-02-27T10:57:37.560Z"
   },
   {
    "duration": 159,
    "start_time": "2023-02-27T10:57:39.421Z"
   },
   {
    "duration": 3,
    "start_time": "2023-02-27T10:57:40.887Z"
   },
   {
    "duration": 197,
    "start_time": "2023-02-27T10:57:46.433Z"
   },
   {
    "duration": 14,
    "start_time": "2023-02-27T10:57:47.154Z"
   },
   {
    "duration": 11,
    "start_time": "2023-02-27T11:15:13.019Z"
   },
   {
    "duration": 21,
    "start_time": "2023-02-27T11:16:20.455Z"
   },
   {
    "duration": 19,
    "start_time": "2023-02-27T11:16:43.727Z"
   },
   {
    "duration": 19,
    "start_time": "2023-02-27T11:16:58.237Z"
   },
   {
    "duration": 21,
    "start_time": "2023-02-27T11:17:15.763Z"
   },
   {
    "duration": 19,
    "start_time": "2023-02-27T11:18:59.184Z"
   },
   {
    "duration": 103,
    "start_time": "2023-02-27T11:19:45.324Z"
   },
   {
    "duration": 51,
    "start_time": "2023-02-27T11:20:04.470Z"
   },
   {
    "duration": 102,
    "start_time": "2023-02-27T11:20:08.252Z"
   },
   {
    "duration": 126,
    "start_time": "2023-02-27T11:20:20.188Z"
   },
   {
    "duration": 13,
    "start_time": "2023-02-27T11:20:20.636Z"
   },
   {
    "duration": 9,
    "start_time": "2023-02-27T11:23:37.916Z"
   },
   {
    "duration": 15,
    "start_time": "2023-02-27T11:23:42.309Z"
   },
   {
    "duration": 7,
    "start_time": "2023-02-27T11:24:03.931Z"
   },
   {
    "duration": 13,
    "start_time": "2023-02-27T11:24:05.689Z"
   },
   {
    "duration": 220,
    "start_time": "2023-02-27T11:24:31.493Z"
   },
   {
    "duration": 246,
    "start_time": "2023-02-27T11:25:18.932Z"
   },
   {
    "duration": 1109,
    "start_time": "2023-02-27T11:25:24.322Z"
   },
   {
    "duration": 39,
    "start_time": "2023-02-27T11:25:25.434Z"
   },
   {
    "duration": 7,
    "start_time": "2023-02-27T11:25:25.475Z"
   },
   {
    "duration": 14,
    "start_time": "2023-02-27T11:25:25.484Z"
   },
   {
    "duration": 5,
    "start_time": "2023-02-27T11:25:25.501Z"
   },
   {
    "duration": 19,
    "start_time": "2023-02-27T11:25:25.509Z"
   },
   {
    "duration": 52,
    "start_time": "2023-02-27T11:25:25.530Z"
   },
   {
    "duration": 8,
    "start_time": "2023-02-27T11:25:25.584Z"
   },
   {
    "duration": 13,
    "start_time": "2023-02-27T11:25:25.594Z"
   },
   {
    "duration": 8,
    "start_time": "2023-02-27T11:25:25.609Z"
   },
   {
    "duration": 11,
    "start_time": "2023-02-27T11:25:25.618Z"
   },
   {
    "duration": 7,
    "start_time": "2023-02-27T11:25:25.630Z"
   },
   {
    "duration": 8,
    "start_time": "2023-02-27T11:25:25.638Z"
   },
   {
    "duration": 5,
    "start_time": "2023-02-27T11:25:25.649Z"
   },
   {
    "duration": 39,
    "start_time": "2023-02-27T11:25:25.656Z"
   },
   {
    "duration": 5,
    "start_time": "2023-02-27T11:25:25.697Z"
   },
   {
    "duration": 8,
    "start_time": "2023-02-27T11:25:25.703Z"
   },
   {
    "duration": 10,
    "start_time": "2023-02-27T11:25:25.712Z"
   },
   {
    "duration": 210,
    "start_time": "2023-02-27T11:25:25.724Z"
   },
   {
    "duration": 14,
    "start_time": "2023-02-27T11:25:25.936Z"
   },
   {
    "duration": 141,
    "start_time": "2023-02-27T11:25:25.952Z"
   },
   {
    "duration": 12,
    "start_time": "2023-02-27T11:25:26.095Z"
   },
   {
    "duration": 430,
    "start_time": "2023-02-27T11:25:26.109Z"
   },
   {
    "duration": 18,
    "start_time": "2023-02-27T11:25:39.114Z"
   },
   {
    "duration": 1072,
    "start_time": "2023-02-27T11:26:48.037Z"
   },
   {
    "duration": 37,
    "start_time": "2023-02-27T11:26:49.112Z"
   },
   {
    "duration": 4,
    "start_time": "2023-02-27T11:26:49.151Z"
   },
   {
    "duration": 10,
    "start_time": "2023-02-27T11:26:49.157Z"
   },
   {
    "duration": 4,
    "start_time": "2023-02-27T11:26:49.168Z"
   },
   {
    "duration": 11,
    "start_time": "2023-02-27T11:26:49.173Z"
   },
   {
    "duration": 53,
    "start_time": "2023-02-27T11:26:49.185Z"
   },
   {
    "duration": 7,
    "start_time": "2023-02-27T11:26:49.239Z"
   },
   {
    "duration": 12,
    "start_time": "2023-02-27T11:26:49.247Z"
   },
   {
    "duration": 8,
    "start_time": "2023-02-27T11:26:49.260Z"
   },
   {
    "duration": 12,
    "start_time": "2023-02-27T11:26:49.269Z"
   },
   {
    "duration": 6,
    "start_time": "2023-02-27T11:26:49.282Z"
   },
   {
    "duration": 19,
    "start_time": "2023-02-27T11:26:49.289Z"
   },
   {
    "duration": 5,
    "start_time": "2023-02-27T11:26:49.310Z"
   },
   {
    "duration": 4,
    "start_time": "2023-02-27T11:26:49.317Z"
   },
   {
    "duration": 5,
    "start_time": "2023-02-27T11:26:49.322Z"
   },
   {
    "duration": 7,
    "start_time": "2023-02-27T11:26:49.328Z"
   },
   {
    "duration": 9,
    "start_time": "2023-02-27T11:26:49.336Z"
   },
   {
    "duration": 176,
    "start_time": "2023-02-27T11:26:49.346Z"
   },
   {
    "duration": 9,
    "start_time": "2023-02-27T11:26:49.524Z"
   },
   {
    "duration": 106,
    "start_time": "2023-02-27T11:26:49.535Z"
   },
   {
    "duration": 9,
    "start_time": "2023-02-27T11:26:49.643Z"
   },
   {
    "duration": 13,
    "start_time": "2023-02-27T11:26:49.653Z"
   },
   {
    "duration": 15,
    "start_time": "2023-02-27T11:26:58.002Z"
   },
   {
    "duration": 13,
    "start_time": "2023-02-27T11:27:44.364Z"
   },
   {
    "duration": 10,
    "start_time": "2023-02-27T11:27:47.440Z"
   },
   {
    "duration": 4,
    "start_time": "2023-02-27T11:31:06.037Z"
   },
   {
    "duration": 195,
    "start_time": "2023-02-27T11:31:27.784Z"
   },
   {
    "duration": 149,
    "start_time": "2023-02-27T11:31:34.903Z"
   },
   {
    "duration": 249,
    "start_time": "2023-02-27T11:31:47.083Z"
   },
   {
    "duration": 170,
    "start_time": "2023-02-27T11:31:58.986Z"
   },
   {
    "duration": 50,
    "start_time": "2023-02-27T14:32:43.421Z"
   },
   {
    "duration": 1293,
    "start_time": "2023-02-27T14:33:16.120Z"
   },
   {
    "duration": 69,
    "start_time": "2023-02-27T14:33:17.415Z"
   },
   {
    "duration": 5,
    "start_time": "2023-02-27T14:33:17.486Z"
   },
   {
    "duration": 8,
    "start_time": "2023-02-27T14:33:17.492Z"
   },
   {
    "duration": 11,
    "start_time": "2023-02-27T14:33:17.502Z"
   },
   {
    "duration": 26,
    "start_time": "2023-02-27T14:33:17.514Z"
   },
   {
    "duration": 127,
    "start_time": "2023-02-27T14:33:17.541Z"
   },
   {
    "duration": 7,
    "start_time": "2023-02-27T14:33:17.670Z"
   },
   {
    "duration": 11,
    "start_time": "2023-02-27T14:33:17.679Z"
   },
   {
    "duration": 10,
    "start_time": "2023-02-27T14:33:17.692Z"
   },
   {
    "duration": 12,
    "start_time": "2023-02-27T14:33:17.703Z"
   },
   {
    "duration": 6,
    "start_time": "2023-02-27T14:33:17.717Z"
   },
   {
    "duration": 7,
    "start_time": "2023-02-27T14:33:17.724Z"
   },
   {
    "duration": 6,
    "start_time": "2023-02-27T14:33:17.734Z"
   },
   {
    "duration": 5,
    "start_time": "2023-02-27T14:33:17.742Z"
   },
   {
    "duration": 7,
    "start_time": "2023-02-27T14:33:17.749Z"
   },
   {
    "duration": 8,
    "start_time": "2023-02-27T14:33:17.757Z"
   },
   {
    "duration": 11,
    "start_time": "2023-02-27T14:33:17.767Z"
   },
   {
    "duration": 161,
    "start_time": "2023-02-27T14:33:17.811Z"
   },
   {
    "duration": 10,
    "start_time": "2023-02-27T14:33:17.974Z"
   },
   {
    "duration": 111,
    "start_time": "2023-02-27T14:33:17.986Z"
   },
   {
    "duration": 17,
    "start_time": "2023-02-27T14:33:18.099Z"
   },
   {
    "duration": 12,
    "start_time": "2023-02-27T14:33:18.118Z"
   },
   {
    "duration": 11,
    "start_time": "2023-02-27T14:33:18.131Z"
   },
   {
    "duration": 5,
    "start_time": "2023-02-27T14:33:18.144Z"
   },
   {
    "duration": 134,
    "start_time": "2023-02-27T14:33:18.150Z"
   },
   {
    "duration": 6,
    "start_time": "2023-02-27T14:34:11.634Z"
   },
   {
    "duration": 250,
    "start_time": "2023-02-27T14:34:12.079Z"
   },
   {
    "duration": 242,
    "start_time": "2023-02-27T14:35:37.892Z"
   },
   {
    "duration": 229,
    "start_time": "2023-02-27T14:35:43.869Z"
   },
   {
    "duration": 11,
    "start_time": "2023-02-27T14:36:28.030Z"
   },
   {
    "duration": 226,
    "start_time": "2023-02-27T14:37:14.864Z"
   },
   {
    "duration": 281,
    "start_time": "2023-02-27T14:37:21.804Z"
   },
   {
    "duration": 271,
    "start_time": "2023-02-27T14:40:24.133Z"
   },
   {
    "duration": 76,
    "start_time": "2023-02-27T14:40:37.649Z"
   },
   {
    "duration": 292,
    "start_time": "2023-02-27T14:40:42.929Z"
   },
   {
    "duration": 339,
    "start_time": "2023-02-27T14:40:49.244Z"
   },
   {
    "duration": 274,
    "start_time": "2023-02-27T14:42:55.452Z"
   },
   {
    "duration": 272,
    "start_time": "2023-02-27T14:43:04.448Z"
   },
   {
    "duration": 153,
    "start_time": "2023-02-27T14:43:18.823Z"
   },
   {
    "duration": 275,
    "start_time": "2023-02-27T14:43:37.449Z"
   },
   {
    "duration": 261,
    "start_time": "2023-02-27T14:43:48.600Z"
   },
   {
    "duration": 343,
    "start_time": "2023-02-27T14:45:16.381Z"
   },
   {
    "duration": 278,
    "start_time": "2023-02-27T14:45:26.503Z"
   },
   {
    "duration": 257,
    "start_time": "2023-02-27T14:45:33.144Z"
   },
   {
    "duration": 253,
    "start_time": "2023-02-27T14:46:28.354Z"
   },
   {
    "duration": 331,
    "start_time": "2023-02-27T14:49:23.434Z"
   },
   {
    "duration": 271,
    "start_time": "2023-02-27T14:49:33.270Z"
   },
   {
    "duration": 263,
    "start_time": "2023-02-27T14:50:18.514Z"
   },
   {
    "duration": 265,
    "start_time": "2023-02-27T14:56:28.881Z"
   },
   {
    "duration": 259,
    "start_time": "2023-02-27T14:56:33.448Z"
   },
   {
    "duration": 265,
    "start_time": "2023-02-27T14:56:47.968Z"
   },
   {
    "duration": 267,
    "start_time": "2023-02-27T14:56:53.243Z"
   },
   {
    "duration": 270,
    "start_time": "2023-02-27T14:57:03.871Z"
   },
   {
    "duration": 138,
    "start_time": "2023-02-27T15:01:04.148Z"
   },
   {
    "duration": 296,
    "start_time": "2023-02-27T15:01:31.818Z"
   },
   {
    "duration": 264,
    "start_time": "2023-02-27T15:02:17.196Z"
   },
   {
    "duration": 339,
    "start_time": "2023-02-27T15:02:33.079Z"
   },
   {
    "duration": 272,
    "start_time": "2023-02-27T15:04:39.358Z"
   },
   {
    "duration": 267,
    "start_time": "2023-02-27T15:04:54.568Z"
   },
   {
    "duration": 320,
    "start_time": "2023-02-27T15:10:16.627Z"
   },
   {
    "duration": 313,
    "start_time": "2023-02-27T15:10:43.509Z"
   },
   {
    "duration": 1135,
    "start_time": "2023-02-27T15:15:18.051Z"
   },
   {
    "duration": 31,
    "start_time": "2023-02-27T15:15:19.188Z"
   },
   {
    "duration": 5,
    "start_time": "2023-02-27T15:15:19.220Z"
   },
   {
    "duration": 8,
    "start_time": "2023-02-27T15:15:19.227Z"
   },
   {
    "duration": 5,
    "start_time": "2023-02-27T15:15:19.236Z"
   },
   {
    "duration": 10,
    "start_time": "2023-02-27T15:15:19.242Z"
   },
   {
    "duration": 43,
    "start_time": "2023-02-27T15:15:19.253Z"
   },
   {
    "duration": 7,
    "start_time": "2023-02-27T15:15:19.298Z"
   },
   {
    "duration": 16,
    "start_time": "2023-02-27T15:15:19.307Z"
   },
   {
    "duration": 17,
    "start_time": "2023-02-27T15:15:19.325Z"
   },
   {
    "duration": 14,
    "start_time": "2023-02-27T15:15:19.344Z"
   },
   {
    "duration": 11,
    "start_time": "2023-02-27T15:15:19.359Z"
   },
   {
    "duration": 5,
    "start_time": "2023-02-27T15:15:19.371Z"
   },
   {
    "duration": 7,
    "start_time": "2023-02-27T15:15:19.377Z"
   },
   {
    "duration": 5,
    "start_time": "2023-02-27T15:15:19.386Z"
   },
   {
    "duration": 8,
    "start_time": "2023-02-27T15:15:19.392Z"
   },
   {
    "duration": 16,
    "start_time": "2023-02-27T15:15:19.401Z"
   },
   {
    "duration": 12,
    "start_time": "2023-02-27T15:15:19.418Z"
   },
   {
    "duration": 167,
    "start_time": "2023-02-27T15:15:19.432Z"
   },
   {
    "duration": 14,
    "start_time": "2023-02-27T15:15:19.600Z"
   },
   {
    "duration": 117,
    "start_time": "2023-02-27T15:15:19.615Z"
   },
   {
    "duration": 16,
    "start_time": "2023-02-27T15:15:19.733Z"
   },
   {
    "duration": 29,
    "start_time": "2023-02-27T15:15:19.750Z"
   },
   {
    "duration": 13,
    "start_time": "2023-02-27T15:15:19.781Z"
   },
   {
    "duration": 12,
    "start_time": "2023-02-27T15:15:19.796Z"
   },
   {
    "duration": 307,
    "start_time": "2023-02-27T15:15:19.810Z"
   },
   {
    "duration": 267,
    "start_time": "2023-02-27T15:21:37.794Z"
   },
   {
    "duration": 357,
    "start_time": "2023-02-27T15:22:09.437Z"
   },
   {
    "duration": 269,
    "start_time": "2023-02-27T15:22:18.935Z"
   },
   {
    "duration": 318,
    "start_time": "2023-02-27T15:22:44.760Z"
   },
   {
    "duration": 369,
    "start_time": "2023-02-27T15:23:26.660Z"
   },
   {
    "duration": 390,
    "start_time": "2023-02-27T15:30:04.164Z"
   },
   {
    "duration": 7,
    "start_time": "2023-02-27T15:31:55.200Z"
   },
   {
    "duration": 10,
    "start_time": "2023-02-27T15:31:59.136Z"
   },
   {
    "duration": 332,
    "start_time": "2023-02-27T16:09:02.469Z"
   },
   {
    "duration": 100,
    "start_time": "2023-02-27T16:12:14.949Z"
   },
   {
    "duration": 432,
    "start_time": "2023-02-27T16:12:18.938Z"
   },
   {
    "duration": 413,
    "start_time": "2023-02-27T16:12:31.325Z"
   },
   {
    "duration": 445,
    "start_time": "2023-02-27T16:12:53.558Z"
   },
   {
    "duration": 432,
    "start_time": "2023-02-27T16:13:21.485Z"
   },
   {
    "duration": 410,
    "start_time": "2023-02-27T16:13:46.167Z"
   },
   {
    "duration": 394,
    "start_time": "2023-02-27T16:15:13.433Z"
   },
   {
    "duration": 415,
    "start_time": "2023-02-27T16:15:48.504Z"
   },
   {
    "duration": 1422,
    "start_time": "2023-03-01T07:39:08.675Z"
   },
   {
    "duration": 101,
    "start_time": "2023-03-01T07:39:10.099Z"
   },
   {
    "duration": 8,
    "start_time": "2023-03-01T07:39:10.202Z"
   },
   {
    "duration": 38,
    "start_time": "2023-03-01T07:39:10.212Z"
   },
   {
    "duration": 8,
    "start_time": "2023-03-01T07:39:10.252Z"
   },
   {
    "duration": 35,
    "start_time": "2023-03-01T07:39:10.262Z"
   },
   {
    "duration": 150,
    "start_time": "2023-03-01T07:39:10.299Z"
   },
   {
    "duration": 7,
    "start_time": "2023-03-01T07:39:10.451Z"
   },
   {
    "duration": 23,
    "start_time": "2023-03-01T07:39:10.460Z"
   },
   {
    "duration": 10,
    "start_time": "2023-03-01T07:39:10.486Z"
   },
   {
    "duration": 14,
    "start_time": "2023-03-01T07:39:10.497Z"
   },
   {
    "duration": 11,
    "start_time": "2023-03-01T07:39:10.513Z"
   },
   {
    "duration": 24,
    "start_time": "2023-03-01T07:39:10.527Z"
   },
   {
    "duration": 8,
    "start_time": "2023-03-01T07:39:10.553Z"
   },
   {
    "duration": 17,
    "start_time": "2023-03-01T07:39:10.563Z"
   },
   {
    "duration": 11,
    "start_time": "2023-03-01T07:39:10.582Z"
   },
   {
    "duration": 9,
    "start_time": "2023-03-01T07:39:10.595Z"
   },
   {
    "duration": 11,
    "start_time": "2023-03-01T07:39:10.605Z"
   },
   {
    "duration": 169,
    "start_time": "2023-03-01T07:39:10.618Z"
   },
   {
    "duration": 10,
    "start_time": "2023-03-01T07:39:10.789Z"
   },
   {
    "duration": 131,
    "start_time": "2023-03-01T07:39:10.801Z"
   },
   {
    "duration": 17,
    "start_time": "2023-03-01T07:39:10.947Z"
   },
   {
    "duration": 14,
    "start_time": "2023-03-01T07:39:10.965Z"
   },
   {
    "duration": 16,
    "start_time": "2023-03-01T07:39:10.980Z"
   },
   {
    "duration": 8,
    "start_time": "2023-03-01T07:39:10.998Z"
   },
   {
    "duration": 349,
    "start_time": "2023-03-01T07:39:11.007Z"
   },
   {
    "duration": 325,
    "start_time": "2023-03-01T07:39:11.357Z"
   },
   {
    "duration": 433,
    "start_time": "2023-03-01T07:39:11.685Z"
   },
   {
    "duration": 13,
    "start_time": "2023-03-01T08:00:38.056Z"
   },
   {
    "duration": 11,
    "start_time": "2023-03-01T08:03:30.061Z"
   },
   {
    "duration": 15,
    "start_time": "2023-03-01T08:04:44.399Z"
   },
   {
    "duration": 12,
    "start_time": "2023-03-01T08:17:02.157Z"
   },
   {
    "duration": 6,
    "start_time": "2023-03-01T08:19:15.395Z"
   },
   {
    "duration": 346,
    "start_time": "2023-03-01T08:20:19.846Z"
   },
   {
    "duration": 75,
    "start_time": "2023-03-01T08:21:06.254Z"
   },
   {
    "duration": 346,
    "start_time": "2023-03-01T08:21:27.829Z"
   },
   {
    "duration": 422,
    "start_time": "2023-03-01T08:22:12.322Z"
   },
   {
    "duration": 402,
    "start_time": "2023-03-01T08:29:31.486Z"
   },
   {
    "duration": 9,
    "start_time": "2023-03-01T08:31:39.276Z"
   },
   {
    "duration": 1546,
    "start_time": "2023-03-01T08:39:15.377Z"
   },
   {
    "duration": 411,
    "start_time": "2023-03-01T08:39:42.357Z"
   },
   {
    "duration": 475,
    "start_time": "2023-03-01T08:40:28.519Z"
   },
   {
    "duration": 10,
    "start_time": "2023-03-01T08:55:25.490Z"
   },
   {
    "duration": 131,
    "start_time": "2023-03-01T08:55:47.969Z"
   },
   {
    "duration": 15,
    "start_time": "2023-03-01T08:57:14.645Z"
   },
   {
    "duration": 1598,
    "start_time": "2023-03-01T08:58:05.268Z"
   },
   {
    "duration": 19,
    "start_time": "2023-03-01T08:58:26.443Z"
   },
   {
    "duration": 9,
    "start_time": "2023-03-01T08:58:57.219Z"
   },
   {
    "duration": 9,
    "start_time": "2023-03-01T08:59:07.360Z"
   },
   {
    "duration": 9,
    "start_time": "2023-03-01T09:00:58.971Z"
   },
   {
    "duration": 8,
    "start_time": "2023-03-01T09:01:13.493Z"
   },
   {
    "duration": 137,
    "start_time": "2023-03-01T09:04:24.862Z"
   },
   {
    "duration": 137,
    "start_time": "2023-03-01T09:04:51.208Z"
   },
   {
    "duration": 153,
    "start_time": "2023-03-01T09:05:55.312Z"
   },
   {
    "duration": 142,
    "start_time": "2023-03-01T09:06:02.102Z"
   },
   {
    "duration": 136,
    "start_time": "2023-03-01T09:06:06.259Z"
   },
   {
    "duration": 18,
    "start_time": "2023-03-01T09:06:38.830Z"
   },
   {
    "duration": 19,
    "start_time": "2023-03-01T09:06:42.632Z"
   },
   {
    "duration": 134,
    "start_time": "2023-03-01T09:06:59.074Z"
   },
   {
    "duration": 208,
    "start_time": "2023-03-01T09:07:06.889Z"
   },
   {
    "duration": 13,
    "start_time": "2023-03-01T09:07:34.803Z"
   },
   {
    "duration": 134,
    "start_time": "2023-03-01T09:08:07.177Z"
   },
   {
    "duration": 137,
    "start_time": "2023-03-01T09:08:20.266Z"
   },
   {
    "duration": 6,
    "start_time": "2023-03-01T09:10:09.901Z"
   },
   {
    "duration": 12,
    "start_time": "2023-03-01T09:10:14.059Z"
   },
   {
    "duration": 12,
    "start_time": "2023-03-01T09:13:00.966Z"
   },
   {
    "duration": 94,
    "start_time": "2023-03-01T09:13:21.090Z"
   },
   {
    "duration": 16,
    "start_time": "2023-03-01T09:14:01.363Z"
   },
   {
    "duration": 18,
    "start_time": "2023-03-01T09:14:14.945Z"
   },
   {
    "duration": 13,
    "start_time": "2023-03-01T09:14:26.393Z"
   },
   {
    "duration": 16,
    "start_time": "2023-03-01T09:14:41.430Z"
   },
   {
    "duration": 11,
    "start_time": "2023-03-01T09:15:52.349Z"
   },
   {
    "duration": 12,
    "start_time": "2023-03-01T09:16:00.796Z"
   },
   {
    "duration": 27,
    "start_time": "2023-03-01T09:16:18.040Z"
   },
   {
    "duration": 107,
    "start_time": "2023-03-01T09:19:45.178Z"
   },
   {
    "duration": 127,
    "start_time": "2023-03-01T09:20:35.090Z"
   },
   {
    "duration": 129,
    "start_time": "2023-03-01T09:20:49.684Z"
   },
   {
    "duration": 140,
    "start_time": "2023-03-01T09:21:00.652Z"
   },
   {
    "duration": 1159,
    "start_time": "2023-03-01T09:29:56.543Z"
   },
   {
    "duration": 31,
    "start_time": "2023-03-01T09:29:57.704Z"
   },
   {
    "duration": 5,
    "start_time": "2023-03-01T09:29:57.737Z"
   },
   {
    "duration": 16,
    "start_time": "2023-03-01T09:29:57.744Z"
   },
   {
    "duration": 13,
    "start_time": "2023-03-01T09:29:57.761Z"
   },
   {
    "duration": 21,
    "start_time": "2023-03-01T09:29:57.775Z"
   },
   {
    "duration": 52,
    "start_time": "2023-03-01T09:29:57.798Z"
   },
   {
    "duration": 8,
    "start_time": "2023-03-01T09:29:57.852Z"
   },
   {
    "duration": 13,
    "start_time": "2023-03-01T09:29:57.862Z"
   },
   {
    "duration": 9,
    "start_time": "2023-03-01T09:29:57.878Z"
   },
   {
    "duration": 10,
    "start_time": "2023-03-01T09:29:57.889Z"
   },
   {
    "duration": 8,
    "start_time": "2023-03-01T09:29:57.900Z"
   },
   {
    "duration": 8,
    "start_time": "2023-03-01T09:29:57.909Z"
   },
   {
    "duration": 20,
    "start_time": "2023-03-01T09:29:57.918Z"
   },
   {
    "duration": 6,
    "start_time": "2023-03-01T09:29:57.939Z"
   },
   {
    "duration": 7,
    "start_time": "2023-03-01T09:29:57.946Z"
   },
   {
    "duration": 7,
    "start_time": "2023-03-01T09:29:57.955Z"
   },
   {
    "duration": 11,
    "start_time": "2023-03-01T09:29:57.964Z"
   },
   {
    "duration": 185,
    "start_time": "2023-03-01T09:29:57.976Z"
   },
   {
    "duration": 14,
    "start_time": "2023-03-01T09:29:58.163Z"
   },
   {
    "duration": 70,
    "start_time": "2023-03-01T09:29:58.179Z"
   },
   {
    "duration": 0,
    "start_time": "2023-03-01T09:29:58.251Z"
   },
   {
    "duration": 0,
    "start_time": "2023-03-01T09:29:58.252Z"
   },
   {
    "duration": 0,
    "start_time": "2023-03-01T09:29:58.253Z"
   },
   {
    "duration": 0,
    "start_time": "2023-03-01T09:29:58.254Z"
   },
   {
    "duration": 0,
    "start_time": "2023-03-01T09:29:58.255Z"
   },
   {
    "duration": 0,
    "start_time": "2023-03-01T09:29:58.256Z"
   },
   {
    "duration": 0,
    "start_time": "2023-03-01T09:29:58.257Z"
   },
   {
    "duration": 0,
    "start_time": "2023-03-01T09:29:58.258Z"
   },
   {
    "duration": 0,
    "start_time": "2023-03-01T09:29:58.259Z"
   },
   {
    "duration": 0,
    "start_time": "2023-03-01T09:29:58.261Z"
   },
   {
    "duration": 0,
    "start_time": "2023-03-01T09:29:58.262Z"
   },
   {
    "duration": 0,
    "start_time": "2023-03-01T09:29:58.263Z"
   },
   {
    "duration": 0,
    "start_time": "2023-03-01T09:29:58.264Z"
   },
   {
    "duration": 0,
    "start_time": "2023-03-01T09:29:58.265Z"
   },
   {
    "duration": 0,
    "start_time": "2023-03-01T09:29:58.266Z"
   },
   {
    "duration": 1237,
    "start_time": "2023-03-01T09:35:18.417Z"
   },
   {
    "duration": 31,
    "start_time": "2023-03-01T09:35:19.657Z"
   },
   {
    "duration": 5,
    "start_time": "2023-03-01T09:35:19.689Z"
   },
   {
    "duration": 11,
    "start_time": "2023-03-01T09:35:19.696Z"
   },
   {
    "duration": 8,
    "start_time": "2023-03-01T09:35:19.710Z"
   },
   {
    "duration": 21,
    "start_time": "2023-03-01T09:35:19.719Z"
   },
   {
    "duration": 40,
    "start_time": "2023-03-01T09:35:19.742Z"
   },
   {
    "duration": 8,
    "start_time": "2023-03-01T09:35:19.784Z"
   },
   {
    "duration": 13,
    "start_time": "2023-03-01T09:35:19.793Z"
   },
   {
    "duration": 11,
    "start_time": "2023-03-01T09:35:19.808Z"
   },
   {
    "duration": 11,
    "start_time": "2023-03-01T09:35:19.821Z"
   },
   {
    "duration": 7,
    "start_time": "2023-03-01T09:35:19.834Z"
   },
   {
    "duration": 7,
    "start_time": "2023-03-01T09:35:19.843Z"
   },
   {
    "duration": 12,
    "start_time": "2023-03-01T09:35:19.852Z"
   },
   {
    "duration": 11,
    "start_time": "2023-03-01T09:35:19.865Z"
   },
   {
    "duration": 6,
    "start_time": "2023-03-01T09:35:19.878Z"
   },
   {
    "duration": 18,
    "start_time": "2023-03-01T09:35:19.886Z"
   },
   {
    "duration": 12,
    "start_time": "2023-03-01T09:35:19.907Z"
   },
   {
    "duration": 172,
    "start_time": "2023-03-01T09:35:19.921Z"
   },
   {
    "duration": 11,
    "start_time": "2023-03-01T09:35:20.095Z"
   },
   {
    "duration": 118,
    "start_time": "2023-03-01T09:35:20.108Z"
   },
   {
    "duration": 0,
    "start_time": "2023-03-01T09:35:20.228Z"
   },
   {
    "duration": 0,
    "start_time": "2023-03-01T09:35:20.229Z"
   },
   {
    "duration": 0,
    "start_time": "2023-03-01T09:35:20.230Z"
   },
   {
    "duration": 0,
    "start_time": "2023-03-01T09:35:20.232Z"
   },
   {
    "duration": 0,
    "start_time": "2023-03-01T09:35:20.233Z"
   },
   {
    "duration": 0,
    "start_time": "2023-03-01T09:35:20.234Z"
   },
   {
    "duration": 0,
    "start_time": "2023-03-01T09:35:20.235Z"
   },
   {
    "duration": 0,
    "start_time": "2023-03-01T09:35:20.236Z"
   },
   {
    "duration": 0,
    "start_time": "2023-03-01T09:35:20.237Z"
   },
   {
    "duration": 0,
    "start_time": "2023-03-01T09:35:20.238Z"
   },
   {
    "duration": 0,
    "start_time": "2023-03-01T09:35:20.239Z"
   },
   {
    "duration": 0,
    "start_time": "2023-03-01T09:35:20.240Z"
   },
   {
    "duration": 0,
    "start_time": "2023-03-01T09:35:20.242Z"
   },
   {
    "duration": 0,
    "start_time": "2023-03-01T09:35:20.243Z"
   },
   {
    "duration": 0,
    "start_time": "2023-03-01T09:35:20.244Z"
   },
   {
    "duration": 77,
    "start_time": "2023-03-01T09:35:46.809Z"
   },
   {
    "duration": 72,
    "start_time": "2023-03-01T09:36:35.408Z"
   },
   {
    "duration": 127,
    "start_time": "2023-03-01T09:36:46.034Z"
   },
   {
    "duration": 116,
    "start_time": "2023-03-01T09:36:52.659Z"
   },
   {
    "duration": 1145,
    "start_time": "2023-03-01T09:37:06.008Z"
   },
   {
    "duration": 32,
    "start_time": "2023-03-01T09:37:07.155Z"
   },
   {
    "duration": 5,
    "start_time": "2023-03-01T09:37:07.189Z"
   },
   {
    "duration": 29,
    "start_time": "2023-03-01T09:37:07.196Z"
   },
   {
    "duration": 13,
    "start_time": "2023-03-01T09:37:07.227Z"
   },
   {
    "duration": 33,
    "start_time": "2023-03-01T09:37:07.242Z"
   },
   {
    "duration": 54,
    "start_time": "2023-03-01T09:37:07.277Z"
   },
   {
    "duration": 8,
    "start_time": "2023-03-01T09:37:07.332Z"
   },
   {
    "duration": 22,
    "start_time": "2023-03-01T09:37:07.341Z"
   },
   {
    "duration": 21,
    "start_time": "2023-03-01T09:37:07.365Z"
   },
   {
    "duration": 18,
    "start_time": "2023-03-01T09:37:07.388Z"
   },
   {
    "duration": 13,
    "start_time": "2023-03-01T09:37:07.408Z"
   },
   {
    "duration": 12,
    "start_time": "2023-03-01T09:37:07.422Z"
   },
   {
    "duration": 8,
    "start_time": "2023-03-01T09:37:07.438Z"
   },
   {
    "duration": 9,
    "start_time": "2023-03-01T09:37:07.448Z"
   },
   {
    "duration": 7,
    "start_time": "2023-03-01T09:37:07.459Z"
   },
   {
    "duration": 9,
    "start_time": "2023-03-01T09:37:07.467Z"
   },
   {
    "duration": 12,
    "start_time": "2023-03-01T09:37:07.477Z"
   },
   {
    "duration": 177,
    "start_time": "2023-03-01T09:37:07.490Z"
   },
   {
    "duration": 10,
    "start_time": "2023-03-01T09:37:07.669Z"
   },
   {
    "duration": 123,
    "start_time": "2023-03-01T09:37:07.680Z"
   },
   {
    "duration": 10,
    "start_time": "2023-03-01T09:37:07.805Z"
   },
   {
    "duration": 28,
    "start_time": "2023-03-01T09:37:07.817Z"
   },
   {
    "duration": 22,
    "start_time": "2023-03-01T09:37:07.847Z"
   },
   {
    "duration": 14,
    "start_time": "2023-03-01T09:37:07.871Z"
   },
   {
    "duration": 380,
    "start_time": "2023-03-01T09:37:07.886Z"
   },
   {
    "duration": 344,
    "start_time": "2023-03-01T09:37:08.268Z"
   },
   {
    "duration": 439,
    "start_time": "2023-03-01T09:37:08.614Z"
   },
   {
    "duration": 10,
    "start_time": "2023-03-01T09:37:09.055Z"
   },
   {
    "duration": 10,
    "start_time": "2023-03-01T09:37:09.066Z"
   },
   {
    "duration": 398,
    "start_time": "2023-03-01T09:37:09.078Z"
   },
   {
    "duration": 418,
    "start_time": "2023-03-01T09:37:09.478Z"
   },
   {
    "duration": 12,
    "start_time": "2023-03-01T09:37:09.898Z"
   },
   {
    "duration": 144,
    "start_time": "2023-03-01T09:37:09.912Z"
   },
   {
    "duration": 8,
    "start_time": "2023-03-01T09:37:10.058Z"
   },
   {
    "duration": 22,
    "start_time": "2023-03-01T09:37:10.068Z"
   },
   {
    "duration": 13,
    "start_time": "2023-03-01T09:38:11.783Z"
   },
   {
    "duration": 14,
    "start_time": "2023-03-01T09:38:24.527Z"
   },
   {
    "duration": 226,
    "start_time": "2023-03-01T09:39:27.589Z"
   },
   {
    "duration": 209,
    "start_time": "2023-03-01T09:39:47.384Z"
   },
   {
    "duration": 15,
    "start_time": "2023-03-01T09:40:15.527Z"
   },
   {
    "duration": 136,
    "start_time": "2023-03-01T09:40:16.936Z"
   },
   {
    "duration": 11,
    "start_time": "2023-03-01T09:41:03.772Z"
   },
   {
    "duration": 132,
    "start_time": "2023-03-01T09:43:36.319Z"
   },
   {
    "duration": 85,
    "start_time": "2023-03-01T09:44:03.568Z"
   },
   {
    "duration": 132,
    "start_time": "2023-03-01T09:44:11.642Z"
   },
   {
    "duration": 137,
    "start_time": "2023-03-01T09:46:39.570Z"
   },
   {
    "duration": 141,
    "start_time": "2023-03-01T09:46:47.402Z"
   },
   {
    "duration": 133,
    "start_time": "2023-03-01T09:47:02.562Z"
   },
   {
    "duration": 138,
    "start_time": "2023-03-01T09:47:17.947Z"
   },
   {
    "duration": 207,
    "start_time": "2023-03-01T09:48:31.902Z"
   },
   {
    "duration": 144,
    "start_time": "2023-03-01T09:48:57.510Z"
   },
   {
    "duration": 141,
    "start_time": "2023-03-01T09:49:07.850Z"
   },
   {
    "duration": 272,
    "start_time": "2023-03-01T09:49:49.334Z"
   },
   {
    "duration": 339,
    "start_time": "2023-03-01T09:53:01.903Z"
   },
   {
    "duration": 12,
    "start_time": "2023-03-01T09:53:34.362Z"
   },
   {
    "duration": 10,
    "start_time": "2023-03-01T09:53:38.753Z"
   },
   {
    "duration": 11,
    "start_time": "2023-03-01T09:54:12.914Z"
   },
   {
    "duration": 11,
    "start_time": "2023-03-01T09:54:34.694Z"
   },
   {
    "duration": 2,
    "start_time": "2023-03-01T09:54:42.676Z"
   },
   {
    "duration": 11,
    "start_time": "2023-03-01T09:54:43.427Z"
   },
   {
    "duration": 11,
    "start_time": "2023-03-01T09:54:50.906Z"
   },
   {
    "duration": 11,
    "start_time": "2023-03-01T09:54:53.734Z"
   },
   {
    "duration": 4,
    "start_time": "2023-03-01T09:55:43.705Z"
   },
   {
    "duration": 5,
    "start_time": "2023-03-01T09:55:58.314Z"
   },
   {
    "duration": 10,
    "start_time": "2023-03-01T09:56:05.047Z"
   },
   {
    "duration": 143,
    "start_time": "2023-03-01T09:56:15.488Z"
   },
   {
    "duration": 145,
    "start_time": "2023-03-01T09:56:21.304Z"
   },
   {
    "duration": 143,
    "start_time": "2023-03-01T09:56:35.763Z"
   },
   {
    "duration": 143,
    "start_time": "2023-03-01T09:56:46.544Z"
   },
   {
    "duration": 140,
    "start_time": "2023-03-01T09:58:11.885Z"
   },
   {
    "duration": 336,
    "start_time": "2023-03-01T10:03:08.478Z"
   },
   {
    "duration": 336,
    "start_time": "2023-03-01T10:03:18.759Z"
   },
   {
    "duration": 338,
    "start_time": "2023-03-01T10:03:21.007Z"
   },
   {
    "duration": 462,
    "start_time": "2023-03-01T10:03:30.509Z"
   },
   {
    "duration": 453,
    "start_time": "2023-03-01T10:03:40.116Z"
   },
   {
    "duration": 400,
    "start_time": "2023-03-01T10:03:50.082Z"
   },
   {
    "duration": 11,
    "start_time": "2023-03-01T10:05:09.573Z"
   },
   {
    "duration": 114,
    "start_time": "2023-03-01T10:05:19.926Z"
   },
   {
    "duration": 74,
    "start_time": "2023-03-01T10:05:22.857Z"
   },
   {
    "duration": 108,
    "start_time": "2023-03-01T10:05:44.650Z"
   },
   {
    "duration": 110,
    "start_time": "2023-03-01T10:05:48.838Z"
   },
   {
    "duration": 129,
    "start_time": "2023-03-01T10:05:57.734Z"
   },
   {
    "duration": 100,
    "start_time": "2023-03-01T10:06:06.843Z"
   },
   {
    "duration": 122,
    "start_time": "2023-03-01T10:06:24.295Z"
   },
   {
    "duration": 106,
    "start_time": "2023-03-01T10:06:39.105Z"
   },
   {
    "duration": 108,
    "start_time": "2023-03-01T10:06:42.520Z"
   },
   {
    "duration": 12,
    "start_time": "2023-03-01T10:07:38.046Z"
   },
   {
    "duration": 15,
    "start_time": "2023-03-01T10:07:42.517Z"
   },
   {
    "duration": 12,
    "start_time": "2023-03-01T10:07:47.597Z"
   },
   {
    "duration": 11,
    "start_time": "2023-03-01T10:09:11.336Z"
   },
   {
    "duration": 8,
    "start_time": "2023-03-01T10:09:15.367Z"
   },
   {
    "duration": 6,
    "start_time": "2023-03-01T10:10:22.066Z"
   },
   {
    "duration": 117,
    "start_time": "2023-03-01T10:10:30.956Z"
   },
   {
    "duration": 9,
    "start_time": "2023-03-01T10:10:49.287Z"
   },
   {
    "duration": 205,
    "start_time": "2023-03-01T10:11:00.407Z"
   },
   {
    "duration": 5,
    "start_time": "2023-03-01T10:11:51.929Z"
   },
   {
    "duration": 14,
    "start_time": "2023-03-01T10:33:35.743Z"
   },
   {
    "duration": 8,
    "start_time": "2023-03-01T10:33:54.968Z"
   },
   {
    "duration": 167,
    "start_time": "2023-03-01T10:34:16.544Z"
   },
   {
    "duration": 1167,
    "start_time": "2023-03-01T11:07:40.140Z"
   },
   {
    "duration": 32,
    "start_time": "2023-03-01T11:07:41.309Z"
   },
   {
    "duration": 5,
    "start_time": "2023-03-01T11:07:41.343Z"
   },
   {
    "duration": 11,
    "start_time": "2023-03-01T11:07:41.350Z"
   },
   {
    "duration": 7,
    "start_time": "2023-03-01T11:07:41.362Z"
   },
   {
    "duration": 14,
    "start_time": "2023-03-01T11:07:41.370Z"
   },
   {
    "duration": 48,
    "start_time": "2023-03-01T11:07:41.386Z"
   },
   {
    "duration": 7,
    "start_time": "2023-03-01T11:07:41.436Z"
   },
   {
    "duration": 17,
    "start_time": "2023-03-01T11:07:41.444Z"
   },
   {
    "duration": 10,
    "start_time": "2023-03-01T11:07:41.464Z"
   },
   {
    "duration": 12,
    "start_time": "2023-03-01T11:07:41.476Z"
   },
   {
    "duration": 8,
    "start_time": "2023-03-01T11:07:41.490Z"
   },
   {
    "duration": 6,
    "start_time": "2023-03-01T11:07:41.500Z"
   },
   {
    "duration": 30,
    "start_time": "2023-03-01T11:07:41.508Z"
   },
   {
    "duration": 5,
    "start_time": "2023-03-01T11:07:41.539Z"
   },
   {
    "duration": 8,
    "start_time": "2023-03-01T11:07:41.546Z"
   },
   {
    "duration": 12,
    "start_time": "2023-03-01T11:07:41.556Z"
   },
   {
    "duration": 12,
    "start_time": "2023-03-01T11:07:41.569Z"
   },
   {
    "duration": 185,
    "start_time": "2023-03-01T11:07:41.584Z"
   },
   {
    "duration": 10,
    "start_time": "2023-03-01T11:07:41.771Z"
   },
   {
    "duration": 127,
    "start_time": "2023-03-01T11:07:41.782Z"
   },
   {
    "duration": 14,
    "start_time": "2023-03-01T11:07:41.911Z"
   },
   {
    "duration": 20,
    "start_time": "2023-03-01T11:07:41.926Z"
   },
   {
    "duration": 14,
    "start_time": "2023-03-01T11:07:41.947Z"
   },
   {
    "duration": 8,
    "start_time": "2023-03-01T11:07:41.962Z"
   },
   {
    "duration": 374,
    "start_time": "2023-03-01T11:07:41.972Z"
   },
   {
    "duration": 340,
    "start_time": "2023-03-01T11:07:42.348Z"
   },
   {
    "duration": 473,
    "start_time": "2023-03-01T11:07:42.693Z"
   },
   {
    "duration": 10,
    "start_time": "2023-03-01T11:07:43.168Z"
   },
   {
    "duration": 8,
    "start_time": "2023-03-01T11:07:43.180Z"
   },
   {
    "duration": 419,
    "start_time": "2023-03-01T11:07:43.190Z"
   },
   {
    "duration": 469,
    "start_time": "2023-03-01T11:07:43.612Z"
   },
   {
    "duration": 16,
    "start_time": "2023-03-01T11:07:44.083Z"
   },
   {
    "duration": 152,
    "start_time": "2023-03-01T11:07:44.101Z"
   },
   {
    "duration": 181,
    "start_time": "2023-03-01T11:07:44.255Z"
   },
   {
    "duration": 4,
    "start_time": "2023-03-01T11:07:44.438Z"
   },
   {
    "duration": 14,
    "start_time": "2023-03-01T11:07:44.443Z"
   },
   {
    "duration": 256,
    "start_time": "2023-03-01T11:07:44.459Z"
   },
   {
    "duration": 71,
    "start_time": "2023-03-01T13:48:56.756Z"
   },
   {
    "duration": 6,
    "start_time": "2023-03-01T13:49:04.193Z"
   },
   {
    "duration": 8,
    "start_time": "2023-03-01T13:49:09.252Z"
   },
   {
    "duration": 1332,
    "start_time": "2023-03-01T13:49:16.978Z"
   },
   {
    "duration": 85,
    "start_time": "2023-03-01T13:49:18.313Z"
   },
   {
    "duration": 6,
    "start_time": "2023-03-01T13:49:18.400Z"
   },
   {
    "duration": 14,
    "start_time": "2023-03-01T13:49:18.408Z"
   },
   {
    "duration": 7,
    "start_time": "2023-03-01T13:49:18.424Z"
   },
   {
    "duration": 19,
    "start_time": "2023-03-01T13:49:18.433Z"
   },
   {
    "duration": 147,
    "start_time": "2023-03-01T13:49:18.454Z"
   },
   {
    "duration": 8,
    "start_time": "2023-03-01T13:49:18.602Z"
   },
   {
    "duration": 22,
    "start_time": "2023-03-01T13:49:18.612Z"
   },
   {
    "duration": 23,
    "start_time": "2023-03-01T13:49:18.638Z"
   },
   {
    "duration": 15,
    "start_time": "2023-03-01T13:49:18.662Z"
   },
   {
    "duration": 9,
    "start_time": "2023-03-01T13:49:18.678Z"
   },
   {
    "duration": 7,
    "start_time": "2023-03-01T13:49:18.689Z"
   },
   {
    "duration": 9,
    "start_time": "2023-03-01T13:49:18.697Z"
   },
   {
    "duration": 7,
    "start_time": "2023-03-01T13:49:18.707Z"
   },
   {
    "duration": 7,
    "start_time": "2023-03-01T13:49:18.715Z"
   },
   {
    "duration": 9,
    "start_time": "2023-03-01T13:49:18.723Z"
   },
   {
    "duration": 11,
    "start_time": "2023-03-01T13:49:18.734Z"
   },
   {
    "duration": 169,
    "start_time": "2023-03-01T13:49:18.746Z"
   },
   {
    "duration": 10,
    "start_time": "2023-03-01T13:49:18.917Z"
   },
   {
    "duration": 127,
    "start_time": "2023-03-01T13:49:18.930Z"
   },
   {
    "duration": 9,
    "start_time": "2023-03-01T13:49:19.059Z"
   },
   {
    "duration": 18,
    "start_time": "2023-03-01T13:49:19.069Z"
   },
   {
    "duration": 37,
    "start_time": "2023-03-01T13:49:19.089Z"
   },
   {
    "duration": 14,
    "start_time": "2023-03-01T13:49:19.128Z"
   },
   {
    "duration": 381,
    "start_time": "2023-03-01T13:49:19.144Z"
   },
   {
    "duration": 331,
    "start_time": "2023-03-01T13:49:19.528Z"
   },
   {
    "duration": 576,
    "start_time": "2023-03-01T13:49:19.862Z"
   },
   {
    "duration": 9,
    "start_time": "2023-03-01T13:49:20.441Z"
   },
   {
    "duration": 26,
    "start_time": "2023-03-01T13:49:20.451Z"
   },
   {
    "duration": 395,
    "start_time": "2023-03-01T13:49:20.478Z"
   },
   {
    "duration": 457,
    "start_time": "2023-03-01T13:49:20.875Z"
   },
   {
    "duration": 14,
    "start_time": "2023-03-01T13:49:21.335Z"
   },
   {
    "duration": 126,
    "start_time": "2023-03-01T13:49:21.350Z"
   },
   {
    "duration": 167,
    "start_time": "2023-03-01T13:49:21.478Z"
   },
   {
    "duration": 5,
    "start_time": "2023-03-01T13:49:21.647Z"
   },
   {
    "duration": 13,
    "start_time": "2023-03-01T13:49:21.653Z"
   },
   {
    "duration": 261,
    "start_time": "2023-03-01T13:49:21.667Z"
   },
   {
    "duration": 254,
    "start_time": "2023-03-01T13:49:33.034Z"
   },
   {
    "duration": 109,
    "start_time": "2023-03-01T13:51:08.957Z"
   },
   {
    "duration": 9,
    "start_time": "2023-03-01T13:51:24.127Z"
   },
   {
    "duration": 3,
    "start_time": "2023-03-01T13:55:06.648Z"
   },
   {
    "duration": 8,
    "start_time": "2023-03-01T14:18:22.508Z"
   },
   {
    "duration": 8,
    "start_time": "2023-03-01T14:18:24.574Z"
   },
   {
    "duration": 10,
    "start_time": "2023-03-01T14:19:13.611Z"
   },
   {
    "duration": 9,
    "start_time": "2023-03-01T14:19:26.904Z"
   },
   {
    "duration": 42,
    "start_time": "2023-03-01T14:21:50.546Z"
   },
   {
    "duration": 45,
    "start_time": "2023-03-01T14:22:07.127Z"
   },
   {
    "duration": 8,
    "start_time": "2023-03-01T14:22:45.983Z"
   },
   {
    "duration": 9,
    "start_time": "2023-03-01T14:22:52.182Z"
   },
   {
    "duration": 45,
    "start_time": "2023-03-01T14:25:18.663Z"
   },
   {
    "duration": 18,
    "start_time": "2023-03-01T14:25:58.881Z"
   },
   {
    "duration": 15,
    "start_time": "2023-03-01T14:29:16.015Z"
   },
   {
    "duration": 15,
    "start_time": "2023-03-01T14:29:27.278Z"
   },
   {
    "duration": 18,
    "start_time": "2023-03-01T14:30:15.743Z"
   },
   {
    "duration": 19,
    "start_time": "2023-03-01T14:31:27.814Z"
   },
   {
    "duration": 8,
    "start_time": "2023-03-01T14:32:26.362Z"
   },
   {
    "duration": 44,
    "start_time": "2023-03-01T14:33:21.011Z"
   },
   {
    "duration": 18,
    "start_time": "2023-03-01T14:34:10.496Z"
   },
   {
    "duration": 26,
    "start_time": "2023-03-01T14:35:43.715Z"
   },
   {
    "duration": 7,
    "start_time": "2023-03-01T14:36:37.457Z"
   },
   {
    "duration": 1165,
    "start_time": "2023-03-01T14:37:16.220Z"
   },
   {
    "duration": 34,
    "start_time": "2023-03-01T14:37:17.386Z"
   },
   {
    "duration": 6,
    "start_time": "2023-03-01T14:37:17.421Z"
   },
   {
    "duration": 14,
    "start_time": "2023-03-01T14:37:17.429Z"
   },
   {
    "duration": 6,
    "start_time": "2023-03-01T14:37:17.445Z"
   },
   {
    "duration": 12,
    "start_time": "2023-03-01T14:37:17.453Z"
   },
   {
    "duration": 52,
    "start_time": "2023-03-01T14:37:17.467Z"
   },
   {
    "duration": 7,
    "start_time": "2023-03-01T14:37:17.520Z"
   },
   {
    "duration": 13,
    "start_time": "2023-03-01T14:37:17.529Z"
   },
   {
    "duration": 12,
    "start_time": "2023-03-01T14:37:17.545Z"
   },
   {
    "duration": 14,
    "start_time": "2023-03-01T14:37:17.558Z"
   },
   {
    "duration": 9,
    "start_time": "2023-03-01T14:37:17.574Z"
   },
   {
    "duration": 11,
    "start_time": "2023-03-01T14:37:17.584Z"
   },
   {
    "duration": 19,
    "start_time": "2023-03-01T14:37:17.596Z"
   },
   {
    "duration": 7,
    "start_time": "2023-03-01T14:37:17.617Z"
   },
   {
    "duration": 6,
    "start_time": "2023-03-01T14:37:17.626Z"
   },
   {
    "duration": 11,
    "start_time": "2023-03-01T14:37:17.633Z"
   },
   {
    "duration": 11,
    "start_time": "2023-03-01T14:37:17.645Z"
   },
   {
    "duration": 181,
    "start_time": "2023-03-01T14:37:17.657Z"
   },
   {
    "duration": 11,
    "start_time": "2023-03-01T14:37:17.840Z"
   },
   {
    "duration": 124,
    "start_time": "2023-03-01T14:37:17.852Z"
   },
   {
    "duration": 14,
    "start_time": "2023-03-01T14:37:17.978Z"
   },
   {
    "duration": 38,
    "start_time": "2023-03-01T14:37:17.994Z"
   },
   {
    "duration": 18,
    "start_time": "2023-03-01T14:37:18.033Z"
   },
   {
    "duration": 9,
    "start_time": "2023-03-01T14:37:18.053Z"
   },
   {
    "duration": 338,
    "start_time": "2023-03-01T14:37:18.064Z"
   },
   {
    "duration": 319,
    "start_time": "2023-03-01T14:37:18.404Z"
   },
   {
    "duration": 424,
    "start_time": "2023-03-01T14:37:18.726Z"
   },
   {
    "duration": 7,
    "start_time": "2023-03-01T14:37:19.152Z"
   },
   {
    "duration": 21,
    "start_time": "2023-03-01T14:37:19.161Z"
   },
   {
    "duration": 369,
    "start_time": "2023-03-01T14:37:19.184Z"
   },
   {
    "duration": 422,
    "start_time": "2023-03-01T14:37:19.555Z"
   },
   {
    "duration": 11,
    "start_time": "2023-03-01T14:37:19.978Z"
   },
   {
    "duration": 118,
    "start_time": "2023-03-01T14:37:19.990Z"
   },
   {
    "duration": 146,
    "start_time": "2023-03-01T14:37:20.114Z"
   },
   {
    "duration": 4,
    "start_time": "2023-03-01T14:37:20.262Z"
   },
   {
    "duration": 12,
    "start_time": "2023-03-01T14:37:20.267Z"
   },
   {
    "duration": 299,
    "start_time": "2023-03-01T14:37:20.281Z"
   },
   {
    "duration": 5,
    "start_time": "2023-03-01T14:37:20.581Z"
   },
   {
    "duration": 16,
    "start_time": "2023-03-01T14:37:20.587Z"
   },
   {
    "duration": 25,
    "start_time": "2023-03-01T14:37:20.604Z"
   },
   {
    "duration": 64,
    "start_time": "2023-03-01T14:37:20.631Z"
   },
   {
    "duration": 57,
    "start_time": "2023-03-01T14:37:20.697Z"
   },
   {
    "duration": 17,
    "start_time": "2023-03-01T14:37:20.756Z"
   },
   {
    "duration": 18,
    "start_time": "2023-03-01T14:37:20.774Z"
   },
   {
    "duration": 23,
    "start_time": "2023-03-01T14:37:20.793Z"
   },
   {
    "duration": 83,
    "start_time": "2023-03-01T14:37:20.818Z"
   },
   {
    "duration": 106,
    "start_time": "2023-03-01T14:37:20.902Z"
   },
   {
    "duration": 50,
    "start_time": "2023-03-01T14:38:18.602Z"
   },
   {
    "duration": 19,
    "start_time": "2023-03-01T14:38:59.963Z"
   },
   {
    "duration": 14,
    "start_time": "2023-03-01T14:39:05.113Z"
   },
   {
    "duration": 19,
    "start_time": "2023-03-01T14:39:43.190Z"
   },
   {
    "duration": 16,
    "start_time": "2023-03-01T14:40:24.400Z"
   },
   {
    "duration": 22,
    "start_time": "2023-03-01T14:42:51.202Z"
   },
   {
    "duration": 19,
    "start_time": "2023-03-01T14:42:56.905Z"
   },
   {
    "duration": 10,
    "start_time": "2023-03-01T14:42:57.529Z"
   },
   {
    "duration": 20,
    "start_time": "2023-03-01T14:53:53.768Z"
   },
   {
    "duration": 13,
    "start_time": "2023-03-01T14:54:05.168Z"
   },
   {
    "duration": 73,
    "start_time": "2023-03-01T14:55:07.552Z"
   },
   {
    "duration": 82,
    "start_time": "2023-03-01T14:55:39.180Z"
   },
   {
    "duration": 62,
    "start_time": "2023-03-01T14:55:53.881Z"
   },
   {
    "duration": 76,
    "start_time": "2023-03-01T14:55:57.223Z"
   },
   {
    "duration": 68,
    "start_time": "2023-03-01T14:56:10.278Z"
   },
   {
    "duration": 72,
    "start_time": "2023-03-01T14:56:24.925Z"
   },
   {
    "duration": 76,
    "start_time": "2023-03-01T14:56:53.225Z"
   },
   {
    "duration": 51,
    "start_time": "2023-03-02T07:09:16.020Z"
   },
   {
    "duration": 1502,
    "start_time": "2023-03-02T07:09:32.068Z"
   },
   {
    "duration": 83,
    "start_time": "2023-03-02T07:09:33.572Z"
   },
   {
    "duration": 6,
    "start_time": "2023-03-02T07:09:33.658Z"
   },
   {
    "duration": 10,
    "start_time": "2023-03-02T07:09:33.666Z"
   },
   {
    "duration": 7,
    "start_time": "2023-03-02T07:09:33.677Z"
   },
   {
    "duration": 12,
    "start_time": "2023-03-02T07:09:33.685Z"
   },
   {
    "duration": 132,
    "start_time": "2023-03-02T07:09:33.698Z"
   },
   {
    "duration": 8,
    "start_time": "2023-03-02T07:09:33.832Z"
   },
   {
    "duration": 16,
    "start_time": "2023-03-02T07:09:33.842Z"
   },
   {
    "duration": 14,
    "start_time": "2023-03-02T07:09:33.860Z"
   },
   {
    "duration": 48,
    "start_time": "2023-03-02T07:09:33.876Z"
   },
   {
    "duration": 18,
    "start_time": "2023-03-02T07:09:33.926Z"
   },
   {
    "duration": 35,
    "start_time": "2023-03-02T07:09:33.948Z"
   },
   {
    "duration": 34,
    "start_time": "2023-03-02T07:09:33.986Z"
   },
   {
    "duration": 22,
    "start_time": "2023-03-02T07:09:34.023Z"
   },
   {
    "duration": 17,
    "start_time": "2023-03-02T07:09:34.047Z"
   },
   {
    "duration": 128,
    "start_time": "2023-03-02T07:09:34.066Z"
   },
   {
    "duration": 28,
    "start_time": "2023-03-02T07:09:34.196Z"
   },
   {
    "duration": 303,
    "start_time": "2023-03-02T07:09:34.226Z"
   },
   {
    "duration": 13,
    "start_time": "2023-03-02T07:09:34.531Z"
   },
   {
    "duration": 126,
    "start_time": "2023-03-02T07:09:34.545Z"
   },
   {
    "duration": 22,
    "start_time": "2023-03-02T07:09:34.673Z"
   },
   {
    "duration": 19,
    "start_time": "2023-03-02T07:09:34.697Z"
   },
   {
    "duration": 28,
    "start_time": "2023-03-02T07:09:34.718Z"
   },
   {
    "duration": 17,
    "start_time": "2023-03-02T07:09:34.747Z"
   },
   {
    "duration": 390,
    "start_time": "2023-03-02T07:09:34.765Z"
   },
   {
    "duration": 367,
    "start_time": "2023-03-02T07:09:35.157Z"
   },
   {
    "duration": 518,
    "start_time": "2023-03-02T07:09:35.529Z"
   },
   {
    "duration": 9,
    "start_time": "2023-03-02T07:09:36.049Z"
   },
   {
    "duration": 50,
    "start_time": "2023-03-02T07:09:36.060Z"
   },
   {
    "duration": 457,
    "start_time": "2023-03-02T07:09:36.112Z"
   },
   {
    "duration": 443,
    "start_time": "2023-03-02T07:09:36.571Z"
   },
   {
    "duration": 11,
    "start_time": "2023-03-02T07:09:37.022Z"
   },
   {
    "duration": 145,
    "start_time": "2023-03-02T07:09:37.034Z"
   },
   {
    "duration": 158,
    "start_time": "2023-03-02T07:09:37.181Z"
   },
   {
    "duration": 5,
    "start_time": "2023-03-02T07:09:37.340Z"
   },
   {
    "duration": 18,
    "start_time": "2023-03-02T07:09:37.347Z"
   },
   {
    "duration": 295,
    "start_time": "2023-03-02T07:09:37.367Z"
   },
   {
    "duration": 4,
    "start_time": "2023-03-02T07:09:37.664Z"
   },
   {
    "duration": 11,
    "start_time": "2023-03-02T07:09:37.670Z"
   },
   {
    "duration": 10,
    "start_time": "2023-03-02T07:09:37.683Z"
   },
   {
    "duration": 77,
    "start_time": "2023-03-02T07:09:37.695Z"
   },
   {
    "duration": 55,
    "start_time": "2023-03-02T07:09:37.773Z"
   },
   {
    "duration": 24,
    "start_time": "2023-03-02T07:09:37.830Z"
   },
   {
    "duration": 25,
    "start_time": "2023-03-02T07:09:37.855Z"
   },
   {
    "duration": 66,
    "start_time": "2023-03-02T07:09:37.881Z"
   },
   {
    "duration": 51,
    "start_time": "2023-03-02T07:09:37.949Z"
   },
   {
    "duration": 43,
    "start_time": "2023-03-02T07:09:38.002Z"
   },
   {
    "duration": 10,
    "start_time": "2023-03-02T07:09:38.047Z"
   },
   {
    "duration": 16,
    "start_time": "2023-03-02T07:09:38.059Z"
   },
   {
    "duration": 116,
    "start_time": "2023-03-02T07:09:38.077Z"
   },
   {
    "duration": 85,
    "start_time": "2023-03-02T07:09:38.195Z"
   },
   {
    "duration": 5,
    "start_time": "2023-03-02T07:09:38.281Z"
   },
   {
    "duration": 7,
    "start_time": "2023-03-02T07:10:42.609Z"
   },
   {
    "duration": 8,
    "start_time": "2023-03-02T07:11:20.581Z"
   },
   {
    "duration": 6,
    "start_time": "2023-03-02T07:13:01.853Z"
   },
   {
    "duration": 96,
    "start_time": "2023-03-02T07:22:16.420Z"
   },
   {
    "duration": 12,
    "start_time": "2023-03-02T07:23:33.128Z"
   },
   {
    "duration": 1153,
    "start_time": "2023-03-02T07:23:42.255Z"
   },
   {
    "duration": 34,
    "start_time": "2023-03-02T07:23:43.410Z"
   },
   {
    "duration": 5,
    "start_time": "2023-03-02T07:23:43.446Z"
   },
   {
    "duration": 50,
    "start_time": "2023-03-02T07:23:43.452Z"
   },
   {
    "duration": 21,
    "start_time": "2023-03-02T07:23:43.504Z"
   },
   {
    "duration": 14,
    "start_time": "2023-03-02T07:23:43.527Z"
   },
   {
    "duration": 63,
    "start_time": "2023-03-02T07:23:43.543Z"
   },
   {
    "duration": 7,
    "start_time": "2023-03-02T07:23:43.608Z"
   },
   {
    "duration": 33,
    "start_time": "2023-03-02T07:23:43.617Z"
   },
   {
    "duration": 27,
    "start_time": "2023-03-02T07:23:43.652Z"
   },
   {
    "duration": 16,
    "start_time": "2023-03-02T07:23:43.681Z"
   },
   {
    "duration": 15,
    "start_time": "2023-03-02T07:23:43.699Z"
   },
   {
    "duration": 23,
    "start_time": "2023-03-02T07:23:43.715Z"
   },
   {
    "duration": 25,
    "start_time": "2023-03-02T07:23:43.741Z"
   },
   {
    "duration": 33,
    "start_time": "2023-03-02T07:23:43.768Z"
   },
   {
    "duration": 11,
    "start_time": "2023-03-02T07:23:43.803Z"
   },
   {
    "duration": 20,
    "start_time": "2023-03-02T07:23:43.816Z"
   },
   {
    "duration": 31,
    "start_time": "2023-03-02T07:23:43.838Z"
   },
   {
    "duration": 166,
    "start_time": "2023-03-02T07:23:43.870Z"
   },
   {
    "duration": 9,
    "start_time": "2023-03-02T07:23:44.038Z"
   },
   {
    "duration": 126,
    "start_time": "2023-03-02T07:23:44.049Z"
   },
   {
    "duration": 9,
    "start_time": "2023-03-02T07:23:44.177Z"
   },
   {
    "duration": 22,
    "start_time": "2023-03-02T07:23:44.187Z"
   },
   {
    "duration": 19,
    "start_time": "2023-03-02T07:23:44.211Z"
   },
   {
    "duration": 33,
    "start_time": "2023-03-02T07:23:44.232Z"
   },
   {
    "duration": 330,
    "start_time": "2023-03-02T07:23:44.266Z"
   },
   {
    "duration": 320,
    "start_time": "2023-03-02T07:23:44.598Z"
   },
   {
    "duration": 441,
    "start_time": "2023-03-02T07:23:44.919Z"
   },
   {
    "duration": 8,
    "start_time": "2023-03-02T07:23:45.361Z"
   },
   {
    "duration": 30,
    "start_time": "2023-03-02T07:23:45.371Z"
   },
   {
    "duration": 403,
    "start_time": "2023-03-02T07:23:45.402Z"
   },
   {
    "duration": 450,
    "start_time": "2023-03-02T07:23:45.807Z"
   },
   {
    "duration": 10,
    "start_time": "2023-03-02T07:23:46.258Z"
   },
   {
    "duration": 113,
    "start_time": "2023-03-02T07:23:46.270Z"
   },
   {
    "duration": 146,
    "start_time": "2023-03-02T07:23:46.384Z"
   },
   {
    "duration": 4,
    "start_time": "2023-03-02T07:23:46.532Z"
   },
   {
    "duration": 12,
    "start_time": "2023-03-02T07:23:46.538Z"
   },
   {
    "duration": 302,
    "start_time": "2023-03-02T07:23:46.551Z"
   },
   {
    "duration": 4,
    "start_time": "2023-03-02T07:23:46.854Z"
   },
   {
    "duration": 10,
    "start_time": "2023-03-02T07:23:46.860Z"
   },
   {
    "duration": 19,
    "start_time": "2023-03-02T07:23:46.873Z"
   },
   {
    "duration": 54,
    "start_time": "2023-03-02T07:23:46.894Z"
   },
   {
    "duration": 45,
    "start_time": "2023-03-02T07:23:46.949Z"
   },
   {
    "duration": 34,
    "start_time": "2023-03-02T07:23:46.995Z"
   },
   {
    "duration": 18,
    "start_time": "2023-03-02T07:23:47.030Z"
   },
   {
    "duration": 47,
    "start_time": "2023-03-02T07:23:47.049Z"
   },
   {
    "duration": 71,
    "start_time": "2023-03-02T07:23:47.098Z"
   },
   {
    "duration": 30,
    "start_time": "2023-03-02T07:23:47.171Z"
   },
   {
    "duration": 34,
    "start_time": "2023-03-02T07:23:47.202Z"
   },
   {
    "duration": 17,
    "start_time": "2023-03-02T07:23:47.237Z"
   },
   {
    "duration": 87,
    "start_time": "2023-03-02T07:23:47.256Z"
   },
   {
    "duration": 89,
    "start_time": "2023-03-02T07:23:47.345Z"
   },
   {
    "duration": 8,
    "start_time": "2023-03-02T07:23:47.436Z"
   },
   {
    "duration": 21,
    "start_time": "2023-03-02T07:23:47.446Z"
   },
   {
    "duration": 14,
    "start_time": "2023-03-02T07:23:47.469Z"
   },
   {
    "duration": 102,
    "start_time": "2023-03-02T07:23:47.484Z"
   },
   {
    "duration": 1150,
    "start_time": "2023-03-02T07:24:27.632Z"
   },
   {
    "duration": 34,
    "start_time": "2023-03-02T07:24:28.784Z"
   },
   {
    "duration": 5,
    "start_time": "2023-03-02T07:24:28.820Z"
   },
   {
    "duration": 10,
    "start_time": "2023-03-02T07:24:28.827Z"
   },
   {
    "duration": 6,
    "start_time": "2023-03-02T07:24:28.839Z"
   },
   {
    "duration": 19,
    "start_time": "2023-03-02T07:24:28.847Z"
   },
   {
    "duration": 57,
    "start_time": "2023-03-02T07:24:28.867Z"
   },
   {
    "duration": 7,
    "start_time": "2023-03-02T07:24:28.926Z"
   },
   {
    "duration": 13,
    "start_time": "2023-03-02T07:24:28.934Z"
   },
   {
    "duration": 14,
    "start_time": "2023-03-02T07:24:28.949Z"
   },
   {
    "duration": 13,
    "start_time": "2023-03-02T07:24:28.964Z"
   },
   {
    "duration": 12,
    "start_time": "2023-03-02T07:24:28.979Z"
   },
   {
    "duration": 30,
    "start_time": "2023-03-02T07:24:28.993Z"
   },
   {
    "duration": 5,
    "start_time": "2023-03-02T07:24:29.025Z"
   },
   {
    "duration": 9,
    "start_time": "2023-03-02T07:24:29.032Z"
   },
   {
    "duration": 5,
    "start_time": "2023-03-02T07:24:29.042Z"
   },
   {
    "duration": 8,
    "start_time": "2023-03-02T07:24:29.049Z"
   },
   {
    "duration": 19,
    "start_time": "2023-03-02T07:24:29.059Z"
   },
   {
    "duration": 172,
    "start_time": "2023-03-02T07:24:29.079Z"
   },
   {
    "duration": 11,
    "start_time": "2023-03-02T07:24:29.252Z"
   },
   {
    "duration": 142,
    "start_time": "2023-03-02T07:24:29.266Z"
   },
   {
    "duration": 16,
    "start_time": "2023-03-02T07:24:29.410Z"
   },
   {
    "duration": 16,
    "start_time": "2023-03-02T07:24:29.428Z"
   },
   {
    "duration": 19,
    "start_time": "2023-03-02T07:24:29.445Z"
   },
   {
    "duration": 10,
    "start_time": "2023-03-02T07:24:29.465Z"
   },
   {
    "duration": 340,
    "start_time": "2023-03-02T07:24:29.477Z"
   },
   {
    "duration": 351,
    "start_time": "2023-03-02T07:24:29.821Z"
   },
   {
    "duration": 409,
    "start_time": "2023-03-02T07:24:30.175Z"
   },
   {
    "duration": 8,
    "start_time": "2023-03-02T07:24:30.586Z"
   },
   {
    "duration": 83,
    "start_time": "2023-03-02T07:24:30.596Z"
   },
   {
    "duration": 484,
    "start_time": "2023-03-02T07:24:30.681Z"
   },
   {
    "duration": 403,
    "start_time": "2023-03-02T07:24:31.167Z"
   },
   {
    "duration": 10,
    "start_time": "2023-03-02T07:24:31.572Z"
   },
   {
    "duration": 199,
    "start_time": "2023-03-02T07:24:31.584Z"
   },
   {
    "duration": 177,
    "start_time": "2023-03-02T07:24:31.785Z"
   },
   {
    "duration": 4,
    "start_time": "2023-03-02T07:24:31.965Z"
   },
   {
    "duration": 38,
    "start_time": "2023-03-02T07:24:31.971Z"
   },
   {
    "duration": 316,
    "start_time": "2023-03-02T07:24:32.011Z"
   },
   {
    "duration": 5,
    "start_time": "2023-03-02T07:24:32.328Z"
   },
   {
    "duration": 26,
    "start_time": "2023-03-02T07:24:32.335Z"
   },
   {
    "duration": 29,
    "start_time": "2023-03-02T07:24:32.363Z"
   },
   {
    "duration": 53,
    "start_time": "2023-03-02T07:24:32.393Z"
   },
   {
    "duration": 64,
    "start_time": "2023-03-02T07:24:32.447Z"
   },
   {
    "duration": 17,
    "start_time": "2023-03-02T07:24:32.513Z"
   },
   {
    "duration": 42,
    "start_time": "2023-03-02T07:24:32.531Z"
   },
   {
    "duration": 63,
    "start_time": "2023-03-02T07:24:32.575Z"
   },
   {
    "duration": 58,
    "start_time": "2023-03-02T07:24:32.640Z"
   },
   {
    "duration": 56,
    "start_time": "2023-03-02T07:24:32.700Z"
   },
   {
    "duration": 21,
    "start_time": "2023-03-02T07:24:32.758Z"
   },
   {
    "duration": 38,
    "start_time": "2023-03-02T07:24:32.781Z"
   },
   {
    "duration": 103,
    "start_time": "2023-03-02T07:24:32.821Z"
   },
   {
    "duration": 133,
    "start_time": "2023-03-02T07:24:32.926Z"
   },
   {
    "duration": 7,
    "start_time": "2023-03-02T07:24:33.061Z"
   },
   {
    "duration": 23,
    "start_time": "2023-03-02T07:24:33.070Z"
   },
   {
    "duration": 48,
    "start_time": "2023-03-02T07:24:33.095Z"
   },
   {
    "duration": 95,
    "start_time": "2023-03-02T07:24:33.145Z"
   },
   {
    "duration": 10,
    "start_time": "2023-03-02T07:48:12.300Z"
   },
   {
    "duration": 1482,
    "start_time": "2023-03-02T07:59:49.551Z"
   },
   {
    "duration": 1212,
    "start_time": "2023-03-02T08:00:09.665Z"
   },
   {
    "duration": 7,
    "start_time": "2023-03-02T08:00:22.836Z"
   },
   {
    "duration": 1191,
    "start_time": "2023-03-02T08:01:00.877Z"
   },
   {
    "duration": 1155,
    "start_time": "2023-03-02T08:01:33.372Z"
   },
   {
    "duration": 34,
    "start_time": "2023-03-02T08:01:34.529Z"
   },
   {
    "duration": 5,
    "start_time": "2023-03-02T08:01:34.565Z"
   },
   {
    "duration": 16,
    "start_time": "2023-03-02T08:01:34.571Z"
   },
   {
    "duration": 8,
    "start_time": "2023-03-02T08:01:34.589Z"
   },
   {
    "duration": 21,
    "start_time": "2023-03-02T08:01:34.598Z"
   },
   {
    "duration": 51,
    "start_time": "2023-03-02T08:01:34.620Z"
   },
   {
    "duration": 7,
    "start_time": "2023-03-02T08:01:34.673Z"
   },
   {
    "duration": 17,
    "start_time": "2023-03-02T08:01:34.681Z"
   },
   {
    "duration": 18,
    "start_time": "2023-03-02T08:01:34.699Z"
   },
   {
    "duration": 29,
    "start_time": "2023-03-02T08:01:34.718Z"
   },
   {
    "duration": 40,
    "start_time": "2023-03-02T08:01:34.748Z"
   },
   {
    "duration": 21,
    "start_time": "2023-03-02T08:01:34.790Z"
   },
   {
    "duration": 17,
    "start_time": "2023-03-02T08:01:34.814Z"
   },
   {
    "duration": 9,
    "start_time": "2023-03-02T08:01:34.833Z"
   },
   {
    "duration": 11,
    "start_time": "2023-03-02T08:01:34.844Z"
   },
   {
    "duration": 16,
    "start_time": "2023-03-02T08:01:34.857Z"
   },
   {
    "duration": 10,
    "start_time": "2023-03-02T08:01:34.875Z"
   },
   {
    "duration": 153,
    "start_time": "2023-03-02T08:01:34.887Z"
   },
   {
    "duration": 10,
    "start_time": "2023-03-02T08:01:35.042Z"
   },
   {
    "duration": 121,
    "start_time": "2023-03-02T08:01:35.053Z"
   },
   {
    "duration": 9,
    "start_time": "2023-03-02T08:01:35.175Z"
   },
   {
    "duration": 12,
    "start_time": "2023-03-02T08:01:35.186Z"
   },
   {
    "duration": 27,
    "start_time": "2023-03-02T08:01:35.200Z"
   },
   {
    "duration": 10,
    "start_time": "2023-03-02T08:01:35.229Z"
   },
   {
    "duration": 381,
    "start_time": "2023-03-02T08:01:35.241Z"
   },
   {
    "duration": 348,
    "start_time": "2023-03-02T08:01:35.625Z"
   },
   {
    "duration": 462,
    "start_time": "2023-03-02T08:01:35.975Z"
   },
   {
    "duration": 9,
    "start_time": "2023-03-02T08:01:36.438Z"
   },
   {
    "duration": 9,
    "start_time": "2023-03-02T08:01:36.448Z"
   },
   {
    "duration": 390,
    "start_time": "2023-03-02T08:01:36.459Z"
   },
   {
    "duration": 398,
    "start_time": "2023-03-02T08:01:36.850Z"
   },
   {
    "duration": 11,
    "start_time": "2023-03-02T08:01:37.250Z"
   },
   {
    "duration": 117,
    "start_time": "2023-03-02T08:01:37.263Z"
   },
   {
    "duration": 146,
    "start_time": "2023-03-02T08:01:37.382Z"
   },
   {
    "duration": 4,
    "start_time": "2023-03-02T08:01:37.529Z"
   },
   {
    "duration": 18,
    "start_time": "2023-03-02T08:01:37.535Z"
   },
   {
    "duration": 291,
    "start_time": "2023-03-02T08:01:37.554Z"
   },
   {
    "duration": 4,
    "start_time": "2023-03-02T08:01:37.847Z"
   },
   {
    "duration": 35,
    "start_time": "2023-03-02T08:01:37.853Z"
   },
   {
    "duration": 14,
    "start_time": "2023-03-02T08:01:37.892Z"
   },
   {
    "duration": 60,
    "start_time": "2023-03-02T08:01:37.908Z"
   },
   {
    "duration": 59,
    "start_time": "2023-03-02T08:01:37.970Z"
   },
   {
    "duration": 26,
    "start_time": "2023-03-02T08:01:38.030Z"
   },
   {
    "duration": 80,
    "start_time": "2023-03-02T08:01:38.058Z"
   },
   {
    "duration": 83,
    "start_time": "2023-03-02T08:01:38.140Z"
   },
   {
    "duration": 68,
    "start_time": "2023-03-02T08:01:38.224Z"
   },
   {
    "duration": 42,
    "start_time": "2023-03-02T08:01:38.294Z"
   },
   {
    "duration": 26,
    "start_time": "2023-03-02T08:01:38.338Z"
   },
   {
    "duration": 24,
    "start_time": "2023-03-02T08:01:38.366Z"
   },
   {
    "duration": 86,
    "start_time": "2023-03-02T08:01:38.392Z"
   },
   {
    "duration": 80,
    "start_time": "2023-03-02T08:01:38.480Z"
   },
   {
    "duration": 6,
    "start_time": "2023-03-02T08:01:38.561Z"
   },
   {
    "duration": 14,
    "start_time": "2023-03-02T08:01:38.569Z"
   },
   {
    "duration": 15,
    "start_time": "2023-03-02T08:01:38.585Z"
   },
   {
    "duration": 30,
    "start_time": "2023-03-02T08:01:38.602Z"
   },
   {
    "duration": 11,
    "start_time": "2023-03-02T08:01:38.634Z"
   },
   {
    "duration": 1309,
    "start_time": "2023-03-02T08:01:38.646Z"
   },
   {
    "duration": 0,
    "start_time": "2023-03-02T08:01:39.956Z"
   },
   {
    "duration": 5,
    "start_time": "2023-03-02T08:02:31.271Z"
   },
   {
    "duration": 1111,
    "start_time": "2023-03-02T08:02:34.175Z"
   },
   {
    "duration": 4,
    "start_time": "2023-03-02T08:02:45.183Z"
   },
   {
    "duration": 1188,
    "start_time": "2023-03-02T08:04:04.354Z"
   },
   {
    "duration": 15,
    "start_time": "2023-03-02T08:04:25.427Z"
   },
   {
    "duration": 7,
    "start_time": "2023-03-02T08:04:37.959Z"
   },
   {
    "duration": 4,
    "start_time": "2023-03-02T08:04:54.189Z"
   },
   {
    "duration": 7,
    "start_time": "2023-03-02T08:04:55.881Z"
   },
   {
    "duration": 9,
    "start_time": "2023-03-02T08:05:26.389Z"
   },
   {
    "duration": 92,
    "start_time": "2023-03-02T08:09:32.954Z"
   },
   {
    "duration": 75,
    "start_time": "2023-03-02T08:09:58.816Z"
   },
   {
    "duration": 78,
    "start_time": "2023-03-02T08:10:07.698Z"
   },
   {
    "duration": 1082,
    "start_time": "2023-03-02T08:11:00.275Z"
   },
   {
    "duration": 35,
    "start_time": "2023-03-02T08:11:01.359Z"
   },
   {
    "duration": 9,
    "start_time": "2023-03-02T08:11:01.395Z"
   },
   {
    "duration": 42,
    "start_time": "2023-03-02T08:11:01.405Z"
   },
   {
    "duration": 41,
    "start_time": "2023-03-02T08:11:01.450Z"
   },
   {
    "duration": 35,
    "start_time": "2023-03-02T08:11:01.493Z"
   },
   {
    "duration": 102,
    "start_time": "2023-03-02T08:11:01.529Z"
   },
   {
    "duration": 7,
    "start_time": "2023-03-02T08:11:01.632Z"
   },
   {
    "duration": 59,
    "start_time": "2023-03-02T08:11:01.641Z"
   },
   {
    "duration": 21,
    "start_time": "2023-03-02T08:11:01.702Z"
   },
   {
    "duration": 25,
    "start_time": "2023-03-02T08:11:01.725Z"
   },
   {
    "duration": 60,
    "start_time": "2023-03-02T08:11:01.752Z"
   },
   {
    "duration": 31,
    "start_time": "2023-03-02T08:11:01.814Z"
   },
   {
    "duration": 45,
    "start_time": "2023-03-02T08:11:01.849Z"
   },
   {
    "duration": 25,
    "start_time": "2023-03-02T08:11:01.896Z"
   },
   {
    "duration": 33,
    "start_time": "2023-03-02T08:11:01.923Z"
   },
   {
    "duration": 54,
    "start_time": "2023-03-02T08:11:01.958Z"
   },
   {
    "duration": 30,
    "start_time": "2023-03-02T08:11:02.014Z"
   },
   {
    "duration": 190,
    "start_time": "2023-03-02T08:11:02.045Z"
   },
   {
    "duration": 10,
    "start_time": "2023-03-02T08:11:02.236Z"
   },
   {
    "duration": 117,
    "start_time": "2023-03-02T08:11:02.248Z"
   },
   {
    "duration": 31,
    "start_time": "2023-03-02T08:11:02.367Z"
   },
   {
    "duration": 20,
    "start_time": "2023-03-02T08:11:02.400Z"
   },
   {
    "duration": 28,
    "start_time": "2023-03-02T08:11:02.421Z"
   },
   {
    "duration": 22,
    "start_time": "2023-03-02T08:11:02.451Z"
   },
   {
    "duration": 338,
    "start_time": "2023-03-02T08:11:02.475Z"
   },
   {
    "duration": 317,
    "start_time": "2023-03-02T08:11:02.815Z"
   },
   {
    "duration": 401,
    "start_time": "2023-03-02T08:11:03.134Z"
   },
   {
    "duration": 8,
    "start_time": "2023-03-02T08:11:03.537Z"
   },
   {
    "duration": 29,
    "start_time": "2023-03-02T08:11:03.546Z"
   },
   {
    "duration": 392,
    "start_time": "2023-03-02T08:11:03.576Z"
   },
   {
    "duration": 391,
    "start_time": "2023-03-02T08:11:03.970Z"
   },
   {
    "duration": 11,
    "start_time": "2023-03-02T08:11:04.362Z"
   },
   {
    "duration": 118,
    "start_time": "2023-03-02T08:11:04.374Z"
   },
   {
    "duration": 135,
    "start_time": "2023-03-02T08:11:04.494Z"
   },
   {
    "duration": 4,
    "start_time": "2023-03-02T08:11:04.631Z"
   },
   {
    "duration": 13,
    "start_time": "2023-03-02T08:11:04.636Z"
   },
   {
    "duration": 286,
    "start_time": "2023-03-02T08:11:04.650Z"
   },
   {
    "duration": 4,
    "start_time": "2023-03-02T08:11:04.938Z"
   },
   {
    "duration": 35,
    "start_time": "2023-03-02T08:11:04.943Z"
   },
   {
    "duration": 26,
    "start_time": "2023-03-02T08:11:04.981Z"
   },
   {
    "duration": 52,
    "start_time": "2023-03-02T08:11:05.008Z"
   },
   {
    "duration": 52,
    "start_time": "2023-03-02T08:11:05.061Z"
   },
   {
    "duration": 24,
    "start_time": "2023-03-02T08:11:05.115Z"
   },
   {
    "duration": 17,
    "start_time": "2023-03-02T08:11:05.140Z"
   },
   {
    "duration": 53,
    "start_time": "2023-03-02T08:11:05.158Z"
   },
   {
    "duration": 54,
    "start_time": "2023-03-02T08:11:05.212Z"
   },
   {
    "duration": 20,
    "start_time": "2023-03-02T08:11:05.268Z"
   },
   {
    "duration": 10,
    "start_time": "2023-03-02T08:11:05.289Z"
   },
   {
    "duration": 25,
    "start_time": "2023-03-02T08:11:05.301Z"
   },
   {
    "duration": 95,
    "start_time": "2023-03-02T08:11:05.327Z"
   },
   {
    "duration": 122,
    "start_time": "2023-03-02T08:11:05.423Z"
   },
   {
    "duration": 7,
    "start_time": "2023-03-02T08:11:05.547Z"
   },
   {
    "duration": 13,
    "start_time": "2023-03-02T08:11:05.556Z"
   },
   {
    "duration": 21,
    "start_time": "2023-03-02T08:11:05.571Z"
   },
   {
    "duration": 39,
    "start_time": "2023-03-02T08:11:05.593Z"
   },
   {
    "duration": 13,
    "start_time": "2023-03-02T08:11:05.634Z"
   },
   {
    "duration": 15,
    "start_time": "2023-03-02T08:11:05.648Z"
   },
   {
    "duration": 1350,
    "start_time": "2023-03-02T08:11:05.665Z"
   },
   {
    "duration": 26,
    "start_time": "2023-03-02T08:12:26.627Z"
   },
   {
    "duration": 8,
    "start_time": "2023-03-02T08:13:40.224Z"
   },
   {
    "duration": 23,
    "start_time": "2023-03-02T08:13:43.737Z"
   },
   {
    "duration": 1500,
    "start_time": "2023-03-02T08:40:25.658Z"
   },
   {
    "duration": 1272,
    "start_time": "2023-03-02T08:40:47.188Z"
   },
   {
    "duration": 1226,
    "start_time": "2023-03-02T08:41:43.683Z"
   },
   {
    "duration": 12,
    "start_time": "2023-03-02T08:41:59.091Z"
   },
   {
    "duration": 19,
    "start_time": "2023-03-02T08:42:22.740Z"
   },
   {
    "duration": 74,
    "start_time": "2023-03-02T08:43:33.122Z"
   },
   {
    "duration": 1169,
    "start_time": "2023-03-02T08:54:52.449Z"
   },
   {
    "duration": 37,
    "start_time": "2023-03-02T08:54:53.620Z"
   },
   {
    "duration": 6,
    "start_time": "2023-03-02T08:54:53.659Z"
   },
   {
    "duration": 18,
    "start_time": "2023-03-02T08:54:53.668Z"
   },
   {
    "duration": 29,
    "start_time": "2023-03-02T08:54:53.688Z"
   },
   {
    "duration": 30,
    "start_time": "2023-03-02T08:54:53.719Z"
   },
   {
    "duration": 95,
    "start_time": "2023-03-02T08:54:53.751Z"
   },
   {
    "duration": 10,
    "start_time": "2023-03-02T08:54:53.848Z"
   },
   {
    "duration": 41,
    "start_time": "2023-03-02T08:54:53.860Z"
   },
   {
    "duration": 50,
    "start_time": "2023-03-02T08:54:53.905Z"
   },
   {
    "duration": 21,
    "start_time": "2023-03-02T08:54:53.958Z"
   },
   {
    "duration": 15,
    "start_time": "2023-03-02T08:54:53.981Z"
   },
   {
    "duration": 30,
    "start_time": "2023-03-02T08:54:53.998Z"
   },
   {
    "duration": 20,
    "start_time": "2023-03-02T08:54:54.030Z"
   },
   {
    "duration": 7,
    "start_time": "2023-03-02T08:54:54.052Z"
   },
   {
    "duration": 54,
    "start_time": "2023-03-02T08:54:54.061Z"
   },
   {
    "duration": 39,
    "start_time": "2023-03-02T08:54:54.118Z"
   },
   {
    "duration": 13,
    "start_time": "2023-03-02T08:54:54.159Z"
   },
   {
    "duration": 152,
    "start_time": "2023-03-02T08:54:54.174Z"
   },
   {
    "duration": 11,
    "start_time": "2023-03-02T08:54:54.327Z"
   },
   {
    "duration": 126,
    "start_time": "2023-03-02T08:54:54.339Z"
   },
   {
    "duration": 10,
    "start_time": "2023-03-02T08:54:54.466Z"
   },
   {
    "duration": 17,
    "start_time": "2023-03-02T08:54:54.478Z"
   },
   {
    "duration": 31,
    "start_time": "2023-03-02T08:54:54.497Z"
   },
   {
    "duration": 8,
    "start_time": "2023-03-02T08:54:54.530Z"
   },
   {
    "duration": 330,
    "start_time": "2023-03-02T08:54:54.539Z"
   },
   {
    "duration": 329,
    "start_time": "2023-03-02T08:54:54.871Z"
   },
   {
    "duration": 518,
    "start_time": "2023-03-02T08:54:55.204Z"
   },
   {
    "duration": 11,
    "start_time": "2023-03-02T08:54:55.724Z"
   },
   {
    "duration": 10,
    "start_time": "2023-03-02T08:54:55.737Z"
   },
   {
    "duration": 432,
    "start_time": "2023-03-02T08:54:55.749Z"
   },
   {
    "duration": 446,
    "start_time": "2023-03-02T08:54:56.183Z"
   },
   {
    "duration": 16,
    "start_time": "2023-03-02T08:54:56.631Z"
   },
   {
    "duration": 114,
    "start_time": "2023-03-02T08:54:56.649Z"
   },
   {
    "duration": 157,
    "start_time": "2023-03-02T08:54:56.765Z"
   },
   {
    "duration": 5,
    "start_time": "2023-03-02T08:54:56.923Z"
   },
   {
    "duration": 22,
    "start_time": "2023-03-02T08:54:56.931Z"
   },
   {
    "duration": 338,
    "start_time": "2023-03-02T08:54:56.956Z"
   },
   {
    "duration": 5,
    "start_time": "2023-03-02T08:54:57.296Z"
   },
   {
    "duration": 27,
    "start_time": "2023-03-02T08:54:57.303Z"
   },
   {
    "duration": 24,
    "start_time": "2023-03-02T08:54:57.332Z"
   },
   {
    "duration": 75,
    "start_time": "2023-03-02T08:54:57.358Z"
   },
   {
    "duration": 61,
    "start_time": "2023-03-02T08:54:57.435Z"
   },
   {
    "duration": 42,
    "start_time": "2023-03-02T08:54:57.498Z"
   },
   {
    "duration": 23,
    "start_time": "2023-03-02T08:54:57.542Z"
   },
   {
    "duration": 82,
    "start_time": "2023-03-02T08:54:57.567Z"
   },
   {
    "duration": 75,
    "start_time": "2023-03-02T08:54:57.651Z"
   },
   {
    "duration": 22,
    "start_time": "2023-03-02T08:54:57.728Z"
   },
   {
    "duration": 15,
    "start_time": "2023-03-02T08:54:57.752Z"
   },
   {
    "duration": 20,
    "start_time": "2023-03-02T08:54:57.769Z"
   },
   {
    "duration": 81,
    "start_time": "2023-03-02T08:54:57.791Z"
   },
   {
    "duration": 101,
    "start_time": "2023-03-02T08:54:57.874Z"
   },
   {
    "duration": 7,
    "start_time": "2023-03-02T08:54:57.977Z"
   },
   {
    "duration": 14,
    "start_time": "2023-03-02T08:54:57.985Z"
   },
   {
    "duration": 26,
    "start_time": "2023-03-02T08:54:58.001Z"
   },
   {
    "duration": 30,
    "start_time": "2023-03-02T08:54:58.028Z"
   },
   {
    "duration": 9,
    "start_time": "2023-03-02T08:54:58.060Z"
   },
   {
    "duration": 26,
    "start_time": "2023-03-02T08:54:58.071Z"
   },
   {
    "duration": 14,
    "start_time": "2023-03-02T08:54:58.099Z"
   },
   {
    "duration": 35,
    "start_time": "2023-03-02T08:54:58.115Z"
   },
   {
    "duration": 15,
    "start_time": "2023-03-02T08:54:58.152Z"
   },
   {
    "duration": 1533,
    "start_time": "2023-03-02T10:14:30.423Z"
   },
   {
    "duration": 151,
    "start_time": "2023-03-02T10:14:31.958Z"
   },
   {
    "duration": 6,
    "start_time": "2023-03-02T10:14:32.111Z"
   },
   {
    "duration": 59,
    "start_time": "2023-03-02T10:14:32.120Z"
   },
   {
    "duration": 15,
    "start_time": "2023-03-02T10:14:32.180Z"
   },
   {
    "duration": 16,
    "start_time": "2023-03-02T10:14:32.196Z"
   },
   {
    "duration": 274,
    "start_time": "2023-03-02T10:14:32.213Z"
   },
   {
    "duration": 8,
    "start_time": "2023-03-02T10:14:32.489Z"
   },
   {
    "duration": 27,
    "start_time": "2023-03-02T10:14:32.498Z"
   },
   {
    "duration": 61,
    "start_time": "2023-03-02T10:14:32.527Z"
   },
   {
    "duration": 23,
    "start_time": "2023-03-02T10:14:32.590Z"
   },
   {
    "duration": 17,
    "start_time": "2023-03-02T10:14:32.615Z"
   },
   {
    "duration": 57,
    "start_time": "2023-03-02T10:14:32.635Z"
   },
   {
    "duration": 29,
    "start_time": "2023-03-02T10:14:32.694Z"
   },
   {
    "duration": 60,
    "start_time": "2023-03-02T10:14:32.724Z"
   },
   {
    "duration": 20,
    "start_time": "2023-03-02T10:14:32.785Z"
   },
   {
    "duration": 13,
    "start_time": "2023-03-02T10:14:32.807Z"
   },
   {
    "duration": 64,
    "start_time": "2023-03-02T10:14:32.822Z"
   },
   {
    "duration": 220,
    "start_time": "2023-03-02T10:14:32.888Z"
   },
   {
    "duration": 10,
    "start_time": "2023-03-02T10:14:33.110Z"
   },
   {
    "duration": 163,
    "start_time": "2023-03-02T10:14:33.122Z"
   },
   {
    "duration": 30,
    "start_time": "2023-03-02T10:14:33.287Z"
   },
   {
    "duration": 27,
    "start_time": "2023-03-02T10:14:33.318Z"
   },
   {
    "duration": 37,
    "start_time": "2023-03-02T10:14:33.351Z"
   },
   {
    "duration": 7,
    "start_time": "2023-03-02T10:14:33.389Z"
   },
   {
    "duration": 406,
    "start_time": "2023-03-02T10:14:33.398Z"
   },
   {
    "duration": 381,
    "start_time": "2023-03-02T10:14:33.806Z"
   },
   {
    "duration": 489,
    "start_time": "2023-03-02T10:14:34.191Z"
   },
   {
    "duration": 10,
    "start_time": "2023-03-02T10:14:34.681Z"
   },
   {
    "duration": 9,
    "start_time": "2023-03-02T10:14:34.693Z"
   },
   {
    "duration": 424,
    "start_time": "2023-03-02T10:14:34.704Z"
   },
   {
    "duration": 532,
    "start_time": "2023-03-02T10:14:35.129Z"
   },
   {
    "duration": 16,
    "start_time": "2023-03-02T10:14:35.667Z"
   },
   {
    "duration": 126,
    "start_time": "2023-03-02T10:14:35.684Z"
   },
   {
    "duration": 158,
    "start_time": "2023-03-02T10:14:35.811Z"
   },
   {
    "duration": 6,
    "start_time": "2023-03-02T10:14:35.975Z"
   },
   {
    "duration": 16,
    "start_time": "2023-03-02T10:14:35.983Z"
   },
   {
    "duration": 330,
    "start_time": "2023-03-02T10:14:36.000Z"
   },
   {
    "duration": 10,
    "start_time": "2023-03-02T10:14:36.333Z"
   },
   {
    "duration": 44,
    "start_time": "2023-03-02T10:14:36.345Z"
   },
   {
    "duration": 10,
    "start_time": "2023-03-02T10:14:36.390Z"
   },
   {
    "duration": 63,
    "start_time": "2023-03-02T10:14:36.402Z"
   },
   {
    "duration": 57,
    "start_time": "2023-03-02T10:14:36.467Z"
   },
   {
    "duration": 58,
    "start_time": "2023-03-02T10:14:36.528Z"
   },
   {
    "duration": 19,
    "start_time": "2023-03-02T10:14:36.587Z"
   },
   {
    "duration": 73,
    "start_time": "2023-03-02T10:14:36.607Z"
   },
   {
    "duration": 72,
    "start_time": "2023-03-02T10:14:36.682Z"
   },
   {
    "duration": 37,
    "start_time": "2023-03-02T10:14:36.759Z"
   },
   {
    "duration": 11,
    "start_time": "2023-03-02T10:14:36.798Z"
   },
   {
    "duration": 13,
    "start_time": "2023-03-02T10:14:36.811Z"
   },
   {
    "duration": 119,
    "start_time": "2023-03-02T10:14:36.825Z"
   },
   {
    "duration": 97,
    "start_time": "2023-03-02T10:14:36.946Z"
   },
   {
    "duration": 14,
    "start_time": "2023-03-02T10:14:37.044Z"
   },
   {
    "duration": 42,
    "start_time": "2023-03-02T10:14:37.059Z"
   },
   {
    "duration": 8,
    "start_time": "2023-03-02T10:14:37.103Z"
   },
   {
    "duration": 37,
    "start_time": "2023-03-02T10:14:37.113Z"
   },
   {
    "duration": 13,
    "start_time": "2023-03-02T10:14:37.157Z"
   },
   {
    "duration": 21,
    "start_time": "2023-03-02T10:14:37.171Z"
   },
   {
    "duration": 9,
    "start_time": "2023-03-02T10:14:37.194Z"
   },
   {
    "duration": 24,
    "start_time": "2023-03-02T10:14:37.204Z"
   },
   {
    "duration": 31,
    "start_time": "2023-03-02T10:14:37.234Z"
   },
   {
    "duration": 1292,
    "start_time": "2023-03-02T10:29:19.854Z"
   },
   {
    "duration": 52,
    "start_time": "2023-03-02T10:29:21.152Z"
   },
   {
    "duration": 8,
    "start_time": "2023-03-02T10:29:21.206Z"
   },
   {
    "duration": 35,
    "start_time": "2023-03-02T10:29:21.216Z"
   },
   {
    "duration": 15,
    "start_time": "2023-03-02T10:29:21.260Z"
   },
   {
    "duration": 15,
    "start_time": "2023-03-02T10:29:21.276Z"
   },
   {
    "duration": 78,
    "start_time": "2023-03-02T10:29:21.293Z"
   },
   {
    "duration": 7,
    "start_time": "2023-03-02T10:29:21.373Z"
   },
   {
    "duration": 15,
    "start_time": "2023-03-02T10:29:21.381Z"
   },
   {
    "duration": 9,
    "start_time": "2023-03-02T10:29:21.398Z"
   },
   {
    "duration": 11,
    "start_time": "2023-03-02T10:29:21.409Z"
   },
   {
    "duration": 24,
    "start_time": "2023-03-02T10:29:21.421Z"
   },
   {
    "duration": 35,
    "start_time": "2023-03-02T10:29:21.447Z"
   },
   {
    "duration": 10,
    "start_time": "2023-03-02T10:29:21.485Z"
   },
   {
    "duration": 11,
    "start_time": "2023-03-02T10:29:21.496Z"
   },
   {
    "duration": 7,
    "start_time": "2023-03-02T10:29:21.508Z"
   },
   {
    "duration": 64,
    "start_time": "2023-03-02T10:29:21.516Z"
   },
   {
    "duration": 10,
    "start_time": "2023-03-02T10:29:21.582Z"
   },
   {
    "duration": 193,
    "start_time": "2023-03-02T10:29:21.594Z"
   },
   {
    "duration": 9,
    "start_time": "2023-03-02T10:29:21.789Z"
   },
   {
    "duration": 121,
    "start_time": "2023-03-02T10:29:21.800Z"
   },
   {
    "duration": 15,
    "start_time": "2023-03-02T10:29:21.923Z"
   },
   {
    "duration": 53,
    "start_time": "2023-03-02T10:29:21.939Z"
   },
   {
    "duration": 15,
    "start_time": "2023-03-02T10:29:21.994Z"
   },
   {
    "duration": 7,
    "start_time": "2023-03-02T10:29:22.010Z"
   },
   {
    "duration": 382,
    "start_time": "2023-03-02T10:29:22.018Z"
   },
   {
    "duration": 385,
    "start_time": "2023-03-02T10:29:22.402Z"
   },
   {
    "duration": 499,
    "start_time": "2023-03-02T10:29:22.789Z"
   },
   {
    "duration": 9,
    "start_time": "2023-03-02T10:29:23.289Z"
   },
   {
    "duration": 29,
    "start_time": "2023-03-02T10:29:23.300Z"
   },
   {
    "duration": 444,
    "start_time": "2023-03-02T10:29:23.335Z"
   },
   {
    "duration": 442,
    "start_time": "2023-03-02T10:29:23.781Z"
   },
   {
    "duration": 23,
    "start_time": "2023-03-02T10:29:24.224Z"
   },
   {
    "duration": 154,
    "start_time": "2023-03-02T10:29:24.249Z"
   },
   {
    "duration": 173,
    "start_time": "2023-03-02T10:29:24.405Z"
   },
   {
    "duration": 4,
    "start_time": "2023-03-02T10:29:24.580Z"
   },
   {
    "duration": 13,
    "start_time": "2023-03-02T10:29:24.586Z"
   },
   {
    "duration": 358,
    "start_time": "2023-03-02T10:29:24.601Z"
   },
   {
    "duration": 5,
    "start_time": "2023-03-02T10:29:24.961Z"
   },
   {
    "duration": 35,
    "start_time": "2023-03-02T10:29:24.972Z"
   },
   {
    "duration": 11,
    "start_time": "2023-03-02T10:29:25.013Z"
   },
   {
    "duration": 137,
    "start_time": "2023-03-02T10:29:25.025Z"
   },
   {
    "duration": 81,
    "start_time": "2023-03-02T10:29:25.171Z"
   },
   {
    "duration": 42,
    "start_time": "2023-03-02T10:29:25.258Z"
   },
   {
    "duration": 17,
    "start_time": "2023-03-02T10:29:25.302Z"
   },
   {
    "duration": 79,
    "start_time": "2023-03-02T10:29:25.321Z"
   },
   {
    "duration": 61,
    "start_time": "2023-03-02T10:29:25.402Z"
   },
   {
    "duration": 23,
    "start_time": "2023-03-02T10:29:25.465Z"
   },
   {
    "duration": 9,
    "start_time": "2023-03-02T10:29:25.490Z"
   },
   {
    "duration": 17,
    "start_time": "2023-03-02T10:29:25.502Z"
   },
   {
    "duration": 120,
    "start_time": "2023-03-02T10:29:25.521Z"
   },
   {
    "duration": 98,
    "start_time": "2023-03-02T10:29:25.642Z"
   },
   {
    "duration": 6,
    "start_time": "2023-03-02T10:29:25.742Z"
   },
   {
    "duration": 47,
    "start_time": "2023-03-02T10:29:25.750Z"
   },
   {
    "duration": 6,
    "start_time": "2023-03-02T10:29:25.798Z"
   },
   {
    "duration": 34,
    "start_time": "2023-03-02T10:29:25.806Z"
   },
   {
    "duration": 13,
    "start_time": "2023-03-02T10:29:25.842Z"
   },
   {
    "duration": 34,
    "start_time": "2023-03-02T10:29:25.856Z"
   },
   {
    "duration": 7,
    "start_time": "2023-03-02T10:29:25.892Z"
   },
   {
    "duration": 22,
    "start_time": "2023-03-02T10:29:25.901Z"
   },
   {
    "duration": 48,
    "start_time": "2023-03-02T10:29:25.924Z"
   },
   {
    "duration": 384,
    "start_time": "2023-03-02T10:32:30.688Z"
   },
   {
    "duration": 406,
    "start_time": "2023-03-02T10:32:47.576Z"
   },
   {
    "duration": 5,
    "start_time": "2023-03-02T10:33:16.575Z"
   },
   {
    "duration": 1588,
    "start_time": "2023-03-02T13:38:55.420Z"
   },
   {
    "duration": 78,
    "start_time": "2023-03-02T13:38:57.010Z"
   },
   {
    "duration": 5,
    "start_time": "2023-03-02T13:38:57.089Z"
   },
   {
    "duration": 13,
    "start_time": "2023-03-02T13:38:57.096Z"
   },
   {
    "duration": 6,
    "start_time": "2023-03-02T13:38:57.110Z"
   },
   {
    "duration": 15,
    "start_time": "2023-03-02T13:38:57.117Z"
   },
   {
    "duration": 205,
    "start_time": "2023-03-02T13:38:57.133Z"
   },
   {
    "duration": 7,
    "start_time": "2023-03-02T13:38:57.339Z"
   },
   {
    "duration": 26,
    "start_time": "2023-03-02T13:38:57.348Z"
   },
   {
    "duration": 10,
    "start_time": "2023-03-02T13:38:57.377Z"
   },
   {
    "duration": 11,
    "start_time": "2023-03-02T13:38:57.389Z"
   },
   {
    "duration": 9,
    "start_time": "2023-03-02T13:38:57.401Z"
   },
   {
    "duration": 7,
    "start_time": "2023-03-02T13:38:57.411Z"
   },
   {
    "duration": 9,
    "start_time": "2023-03-02T13:38:57.420Z"
   },
   {
    "duration": 7,
    "start_time": "2023-03-02T13:38:57.430Z"
   },
   {
    "duration": 3,
    "start_time": "2023-03-02T13:38:57.454Z"
   },
   {
    "duration": 6,
    "start_time": "2023-03-02T13:38:57.459Z"
   },
   {
    "duration": 13,
    "start_time": "2023-03-02T13:38:57.466Z"
   },
   {
    "duration": 190,
    "start_time": "2023-03-02T13:38:57.480Z"
   },
   {
    "duration": 9,
    "start_time": "2023-03-02T13:38:57.672Z"
   },
   {
    "duration": 119,
    "start_time": "2023-03-02T13:38:57.683Z"
   },
   {
    "duration": 9,
    "start_time": "2023-03-02T13:38:57.804Z"
   },
   {
    "duration": 14,
    "start_time": "2023-03-02T13:38:57.814Z"
   },
   {
    "duration": 32,
    "start_time": "2023-03-02T13:38:57.829Z"
   },
   {
    "duration": 6,
    "start_time": "2023-03-02T13:38:57.863Z"
   },
   {
    "duration": 336,
    "start_time": "2023-03-02T13:38:57.870Z"
   },
   {
    "duration": 309,
    "start_time": "2023-03-02T13:38:58.207Z"
   },
   {
    "duration": 488,
    "start_time": "2023-03-02T13:38:58.520Z"
   },
   {
    "duration": 8,
    "start_time": "2023-03-02T13:38:59.010Z"
   },
   {
    "duration": 8,
    "start_time": "2023-03-02T13:38:59.020Z"
   },
   {
    "duration": 390,
    "start_time": "2023-03-02T13:38:59.029Z"
   },
   {
    "duration": 447,
    "start_time": "2023-03-02T13:38:59.420Z"
   },
   {
    "duration": 13,
    "start_time": "2023-03-02T13:38:59.869Z"
   },
   {
    "duration": 117,
    "start_time": "2023-03-02T13:38:59.884Z"
   },
   {
    "duration": 159,
    "start_time": "2023-03-02T13:39:00.003Z"
   },
   {
    "duration": 6,
    "start_time": "2023-03-02T13:39:00.164Z"
   },
   {
    "duration": 26,
    "start_time": "2023-03-02T13:39:00.171Z"
   },
   {
    "duration": 318,
    "start_time": "2023-03-02T13:39:00.198Z"
   },
   {
    "duration": 5,
    "start_time": "2023-03-02T13:39:00.518Z"
   },
   {
    "duration": 50,
    "start_time": "2023-03-02T13:39:00.525Z"
   },
   {
    "duration": 53,
    "start_time": "2023-03-02T13:39:00.577Z"
   },
   {
    "duration": 99,
    "start_time": "2023-03-02T13:39:00.631Z"
   },
   {
    "duration": 111,
    "start_time": "2023-03-02T13:39:00.732Z"
   },
   {
    "duration": 59,
    "start_time": "2023-03-02T13:39:00.844Z"
   },
   {
    "duration": 53,
    "start_time": "2023-03-02T13:39:00.906Z"
   },
   {
    "duration": 72,
    "start_time": "2023-03-02T13:39:00.961Z"
   },
   {
    "duration": 75,
    "start_time": "2023-03-02T13:39:01.035Z"
   },
   {
    "duration": 64,
    "start_time": "2023-03-02T13:39:01.112Z"
   },
   {
    "duration": 34,
    "start_time": "2023-03-02T13:39:01.177Z"
   },
   {
    "duration": 47,
    "start_time": "2023-03-02T13:39:01.212Z"
   },
   {
    "duration": 81,
    "start_time": "2023-03-02T13:39:01.262Z"
   },
   {
    "duration": 93,
    "start_time": "2023-03-02T13:39:01.344Z"
   },
   {
    "duration": 45,
    "start_time": "2023-03-02T13:39:01.439Z"
   },
   {
    "duration": 36,
    "start_time": "2023-03-02T13:39:01.486Z"
   },
   {
    "duration": 49,
    "start_time": "2023-03-02T13:39:01.524Z"
   },
   {
    "duration": 57,
    "start_time": "2023-03-02T13:39:01.575Z"
   },
   {
    "duration": 27,
    "start_time": "2023-03-02T13:39:01.634Z"
   },
   {
    "duration": 44,
    "start_time": "2023-03-02T13:39:01.663Z"
   },
   {
    "duration": 32,
    "start_time": "2023-03-02T13:39:01.709Z"
   },
   {
    "duration": 49,
    "start_time": "2023-03-02T13:39:01.742Z"
   },
   {
    "duration": 127,
    "start_time": "2023-03-02T13:39:01.793Z"
   },
   {
    "duration": 0,
    "start_time": "2023-03-02T13:39:01.922Z"
   },
   {
    "duration": 16,
    "start_time": "2023-03-02T13:43:42.642Z"
   },
   {
    "duration": 1199,
    "start_time": "2023-03-02T13:53:34.148Z"
   },
   {
    "duration": 46,
    "start_time": "2023-03-02T13:53:35.353Z"
   },
   {
    "duration": 7,
    "start_time": "2023-03-02T13:53:35.402Z"
   },
   {
    "duration": 64,
    "start_time": "2023-03-02T13:53:35.412Z"
   },
   {
    "duration": 38,
    "start_time": "2023-03-02T13:53:35.478Z"
   },
   {
    "duration": 49,
    "start_time": "2023-03-02T13:53:35.518Z"
   },
   {
    "duration": 80,
    "start_time": "2023-03-02T13:53:35.569Z"
   },
   {
    "duration": 13,
    "start_time": "2023-03-02T13:53:35.651Z"
   },
   {
    "duration": 29,
    "start_time": "2023-03-02T13:53:35.666Z"
   },
   {
    "duration": 17,
    "start_time": "2023-03-02T13:53:35.698Z"
   },
   {
    "duration": 40,
    "start_time": "2023-03-02T13:53:35.716Z"
   },
   {
    "duration": 25,
    "start_time": "2023-03-02T13:53:35.757Z"
   },
   {
    "duration": 41,
    "start_time": "2023-03-02T13:53:35.784Z"
   },
   {
    "duration": 13,
    "start_time": "2023-03-02T13:53:35.826Z"
   },
   {
    "duration": 27,
    "start_time": "2023-03-02T13:53:35.841Z"
   },
   {
    "duration": 16,
    "start_time": "2023-03-02T13:53:35.869Z"
   },
   {
    "duration": 9,
    "start_time": "2023-03-02T13:53:35.887Z"
   },
   {
    "duration": 13,
    "start_time": "2023-03-02T13:53:35.897Z"
   },
   {
    "duration": 202,
    "start_time": "2023-03-02T13:53:35.912Z"
   },
   {
    "duration": 11,
    "start_time": "2023-03-02T13:53:36.115Z"
   },
   {
    "duration": 151,
    "start_time": "2023-03-02T13:53:36.128Z"
   },
   {
    "duration": 20,
    "start_time": "2023-03-02T13:53:36.281Z"
   },
   {
    "duration": 29,
    "start_time": "2023-03-02T13:53:36.302Z"
   },
   {
    "duration": 42,
    "start_time": "2023-03-02T13:53:36.332Z"
   },
   {
    "duration": 9,
    "start_time": "2023-03-02T13:53:36.375Z"
   },
   {
    "duration": 343,
    "start_time": "2023-03-02T13:53:36.385Z"
   },
   {
    "duration": 331,
    "start_time": "2023-03-02T13:53:36.730Z"
   },
   {
    "duration": 437,
    "start_time": "2023-03-02T13:53:37.065Z"
   },
   {
    "duration": 8,
    "start_time": "2023-03-02T13:53:37.504Z"
   },
   {
    "duration": 9,
    "start_time": "2023-03-02T13:53:37.514Z"
   },
   {
    "duration": 378,
    "start_time": "2023-03-02T13:53:37.525Z"
   },
   {
    "duration": 424,
    "start_time": "2023-03-02T13:53:37.905Z"
   },
   {
    "duration": 29,
    "start_time": "2023-03-02T13:53:38.331Z"
   },
   {
    "duration": 102,
    "start_time": "2023-03-02T13:53:38.362Z"
   },
   {
    "duration": 136,
    "start_time": "2023-03-02T13:53:38.466Z"
   },
   {
    "duration": 5,
    "start_time": "2023-03-02T13:53:38.603Z"
   },
   {
    "duration": 12,
    "start_time": "2023-03-02T13:53:38.610Z"
   },
   {
    "duration": 338,
    "start_time": "2023-03-02T13:53:38.624Z"
   },
   {
    "duration": 4,
    "start_time": "2023-03-02T13:53:38.964Z"
   },
   {
    "duration": 57,
    "start_time": "2023-03-02T13:53:38.969Z"
   },
   {
    "duration": 9,
    "start_time": "2023-03-02T13:53:39.028Z"
   },
   {
    "duration": 45,
    "start_time": "2023-03-02T13:53:39.039Z"
   },
   {
    "duration": 45,
    "start_time": "2023-03-02T13:53:39.086Z"
   },
   {
    "duration": 27,
    "start_time": "2023-03-02T13:53:39.133Z"
   },
   {
    "duration": 17,
    "start_time": "2023-03-02T13:53:39.162Z"
   },
   {
    "duration": 46,
    "start_time": "2023-03-02T13:53:39.181Z"
   },
   {
    "duration": 70,
    "start_time": "2023-03-02T13:53:39.228Z"
   },
   {
    "duration": 18,
    "start_time": "2023-03-02T13:53:39.299Z"
   },
   {
    "duration": 7,
    "start_time": "2023-03-02T13:53:39.319Z"
   },
   {
    "duration": 11,
    "start_time": "2023-03-02T13:53:39.328Z"
   },
   {
    "duration": 62,
    "start_time": "2023-03-02T13:53:39.358Z"
   },
   {
    "duration": 76,
    "start_time": "2023-03-02T13:53:39.422Z"
   },
   {
    "duration": 5,
    "start_time": "2023-03-02T13:53:39.500Z"
   },
   {
    "duration": 7,
    "start_time": "2023-03-02T13:53:39.507Z"
   },
   {
    "duration": 9,
    "start_time": "2023-03-02T13:53:39.515Z"
   },
   {
    "duration": 42,
    "start_time": "2023-03-02T13:53:39.525Z"
   },
   {
    "duration": 9,
    "start_time": "2023-03-02T13:53:39.569Z"
   },
   {
    "duration": 19,
    "start_time": "2023-03-02T13:53:39.579Z"
   },
   {
    "duration": 15,
    "start_time": "2023-03-02T13:53:39.600Z"
   },
   {
    "duration": 64,
    "start_time": "2023-03-02T13:53:39.616Z"
   },
   {
    "duration": 13,
    "start_time": "2023-03-02T13:53:39.681Z"
   },
   {
    "duration": 1208,
    "start_time": "2023-03-02T16:32:23.483Z"
   },
   {
    "duration": 77,
    "start_time": "2023-03-02T16:32:24.692Z"
   },
   {
    "duration": 7,
    "start_time": "2023-03-02T16:32:24.771Z"
   },
   {
    "duration": 15,
    "start_time": "2023-03-02T16:32:24.781Z"
   },
   {
    "duration": 15,
    "start_time": "2023-03-02T16:32:24.798Z"
   },
   {
    "duration": 29,
    "start_time": "2023-03-02T16:32:24.815Z"
   },
   {
    "duration": 202,
    "start_time": "2023-03-02T16:32:24.846Z"
   },
   {
    "duration": 11,
    "start_time": "2023-03-02T16:32:25.051Z"
   },
   {
    "duration": 26,
    "start_time": "2023-03-02T16:32:25.064Z"
   },
   {
    "duration": 12,
    "start_time": "2023-03-02T16:32:25.094Z"
   },
   {
    "duration": 18,
    "start_time": "2023-03-02T16:32:25.108Z"
   },
   {
    "duration": 33,
    "start_time": "2023-03-02T16:32:25.128Z"
   },
   {
    "duration": 12,
    "start_time": "2023-03-02T16:32:25.163Z"
   },
   {
    "duration": 13,
    "start_time": "2023-03-02T16:32:25.177Z"
   },
   {
    "duration": 8,
    "start_time": "2023-03-02T16:32:25.192Z"
   },
   {
    "duration": 23,
    "start_time": "2023-03-02T16:32:25.202Z"
   },
   {
    "duration": 35,
    "start_time": "2023-03-02T16:32:25.227Z"
   },
   {
    "duration": 18,
    "start_time": "2023-03-02T16:32:25.264Z"
   },
   {
    "duration": 217,
    "start_time": "2023-03-02T16:32:25.285Z"
   },
   {
    "duration": 13,
    "start_time": "2023-03-02T16:32:25.504Z"
   },
   {
    "duration": 145,
    "start_time": "2023-03-02T16:32:25.519Z"
   },
   {
    "duration": 29,
    "start_time": "2023-03-02T16:32:25.666Z"
   },
   {
    "duration": 27,
    "start_time": "2023-03-02T16:32:25.697Z"
   },
   {
    "duration": 30,
    "start_time": "2023-03-02T16:32:25.726Z"
   },
   {
    "duration": 12,
    "start_time": "2023-03-02T16:32:25.759Z"
   },
   {
    "duration": 388,
    "start_time": "2023-03-02T16:32:25.773Z"
   },
   {
    "duration": 360,
    "start_time": "2023-03-02T16:32:26.163Z"
   },
   {
    "duration": 458,
    "start_time": "2023-03-02T16:32:26.527Z"
   },
   {
    "duration": 9,
    "start_time": "2023-03-02T16:32:26.987Z"
   },
   {
    "duration": 21,
    "start_time": "2023-03-02T16:32:26.997Z"
   },
   {
    "duration": 432,
    "start_time": "2023-03-02T16:32:27.019Z"
   },
   {
    "duration": 458,
    "start_time": "2023-03-02T16:32:27.453Z"
   },
   {
    "duration": 11,
    "start_time": "2023-03-02T16:32:27.913Z"
   },
   {
    "duration": 131,
    "start_time": "2023-03-02T16:32:27.926Z"
   },
   {
    "duration": 160,
    "start_time": "2023-03-02T16:32:28.059Z"
   },
   {
    "duration": 5,
    "start_time": "2023-03-02T16:32:28.221Z"
   },
   {
    "duration": 51,
    "start_time": "2023-03-02T16:32:28.236Z"
   },
   {
    "duration": 400,
    "start_time": "2023-03-02T16:32:28.290Z"
   },
   {
    "duration": 6,
    "start_time": "2023-03-02T16:32:28.692Z"
   },
   {
    "duration": 22,
    "start_time": "2023-03-02T16:32:28.700Z"
   },
   {
    "duration": 32,
    "start_time": "2023-03-02T16:32:28.723Z"
   },
   {
    "duration": 53,
    "start_time": "2023-03-02T16:32:28.757Z"
   },
   {
    "duration": 59,
    "start_time": "2023-03-02T16:32:28.813Z"
   },
   {
    "duration": 19,
    "start_time": "2023-03-02T16:32:28.874Z"
   },
   {
    "duration": 46,
    "start_time": "2023-03-02T16:32:28.894Z"
   },
   {
    "duration": 61,
    "start_time": "2023-03-02T16:32:28.947Z"
   },
   {
    "duration": 71,
    "start_time": "2023-03-02T16:32:29.010Z"
   },
   {
    "duration": 23,
    "start_time": "2023-03-02T16:32:29.083Z"
   },
   {
    "duration": 19,
    "start_time": "2023-03-02T16:32:29.108Z"
   },
   {
    "duration": 43,
    "start_time": "2023-03-02T16:32:29.129Z"
   },
   {
    "duration": 83,
    "start_time": "2023-03-02T16:32:29.174Z"
   },
   {
    "duration": 145,
    "start_time": "2023-03-02T16:32:29.259Z"
   },
   {
    "duration": 8,
    "start_time": "2023-03-02T16:32:29.405Z"
   },
   {
    "duration": 24,
    "start_time": "2023-03-02T16:32:29.414Z"
   },
   {
    "duration": 33,
    "start_time": "2023-03-02T16:32:29.439Z"
   },
   {
    "duration": 59,
    "start_time": "2023-03-02T16:32:29.474Z"
   },
   {
    "duration": 26,
    "start_time": "2023-03-02T16:32:29.535Z"
   },
   {
    "duration": 35,
    "start_time": "2023-03-02T16:32:29.563Z"
   },
   {
    "duration": 35,
    "start_time": "2023-03-02T16:32:29.600Z"
   },
   {
    "duration": 64,
    "start_time": "2023-03-02T16:32:29.637Z"
   },
   {
    "duration": 14,
    "start_time": "2023-03-02T16:32:29.702Z"
   },
   {
    "duration": 51,
    "start_time": "2023-03-03T07:45:38.057Z"
   },
   {
    "duration": 1337,
    "start_time": "2023-03-03T07:45:54.119Z"
   },
   {
    "duration": 68,
    "start_time": "2023-03-03T07:45:55.458Z"
   },
   {
    "duration": 13,
    "start_time": "2023-03-03T07:45:56.313Z"
   },
   {
    "duration": 1257,
    "start_time": "2023-03-03T07:46:06.667Z"
   },
   {
    "duration": 28,
    "start_time": "2023-03-03T07:46:07.926Z"
   },
   {
    "duration": 12,
    "start_time": "2023-03-03T07:46:07.955Z"
   },
   {
    "duration": 5,
    "start_time": "2023-03-03T07:46:07.969Z"
   },
   {
    "duration": 20,
    "start_time": "2023-03-03T07:46:07.975Z"
   },
   {
    "duration": 11,
    "start_time": "2023-03-03T07:46:07.997Z"
   },
   {
    "duration": 11,
    "start_time": "2023-03-03T07:46:08.010Z"
   },
   {
    "duration": 137,
    "start_time": "2023-03-03T07:46:08.023Z"
   },
   {
    "duration": 7,
    "start_time": "2023-03-03T07:46:08.162Z"
   },
   {
    "duration": 10,
    "start_time": "2023-03-03T07:46:08.171Z"
   },
   {
    "duration": 12,
    "start_time": "2023-03-03T07:46:08.182Z"
   },
   {
    "duration": 14,
    "start_time": "2023-03-03T07:46:08.195Z"
   },
   {
    "duration": 7,
    "start_time": "2023-03-03T07:46:08.211Z"
   },
   {
    "duration": 6,
    "start_time": "2023-03-03T07:46:08.219Z"
   },
   {
    "duration": 17,
    "start_time": "2023-03-03T07:46:08.226Z"
   },
   {
    "duration": 6,
    "start_time": "2023-03-03T07:46:08.245Z"
   },
   {
    "duration": 3,
    "start_time": "2023-03-03T07:46:08.253Z"
   },
   {
    "duration": 11,
    "start_time": "2023-03-03T07:46:08.258Z"
   },
   {
    "duration": 11,
    "start_time": "2023-03-03T07:46:08.271Z"
   },
   {
    "duration": 174,
    "start_time": "2023-03-03T07:46:08.283Z"
   },
   {
    "duration": 12,
    "start_time": "2023-03-03T07:46:08.459Z"
   },
   {
    "duration": 118,
    "start_time": "2023-03-03T07:46:08.472Z"
   },
   {
    "duration": 9,
    "start_time": "2023-03-03T07:46:08.592Z"
   },
   {
    "duration": 11,
    "start_time": "2023-03-03T07:46:08.602Z"
   },
   {
    "duration": 35,
    "start_time": "2023-03-03T07:46:08.614Z"
   },
   {
    "duration": 9,
    "start_time": "2023-03-03T07:46:08.651Z"
   },
   {
    "duration": 308,
    "start_time": "2023-03-03T07:46:08.662Z"
   },
   {
    "duration": 329,
    "start_time": "2023-03-03T07:46:08.975Z"
   },
   {
    "duration": 507,
    "start_time": "2023-03-03T07:46:09.306Z"
   },
   {
    "duration": 9,
    "start_time": "2023-03-03T07:46:09.814Z"
   },
   {
    "duration": 30,
    "start_time": "2023-03-03T07:46:09.824Z"
   },
   {
    "duration": 418,
    "start_time": "2023-03-03T07:46:09.856Z"
   },
   {
    "duration": 421,
    "start_time": "2023-03-03T07:46:10.276Z"
   },
   {
    "duration": 11,
    "start_time": "2023-03-03T07:46:10.698Z"
   },
   {
    "duration": 139,
    "start_time": "2023-03-03T07:46:10.710Z"
   },
   {
    "duration": 150,
    "start_time": "2023-03-03T07:46:10.850Z"
   },
   {
    "duration": 5,
    "start_time": "2023-03-03T07:46:11.002Z"
   },
   {
    "duration": 24,
    "start_time": "2023-03-03T07:46:11.008Z"
   },
   {
    "duration": 307,
    "start_time": "2023-03-03T07:46:11.034Z"
   },
   {
    "duration": 4,
    "start_time": "2023-03-03T07:46:11.343Z"
   },
   {
    "duration": 9,
    "start_time": "2023-03-03T07:46:11.349Z"
   },
   {
    "duration": 20,
    "start_time": "2023-03-03T07:46:11.359Z"
   },
   {
    "duration": 62,
    "start_time": "2023-03-03T07:46:11.380Z"
   },
   {
    "duration": 43,
    "start_time": "2023-03-03T07:46:11.444Z"
   },
   {
    "duration": 18,
    "start_time": "2023-03-03T07:46:11.489Z"
   },
   {
    "duration": 42,
    "start_time": "2023-03-03T07:46:11.508Z"
   },
   {
    "duration": 54,
    "start_time": "2023-03-03T07:46:11.552Z"
   },
   {
    "duration": 69,
    "start_time": "2023-03-03T07:46:11.607Z"
   },
   {
    "duration": 19,
    "start_time": "2023-03-03T07:46:11.677Z"
   },
   {
    "duration": 9,
    "start_time": "2023-03-03T07:46:11.697Z"
   },
   {
    "duration": 36,
    "start_time": "2023-03-03T07:46:11.707Z"
   },
   {
    "duration": 75,
    "start_time": "2023-03-03T07:46:11.745Z"
   },
   {
    "duration": 121,
    "start_time": "2023-03-03T07:46:11.822Z"
   },
   {
    "duration": 6,
    "start_time": "2023-03-03T07:46:11.945Z"
   },
   {
    "duration": 6,
    "start_time": "2023-03-03T07:46:11.953Z"
   },
   {
    "duration": 5,
    "start_time": "2023-03-03T07:46:11.960Z"
   },
   {
    "duration": 24,
    "start_time": "2023-03-03T07:46:11.967Z"
   },
   {
    "duration": 9,
    "start_time": "2023-03-03T07:46:11.993Z"
   },
   {
    "duration": 44,
    "start_time": "2023-03-03T07:46:12.003Z"
   },
   {
    "duration": 9,
    "start_time": "2023-03-03T07:46:12.049Z"
   },
   {
    "duration": 34,
    "start_time": "2023-03-03T07:46:12.060Z"
   },
   {
    "duration": 15,
    "start_time": "2023-03-03T07:46:12.098Z"
   },
   {
    "duration": 1081,
    "start_time": "2023-03-03T07:46:21.996Z"
   },
   {
    "duration": 26,
    "start_time": "2023-03-03T07:46:23.079Z"
   },
   {
    "duration": 9,
    "start_time": "2023-03-03T07:46:23.107Z"
   },
   {
    "duration": 15,
    "start_time": "2023-03-03T07:46:23.118Z"
   },
   {
    "duration": 17,
    "start_time": "2023-03-03T07:46:23.135Z"
   },
   {
    "duration": 28,
    "start_time": "2023-03-03T07:46:23.153Z"
   },
   {
    "duration": 15,
    "start_time": "2023-03-03T07:46:23.182Z"
   },
   {
    "duration": 56,
    "start_time": "2023-03-03T07:46:23.198Z"
   },
   {
    "duration": 6,
    "start_time": "2023-03-03T07:46:23.256Z"
   },
   {
    "duration": 13,
    "start_time": "2023-03-03T07:46:23.264Z"
   },
   {
    "duration": 24,
    "start_time": "2023-03-03T07:46:23.278Z"
   },
   {
    "duration": 17,
    "start_time": "2023-03-03T07:46:23.304Z"
   },
   {
    "duration": 17,
    "start_time": "2023-03-03T07:46:23.322Z"
   },
   {
    "duration": 14,
    "start_time": "2023-03-03T07:46:23.342Z"
   },
   {
    "duration": 14,
    "start_time": "2023-03-03T07:46:23.357Z"
   },
   {
    "duration": 18,
    "start_time": "2023-03-03T07:46:23.372Z"
   },
   {
    "duration": 7,
    "start_time": "2023-03-03T07:46:23.392Z"
   },
   {
    "duration": 12,
    "start_time": "2023-03-03T07:46:23.400Z"
   },
   {
    "duration": 16,
    "start_time": "2023-03-03T07:46:23.414Z"
   },
   {
    "duration": 162,
    "start_time": "2023-03-03T07:46:23.432Z"
   },
   {
    "duration": 10,
    "start_time": "2023-03-03T07:46:23.596Z"
   },
   {
    "duration": 120,
    "start_time": "2023-03-03T07:46:23.607Z"
   },
   {
    "duration": 34,
    "start_time": "2023-03-03T07:46:23.729Z"
   },
   {
    "duration": 21,
    "start_time": "2023-03-03T07:46:23.764Z"
   },
   {
    "duration": 23,
    "start_time": "2023-03-03T07:46:23.787Z"
   },
   {
    "duration": 19,
    "start_time": "2023-03-03T07:46:23.812Z"
   },
   {
    "duration": 321,
    "start_time": "2023-03-03T07:46:23.833Z"
   },
   {
    "duration": 313,
    "start_time": "2023-03-03T07:46:24.155Z"
   },
   {
    "duration": 376,
    "start_time": "2023-03-03T07:46:24.470Z"
   },
   {
    "duration": 7,
    "start_time": "2023-03-03T07:46:24.847Z"
   },
   {
    "duration": 21,
    "start_time": "2023-03-03T07:46:24.855Z"
   },
   {
    "duration": 344,
    "start_time": "2023-03-03T07:46:24.878Z"
   },
   {
    "duration": 445,
    "start_time": "2023-03-03T07:46:25.223Z"
   },
   {
    "duration": 10,
    "start_time": "2023-03-03T07:46:25.670Z"
   },
   {
    "duration": 114,
    "start_time": "2023-03-03T07:46:25.681Z"
   },
   {
    "duration": 145,
    "start_time": "2023-03-03T07:46:25.797Z"
   },
   {
    "duration": 4,
    "start_time": "2023-03-03T07:46:25.944Z"
   },
   {
    "duration": 13,
    "start_time": "2023-03-03T07:46:25.949Z"
   },
   {
    "duration": 304,
    "start_time": "2023-03-03T07:46:25.965Z"
   },
   {
    "duration": 4,
    "start_time": "2023-03-03T07:46:26.271Z"
   },
   {
    "duration": 17,
    "start_time": "2023-03-03T07:46:26.279Z"
   },
   {
    "duration": 12,
    "start_time": "2023-03-03T07:46:26.298Z"
   },
   {
    "duration": 68,
    "start_time": "2023-03-03T07:46:26.312Z"
   },
   {
    "duration": 60,
    "start_time": "2023-03-03T07:46:26.382Z"
   },
   {
    "duration": 20,
    "start_time": "2023-03-03T07:46:26.444Z"
   },
   {
    "duration": 18,
    "start_time": "2023-03-03T07:46:26.465Z"
   },
   {
    "duration": 73,
    "start_time": "2023-03-03T07:46:26.484Z"
   },
   {
    "duration": 52,
    "start_time": "2023-03-03T07:46:26.558Z"
   },
   {
    "duration": 38,
    "start_time": "2023-03-03T07:46:26.612Z"
   },
   {
    "duration": 11,
    "start_time": "2023-03-03T07:46:26.651Z"
   },
   {
    "duration": 13,
    "start_time": "2023-03-03T07:46:26.663Z"
   },
   {
    "duration": 97,
    "start_time": "2023-03-03T07:46:26.678Z"
   },
   {
    "duration": 91,
    "start_time": "2023-03-03T07:46:26.777Z"
   },
   {
    "duration": 6,
    "start_time": "2023-03-03T07:46:26.869Z"
   },
   {
    "duration": 8,
    "start_time": "2023-03-03T07:46:26.877Z"
   },
   {
    "duration": 7,
    "start_time": "2023-03-03T07:46:26.886Z"
   },
   {
    "duration": 57,
    "start_time": "2023-03-03T07:46:26.895Z"
   },
   {
    "duration": 11,
    "start_time": "2023-03-03T07:46:26.953Z"
   },
   {
    "duration": 8,
    "start_time": "2023-03-03T07:46:26.966Z"
   },
   {
    "duration": 9,
    "start_time": "2023-03-03T07:46:26.976Z"
   },
   {
    "duration": 23,
    "start_time": "2023-03-03T07:46:26.987Z"
   },
   {
    "duration": 43,
    "start_time": "2023-03-03T07:46:27.011Z"
   },
   {
    "duration": 26,
    "start_time": "2023-03-03T07:49:56.850Z"
   },
   {
    "duration": 9,
    "start_time": "2023-03-03T07:50:00.577Z"
   },
   {
    "duration": 4,
    "start_time": "2023-03-03T07:57:43.564Z"
   },
   {
    "duration": 102,
    "start_time": "2023-03-03T07:57:48.746Z"
   },
   {
    "duration": 13,
    "start_time": "2023-03-03T07:58:17.262Z"
   },
   {
    "duration": 4,
    "start_time": "2023-03-03T07:58:23.967Z"
   },
   {
    "duration": 8,
    "start_time": "2023-03-03T07:58:24.377Z"
   },
   {
    "duration": 48,
    "start_time": "2023-03-03T07:58:35.191Z"
   },
   {
    "duration": 9,
    "start_time": "2023-03-03T07:58:50.795Z"
   },
   {
    "duration": 1086,
    "start_time": "2023-03-03T08:56:08.355Z"
   },
   {
    "duration": 27,
    "start_time": "2023-03-03T08:56:09.443Z"
   },
   {
    "duration": 11,
    "start_time": "2023-03-03T08:56:09.471Z"
   },
   {
    "duration": 6,
    "start_time": "2023-03-03T08:56:09.484Z"
   },
   {
    "duration": 14,
    "start_time": "2023-03-03T08:56:09.492Z"
   },
   {
    "duration": 25,
    "start_time": "2023-03-03T08:56:09.507Z"
   },
   {
    "duration": 12,
    "start_time": "2023-03-03T08:56:09.534Z"
   },
   {
    "duration": 52,
    "start_time": "2023-03-03T08:56:09.548Z"
   },
   {
    "duration": 8,
    "start_time": "2023-03-03T08:56:09.602Z"
   },
   {
    "duration": 11,
    "start_time": "2023-03-03T08:56:09.612Z"
   },
   {
    "duration": 13,
    "start_time": "2023-03-03T08:56:09.625Z"
   },
   {
    "duration": 11,
    "start_time": "2023-03-03T08:56:09.640Z"
   },
   {
    "duration": 6,
    "start_time": "2023-03-03T08:56:09.652Z"
   },
   {
    "duration": 5,
    "start_time": "2023-03-03T08:56:09.661Z"
   },
   {
    "duration": 13,
    "start_time": "2023-03-03T08:56:09.668Z"
   },
   {
    "duration": 9,
    "start_time": "2023-03-03T08:56:09.683Z"
   },
   {
    "duration": 4,
    "start_time": "2023-03-03T08:56:09.693Z"
   },
   {
    "duration": 16,
    "start_time": "2023-03-03T08:56:09.698Z"
   },
   {
    "duration": 31,
    "start_time": "2023-03-03T08:56:09.715Z"
   },
   {
    "duration": 170,
    "start_time": "2023-03-03T08:56:09.748Z"
   },
   {
    "duration": 11,
    "start_time": "2023-03-03T08:56:09.919Z"
   },
   {
    "duration": 117,
    "start_time": "2023-03-03T08:56:09.940Z"
   },
   {
    "duration": 27,
    "start_time": "2023-03-03T08:56:10.059Z"
   },
   {
    "duration": 23,
    "start_time": "2023-03-03T08:56:10.087Z"
   },
   {
    "duration": 19,
    "start_time": "2023-03-03T08:56:10.112Z"
   },
   {
    "duration": 6,
    "start_time": "2023-03-03T08:56:10.133Z"
   },
   {
    "duration": 338,
    "start_time": "2023-03-03T08:56:10.141Z"
   },
   {
    "duration": 375,
    "start_time": "2023-03-03T08:56:10.481Z"
   },
   {
    "duration": 417,
    "start_time": "2023-03-03T08:56:10.858Z"
   },
   {
    "duration": 9,
    "start_time": "2023-03-03T08:56:11.277Z"
   },
   {
    "duration": 6,
    "start_time": "2023-03-03T08:56:11.287Z"
   },
   {
    "duration": 415,
    "start_time": "2023-03-03T08:56:11.295Z"
   },
   {
    "duration": 465,
    "start_time": "2023-03-03T08:56:11.712Z"
   },
   {
    "duration": 11,
    "start_time": "2023-03-03T08:56:12.179Z"
   },
   {
    "duration": 135,
    "start_time": "2023-03-03T08:56:12.191Z"
   },
   {
    "duration": 147,
    "start_time": "2023-03-03T08:56:12.328Z"
   },
   {
    "duration": 5,
    "start_time": "2023-03-03T08:56:12.477Z"
   },
   {
    "duration": 31,
    "start_time": "2023-03-03T08:56:12.484Z"
   },
   {
    "duration": 321,
    "start_time": "2023-03-03T08:56:12.516Z"
   },
   {
    "duration": 5,
    "start_time": "2023-03-03T08:56:12.840Z"
   },
   {
    "duration": 38,
    "start_time": "2023-03-03T08:56:12.849Z"
   },
   {
    "duration": 13,
    "start_time": "2023-03-03T08:56:12.889Z"
   },
   {
    "duration": 54,
    "start_time": "2023-03-03T08:56:12.904Z"
   },
   {
    "duration": 66,
    "start_time": "2023-03-03T08:56:12.959Z"
   },
   {
    "duration": 33,
    "start_time": "2023-03-03T08:56:13.026Z"
   },
   {
    "duration": 20,
    "start_time": "2023-03-03T08:56:13.061Z"
   },
   {
    "duration": 66,
    "start_time": "2023-03-03T08:56:13.083Z"
   },
   {
    "duration": 59,
    "start_time": "2023-03-03T08:56:13.151Z"
   },
   {
    "duration": 31,
    "start_time": "2023-03-03T08:56:13.212Z"
   },
   {
    "duration": 25,
    "start_time": "2023-03-03T08:56:13.244Z"
   },
   {
    "duration": 29,
    "start_time": "2023-03-03T08:56:13.270Z"
   },
   {
    "duration": 96,
    "start_time": "2023-03-03T08:56:13.301Z"
   },
   {
    "duration": 85,
    "start_time": "2023-03-03T08:56:13.399Z"
   },
   {
    "duration": 7,
    "start_time": "2023-03-03T08:56:13.485Z"
   },
   {
    "duration": 19,
    "start_time": "2023-03-03T08:56:13.495Z"
   },
   {
    "duration": 28,
    "start_time": "2023-03-03T08:56:13.516Z"
   },
   {
    "duration": 30,
    "start_time": "2023-03-03T08:56:13.545Z"
   },
   {
    "duration": 10,
    "start_time": "2023-03-03T08:56:13.576Z"
   },
   {
    "duration": 24,
    "start_time": "2023-03-03T08:56:13.587Z"
   },
   {
    "duration": 9,
    "start_time": "2023-03-03T08:56:13.612Z"
   },
   {
    "duration": 36,
    "start_time": "2023-03-03T08:56:13.622Z"
   },
   {
    "duration": 16,
    "start_time": "2023-03-03T08:56:13.660Z"
   },
   {
    "duration": 141,
    "start_time": "2023-03-03T09:33:55.690Z"
   },
   {
    "duration": 19,
    "start_time": "2023-03-03T09:34:44.191Z"
   },
   {
    "duration": 11,
    "start_time": "2023-03-03T09:35:50.529Z"
   },
   {
    "duration": 18,
    "start_time": "2023-03-03T09:36:04.160Z"
   },
   {
    "duration": 94,
    "start_time": "2023-03-03T09:39:46.953Z"
   },
   {
    "duration": 65,
    "start_time": "2023-03-03T09:39:53.768Z"
   },
   {
    "duration": 18,
    "start_time": "2023-03-03T09:42:07.881Z"
   },
   {
    "duration": 14,
    "start_time": "2023-03-03T09:42:36.515Z"
   },
   {
    "duration": 12,
    "start_time": "2023-03-03T09:42:42.675Z"
   },
   {
    "duration": 13,
    "start_time": "2023-03-03T09:42:50.167Z"
   },
   {
    "duration": 19,
    "start_time": "2023-03-03T09:45:46.932Z"
   },
   {
    "duration": 16,
    "start_time": "2023-03-03T09:46:00.085Z"
   },
   {
    "duration": 13,
    "start_time": "2023-03-03T09:46:13.573Z"
   },
   {
    "duration": 12,
    "start_time": "2023-03-03T09:46:37.914Z"
   },
   {
    "duration": 14,
    "start_time": "2023-03-03T09:46:56.862Z"
   },
   {
    "duration": 50,
    "start_time": "2023-03-03T09:47:42.734Z"
   },
   {
    "duration": 18,
    "start_time": "2023-03-03T09:49:00.955Z"
   },
   {
    "duration": 13,
    "start_time": "2023-03-03T09:49:19.273Z"
   },
   {
    "duration": 29,
    "start_time": "2023-03-03T09:49:32.566Z"
   },
   {
    "duration": 20,
    "start_time": "2023-03-03T09:49:38.441Z"
   },
   {
    "duration": 11,
    "start_time": "2023-03-03T09:54:24.412Z"
   },
   {
    "duration": 19,
    "start_time": "2023-03-03T09:57:34.673Z"
   },
   {
    "duration": 6,
    "start_time": "2023-03-03T09:58:13.303Z"
   },
   {
    "duration": 22,
    "start_time": "2023-03-03T09:58:17.883Z"
   },
   {
    "duration": 1306,
    "start_time": "2023-03-03T09:58:36.405Z"
   },
   {
    "duration": 48,
    "start_time": "2023-03-03T09:58:37.713Z"
   },
   {
    "duration": 15,
    "start_time": "2023-03-03T09:58:37.763Z"
   },
   {
    "duration": 6,
    "start_time": "2023-03-03T09:58:37.780Z"
   },
   {
    "duration": 100,
    "start_time": "2023-03-03T09:58:37.788Z"
   },
   {
    "duration": 6,
    "start_time": "2023-03-03T09:58:37.890Z"
   },
   {
    "duration": 45,
    "start_time": "2023-03-03T09:58:37.898Z"
   },
   {
    "duration": 56,
    "start_time": "2023-03-03T09:58:37.950Z"
   },
   {
    "duration": 11,
    "start_time": "2023-03-03T09:58:38.008Z"
   },
   {
    "duration": 14,
    "start_time": "2023-03-03T09:58:38.021Z"
   },
   {
    "duration": 26,
    "start_time": "2023-03-03T09:58:38.037Z"
   },
   {
    "duration": 12,
    "start_time": "2023-03-03T09:58:38.068Z"
   },
   {
    "duration": 6,
    "start_time": "2023-03-03T09:58:38.081Z"
   },
   {
    "duration": 6,
    "start_time": "2023-03-03T09:58:38.090Z"
   },
   {
    "duration": 9,
    "start_time": "2023-03-03T09:58:38.097Z"
   },
   {
    "duration": 6,
    "start_time": "2023-03-03T09:58:38.107Z"
   },
   {
    "duration": 4,
    "start_time": "2023-03-03T09:58:38.114Z"
   },
   {
    "duration": 12,
    "start_time": "2023-03-03T09:58:38.142Z"
   },
   {
    "duration": 19,
    "start_time": "2023-03-03T09:58:38.156Z"
   },
   {
    "duration": 205,
    "start_time": "2023-03-03T09:58:38.176Z"
   },
   {
    "duration": 11,
    "start_time": "2023-03-03T09:58:38.382Z"
   },
   {
    "duration": 154,
    "start_time": "2023-03-03T09:58:38.395Z"
   },
   {
    "duration": 19,
    "start_time": "2023-03-03T09:58:38.551Z"
   },
   {
    "duration": 15,
    "start_time": "2023-03-03T09:58:38.572Z"
   },
   {
    "duration": 13,
    "start_time": "2023-03-03T09:58:38.589Z"
   },
   {
    "duration": 8,
    "start_time": "2023-03-03T09:58:38.603Z"
   },
   {
    "duration": 441,
    "start_time": "2023-03-03T09:58:38.612Z"
   },
   {
    "duration": 376,
    "start_time": "2023-03-03T09:58:39.056Z"
   },
   {
    "duration": 528,
    "start_time": "2023-03-03T09:58:39.440Z"
   },
   {
    "duration": 12,
    "start_time": "2023-03-03T09:58:39.970Z"
   },
   {
    "duration": 6,
    "start_time": "2023-03-03T09:58:39.984Z"
   },
   {
    "duration": 450,
    "start_time": "2023-03-03T09:58:39.992Z"
   },
   {
    "duration": 483,
    "start_time": "2023-03-03T09:58:40.444Z"
   },
   {
    "duration": 18,
    "start_time": "2023-03-03T09:58:40.928Z"
   },
   {
    "duration": 135,
    "start_time": "2023-03-03T09:58:40.947Z"
   },
   {
    "duration": 247,
    "start_time": "2023-03-03T09:58:41.084Z"
   },
   {
    "duration": 5,
    "start_time": "2023-03-03T09:58:41.333Z"
   },
   {
    "duration": 26,
    "start_time": "2023-03-03T09:58:41.342Z"
   },
   {
    "duration": 255,
    "start_time": "2023-03-03T09:58:41.371Z"
   },
   {
    "duration": 4,
    "start_time": "2023-03-03T09:58:41.627Z"
   },
   {
    "duration": 15,
    "start_time": "2023-03-03T09:58:41.654Z"
   },
   {
    "duration": 10,
    "start_time": "2023-03-03T09:58:41.671Z"
   },
   {
    "duration": 94,
    "start_time": "2023-03-03T09:58:41.683Z"
   },
   {
    "duration": 66,
    "start_time": "2023-03-03T09:58:41.779Z"
   },
   {
    "duration": 29,
    "start_time": "2023-03-03T09:58:41.858Z"
   },
   {
    "duration": 24,
    "start_time": "2023-03-03T09:58:41.889Z"
   },
   {
    "duration": 85,
    "start_time": "2023-03-03T09:58:41.915Z"
   },
   {
    "duration": 69,
    "start_time": "2023-03-03T09:58:42.002Z"
   },
   {
    "duration": 29,
    "start_time": "2023-03-03T09:58:42.072Z"
   },
   {
    "duration": 13,
    "start_time": "2023-03-03T09:58:42.103Z"
   },
   {
    "duration": 49,
    "start_time": "2023-03-03T09:58:42.117Z"
   },
   {
    "duration": 95,
    "start_time": "2023-03-03T09:58:42.168Z"
   },
   {
    "duration": 108,
    "start_time": "2023-03-03T09:58:42.265Z"
   },
   {
    "duration": 7,
    "start_time": "2023-03-03T09:58:42.375Z"
   },
   {
    "duration": 7,
    "start_time": "2023-03-03T09:58:42.384Z"
   },
   {
    "duration": 8,
    "start_time": "2023-03-03T09:58:42.393Z"
   },
   {
    "duration": 73,
    "start_time": "2023-03-03T09:58:42.403Z"
   },
   {
    "duration": 11,
    "start_time": "2023-03-03T09:58:42.478Z"
   },
   {
    "duration": 11,
    "start_time": "2023-03-03T09:58:42.491Z"
   },
   {
    "duration": 10,
    "start_time": "2023-03-03T09:58:42.504Z"
   },
   {
    "duration": 56,
    "start_time": "2023-03-03T09:58:42.516Z"
   },
   {
    "duration": 15,
    "start_time": "2023-03-03T09:58:42.574Z"
   },
   {
    "duration": 17,
    "start_time": "2023-03-03T09:59:29.658Z"
   },
   {
    "duration": 15,
    "start_time": "2023-03-03T09:59:44.372Z"
   },
   {
    "duration": 14,
    "start_time": "2023-03-03T09:59:57.417Z"
   },
   {
    "duration": 26,
    "start_time": "2023-03-03T10:00:04.629Z"
   },
   {
    "duration": 17,
    "start_time": "2023-03-03T10:00:26.467Z"
   },
   {
    "duration": 4,
    "start_time": "2023-03-03T10:00:30.938Z"
   },
   {
    "duration": 17,
    "start_time": "2023-03-03T10:00:31.567Z"
   },
   {
    "duration": 1283,
    "start_time": "2023-03-03T10:00:53.496Z"
   },
   {
    "duration": 26,
    "start_time": "2023-03-03T10:00:54.782Z"
   },
   {
    "duration": 15,
    "start_time": "2023-03-03T10:00:54.810Z"
   },
   {
    "duration": 5,
    "start_time": "2023-03-03T10:00:54.828Z"
   },
   {
    "duration": 69,
    "start_time": "2023-03-03T10:00:54.835Z"
   },
   {
    "duration": 9,
    "start_time": "2023-03-03T10:00:54.906Z"
   },
   {
    "duration": 15,
    "start_time": "2023-03-03T10:00:54.916Z"
   },
   {
    "duration": 76,
    "start_time": "2023-03-03T10:00:54.940Z"
   },
   {
    "duration": 9,
    "start_time": "2023-03-03T10:00:55.018Z"
   },
   {
    "duration": 34,
    "start_time": "2023-03-03T10:00:55.030Z"
   },
   {
    "duration": 27,
    "start_time": "2023-03-03T10:00:55.066Z"
   },
   {
    "duration": 13,
    "start_time": "2023-03-03T10:00:55.095Z"
   },
   {
    "duration": 20,
    "start_time": "2023-03-03T10:00:55.109Z"
   },
   {
    "duration": 15,
    "start_time": "2023-03-03T10:00:55.131Z"
   },
   {
    "duration": 14,
    "start_time": "2023-03-03T10:00:55.148Z"
   },
   {
    "duration": 7,
    "start_time": "2023-03-03T10:00:55.165Z"
   },
   {
    "duration": 6,
    "start_time": "2023-03-03T10:00:55.174Z"
   },
   {
    "duration": 6,
    "start_time": "2023-03-03T10:00:55.182Z"
   },
   {
    "duration": 18,
    "start_time": "2023-03-03T10:00:55.190Z"
   },
   {
    "duration": 265,
    "start_time": "2023-03-03T10:00:55.210Z"
   },
   {
    "duration": 11,
    "start_time": "2023-03-03T10:00:55.477Z"
   },
   {
    "duration": 177,
    "start_time": "2023-03-03T10:00:55.489Z"
   },
   {
    "duration": 11,
    "start_time": "2023-03-03T10:00:55.669Z"
   },
   {
    "duration": 14,
    "start_time": "2023-03-03T10:00:55.682Z"
   },
   {
    "duration": 16,
    "start_time": "2023-03-03T10:00:55.699Z"
   },
   {
    "duration": 31,
    "start_time": "2023-03-03T10:00:55.717Z"
   },
   {
    "duration": 414,
    "start_time": "2023-03-03T10:00:55.752Z"
   },
   {
    "duration": 421,
    "start_time": "2023-03-03T10:00:56.172Z"
   },
   {
    "duration": 539,
    "start_time": "2023-03-03T10:00:56.595Z"
   },
   {
    "duration": 22,
    "start_time": "2023-03-03T10:00:57.140Z"
   },
   {
    "duration": 11,
    "start_time": "2023-03-03T10:00:57.163Z"
   },
   {
    "duration": 475,
    "start_time": "2023-03-03T10:00:57.176Z"
   },
   {
    "duration": 592,
    "start_time": "2023-03-03T10:00:57.654Z"
   },
   {
    "duration": 19,
    "start_time": "2023-03-03T10:00:58.249Z"
   },
   {
    "duration": 165,
    "start_time": "2023-03-03T10:00:58.270Z"
   },
   {
    "duration": 320,
    "start_time": "2023-03-03T10:00:58.436Z"
   },
   {
    "duration": 6,
    "start_time": "2023-03-03T10:00:58.758Z"
   },
   {
    "duration": 17,
    "start_time": "2023-03-03T10:00:58.767Z"
   },
   {
    "duration": 283,
    "start_time": "2023-03-03T10:00:58.786Z"
   },
   {
    "duration": 5,
    "start_time": "2023-03-03T10:00:59.071Z"
   },
   {
    "duration": 11,
    "start_time": "2023-03-03T10:00:59.077Z"
   },
   {
    "duration": 28,
    "start_time": "2023-03-03T10:00:59.089Z"
   },
   {
    "duration": 68,
    "start_time": "2023-03-03T10:00:59.118Z"
   },
   {
    "duration": 79,
    "start_time": "2023-03-03T10:00:59.188Z"
   },
   {
    "duration": 24,
    "start_time": "2023-03-03T10:00:59.269Z"
   },
   {
    "duration": 32,
    "start_time": "2023-03-03T10:00:59.295Z"
   },
   {
    "duration": 69,
    "start_time": "2023-03-03T10:00:59.329Z"
   },
   {
    "duration": 61,
    "start_time": "2023-03-03T10:00:59.401Z"
   },
   {
    "duration": 24,
    "start_time": "2023-03-03T10:00:59.465Z"
   },
   {
    "duration": 10,
    "start_time": "2023-03-03T10:00:59.491Z"
   },
   {
    "duration": 61,
    "start_time": "2023-03-03T10:00:59.503Z"
   },
   {
    "duration": 81,
    "start_time": "2023-03-03T10:00:59.570Z"
   },
   {
    "duration": 98,
    "start_time": "2023-03-03T10:00:59.653Z"
   },
   {
    "duration": 6,
    "start_time": "2023-03-03T10:00:59.754Z"
   },
   {
    "duration": 7,
    "start_time": "2023-03-03T10:00:59.762Z"
   },
   {
    "duration": 6,
    "start_time": "2023-03-03T10:00:59.771Z"
   },
   {
    "duration": 29,
    "start_time": "2023-03-03T10:00:59.779Z"
   },
   {
    "duration": 38,
    "start_time": "2023-03-03T10:00:59.810Z"
   },
   {
    "duration": 22,
    "start_time": "2023-03-03T10:00:59.850Z"
   },
   {
    "duration": 21,
    "start_time": "2023-03-03T10:00:59.874Z"
   },
   {
    "duration": 34,
    "start_time": "2023-03-03T10:00:59.897Z"
   },
   {
    "duration": 20,
    "start_time": "2023-03-03T10:00:59.933Z"
   },
   {
    "duration": 13,
    "start_time": "2023-03-03T10:01:24.280Z"
   },
   {
    "duration": 20,
    "start_time": "2023-03-03T10:01:27.682Z"
   },
   {
    "duration": 5,
    "start_time": "2023-03-03T10:01:30.429Z"
   },
   {
    "duration": 15,
    "start_time": "2023-03-03T10:01:30.782Z"
   },
   {
    "duration": 15,
    "start_time": "2023-03-03T10:01:40.521Z"
   },
   {
    "duration": 11,
    "start_time": "2023-03-03T10:03:15.290Z"
   },
   {
    "duration": 16,
    "start_time": "2023-03-03T10:03:37.309Z"
   },
   {
    "duration": 128,
    "start_time": "2023-03-03T10:04:03.765Z"
   },
   {
    "duration": 18,
    "start_time": "2023-03-03T10:04:08.157Z"
   },
   {
    "duration": 19,
    "start_time": "2023-03-03T10:04:24.714Z"
   },
   {
    "duration": 18,
    "start_time": "2023-03-03T10:04:33.931Z"
   },
   {
    "duration": 18,
    "start_time": "2023-03-03T10:04:53.667Z"
   },
   {
    "duration": 15,
    "start_time": "2023-03-03T10:07:02.437Z"
   },
   {
    "duration": 4,
    "start_time": "2023-03-03T10:08:58.673Z"
   },
   {
    "duration": 23,
    "start_time": "2023-03-03T10:09:00.117Z"
   },
   {
    "duration": 185,
    "start_time": "2023-03-03T10:10:34.920Z"
   },
   {
    "duration": 4,
    "start_time": "2023-03-03T10:10:37.401Z"
   },
   {
    "duration": 11,
    "start_time": "2023-03-03T10:15:56.565Z"
   },
   {
    "duration": 10,
    "start_time": "2023-03-03T10:21:28.575Z"
   },
   {
    "duration": 10,
    "start_time": "2023-03-03T10:21:43.977Z"
   },
   {
    "duration": 10,
    "start_time": "2023-03-03T10:21:58.359Z"
   },
   {
    "duration": 7,
    "start_time": "2023-03-03T10:26:11.363Z"
   },
   {
    "duration": 4,
    "start_time": "2023-03-03T10:26:15.696Z"
   },
   {
    "duration": 9,
    "start_time": "2023-03-03T10:26:46.381Z"
   },
   {
    "duration": 14,
    "start_time": "2023-03-03T10:42:35.594Z"
   },
   {
    "duration": 18,
    "start_time": "2023-03-03T10:43:38.975Z"
   },
   {
    "duration": 3,
    "start_time": "2023-03-03T10:45:26.191Z"
   },
   {
    "duration": 10,
    "start_time": "2023-03-03T10:52:35.739Z"
   },
   {
    "duration": 20,
    "start_time": "2023-03-03T10:52:47.646Z"
   },
   {
    "duration": 6,
    "start_time": "2023-03-03T10:54:48.357Z"
   },
   {
    "duration": 4,
    "start_time": "2023-03-03T10:54:52.823Z"
   },
   {
    "duration": 5,
    "start_time": "2023-03-03T10:54:55.390Z"
   },
   {
    "duration": 6,
    "start_time": "2023-03-03T10:55:06.527Z"
   },
   {
    "duration": 77,
    "start_time": "2023-03-03T11:08:12.409Z"
   },
   {
    "duration": 5,
    "start_time": "2023-03-03T11:08:41.564Z"
   },
   {
    "duration": 77,
    "start_time": "2023-03-03T11:08:50.173Z"
   },
   {
    "duration": 8,
    "start_time": "2023-03-03T11:09:02.485Z"
   },
   {
    "duration": 6,
    "start_time": "2023-03-03T11:09:16.975Z"
   },
   {
    "duration": 6,
    "start_time": "2023-03-03T11:09:26.868Z"
   },
   {
    "duration": 4,
    "start_time": "2023-03-03T11:10:11.325Z"
   },
   {
    "duration": 11,
    "start_time": "2023-03-03T11:10:25.398Z"
   },
   {
    "duration": 12,
    "start_time": "2023-03-03T11:10:28.500Z"
   },
   {
    "duration": 18,
    "start_time": "2023-03-03T11:10:41.040Z"
   },
   {
    "duration": 5,
    "start_time": "2023-03-03T11:10:44.700Z"
   },
   {
    "duration": 5,
    "start_time": "2023-03-03T11:10:49.325Z"
   },
   {
    "duration": 6,
    "start_time": "2023-03-03T11:10:59.993Z"
   },
   {
    "duration": 73,
    "start_time": "2023-03-03T11:12:41.192Z"
   },
   {
    "duration": 6,
    "start_time": "2023-03-03T11:12:44.851Z"
   },
   {
    "duration": 7,
    "start_time": "2023-03-03T11:13:22.438Z"
   },
   {
    "duration": 73,
    "start_time": "2023-03-03T11:13:55.308Z"
   },
   {
    "duration": 8,
    "start_time": "2023-03-03T11:13:59.887Z"
   },
   {
    "duration": 5,
    "start_time": "2023-03-03T11:15:00.767Z"
   },
   {
    "duration": 6,
    "start_time": "2023-03-03T11:20:20.895Z"
   },
   {
    "duration": 99,
    "start_time": "2023-03-03T11:21:01.499Z"
   },
   {
    "duration": 5,
    "start_time": "2023-03-03T11:21:07.841Z"
   },
   {
    "duration": 7,
    "start_time": "2023-03-03T11:22:07.556Z"
   },
   {
    "duration": 7,
    "start_time": "2023-03-03T11:25:28.102Z"
   },
   {
    "duration": 6,
    "start_time": "2023-03-03T11:25:42.545Z"
   },
   {
    "duration": 8,
    "start_time": "2023-03-03T11:25:48.144Z"
   },
   {
    "duration": 6,
    "start_time": "2023-03-03T11:25:51.501Z"
   },
   {
    "duration": 9,
    "start_time": "2023-03-03T11:26:38.773Z"
   },
   {
    "duration": 9,
    "start_time": "2023-03-03T11:27:33.281Z"
   },
   {
    "duration": 353,
    "start_time": "2023-03-03T11:31:04.759Z"
   },
   {
    "duration": 8,
    "start_time": "2023-03-03T11:33:15.142Z"
   },
   {
    "duration": 7,
    "start_time": "2023-03-03T11:33:30.297Z"
   },
   {
    "duration": 13,
    "start_time": "2023-03-03T11:35:38.306Z"
   },
   {
    "duration": 77,
    "start_time": "2023-03-03T11:36:26.187Z"
   },
   {
    "duration": 77,
    "start_time": "2023-03-03T11:36:50.135Z"
   },
   {
    "duration": 96,
    "start_time": "2023-03-03T11:37:02.622Z"
   },
   {
    "duration": 9,
    "start_time": "2023-03-03T11:37:14.418Z"
   },
   {
    "duration": 1134,
    "start_time": "2023-03-03T11:47:49.688Z"
   },
   {
    "duration": 27,
    "start_time": "2023-03-03T11:47:50.824Z"
   },
   {
    "duration": 11,
    "start_time": "2023-03-03T11:47:50.853Z"
   },
   {
    "duration": 7,
    "start_time": "2023-03-03T11:47:50.865Z"
   },
   {
    "duration": 68,
    "start_time": "2023-03-03T11:47:50.874Z"
   },
   {
    "duration": 4,
    "start_time": "2023-03-03T11:47:50.944Z"
   },
   {
    "duration": 18,
    "start_time": "2023-03-03T11:47:50.949Z"
   },
   {
    "duration": 69,
    "start_time": "2023-03-03T11:47:50.968Z"
   },
   {
    "duration": 7,
    "start_time": "2023-03-03T11:47:51.039Z"
   },
   {
    "duration": 14,
    "start_time": "2023-03-03T11:47:51.048Z"
   },
   {
    "duration": 11,
    "start_time": "2023-03-03T11:47:51.064Z"
   },
   {
    "duration": 12,
    "start_time": "2023-03-03T11:47:51.077Z"
   },
   {
    "duration": 8,
    "start_time": "2023-03-03T11:47:51.091Z"
   },
   {
    "duration": 38,
    "start_time": "2023-03-03T11:47:51.103Z"
   },
   {
    "duration": 8,
    "start_time": "2023-03-03T11:47:51.143Z"
   },
   {
    "duration": 5,
    "start_time": "2023-03-03T11:47:51.153Z"
   },
   {
    "duration": 7,
    "start_time": "2023-03-03T11:47:51.160Z"
   },
   {
    "duration": 6,
    "start_time": "2023-03-03T11:47:51.169Z"
   },
   {
    "duration": 128,
    "start_time": "2023-03-03T11:47:51.177Z"
   },
   {
    "duration": 0,
    "start_time": "2023-03-03T11:47:51.307Z"
   },
   {
    "duration": 0,
    "start_time": "2023-03-03T11:47:51.309Z"
   },
   {
    "duration": 0,
    "start_time": "2023-03-03T11:47:51.311Z"
   },
   {
    "duration": 0,
    "start_time": "2023-03-03T11:47:51.312Z"
   },
   {
    "duration": 0,
    "start_time": "2023-03-03T11:47:51.314Z"
   },
   {
    "duration": 0,
    "start_time": "2023-03-03T11:47:51.315Z"
   },
   {
    "duration": 0,
    "start_time": "2023-03-03T11:47:51.317Z"
   },
   {
    "duration": 0,
    "start_time": "2023-03-03T11:47:51.319Z"
   },
   {
    "duration": 0,
    "start_time": "2023-03-03T11:47:51.320Z"
   },
   {
    "duration": 0,
    "start_time": "2023-03-03T11:47:51.342Z"
   },
   {
    "duration": 0,
    "start_time": "2023-03-03T11:47:51.343Z"
   },
   {
    "duration": 0,
    "start_time": "2023-03-03T11:47:51.345Z"
   },
   {
    "duration": 0,
    "start_time": "2023-03-03T11:47:51.346Z"
   },
   {
    "duration": 0,
    "start_time": "2023-03-03T11:47:51.348Z"
   },
   {
    "duration": 0,
    "start_time": "2023-03-03T11:47:51.349Z"
   },
   {
    "duration": 0,
    "start_time": "2023-03-03T11:47:51.351Z"
   },
   {
    "duration": 0,
    "start_time": "2023-03-03T11:47:51.352Z"
   },
   {
    "duration": 0,
    "start_time": "2023-03-03T11:47:51.353Z"
   },
   {
    "duration": 0,
    "start_time": "2023-03-03T11:47:51.355Z"
   },
   {
    "duration": 0,
    "start_time": "2023-03-03T11:47:51.356Z"
   },
   {
    "duration": 0,
    "start_time": "2023-03-03T11:47:51.357Z"
   },
   {
    "duration": 0,
    "start_time": "2023-03-03T11:47:51.359Z"
   },
   {
    "duration": 0,
    "start_time": "2023-03-03T11:47:51.360Z"
   },
   {
    "duration": 0,
    "start_time": "2023-03-03T11:47:51.361Z"
   },
   {
    "duration": 0,
    "start_time": "2023-03-03T11:47:51.362Z"
   },
   {
    "duration": 0,
    "start_time": "2023-03-03T11:47:51.363Z"
   },
   {
    "duration": 0,
    "start_time": "2023-03-03T11:47:51.364Z"
   },
   {
    "duration": 0,
    "start_time": "2023-03-03T11:47:51.366Z"
   },
   {
    "duration": 0,
    "start_time": "2023-03-03T11:47:51.367Z"
   },
   {
    "duration": 0,
    "start_time": "2023-03-03T11:47:51.368Z"
   },
   {
    "duration": 0,
    "start_time": "2023-03-03T11:47:51.370Z"
   },
   {
    "duration": 0,
    "start_time": "2023-03-03T11:47:51.371Z"
   },
   {
    "duration": 0,
    "start_time": "2023-03-03T11:47:51.373Z"
   },
   {
    "duration": 0,
    "start_time": "2023-03-03T11:47:51.374Z"
   },
   {
    "duration": 0,
    "start_time": "2023-03-03T11:47:51.376Z"
   },
   {
    "duration": 0,
    "start_time": "2023-03-03T11:47:51.377Z"
   },
   {
    "duration": 0,
    "start_time": "2023-03-03T11:47:51.379Z"
   },
   {
    "duration": 0,
    "start_time": "2023-03-03T11:47:51.380Z"
   },
   {
    "duration": 0,
    "start_time": "2023-03-03T11:47:51.441Z"
   },
   {
    "duration": 0,
    "start_time": "2023-03-03T11:47:51.443Z"
   },
   {
    "duration": 0,
    "start_time": "2023-03-03T11:47:51.444Z"
   },
   {
    "duration": 1,
    "start_time": "2023-03-03T11:47:51.445Z"
   },
   {
    "duration": 0,
    "start_time": "2023-03-03T11:47:51.447Z"
   },
   {
    "duration": 0,
    "start_time": "2023-03-03T11:47:51.449Z"
   },
   {
    "duration": 0,
    "start_time": "2023-03-03T11:47:51.451Z"
   },
   {
    "duration": 0,
    "start_time": "2023-03-03T11:47:51.452Z"
   },
   {
    "duration": 0,
    "start_time": "2023-03-03T11:47:51.454Z"
   },
   {
    "duration": 7,
    "start_time": "2023-03-03T11:48:25.580Z"
   },
   {
    "duration": 1157,
    "start_time": "2023-03-03T11:48:31.483Z"
   },
   {
    "duration": 26,
    "start_time": "2023-03-03T11:48:32.642Z"
   },
   {
    "duration": 12,
    "start_time": "2023-03-03T11:48:32.670Z"
   },
   {
    "duration": 7,
    "start_time": "2023-03-03T11:48:32.683Z"
   },
   {
    "duration": 55,
    "start_time": "2023-03-03T11:48:32.693Z"
   },
   {
    "duration": 6,
    "start_time": "2023-03-03T11:48:32.751Z"
   },
   {
    "duration": 15,
    "start_time": "2023-03-03T11:48:32.759Z"
   },
   {
    "duration": 52,
    "start_time": "2023-03-03T11:48:32.776Z"
   },
   {
    "duration": 9,
    "start_time": "2023-03-03T11:48:32.830Z"
   },
   {
    "duration": 23,
    "start_time": "2023-03-03T11:48:32.840Z"
   },
   {
    "duration": 8,
    "start_time": "2023-03-03T11:48:32.865Z"
   },
   {
    "duration": 12,
    "start_time": "2023-03-03T11:48:32.874Z"
   },
   {
    "duration": 8,
    "start_time": "2023-03-03T11:48:32.888Z"
   },
   {
    "duration": 7,
    "start_time": "2023-03-03T11:48:32.899Z"
   },
   {
    "duration": 35,
    "start_time": "2023-03-03T11:48:32.907Z"
   },
   {
    "duration": 6,
    "start_time": "2023-03-03T11:48:32.944Z"
   },
   {
    "duration": 6,
    "start_time": "2023-03-03T11:48:32.952Z"
   },
   {
    "duration": 11,
    "start_time": "2023-03-03T11:48:32.959Z"
   },
   {
    "duration": 6,
    "start_time": "2023-03-03T11:48:32.971Z"
   },
   {
    "duration": 5,
    "start_time": "2023-03-03T11:48:32.979Z"
   },
   {
    "duration": 73,
    "start_time": "2023-03-03T11:48:32.986Z"
   },
   {
    "duration": 0,
    "start_time": "2023-03-03T11:48:33.062Z"
   },
   {
    "duration": 0,
    "start_time": "2023-03-03T11:48:33.064Z"
   },
   {
    "duration": 0,
    "start_time": "2023-03-03T11:48:33.066Z"
   },
   {
    "duration": 0,
    "start_time": "2023-03-03T11:48:33.067Z"
   },
   {
    "duration": 0,
    "start_time": "2023-03-03T11:48:33.069Z"
   },
   {
    "duration": 0,
    "start_time": "2023-03-03T11:48:33.070Z"
   },
   {
    "duration": 0,
    "start_time": "2023-03-03T11:48:33.071Z"
   },
   {
    "duration": 0,
    "start_time": "2023-03-03T11:48:33.072Z"
   },
   {
    "duration": 0,
    "start_time": "2023-03-03T11:48:33.074Z"
   },
   {
    "duration": 0,
    "start_time": "2023-03-03T11:48:33.075Z"
   },
   {
    "duration": 0,
    "start_time": "2023-03-03T11:48:33.077Z"
   },
   {
    "duration": 0,
    "start_time": "2023-03-03T11:48:33.078Z"
   },
   {
    "duration": 0,
    "start_time": "2023-03-03T11:48:33.079Z"
   },
   {
    "duration": 0,
    "start_time": "2023-03-03T11:48:33.080Z"
   },
   {
    "duration": 0,
    "start_time": "2023-03-03T11:48:33.081Z"
   },
   {
    "duration": 0,
    "start_time": "2023-03-03T11:48:33.082Z"
   },
   {
    "duration": 0,
    "start_time": "2023-03-03T11:48:33.084Z"
   },
   {
    "duration": 0,
    "start_time": "2023-03-03T11:48:33.085Z"
   },
   {
    "duration": 0,
    "start_time": "2023-03-03T11:48:33.086Z"
   },
   {
    "duration": 0,
    "start_time": "2023-03-03T11:48:33.087Z"
   },
   {
    "duration": 0,
    "start_time": "2023-03-03T11:48:33.089Z"
   },
   {
    "duration": 0,
    "start_time": "2023-03-03T11:48:33.090Z"
   },
   {
    "duration": 0,
    "start_time": "2023-03-03T11:48:33.092Z"
   },
   {
    "duration": 0,
    "start_time": "2023-03-03T11:48:33.094Z"
   },
   {
    "duration": 0,
    "start_time": "2023-03-03T11:48:33.095Z"
   },
   {
    "duration": 0,
    "start_time": "2023-03-03T11:48:33.096Z"
   },
   {
    "duration": 0,
    "start_time": "2023-03-03T11:48:33.097Z"
   },
   {
    "duration": 0,
    "start_time": "2023-03-03T11:48:33.099Z"
   },
   {
    "duration": 0,
    "start_time": "2023-03-03T11:48:33.100Z"
   },
   {
    "duration": 0,
    "start_time": "2023-03-03T11:48:33.141Z"
   },
   {
    "duration": 0,
    "start_time": "2023-03-03T11:48:33.142Z"
   },
   {
    "duration": 0,
    "start_time": "2023-03-03T11:48:33.143Z"
   },
   {
    "duration": 0,
    "start_time": "2023-03-03T11:48:33.145Z"
   },
   {
    "duration": 0,
    "start_time": "2023-03-03T11:48:33.146Z"
   },
   {
    "duration": 0,
    "start_time": "2023-03-03T11:48:33.147Z"
   },
   {
    "duration": 0,
    "start_time": "2023-03-03T11:48:33.157Z"
   },
   {
    "duration": 0,
    "start_time": "2023-03-03T11:48:33.158Z"
   },
   {
    "duration": 0,
    "start_time": "2023-03-03T11:48:33.159Z"
   },
   {
    "duration": 0,
    "start_time": "2023-03-03T11:48:33.160Z"
   },
   {
    "duration": 0,
    "start_time": "2023-03-03T11:48:33.161Z"
   },
   {
    "duration": 0,
    "start_time": "2023-03-03T11:48:33.162Z"
   },
   {
    "duration": 0,
    "start_time": "2023-03-03T11:48:33.163Z"
   },
   {
    "duration": 0,
    "start_time": "2023-03-03T11:48:33.164Z"
   },
   {
    "duration": 0,
    "start_time": "2023-03-03T11:48:33.167Z"
   },
   {
    "duration": 0,
    "start_time": "2023-03-03T11:48:33.167Z"
   },
   {
    "duration": 1159,
    "start_time": "2023-03-03T11:49:10.306Z"
   },
   {
    "duration": 27,
    "start_time": "2023-03-03T11:49:11.467Z"
   },
   {
    "duration": 14,
    "start_time": "2023-03-03T11:49:11.496Z"
   },
   {
    "duration": 12,
    "start_time": "2023-03-03T11:49:11.512Z"
   },
   {
    "duration": 53,
    "start_time": "2023-03-03T11:49:11.527Z"
   },
   {
    "duration": 5,
    "start_time": "2023-03-03T11:49:11.582Z"
   },
   {
    "duration": 18,
    "start_time": "2023-03-03T11:49:11.589Z"
   },
   {
    "duration": 50,
    "start_time": "2023-03-03T11:49:11.609Z"
   },
   {
    "duration": 8,
    "start_time": "2023-03-03T11:49:11.661Z"
   },
   {
    "duration": 18,
    "start_time": "2023-03-03T11:49:11.671Z"
   },
   {
    "duration": 13,
    "start_time": "2023-03-03T11:49:11.691Z"
   },
   {
    "duration": 16,
    "start_time": "2023-03-03T11:49:11.706Z"
   },
   {
    "duration": 18,
    "start_time": "2023-03-03T11:49:11.724Z"
   },
   {
    "duration": 7,
    "start_time": "2023-03-03T11:49:11.746Z"
   },
   {
    "duration": 7,
    "start_time": "2023-03-03T11:49:11.756Z"
   },
   {
    "duration": 14,
    "start_time": "2023-03-03T11:49:11.766Z"
   },
   {
    "duration": 11,
    "start_time": "2023-03-03T11:49:11.782Z"
   },
   {
    "duration": 6,
    "start_time": "2023-03-03T11:49:11.799Z"
   },
   {
    "duration": 7,
    "start_time": "2023-03-03T11:49:11.808Z"
   },
   {
    "duration": 15,
    "start_time": "2023-03-03T11:49:11.841Z"
   },
   {
    "duration": 16,
    "start_time": "2023-03-03T11:49:11.858Z"
   },
   {
    "duration": 15,
    "start_time": "2023-03-03T11:49:11.875Z"
   },
   {
    "duration": 250,
    "start_time": "2023-03-03T11:49:11.892Z"
   },
   {
    "duration": 14,
    "start_time": "2023-03-03T11:49:12.147Z"
   },
   {
    "duration": 160,
    "start_time": "2023-03-03T11:49:12.163Z"
   },
   {
    "duration": 16,
    "start_time": "2023-03-03T11:49:12.325Z"
   },
   {
    "duration": 15,
    "start_time": "2023-03-03T11:49:12.343Z"
   },
   {
    "duration": 15,
    "start_time": "2023-03-03T11:49:12.360Z"
   },
   {
    "duration": 8,
    "start_time": "2023-03-03T11:49:12.377Z"
   },
   {
    "duration": 381,
    "start_time": "2023-03-03T11:49:12.387Z"
   },
   {
    "duration": 359,
    "start_time": "2023-03-03T11:49:12.771Z"
   },
   {
    "duration": 461,
    "start_time": "2023-03-03T11:49:13.132Z"
   },
   {
    "duration": 8,
    "start_time": "2023-03-03T11:49:13.595Z"
   },
   {
    "duration": 11,
    "start_time": "2023-03-03T11:49:13.605Z"
   },
   {
    "duration": 488,
    "start_time": "2023-03-03T11:49:13.618Z"
   },
   {
    "duration": 485,
    "start_time": "2023-03-03T11:49:14.107Z"
   },
   {
    "duration": 12,
    "start_time": "2023-03-03T11:49:14.595Z"
   },
   {
    "duration": 122,
    "start_time": "2023-03-03T11:49:14.609Z"
   },
   {
    "duration": 250,
    "start_time": "2023-03-03T11:49:14.740Z"
   },
   {
    "duration": 7,
    "start_time": "2023-03-03T11:49:14.993Z"
   },
   {
    "duration": 32,
    "start_time": "2023-03-03T11:49:15.005Z"
   },
   {
    "duration": 254,
    "start_time": "2023-03-03T11:49:15.042Z"
   },
   {
    "duration": 5,
    "start_time": "2023-03-03T11:49:15.297Z"
   },
   {
    "duration": 12,
    "start_time": "2023-03-03T11:49:15.304Z"
   },
   {
    "duration": 32,
    "start_time": "2023-03-03T11:49:15.318Z"
   },
   {
    "duration": 55,
    "start_time": "2023-03-03T11:49:15.352Z"
   },
   {
    "duration": 63,
    "start_time": "2023-03-03T11:49:15.408Z"
   },
   {
    "duration": 32,
    "start_time": "2023-03-03T11:49:15.473Z"
   },
   {
    "duration": 34,
    "start_time": "2023-03-03T11:49:15.507Z"
   },
   {
    "duration": 70,
    "start_time": "2023-03-03T11:49:15.544Z"
   },
   {
    "duration": 76,
    "start_time": "2023-03-03T11:49:15.616Z"
   },
   {
    "duration": 25,
    "start_time": "2023-03-03T11:49:15.694Z"
   },
   {
    "duration": 10,
    "start_time": "2023-03-03T11:49:15.741Z"
   },
   {
    "duration": 18,
    "start_time": "2023-03-03T11:49:15.753Z"
   },
   {
    "duration": 101,
    "start_time": "2023-03-03T11:49:15.773Z"
   },
   {
    "duration": 125,
    "start_time": "2023-03-03T11:49:15.876Z"
   },
   {
    "duration": 7,
    "start_time": "2023-03-03T11:49:16.003Z"
   },
   {
    "duration": 30,
    "start_time": "2023-03-03T11:49:16.012Z"
   },
   {
    "duration": 7,
    "start_time": "2023-03-03T11:49:16.044Z"
   },
   {
    "duration": 45,
    "start_time": "2023-03-03T11:49:16.053Z"
   },
   {
    "duration": 13,
    "start_time": "2023-03-03T11:49:16.100Z"
   },
   {
    "duration": 15,
    "start_time": "2023-03-03T11:49:16.140Z"
   },
   {
    "duration": 11,
    "start_time": "2023-03-03T11:49:16.157Z"
   },
   {
    "duration": 26,
    "start_time": "2023-03-03T11:49:16.170Z"
   },
   {
    "duration": 48,
    "start_time": "2023-03-03T11:49:16.198Z"
   },
   {
    "duration": 7,
    "start_time": "2023-03-03T11:50:47.051Z"
   },
   {
    "duration": 10,
    "start_time": "2023-03-03T11:50:56.747Z"
   },
   {
    "duration": 22,
    "start_time": "2023-03-03T11:52:32.041Z"
   },
   {
    "duration": 72,
    "start_time": "2023-03-03T11:56:18.294Z"
   },
   {
    "duration": 4,
    "start_time": "2023-03-03T11:56:24.402Z"
   },
   {
    "duration": 129,
    "start_time": "2023-03-03T11:57:29.899Z"
   },
   {
    "duration": 10,
    "start_time": "2023-03-03T11:57:34.774Z"
   },
   {
    "duration": 12,
    "start_time": "2023-03-03T11:59:01.127Z"
   },
   {
    "duration": 6,
    "start_time": "2023-03-03T11:59:08.481Z"
   },
   {
    "duration": 8,
    "start_time": "2023-03-03T11:59:09.170Z"
   },
   {
    "duration": 12,
    "start_time": "2023-03-03T11:59:14.542Z"
   },
   {
    "duration": 14,
    "start_time": "2023-03-03T11:59:36.615Z"
   },
   {
    "duration": 4,
    "start_time": "2023-03-03T11:59:49.371Z"
   },
   {
    "duration": 15,
    "start_time": "2023-03-03T11:59:50.807Z"
   },
   {
    "duration": 10,
    "start_time": "2023-03-03T11:59:51.201Z"
   },
   {
    "duration": 6,
    "start_time": "2023-03-03T12:00:14.239Z"
   },
   {
    "duration": 28,
    "start_time": "2023-03-03T12:00:14.588Z"
   },
   {
    "duration": 6,
    "start_time": "2023-03-03T12:01:50.710Z"
   },
   {
    "duration": 6,
    "start_time": "2023-03-03T12:02:03.300Z"
   },
   {
    "duration": 9,
    "start_time": "2023-03-03T12:02:04.630Z"
   },
   {
    "duration": 6,
    "start_time": "2023-03-03T12:02:12.587Z"
   },
   {
    "duration": 6,
    "start_time": "2023-03-03T12:03:19.137Z"
   },
   {
    "duration": 15,
    "start_time": "2023-03-03T12:03:19.972Z"
   },
   {
    "duration": 13,
    "start_time": "2023-03-03T12:03:21.370Z"
   },
   {
    "duration": 6,
    "start_time": "2023-03-03T12:03:33.573Z"
   },
   {
    "duration": 26,
    "start_time": "2023-03-03T12:03:34.810Z"
   },
   {
    "duration": 13,
    "start_time": "2023-03-03T12:04:36.160Z"
   },
   {
    "duration": 22,
    "start_time": "2023-03-03T12:04:58.041Z"
   },
   {
    "duration": 16,
    "start_time": "2023-03-03T12:07:07.223Z"
   },
   {
    "duration": 22,
    "start_time": "2023-03-03T12:07:24.236Z"
   },
   {
    "duration": 7,
    "start_time": "2023-03-03T12:08:00.753Z"
   },
   {
    "duration": 22,
    "start_time": "2023-03-03T12:08:01.934Z"
   },
   {
    "duration": 15,
    "start_time": "2023-03-03T12:08:20.024Z"
   },
   {
    "duration": 3,
    "start_time": "2023-03-03T12:09:45.130Z"
   },
   {
    "duration": 5,
    "start_time": "2023-03-03T12:12:05.509Z"
   },
   {
    "duration": 5,
    "start_time": "2023-03-03T12:12:20.714Z"
   },
   {
    "duration": 5,
    "start_time": "2023-03-03T12:12:30.021Z"
   },
   {
    "duration": 6,
    "start_time": "2023-03-03T12:12:57.970Z"
   },
   {
    "duration": 8,
    "start_time": "2023-03-03T12:13:07.909Z"
   },
   {
    "duration": 11,
    "start_time": "2023-03-03T12:13:22.467Z"
   },
   {
    "duration": 8,
    "start_time": "2023-03-03T12:14:55.421Z"
   },
   {
    "duration": 7,
    "start_time": "2023-03-03T12:15:16.917Z"
   },
   {
    "duration": 6,
    "start_time": "2023-03-03T12:15:26.882Z"
   },
   {
    "duration": 5,
    "start_time": "2023-03-03T12:15:54.835Z"
   },
   {
    "duration": 4,
    "start_time": "2023-03-03T12:16:42.917Z"
   },
   {
    "duration": 4,
    "start_time": "2023-03-03T12:16:47.870Z"
   },
   {
    "duration": 4,
    "start_time": "2023-03-03T12:16:59.178Z"
   },
   {
    "duration": 4,
    "start_time": "2023-03-03T12:17:04.973Z"
   },
   {
    "duration": 116,
    "start_time": "2023-03-03T12:17:48.473Z"
   },
   {
    "duration": 81,
    "start_time": "2023-03-03T12:18:03.986Z"
   },
   {
    "duration": 4,
    "start_time": "2023-03-03T12:18:21.375Z"
   },
   {
    "duration": 5,
    "start_time": "2023-03-03T12:18:39.376Z"
   },
   {
    "duration": 5,
    "start_time": "2023-03-03T12:18:49.127Z"
   },
   {
    "duration": 4,
    "start_time": "2023-03-03T12:19:00.075Z"
   },
   {
    "duration": 88,
    "start_time": "2023-03-03T12:19:20.885Z"
   },
   {
    "duration": 73,
    "start_time": "2023-03-03T12:19:40.849Z"
   },
   {
    "duration": 73,
    "start_time": "2023-03-03T12:19:44.471Z"
   },
   {
    "duration": 5,
    "start_time": "2023-03-03T12:19:49.131Z"
   },
   {
    "duration": 5,
    "start_time": "2023-03-03T12:20:07.157Z"
   },
   {
    "duration": 5,
    "start_time": "2023-03-03T12:21:09.347Z"
   },
   {
    "duration": 5,
    "start_time": "2023-03-03T12:21:48.437Z"
   },
   {
    "duration": 1391,
    "start_time": "2023-03-03T19:16:36.239Z"
   },
   {
    "duration": 70,
    "start_time": "2023-03-03T19:16:37.633Z"
   },
   {
    "duration": 10,
    "start_time": "2023-03-03T19:16:37.704Z"
   },
   {
    "duration": 10,
    "start_time": "2023-03-03T19:16:37.716Z"
   },
   {
    "duration": 49,
    "start_time": "2023-03-03T19:16:37.727Z"
   },
   {
    "duration": 3,
    "start_time": "2023-03-03T19:16:37.778Z"
   },
   {
    "duration": 13,
    "start_time": "2023-03-03T19:16:37.782Z"
   },
   {
    "duration": 137,
    "start_time": "2023-03-03T19:16:37.796Z"
   },
   {
    "duration": 7,
    "start_time": "2023-03-03T19:16:37.935Z"
   },
   {
    "duration": 14,
    "start_time": "2023-03-03T19:16:37.943Z"
   },
   {
    "duration": 7,
    "start_time": "2023-03-03T19:16:37.959Z"
   },
   {
    "duration": 11,
    "start_time": "2023-03-03T19:16:37.968Z"
   },
   {
    "duration": 8,
    "start_time": "2023-03-03T19:16:37.981Z"
   },
   {
    "duration": 5,
    "start_time": "2023-03-03T19:16:37.992Z"
   },
   {
    "duration": 5,
    "start_time": "2023-03-03T19:16:37.998Z"
   },
   {
    "duration": 4,
    "start_time": "2023-03-03T19:16:38.005Z"
   },
   {
    "duration": 5,
    "start_time": "2023-03-03T19:16:38.011Z"
   },
   {
    "duration": 39,
    "start_time": "2023-03-03T19:16:38.017Z"
   },
   {
    "duration": 122,
    "start_time": "2023-03-03T19:16:38.058Z"
   },
   {
    "duration": 0,
    "start_time": "2023-03-03T19:16:38.183Z"
   },
   {
    "duration": 0,
    "start_time": "2023-03-03T19:16:38.185Z"
   },
   {
    "duration": 0,
    "start_time": "2023-03-03T19:16:38.187Z"
   },
   {
    "duration": 0,
    "start_time": "2023-03-03T19:16:38.188Z"
   },
   {
    "duration": 0,
    "start_time": "2023-03-03T19:16:38.190Z"
   },
   {
    "duration": 0,
    "start_time": "2023-03-03T19:16:38.191Z"
   },
   {
    "duration": 0,
    "start_time": "2023-03-03T19:16:38.192Z"
   },
   {
    "duration": 0,
    "start_time": "2023-03-03T19:16:38.194Z"
   },
   {
    "duration": 0,
    "start_time": "2023-03-03T19:16:38.195Z"
   },
   {
    "duration": 0,
    "start_time": "2023-03-03T19:16:38.196Z"
   },
   {
    "duration": 0,
    "start_time": "2023-03-03T19:16:38.197Z"
   },
   {
    "duration": 0,
    "start_time": "2023-03-03T19:16:38.199Z"
   },
   {
    "duration": 0,
    "start_time": "2023-03-03T19:16:38.200Z"
   },
   {
    "duration": 0,
    "start_time": "2023-03-03T19:16:38.201Z"
   },
   {
    "duration": 0,
    "start_time": "2023-03-03T19:16:38.203Z"
   },
   {
    "duration": 0,
    "start_time": "2023-03-03T19:16:38.204Z"
   },
   {
    "duration": 0,
    "start_time": "2023-03-03T19:16:38.206Z"
   },
   {
    "duration": 0,
    "start_time": "2023-03-03T19:16:38.207Z"
   },
   {
    "duration": 0,
    "start_time": "2023-03-03T19:16:38.209Z"
   },
   {
    "duration": 0,
    "start_time": "2023-03-03T19:16:38.210Z"
   },
   {
    "duration": 0,
    "start_time": "2023-03-03T19:16:38.211Z"
   },
   {
    "duration": 0,
    "start_time": "2023-03-03T19:16:38.212Z"
   },
   {
    "duration": 0,
    "start_time": "2023-03-03T19:16:38.213Z"
   },
   {
    "duration": 0,
    "start_time": "2023-03-03T19:16:38.256Z"
   },
   {
    "duration": 0,
    "start_time": "2023-03-03T19:16:38.257Z"
   },
   {
    "duration": 1,
    "start_time": "2023-03-03T19:16:38.258Z"
   },
   {
    "duration": 0,
    "start_time": "2023-03-03T19:16:38.260Z"
   },
   {
    "duration": 0,
    "start_time": "2023-03-03T19:16:38.261Z"
   },
   {
    "duration": 0,
    "start_time": "2023-03-03T19:16:38.262Z"
   },
   {
    "duration": 0,
    "start_time": "2023-03-03T19:16:38.264Z"
   },
   {
    "duration": 0,
    "start_time": "2023-03-03T19:16:38.265Z"
   },
   {
    "duration": 0,
    "start_time": "2023-03-03T19:16:38.266Z"
   },
   {
    "duration": 0,
    "start_time": "2023-03-03T19:16:38.267Z"
   },
   {
    "duration": 0,
    "start_time": "2023-03-03T19:16:38.268Z"
   },
   {
    "duration": 0,
    "start_time": "2023-03-03T19:16:38.269Z"
   },
   {
    "duration": 0,
    "start_time": "2023-03-03T19:16:38.269Z"
   },
   {
    "duration": 0,
    "start_time": "2023-03-03T19:16:38.270Z"
   },
   {
    "duration": 0,
    "start_time": "2023-03-03T19:16:38.272Z"
   },
   {
    "duration": 0,
    "start_time": "2023-03-03T19:16:38.273Z"
   },
   {
    "duration": 0,
    "start_time": "2023-03-03T19:16:38.273Z"
   },
   {
    "duration": 0,
    "start_time": "2023-03-03T19:16:38.275Z"
   },
   {
    "duration": 0,
    "start_time": "2023-03-03T19:16:38.275Z"
   },
   {
    "duration": 0,
    "start_time": "2023-03-03T19:16:38.276Z"
   },
   {
    "duration": 0,
    "start_time": "2023-03-03T19:16:38.277Z"
   },
   {
    "duration": 0,
    "start_time": "2023-03-03T19:16:38.278Z"
   },
   {
    "duration": 0,
    "start_time": "2023-03-03T19:16:38.279Z"
   },
   {
    "duration": 0,
    "start_time": "2023-03-03T19:16:38.280Z"
   },
   {
    "duration": 0,
    "start_time": "2023-03-03T19:16:38.281Z"
   },
   {
    "duration": 0,
    "start_time": "2023-03-03T19:16:38.282Z"
   },
   {
    "duration": 0,
    "start_time": "2023-03-03T19:16:38.283Z"
   },
   {
    "duration": 5,
    "start_time": "2023-03-03T19:17:31.509Z"
   },
   {
    "duration": 6,
    "start_time": "2023-03-03T19:17:33.412Z"
   },
   {
    "duration": 10,
    "start_time": "2023-03-03T19:17:34.195Z"
   },
   {
    "duration": 5,
    "start_time": "2023-03-03T19:17:35.112Z"
   },
   {
    "duration": 4,
    "start_time": "2023-03-03T19:17:35.452Z"
   },
   {
    "duration": 14,
    "start_time": "2023-03-03T19:17:36.898Z"
   },
   {
    "duration": 5,
    "start_time": "2023-03-03T19:17:37.660Z"
   },
   {
    "duration": 11,
    "start_time": "2023-03-03T19:17:45.070Z"
   },
   {
    "duration": 160,
    "start_time": "2023-03-03T19:17:45.675Z"
   },
   {
    "duration": 1120,
    "start_time": "2023-03-03T19:17:51.466Z"
   },
   {
    "duration": 27,
    "start_time": "2023-03-03T19:17:52.587Z"
   },
   {
    "duration": 12,
    "start_time": "2023-03-03T19:17:52.615Z"
   },
   {
    "duration": 5,
    "start_time": "2023-03-03T19:17:52.629Z"
   },
   {
    "duration": 50,
    "start_time": "2023-03-03T19:17:52.636Z"
   },
   {
    "duration": 4,
    "start_time": "2023-03-03T19:17:52.688Z"
   },
   {
    "duration": 12,
    "start_time": "2023-03-03T19:17:52.693Z"
   },
   {
    "duration": 51,
    "start_time": "2023-03-03T19:17:52.707Z"
   },
   {
    "duration": 8,
    "start_time": "2023-03-03T19:17:52.759Z"
   },
   {
    "duration": 11,
    "start_time": "2023-03-03T19:17:52.768Z"
   },
   {
    "duration": 9,
    "start_time": "2023-03-03T19:17:52.780Z"
   },
   {
    "duration": 10,
    "start_time": "2023-03-03T19:17:52.790Z"
   },
   {
    "duration": 10,
    "start_time": "2023-03-03T19:17:52.801Z"
   },
   {
    "duration": 4,
    "start_time": "2023-03-03T19:17:52.814Z"
   },
   {
    "duration": 36,
    "start_time": "2023-03-03T19:17:52.820Z"
   },
   {
    "duration": 5,
    "start_time": "2023-03-03T19:17:52.858Z"
   },
   {
    "duration": 8,
    "start_time": "2023-03-03T19:17:52.865Z"
   },
   {
    "duration": 6,
    "start_time": "2023-03-03T19:17:52.874Z"
   },
   {
    "duration": 8,
    "start_time": "2023-03-03T19:17:52.882Z"
   },
   {
    "duration": 5,
    "start_time": "2023-03-03T19:17:52.892Z"
   },
   {
    "duration": 10,
    "start_time": "2023-03-03T19:17:52.898Z"
   },
   {
    "duration": 5,
    "start_time": "2023-03-03T19:17:52.909Z"
   },
   {
    "duration": 41,
    "start_time": "2023-03-03T19:17:52.916Z"
   },
   {
    "duration": 14,
    "start_time": "2023-03-03T19:17:52.959Z"
   },
   {
    "duration": 4,
    "start_time": "2023-03-03T19:17:52.974Z"
   },
   {
    "duration": 15,
    "start_time": "2023-03-03T19:17:52.980Z"
   },
   {
    "duration": 169,
    "start_time": "2023-03-03T19:17:52.997Z"
   },
   {
    "duration": 12,
    "start_time": "2023-03-03T19:17:53.168Z"
   },
   {
    "duration": 125,
    "start_time": "2023-03-03T19:17:53.182Z"
   },
   {
    "duration": 9,
    "start_time": "2023-03-03T19:17:53.308Z"
   },
   {
    "duration": 10,
    "start_time": "2023-03-03T19:17:53.319Z"
   },
   {
    "duration": 26,
    "start_time": "2023-03-03T19:17:53.330Z"
   },
   {
    "duration": 5,
    "start_time": "2023-03-03T19:17:53.357Z"
   },
   {
    "duration": 335,
    "start_time": "2023-03-03T19:17:53.363Z"
   },
   {
    "duration": 322,
    "start_time": "2023-03-03T19:17:53.699Z"
   },
   {
    "duration": 425,
    "start_time": "2023-03-03T19:17:54.023Z"
   },
   {
    "duration": 11,
    "start_time": "2023-03-03T19:17:54.449Z"
   },
   {
    "duration": 6,
    "start_time": "2023-03-03T19:17:54.461Z"
   },
   {
    "duration": 361,
    "start_time": "2023-03-03T19:17:54.468Z"
   },
   {
    "duration": 435,
    "start_time": "2023-03-03T19:17:54.831Z"
   },
   {
    "duration": 10,
    "start_time": "2023-03-03T19:17:55.270Z"
   },
   {
    "duration": 121,
    "start_time": "2023-03-03T19:17:55.281Z"
   },
   {
    "duration": 217,
    "start_time": "2023-03-03T19:17:55.403Z"
   },
   {
    "duration": 3,
    "start_time": "2023-03-03T19:17:55.622Z"
   },
   {
    "duration": 28,
    "start_time": "2023-03-03T19:17:55.627Z"
   },
   {
    "duration": 214,
    "start_time": "2023-03-03T19:17:55.657Z"
   },
   {
    "duration": 3,
    "start_time": "2023-03-03T19:17:55.873Z"
   },
   {
    "duration": 9,
    "start_time": "2023-03-03T19:17:55.877Z"
   },
   {
    "duration": 8,
    "start_time": "2023-03-03T19:17:55.887Z"
   },
   {
    "duration": 66,
    "start_time": "2023-03-03T19:17:55.896Z"
   },
   {
    "duration": 42,
    "start_time": "2023-03-03T19:17:55.964Z"
   },
   {
    "duration": 18,
    "start_time": "2023-03-03T19:17:56.007Z"
   },
   {
    "duration": 34,
    "start_time": "2023-03-03T19:17:56.027Z"
   },
   {
    "duration": 44,
    "start_time": "2023-03-03T19:17:56.063Z"
   },
   {
    "duration": 58,
    "start_time": "2023-03-03T19:17:56.108Z"
   },
   {
    "duration": 19,
    "start_time": "2023-03-03T19:17:56.168Z"
   },
   {
    "duration": 8,
    "start_time": "2023-03-03T19:17:56.189Z"
   },
   {
    "duration": 22,
    "start_time": "2023-03-03T19:17:56.198Z"
   },
   {
    "duration": 86,
    "start_time": "2023-03-03T19:17:56.221Z"
   },
   {
    "duration": 91,
    "start_time": "2023-03-03T19:17:56.309Z"
   },
   {
    "duration": 5,
    "start_time": "2023-03-03T19:17:56.401Z"
   },
   {
    "duration": 6,
    "start_time": "2023-03-03T19:17:56.408Z"
   },
   {
    "duration": 5,
    "start_time": "2023-03-03T19:17:56.415Z"
   },
   {
    "duration": 44,
    "start_time": "2023-03-03T19:17:56.421Z"
   },
   {
    "duration": 9,
    "start_time": "2023-03-03T19:17:56.466Z"
   },
   {
    "duration": 7,
    "start_time": "2023-03-03T19:17:56.476Z"
   },
   {
    "duration": 6,
    "start_time": "2023-03-03T19:17:56.485Z"
   },
   {
    "duration": 20,
    "start_time": "2023-03-03T19:17:56.492Z"
   },
   {
    "duration": 41,
    "start_time": "2023-03-03T19:17:56.514Z"
   },
   {
    "duration": 1106,
    "start_time": "2023-03-03T19:18:58.268Z"
   },
   {
    "duration": 28,
    "start_time": "2023-03-03T19:18:59.375Z"
   },
   {
    "duration": 11,
    "start_time": "2023-03-03T19:18:59.404Z"
   },
   {
    "duration": 5,
    "start_time": "2023-03-03T19:18:59.416Z"
   },
   {
    "duration": 47,
    "start_time": "2023-03-03T19:18:59.423Z"
   },
   {
    "duration": 4,
    "start_time": "2023-03-03T19:18:59.471Z"
   },
   {
    "duration": 14,
    "start_time": "2023-03-03T19:18:59.477Z"
   },
   {
    "duration": 98,
    "start_time": "2023-03-03T19:18:59.493Z"
   },
   {
    "duration": 7,
    "start_time": "2023-03-03T19:18:59.592Z"
   },
   {
    "duration": 10,
    "start_time": "2023-03-03T19:18:59.601Z"
   },
   {
    "duration": 7,
    "start_time": "2023-03-03T19:18:59.612Z"
   },
   {
    "duration": 23,
    "start_time": "2023-03-03T19:18:59.621Z"
   },
   {
    "duration": 8,
    "start_time": "2023-03-03T19:18:59.646Z"
   },
   {
    "duration": 13,
    "start_time": "2023-03-03T19:18:59.657Z"
   },
   {
    "duration": 7,
    "start_time": "2023-03-03T19:18:59.672Z"
   },
   {
    "duration": 4,
    "start_time": "2023-03-03T19:18:59.681Z"
   },
   {
    "duration": 4,
    "start_time": "2023-03-03T19:18:59.687Z"
   },
   {
    "duration": 64,
    "start_time": "2023-03-03T19:18:59.693Z"
   },
   {
    "duration": 11,
    "start_time": "2023-03-03T19:18:59.759Z"
   },
   {
    "duration": 6,
    "start_time": "2023-03-03T19:18:59.771Z"
   },
   {
    "duration": 77,
    "start_time": "2023-03-03T19:18:59.779Z"
   },
   {
    "duration": 6,
    "start_time": "2023-03-03T19:18:59.857Z"
   },
   {
    "duration": 12,
    "start_time": "2023-03-03T19:18:59.865Z"
   },
   {
    "duration": 13,
    "start_time": "2023-03-03T19:18:59.878Z"
   },
   {
    "duration": 63,
    "start_time": "2023-03-03T19:18:59.893Z"
   },
   {
    "duration": 12,
    "start_time": "2023-03-03T19:18:59.957Z"
   },
   {
    "duration": 405,
    "start_time": "2023-03-03T19:18:59.971Z"
   },
   {
    "duration": 10,
    "start_time": "2023-03-03T19:19:00.377Z"
   },
   {
    "duration": 204,
    "start_time": "2023-03-03T19:19:00.389Z"
   },
   {
    "duration": 12,
    "start_time": "2023-03-03T19:19:00.594Z"
   },
   {
    "duration": 56,
    "start_time": "2023-03-03T19:19:00.608Z"
   },
   {
    "duration": 35,
    "start_time": "2023-03-03T19:19:00.666Z"
   },
   {
    "duration": 38,
    "start_time": "2023-03-03T19:19:00.703Z"
   },
   {
    "duration": 398,
    "start_time": "2023-03-03T19:19:00.743Z"
   },
   {
    "duration": 324,
    "start_time": "2023-03-03T19:19:01.142Z"
   },
   {
    "duration": 422,
    "start_time": "2023-03-03T19:19:01.468Z"
   },
   {
    "duration": 8,
    "start_time": "2023-03-03T19:19:01.892Z"
   },
   {
    "duration": 25,
    "start_time": "2023-03-03T19:19:01.901Z"
   },
   {
    "duration": 405,
    "start_time": "2023-03-03T19:19:01.928Z"
   },
   {
    "duration": 447,
    "start_time": "2023-03-03T19:19:02.335Z"
   },
   {
    "duration": 11,
    "start_time": "2023-03-03T19:19:02.786Z"
   },
   {
    "duration": 112,
    "start_time": "2023-03-03T19:19:02.799Z"
   },
   {
    "duration": 204,
    "start_time": "2023-03-03T19:19:02.913Z"
   },
   {
    "duration": 4,
    "start_time": "2023-03-03T19:19:03.119Z"
   },
   {
    "duration": 8,
    "start_time": "2023-03-03T19:19:03.124Z"
   },
   {
    "duration": 227,
    "start_time": "2023-03-03T19:19:03.133Z"
   },
   {
    "duration": 4,
    "start_time": "2023-03-03T19:19:03.362Z"
   },
   {
    "duration": 9,
    "start_time": "2023-03-03T19:19:03.367Z"
   },
   {
    "duration": 9,
    "start_time": "2023-03-03T19:19:03.378Z"
   },
   {
    "duration": 41,
    "start_time": "2023-03-03T19:19:03.388Z"
   },
   {
    "duration": 68,
    "start_time": "2023-03-03T19:19:03.430Z"
   },
   {
    "duration": 17,
    "start_time": "2023-03-03T19:19:03.499Z"
   },
   {
    "duration": 40,
    "start_time": "2023-03-03T19:19:03.517Z"
   },
   {
    "duration": 46,
    "start_time": "2023-03-03T19:19:03.558Z"
   },
   {
    "duration": 66,
    "start_time": "2023-03-03T19:19:03.605Z"
   },
   {
    "duration": 35,
    "start_time": "2023-03-03T19:19:03.674Z"
   },
   {
    "duration": 24,
    "start_time": "2023-03-03T19:19:03.711Z"
   },
   {
    "duration": 30,
    "start_time": "2023-03-03T19:19:03.736Z"
   },
   {
    "duration": 88,
    "start_time": "2023-03-03T19:19:03.768Z"
   },
   {
    "duration": 77,
    "start_time": "2023-03-03T19:19:03.857Z"
   },
   {
    "duration": 20,
    "start_time": "2023-03-03T19:19:03.936Z"
   },
   {
    "duration": 12,
    "start_time": "2023-03-03T19:19:03.957Z"
   },
   {
    "duration": 20,
    "start_time": "2023-03-03T19:19:03.970Z"
   },
   {
    "duration": 23,
    "start_time": "2023-03-03T19:19:03.991Z"
   },
   {
    "duration": 10,
    "start_time": "2023-03-03T19:19:04.015Z"
   },
   {
    "duration": 31,
    "start_time": "2023-03-03T19:19:04.026Z"
   },
   {
    "duration": 38,
    "start_time": "2023-03-03T19:19:04.059Z"
   },
   {
    "duration": 33,
    "start_time": "2023-03-03T19:19:04.098Z"
   },
   {
    "duration": 14,
    "start_time": "2023-03-03T19:19:04.132Z"
   },
   {
    "duration": 51,
    "start_time": "2023-03-06T08:42:39.577Z"
   },
   {
    "duration": 1344,
    "start_time": "2023-03-06T08:42:45.909Z"
   },
   {
    "duration": 75,
    "start_time": "2023-03-06T08:42:47.255Z"
   },
   {
    "duration": 11,
    "start_time": "2023-03-06T08:42:47.332Z"
   },
   {
    "duration": 34,
    "start_time": "2023-03-06T08:42:47.345Z"
   },
   {
    "duration": 54,
    "start_time": "2023-03-06T08:42:47.382Z"
   },
   {
    "duration": 4,
    "start_time": "2023-03-06T08:42:47.437Z"
   },
   {
    "duration": 41,
    "start_time": "2023-03-06T08:42:47.443Z"
   },
   {
    "duration": 223,
    "start_time": "2023-03-06T08:42:47.486Z"
   },
   {
    "duration": 10,
    "start_time": "2023-03-06T08:42:47.711Z"
   },
   {
    "duration": 12,
    "start_time": "2023-03-06T08:42:47.722Z"
   },
   {
    "duration": 9,
    "start_time": "2023-03-06T08:42:47.735Z"
   },
   {
    "duration": 23,
    "start_time": "2023-03-06T08:42:47.746Z"
   },
   {
    "duration": 6,
    "start_time": "2023-03-06T08:42:47.772Z"
   },
   {
    "duration": 12,
    "start_time": "2023-03-06T08:42:47.781Z"
   },
   {
    "duration": 7,
    "start_time": "2023-03-06T08:42:47.795Z"
   },
   {
    "duration": 8,
    "start_time": "2023-03-06T08:42:47.804Z"
   },
   {
    "duration": 6,
    "start_time": "2023-03-06T08:42:47.814Z"
   },
   {
    "duration": 31,
    "start_time": "2023-03-06T08:42:47.822Z"
   },
   {
    "duration": 9,
    "start_time": "2023-03-06T08:42:47.855Z"
   },
   {
    "duration": 8,
    "start_time": "2023-03-06T08:42:47.867Z"
   },
   {
    "duration": 26,
    "start_time": "2023-03-06T08:42:47.878Z"
   },
   {
    "duration": 9,
    "start_time": "2023-03-06T08:42:47.906Z"
   },
   {
    "duration": 7,
    "start_time": "2023-03-06T08:42:47.916Z"
   },
   {
    "duration": 34,
    "start_time": "2023-03-06T08:42:47.950Z"
   },
   {
    "duration": 5,
    "start_time": "2023-03-06T08:42:47.985Z"
   },
   {
    "duration": 12,
    "start_time": "2023-03-06T08:42:47.991Z"
   },
   {
    "duration": 245,
    "start_time": "2023-03-06T08:42:48.005Z"
   },
   {
    "duration": 17,
    "start_time": "2023-03-06T08:42:48.253Z"
   },
   {
    "duration": 159,
    "start_time": "2023-03-06T08:42:48.273Z"
   },
   {
    "duration": 17,
    "start_time": "2023-03-06T08:42:48.434Z"
   },
   {
    "duration": 21,
    "start_time": "2023-03-06T08:42:48.453Z"
   },
   {
    "duration": 25,
    "start_time": "2023-03-06T08:42:48.476Z"
   },
   {
    "duration": 8,
    "start_time": "2023-03-06T08:42:48.503Z"
   },
   {
    "duration": 445,
    "start_time": "2023-03-06T08:42:48.513Z"
   },
   {
    "duration": 397,
    "start_time": "2023-03-06T08:42:48.960Z"
   },
   {
    "duration": 475,
    "start_time": "2023-03-06T08:42:49.360Z"
   },
   {
    "duration": 18,
    "start_time": "2023-03-06T08:42:49.837Z"
   },
   {
    "duration": 42,
    "start_time": "2023-03-06T08:42:49.857Z"
   },
   {
    "duration": 452,
    "start_time": "2023-03-06T08:42:49.901Z"
   },
   {
    "duration": 553,
    "start_time": "2023-03-06T08:42:50.355Z"
   },
   {
    "duration": 18,
    "start_time": "2023-03-06T08:42:50.914Z"
   },
   {
    "duration": 163,
    "start_time": "2023-03-06T08:42:50.948Z"
   },
   {
    "duration": 305,
    "start_time": "2023-03-06T08:42:51.113Z"
   },
   {
    "duration": 5,
    "start_time": "2023-03-06T08:42:51.421Z"
   },
   {
    "duration": 87,
    "start_time": "2023-03-06T08:42:51.428Z"
   },
   {
    "duration": 262,
    "start_time": "2023-03-06T08:42:51.518Z"
   },
   {
    "duration": 6,
    "start_time": "2023-03-06T08:42:51.782Z"
   },
   {
    "duration": 15,
    "start_time": "2023-03-06T08:42:51.790Z"
   },
   {
    "duration": 17,
    "start_time": "2023-03-06T08:42:51.806Z"
   },
   {
    "duration": 81,
    "start_time": "2023-03-06T08:42:51.825Z"
   },
   {
    "duration": 70,
    "start_time": "2023-03-06T08:42:51.908Z"
   },
   {
    "duration": 23,
    "start_time": "2023-03-06T08:42:51.980Z"
   },
   {
    "duration": 24,
    "start_time": "2023-03-06T08:42:52.005Z"
   },
   {
    "duration": 56,
    "start_time": "2023-03-06T08:42:52.030Z"
   },
   {
    "duration": 84,
    "start_time": "2023-03-06T08:42:52.088Z"
   },
   {
    "duration": 25,
    "start_time": "2023-03-06T08:42:52.176Z"
   },
   {
    "duration": 27,
    "start_time": "2023-03-06T08:42:52.203Z"
   },
   {
    "duration": 27,
    "start_time": "2023-03-06T08:42:52.233Z"
   },
   {
    "duration": 110,
    "start_time": "2023-03-06T08:42:52.262Z"
   },
   {
    "duration": 100,
    "start_time": "2023-03-06T08:42:52.374Z"
   },
   {
    "duration": 6,
    "start_time": "2023-03-06T08:42:52.476Z"
   },
   {
    "duration": 9,
    "start_time": "2023-03-06T08:42:52.484Z"
   },
   {
    "duration": 8,
    "start_time": "2023-03-06T08:42:52.495Z"
   },
   {
    "duration": 60,
    "start_time": "2023-03-06T08:42:52.505Z"
   },
   {
    "duration": 15,
    "start_time": "2023-03-06T08:42:52.567Z"
   },
   {
    "duration": 14,
    "start_time": "2023-03-06T08:42:52.584Z"
   },
   {
    "duration": 12,
    "start_time": "2023-03-06T08:42:52.603Z"
   },
   {
    "duration": 68,
    "start_time": "2023-03-06T08:42:52.617Z"
   },
   {
    "duration": 16,
    "start_time": "2023-03-06T08:42:52.687Z"
   },
   {
    "duration": 59,
    "start_time": "2023-03-06T15:42:53.687Z"
   },
   {
    "duration": 1227,
    "start_time": "2023-03-06T15:42:59.988Z"
   },
   {
    "duration": 62,
    "start_time": "2023-03-06T15:43:01.217Z"
   },
   {
    "duration": 12,
    "start_time": "2023-03-06T15:43:01.281Z"
   },
   {
    "duration": 13,
    "start_time": "2023-03-06T15:43:01.295Z"
   },
   {
    "duration": 81,
    "start_time": "2023-03-06T15:43:01.311Z"
   },
   {
    "duration": 4,
    "start_time": "2023-03-06T15:43:01.394Z"
   },
   {
    "duration": 46,
    "start_time": "2023-03-06T15:43:01.400Z"
   },
   {
    "duration": 155,
    "start_time": "2023-03-06T15:43:01.447Z"
   },
   {
    "duration": 8,
    "start_time": "2023-03-06T15:43:01.603Z"
   },
   {
    "duration": 17,
    "start_time": "2023-03-06T15:43:01.612Z"
   },
   {
    "duration": 33,
    "start_time": "2023-03-06T15:43:01.631Z"
   },
   {
    "duration": 53,
    "start_time": "2023-03-06T15:43:01.666Z"
   },
   {
    "duration": 42,
    "start_time": "2023-03-06T15:43:01.721Z"
   },
   {
    "duration": 25,
    "start_time": "2023-03-06T15:43:01.767Z"
   },
   {
    "duration": 40,
    "start_time": "2023-03-06T15:43:01.794Z"
   },
   {
    "duration": 31,
    "start_time": "2023-03-06T15:43:01.836Z"
   },
   {
    "duration": 24,
    "start_time": "2023-03-06T15:43:01.872Z"
   },
   {
    "duration": 32,
    "start_time": "2023-03-06T15:43:01.898Z"
   },
   {
    "duration": 25,
    "start_time": "2023-03-06T15:43:01.932Z"
   },
   {
    "duration": 28,
    "start_time": "2023-03-06T15:43:01.958Z"
   },
   {
    "duration": 45,
    "start_time": "2023-03-06T15:43:01.988Z"
   },
   {
    "duration": 43,
    "start_time": "2023-03-06T15:43:02.035Z"
   },
   {
    "duration": 39,
    "start_time": "2023-03-06T15:43:02.079Z"
   },
   {
    "duration": 34,
    "start_time": "2023-03-06T15:43:02.120Z"
   },
   {
    "duration": 8,
    "start_time": "2023-03-06T15:43:02.156Z"
   },
   {
    "duration": 23,
    "start_time": "2023-03-06T15:43:02.166Z"
   },
   {
    "duration": 260,
    "start_time": "2023-03-06T15:43:02.193Z"
   },
   {
    "duration": 11,
    "start_time": "2023-03-06T15:43:02.455Z"
   },
   {
    "duration": 35,
    "start_time": "2023-03-06T15:43:02.467Z"
   },
   {
    "duration": 135,
    "start_time": "2023-03-06T15:43:02.504Z"
   },
   {
    "duration": 48,
    "start_time": "2023-03-06T15:43:02.641Z"
   },
   {
    "duration": 77,
    "start_time": "2023-03-06T15:43:02.691Z"
   },
   {
    "duration": 82,
    "start_time": "2023-03-06T15:43:02.770Z"
   },
   {
    "duration": 53,
    "start_time": "2023-03-06T15:43:02.854Z"
   },
   {
    "duration": 447,
    "start_time": "2023-03-06T15:43:02.909Z"
   },
   {
    "duration": 384,
    "start_time": "2023-03-06T15:43:03.360Z"
   },
   {
    "duration": 513,
    "start_time": "2023-03-06T15:43:03.746Z"
   },
   {
    "duration": 10,
    "start_time": "2023-03-06T15:43:04.261Z"
   },
   {
    "duration": 33,
    "start_time": "2023-03-06T15:43:04.273Z"
   },
   {
    "duration": 416,
    "start_time": "2023-03-06T15:43:04.307Z"
   },
   {
    "duration": 470,
    "start_time": "2023-03-06T15:43:04.727Z"
   },
   {
    "duration": 11,
    "start_time": "2023-03-06T15:43:05.199Z"
   },
   {
    "duration": 121,
    "start_time": "2023-03-06T15:43:05.212Z"
   },
   {
    "duration": 244,
    "start_time": "2023-03-06T15:43:05.335Z"
   },
   {
    "duration": 5,
    "start_time": "2023-03-06T15:43:05.580Z"
   },
   {
    "duration": 41,
    "start_time": "2023-03-06T15:43:05.586Z"
   },
   {
    "duration": 259,
    "start_time": "2023-03-06T15:43:05.628Z"
   },
   {
    "duration": 5,
    "start_time": "2023-03-06T15:43:05.889Z"
   },
   {
    "duration": 42,
    "start_time": "2023-03-06T15:43:05.896Z"
   },
   {
    "duration": 42,
    "start_time": "2023-03-06T15:43:05.939Z"
   },
   {
    "duration": 74,
    "start_time": "2023-03-06T15:43:05.982Z"
   },
   {
    "duration": 80,
    "start_time": "2023-03-06T15:43:06.058Z"
   },
   {
    "duration": 46,
    "start_time": "2023-03-06T15:43:06.141Z"
   },
   {
    "duration": 43,
    "start_time": "2023-03-06T15:43:06.189Z"
   },
   {
    "duration": 58,
    "start_time": "2023-03-06T15:43:06.234Z"
   },
   {
    "duration": 74,
    "start_time": "2023-03-06T15:43:06.294Z"
   },
   {
    "duration": 55,
    "start_time": "2023-03-06T15:43:06.370Z"
   },
   {
    "duration": 18,
    "start_time": "2023-03-06T15:43:06.426Z"
   },
   {
    "duration": 44,
    "start_time": "2023-03-06T15:43:06.446Z"
   },
   {
    "duration": 86,
    "start_time": "2023-03-06T15:43:06.492Z"
   },
   {
    "duration": 116,
    "start_time": "2023-03-06T15:43:06.579Z"
   },
   {
    "duration": 12,
    "start_time": "2023-03-06T15:43:06.697Z"
   },
   {
    "duration": 30,
    "start_time": "2023-03-06T15:43:06.711Z"
   },
   {
    "duration": 33,
    "start_time": "2023-03-06T15:43:06.744Z"
   },
   {
    "duration": 62,
    "start_time": "2023-03-06T15:43:06.779Z"
   },
   {
    "duration": 15,
    "start_time": "2023-03-06T15:43:06.843Z"
   },
   {
    "duration": 47,
    "start_time": "2023-03-06T15:43:06.860Z"
   },
   {
    "duration": 23,
    "start_time": "2023-03-06T15:43:06.909Z"
   },
   {
    "duration": 55,
    "start_time": "2023-03-06T15:43:06.934Z"
   },
   {
    "duration": 35,
    "start_time": "2023-03-06T15:43:06.992Z"
   },
   {
    "duration": 49,
    "start_time": "2023-03-08T08:22:45.228Z"
   },
   {
    "duration": 1280,
    "start_time": "2023-03-08T08:22:54.417Z"
   },
   {
    "duration": 74,
    "start_time": "2023-03-08T08:22:55.700Z"
   },
   {
    "duration": 16,
    "start_time": "2023-03-08T08:22:55.775Z"
   },
   {
    "duration": 6,
    "start_time": "2023-03-08T08:22:55.793Z"
   },
   {
    "duration": 66,
    "start_time": "2023-03-08T08:22:55.802Z"
   },
   {
    "duration": 6,
    "start_time": "2023-03-08T08:22:55.870Z"
   },
   {
    "duration": 32,
    "start_time": "2023-03-08T08:22:55.877Z"
   },
   {
    "duration": 133,
    "start_time": "2023-03-08T08:22:55.910Z"
   },
   {
    "duration": 9,
    "start_time": "2023-03-08T08:22:56.045Z"
   },
   {
    "duration": 24,
    "start_time": "2023-03-08T08:22:56.056Z"
   },
   {
    "duration": 16,
    "start_time": "2023-03-08T08:22:56.083Z"
   },
   {
    "duration": 22,
    "start_time": "2023-03-08T08:22:56.101Z"
   },
   {
    "duration": 21,
    "start_time": "2023-03-08T08:22:56.126Z"
   },
   {
    "duration": 15,
    "start_time": "2023-03-08T08:22:56.153Z"
   },
   {
    "duration": 11,
    "start_time": "2023-03-08T08:22:56.171Z"
   },
   {
    "duration": 8,
    "start_time": "2023-03-08T08:22:56.184Z"
   },
   {
    "duration": 11,
    "start_time": "2023-03-08T08:22:56.194Z"
   },
   {
    "duration": 33,
    "start_time": "2023-03-08T08:22:56.208Z"
   },
   {
    "duration": 16,
    "start_time": "2023-03-08T08:22:56.243Z"
   },
   {
    "duration": 10,
    "start_time": "2023-03-08T08:22:56.261Z"
   },
   {
    "duration": 15,
    "start_time": "2023-03-08T08:22:56.273Z"
   },
   {
    "duration": 13,
    "start_time": "2023-03-08T08:22:56.290Z"
   },
   {
    "duration": 5,
    "start_time": "2023-03-08T08:22:56.305Z"
   },
   {
    "duration": 37,
    "start_time": "2023-03-08T08:22:56.312Z"
   },
   {
    "duration": 5,
    "start_time": "2023-03-08T08:22:56.351Z"
   },
   {
    "duration": 13,
    "start_time": "2023-03-08T08:22:56.357Z"
   },
   {
    "duration": 214,
    "start_time": "2023-03-08T08:22:56.372Z"
   },
   {
    "duration": 11,
    "start_time": "2023-03-08T08:22:56.587Z"
   },
   {
    "duration": 19,
    "start_time": "2023-03-08T08:22:56.602Z"
   },
   {
    "duration": 189,
    "start_time": "2023-03-08T08:22:56.623Z"
   },
   {
    "duration": 27,
    "start_time": "2023-03-08T08:22:56.815Z"
   },
   {
    "duration": 17,
    "start_time": "2023-03-08T08:22:56.845Z"
   },
   {
    "duration": 14,
    "start_time": "2023-03-08T08:22:56.864Z"
   },
   {
    "duration": 8,
    "start_time": "2023-03-08T08:22:56.880Z"
   },
   {
    "duration": 383,
    "start_time": "2023-03-08T08:22:56.890Z"
   },
   {
    "duration": 378,
    "start_time": "2023-03-08T08:22:57.276Z"
   },
   {
    "duration": 490,
    "start_time": "2023-03-08T08:22:57.657Z"
   },
   {
    "duration": 9,
    "start_time": "2023-03-08T08:22:58.149Z"
   },
   {
    "duration": 7,
    "start_time": "2023-03-08T08:22:58.160Z"
   },
   {
    "duration": 533,
    "start_time": "2023-03-08T08:22:58.168Z"
   },
   {
    "duration": 467,
    "start_time": "2023-03-08T08:22:58.715Z"
   },
   {
    "duration": 20,
    "start_time": "2023-03-08T08:22:59.185Z"
   },
   {
    "duration": 129,
    "start_time": "2023-03-08T08:22:59.207Z"
   },
   {
    "duration": 253,
    "start_time": "2023-03-08T08:22:59.338Z"
   },
   {
    "duration": 12,
    "start_time": "2023-03-08T08:22:59.593Z"
   },
   {
    "duration": 21,
    "start_time": "2023-03-08T08:22:59.607Z"
   },
   {
    "duration": 227,
    "start_time": "2023-03-08T08:22:59.630Z"
   },
   {
    "duration": 5,
    "start_time": "2023-03-08T08:22:59.859Z"
   },
   {
    "duration": 13,
    "start_time": "2023-03-08T08:22:59.865Z"
   },
   {
    "duration": 32,
    "start_time": "2023-03-08T08:22:59.880Z"
   },
   {
    "duration": 54,
    "start_time": "2023-03-08T08:22:59.916Z"
   },
   {
    "duration": 55,
    "start_time": "2023-03-08T08:22:59.973Z"
   },
   {
    "duration": 46,
    "start_time": "2023-03-08T08:23:00.031Z"
   },
   {
    "duration": 32,
    "start_time": "2023-03-08T08:23:00.078Z"
   },
   {
    "duration": 71,
    "start_time": "2023-03-08T08:23:00.111Z"
   },
   {
    "duration": 71,
    "start_time": "2023-03-08T08:23:00.184Z"
   },
   {
    "duration": 47,
    "start_time": "2023-03-08T08:23:00.256Z"
   },
   {
    "duration": 73,
    "start_time": "2023-03-08T08:23:00.305Z"
   },
   {
    "duration": 54,
    "start_time": "2023-03-08T08:23:00.380Z"
   },
   {
    "duration": 96,
    "start_time": "2023-03-08T08:23:00.436Z"
   },
   {
    "duration": 112,
    "start_time": "2023-03-08T08:23:00.534Z"
   },
   {
    "duration": 8,
    "start_time": "2023-03-08T08:23:00.649Z"
   },
   {
    "duration": 24,
    "start_time": "2023-03-08T08:23:00.659Z"
   },
   {
    "duration": 30,
    "start_time": "2023-03-08T08:23:00.685Z"
   },
   {
    "duration": 35,
    "start_time": "2023-03-08T08:23:00.718Z"
   },
   {
    "duration": 97,
    "start_time": "2023-03-08T08:23:00.756Z"
   },
   {
    "duration": 15,
    "start_time": "2023-03-08T08:23:00.855Z"
   },
   {
    "duration": 89,
    "start_time": "2023-03-08T08:23:00.872Z"
   },
   {
    "duration": 68,
    "start_time": "2023-03-08T08:23:00.963Z"
   },
   {
    "duration": 61,
    "start_time": "2023-03-08T08:23:01.033Z"
   },
   {
    "duration": 27,
    "start_time": "2023-03-08T08:23:01.096Z"
   },
   {
    "duration": 7,
    "start_time": "2023-03-08T08:27:23.627Z"
   },
   {
    "duration": 6,
    "start_time": "2023-03-08T09:11:51.194Z"
   },
   {
    "duration": 6,
    "start_time": "2023-03-08T09:12:39.194Z"
   },
   {
    "duration": 107,
    "start_time": "2023-03-08T09:13:12.284Z"
   },
   {
    "duration": 1416,
    "start_time": "2023-03-09T14:00:28.359Z"
   },
   {
    "duration": 106,
    "start_time": "2023-03-09T14:00:29.783Z"
   },
   {
    "duration": 12,
    "start_time": "2023-03-09T14:00:29.892Z"
   },
   {
    "duration": 7,
    "start_time": "2023-03-09T14:00:29.906Z"
   },
   {
    "duration": 72,
    "start_time": "2023-03-09T14:00:29.916Z"
   },
   {
    "duration": 5,
    "start_time": "2023-03-09T14:00:29.990Z"
   },
   {
    "duration": 21,
    "start_time": "2023-03-09T14:00:29.997Z"
   },
   {
    "duration": 271,
    "start_time": "2023-03-09T14:00:30.020Z"
   },
   {
    "duration": 8,
    "start_time": "2023-03-09T14:00:30.293Z"
   },
   {
    "duration": 100,
    "start_time": "2023-03-09T14:00:30.303Z"
   },
   {
    "duration": 87,
    "start_time": "2023-03-09T14:00:30.405Z"
   },
   {
    "duration": 126,
    "start_time": "2023-03-09T14:00:30.495Z"
   },
   {
    "duration": 93,
    "start_time": "2023-03-09T14:00:30.623Z"
   },
   {
    "duration": 144,
    "start_time": "2023-03-09T14:00:30.721Z"
   },
   {
    "duration": 54,
    "start_time": "2023-03-09T14:00:30.869Z"
   },
   {
    "duration": 81,
    "start_time": "2023-03-09T14:00:30.924Z"
   },
   {
    "duration": 102,
    "start_time": "2023-03-09T14:00:31.006Z"
   },
   {
    "duration": 90,
    "start_time": "2023-03-09T14:00:31.110Z"
   },
   {
    "duration": 100,
    "start_time": "2023-03-09T14:00:31.202Z"
   },
   {
    "duration": 31,
    "start_time": "2023-03-09T14:00:31.304Z"
   },
   {
    "duration": 76,
    "start_time": "2023-03-09T14:00:31.337Z"
   },
   {
    "duration": 83,
    "start_time": "2023-03-09T14:00:31.416Z"
   },
   {
    "duration": 89,
    "start_time": "2023-03-09T14:00:31.502Z"
   },
   {
    "duration": 57,
    "start_time": "2023-03-09T14:00:31.593Z"
   },
   {
    "duration": 66,
    "start_time": "2023-03-09T14:00:31.652Z"
   },
   {
    "duration": 122,
    "start_time": "2023-03-09T14:00:31.720Z"
   },
   {
    "duration": 355,
    "start_time": "2023-03-09T14:00:31.844Z"
   },
   {
    "duration": 12,
    "start_time": "2023-03-09T14:00:32.201Z"
   },
   {
    "duration": 48,
    "start_time": "2023-03-09T14:00:32.215Z"
   },
   {
    "duration": 147,
    "start_time": "2023-03-09T14:00:32.278Z"
   },
   {
    "duration": 22,
    "start_time": "2023-03-09T14:00:32.428Z"
   },
   {
    "duration": 52,
    "start_time": "2023-03-09T14:00:32.452Z"
   },
   {
    "duration": 15,
    "start_time": "2023-03-09T14:00:32.506Z"
   },
   {
    "duration": 16,
    "start_time": "2023-03-09T14:00:32.523Z"
   },
   {
    "duration": 482,
    "start_time": "2023-03-09T14:00:32.544Z"
   },
   {
    "duration": 394,
    "start_time": "2023-03-09T14:00:33.028Z"
   },
   {
    "duration": 523,
    "start_time": "2023-03-09T14:00:33.424Z"
   },
   {
    "duration": 21,
    "start_time": "2023-03-09T14:00:33.950Z"
   },
   {
    "duration": 28,
    "start_time": "2023-03-09T14:00:33.975Z"
   },
   {
    "duration": 494,
    "start_time": "2023-03-09T14:00:34.004Z"
   },
   {
    "duration": 602,
    "start_time": "2023-03-09T14:00:34.504Z"
   },
   {
    "duration": 27,
    "start_time": "2023-03-09T14:00:35.108Z"
   },
   {
    "duration": 189,
    "start_time": "2023-03-09T14:00:35.137Z"
   },
   {
    "duration": 316,
    "start_time": "2023-03-09T14:00:35.328Z"
   },
   {
    "duration": 8,
    "start_time": "2023-03-09T14:00:35.650Z"
   },
   {
    "duration": 51,
    "start_time": "2023-03-09T14:00:35.660Z"
   },
   {
    "duration": 302,
    "start_time": "2023-03-09T14:00:35.713Z"
   },
   {
    "duration": 7,
    "start_time": "2023-03-09T14:00:36.018Z"
   },
   {
    "duration": 92,
    "start_time": "2023-03-09T14:00:36.027Z"
   },
   {
    "duration": 26,
    "start_time": "2023-03-09T14:00:36.121Z"
   },
   {
    "duration": 149,
    "start_time": "2023-03-09T14:00:36.150Z"
   },
   {
    "duration": 83,
    "start_time": "2023-03-09T14:00:36.301Z"
   },
   {
    "duration": 67,
    "start_time": "2023-03-09T14:00:36.386Z"
   },
   {
    "duration": 69,
    "start_time": "2023-03-09T14:00:36.455Z"
   },
   {
    "duration": 88,
    "start_time": "2023-03-09T14:00:36.526Z"
   },
   {
    "duration": 78,
    "start_time": "2023-03-09T14:00:36.616Z"
   },
   {
    "duration": 23,
    "start_time": "2023-03-09T14:00:36.696Z"
   },
   {
    "duration": 85,
    "start_time": "2023-03-09T14:00:36.721Z"
   },
   {
    "duration": 89,
    "start_time": "2023-03-09T14:00:36.808Z"
   },
   {
    "duration": 121,
    "start_time": "2023-03-09T14:00:36.900Z"
   },
   {
    "duration": 90,
    "start_time": "2023-03-09T14:00:37.023Z"
   },
   {
    "duration": 14,
    "start_time": "2023-03-09T14:00:37.115Z"
   },
   {
    "duration": 63,
    "start_time": "2023-03-09T14:00:37.130Z"
   },
   {
    "duration": 10,
    "start_time": "2023-03-09T14:00:37.195Z"
   },
   {
    "duration": 41,
    "start_time": "2023-03-09T14:00:37.206Z"
   },
   {
    "duration": 18,
    "start_time": "2023-03-09T14:00:37.248Z"
   },
   {
    "duration": 32,
    "start_time": "2023-03-09T14:00:37.268Z"
   },
   {
    "duration": 10,
    "start_time": "2023-03-09T14:00:37.302Z"
   },
   {
    "duration": 42,
    "start_time": "2023-03-09T14:00:37.313Z"
   },
   {
    "duration": 34,
    "start_time": "2023-03-09T14:00:37.357Z"
   }
  ],
  "kernelspec": {
   "display_name": "Python 3 (ipykernel)",
   "language": "python",
   "name": "python3"
  },
  "language_info": {
   "codemirror_mode": {
    "name": "ipython",
    "version": 3
   },
   "file_extension": ".py",
   "mimetype": "text/x-python",
   "name": "python",
   "nbconvert_exporter": "python",
   "pygments_lexer": "ipython3",
   "version": "3.9.13"
  },
  "toc": {
   "base_numbering": 1,
   "nav_menu": {},
   "number_sections": true,
   "sideBar": true,
   "skip_h1_title": true,
   "title_cell": "Table of Contents",
   "title_sidebar": "Contents",
   "toc_cell": false,
   "toc_position": {
    "height": "calc(100% - 180px)",
    "left": "10px",
    "top": "150px",
    "width": "275.390625px"
   },
   "toc_section_display": true,
   "toc_window_display": true
  }
 },
 "nbformat": 4,
 "nbformat_minor": 2
}
