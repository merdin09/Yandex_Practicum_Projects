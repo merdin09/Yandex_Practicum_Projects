{
 "cells": [
  {
   "cell_type": "markdown",
   "id": "fbce24f7",
   "metadata": {
    "toc": true
   },
   "source": [
    "<h1>Содержание<span class=\"tocSkip\"></span></h1>\n",
    "<div class=\"toc\"><ul class=\"toc-item\"><li><span><a href=\"#Откройте-таблицу-и-изучите-общую-информацию-о-данных\" data-toc-modified-id=\"Откройте-таблицу-и-изучите-общую-информацию-о-данных-1\"><span class=\"toc-item-num\">1&nbsp;&nbsp;</span>Откройте таблицу и изучите общую информацию о данных</a></span></li><li><span><a href=\"#Предобработка-данных\" data-toc-modified-id=\"Предобработка-данных-2\"><span class=\"toc-item-num\">2&nbsp;&nbsp;</span>Предобработка данных</a></span><ul class=\"toc-item\"><li><span><a href=\"#Удаление-пропусков\" data-toc-modified-id=\"Удаление-пропусков-2.1\"><span class=\"toc-item-num\">2.1&nbsp;&nbsp;</span>Удаление пропусков</a></span></li><li><span><a href=\"#Обработка-аномальных-значений\" data-toc-modified-id=\"Обработка-аномальных-значений-2.2\"><span class=\"toc-item-num\">2.2&nbsp;&nbsp;</span>Обработка аномальных значений</a></span></li><li><span><a href=\"#Удаление-пропусков-(продолжение)\" data-toc-modified-id=\"Удаление-пропусков-(продолжение)-2.3\"><span class=\"toc-item-num\">2.3&nbsp;&nbsp;</span>Удаление пропусков (продолжение)</a></span></li><li><span><a href=\"#Изменение-типов-данных\" data-toc-modified-id=\"Изменение-типов-данных-2.4\"><span class=\"toc-item-num\">2.4&nbsp;&nbsp;</span>Изменение типов данных</a></span></li><li><span><a href=\"#Обработка-дубликатов\" data-toc-modified-id=\"Обработка-дубликатов-2.5\"><span class=\"toc-item-num\">2.5&nbsp;&nbsp;</span>Обработка дубликатов</a></span></li><li><span><a href=\"#Категоризация-данных\" data-toc-modified-id=\"Категоризация-данных-2.6\"><span class=\"toc-item-num\">2.6&nbsp;&nbsp;</span>Категоризация данных</a></span></li><li><span><a href=\"#Шаг-3.-Исследуйте-данные-и-ответьте-на-вопросы\" data-toc-modified-id=\"Шаг-3.-Исследуйте-данные-и-ответьте-на-вопросы-2.7\"><span class=\"toc-item-num\">2.7&nbsp;&nbsp;</span>Шаг 3. Исследуйте данные и ответьте на вопросы</a></span><ul class=\"toc-item\"><li><span><a href=\"#3.1-Есть-ли-зависимость-между-количеством-детей-и-возвратом-кредита-в-срок?\" data-toc-modified-id=\"3.1-Есть-ли-зависимость-между-количеством-детей-и-возвратом-кредита-в-срок?-2.7.1\"><span class=\"toc-item-num\">2.7.1&nbsp;&nbsp;</span>3.1 Есть ли зависимость между количеством детей и возвратом кредита в срок?</a></span></li><li><span><a href=\"#3.2-Есть-ли-зависимость-между-семейным-положением-и-возвратом-кредита-в-срок?\" data-toc-modified-id=\"3.2-Есть-ли-зависимость-между-семейным-положением-и-возвратом-кредита-в-срок?-2.7.2\"><span class=\"toc-item-num\">2.7.2&nbsp;&nbsp;</span>3.2 Есть ли зависимость между семейным положением и возвратом кредита в срок?</a></span></li><li><span><a href=\"#3.3-Есть-ли-зависимость-между-уровнем-дохода-и-возвратом-кредита-в-срок?\" data-toc-modified-id=\"3.3-Есть-ли-зависимость-между-уровнем-дохода-и-возвратом-кредита-в-срок?-2.7.3\"><span class=\"toc-item-num\">2.7.3&nbsp;&nbsp;</span>3.3 Есть ли зависимость между уровнем дохода и возвратом кредита в срок?</a></span></li><li><span><a href=\"#3.4-Как-разные-цели-кредита-влияют-на-его-возврат-в-срок?\" data-toc-modified-id=\"3.4-Как-разные-цели-кредита-влияют-на-его-возврат-в-срок?-2.7.4\"><span class=\"toc-item-num\">2.7.4&nbsp;&nbsp;</span>3.4 Как разные цели кредита влияют на его возврат в срок?</a></span></li><li><span><a href=\"#3.5-Приведите-возможные-причины-появления-пропусков-в-исходных-данных.\" data-toc-modified-id=\"3.5-Приведите-возможные-причины-появления-пропусков-в-исходных-данных.-2.7.5\"><span class=\"toc-item-num\">2.7.5&nbsp;&nbsp;</span>3.5 Приведите возможные причины появления пропусков в исходных данных.</a></span></li><li><span><a href=\"#3.6-Объясните,-почему-заполнить-пропуски-медианным-значением-—-лучшее-решение-для-количественных-переменных.\" data-toc-modified-id=\"3.6-Объясните,-почему-заполнить-пропуски-медианным-значением-—-лучшее-решение-для-количественных-переменных.-2.7.6\"><span class=\"toc-item-num\">2.7.6&nbsp;&nbsp;</span>3.6 Объясните, почему заполнить пропуски медианным значением — лучшее решение для количественных переменных.</a></span></li></ul></li><li><span><a href=\"#Шаг-4:-общий-вывод.\" data-toc-modified-id=\"Шаг-4:-общий-вывод.-2.8\"><span class=\"toc-item-num\">2.8&nbsp;&nbsp;</span>Шаг 4: общий вывод.</a></span></li></ul></li></ul></div>"
   ]
  },
  {
   "cell_type": "markdown",
   "id": "5c3b19d0",
   "metadata": {
    "deletable": false,
    "editable": false,
    "id": "c81daeeb"
   },
   "source": [
    "# Исследование надежности заемщиков\n"
   ]
  },
  {
   "cell_type": "markdown",
   "id": "9f176045",
   "metadata": {
    "deletable": false,
    "editable": false,
    "id": "827c20bf"
   },
   "source": [
    "# Во второй части проекта вы выполните шаги 3 и 4. Их вручную проверит ревьюер.\n",
    "Чтобы вам не пришлось писать код заново для шагов 1 и 2, мы добавили авторские решения в ячейки с кодом. \n",
    "\n"
   ]
  },
  {
   "cell_type": "markdown",
   "id": "09718087",
   "metadata": {
    "deletable": false,
    "editable": false,
    "id": "744d7639"
   },
   "source": [
    "## Откройте таблицу и изучите общую информацию о данных"
   ]
  },
  {
   "cell_type": "markdown",
   "id": "a2770b56",
   "metadata": {
    "deletable": false,
    "editable": false,
    "id": "e7a14c31"
   },
   "source": [
    "**Задание 1. Импортируйте библиотеку pandas. Считайте данные из csv-файла в датафрейм и сохраните в переменную `data`. Путь к файлу:**\n",
    "\n",
    "`/datasets/data.csv`"
   ]
  },
  {
   "cell_type": "code",
   "execution_count": 1,
   "id": "c8ec38ce",
   "metadata": {
    "deletable": false,
    "id": "7bcf75c9"
   },
   "outputs": [],
   "source": [
    "import pandas as pd\n",
    "\n",
    "try:\n",
    "    data = pd.read_csv('/datasets/data.csv')\n",
    "except:\n",
    "    data = pd.read_csv('/Users/sergeipakhar/Desktop/Phyton/2 СПРИНТ Предобработка данных/data.csv')\n",
    "   \n"
   ]
  },
  {
   "cell_type": "markdown",
   "id": "c4e65222",
   "metadata": {
    "deletable": false,
    "editable": false,
    "id": "b8038fe3"
   },
   "source": [
    "**Задание 2. Выведите первые 20 строчек датафрейма `data` на экран.**"
   ]
  },
  {
   "cell_type": "code",
   "execution_count": 2,
   "id": "263fc407",
   "metadata": {
    "deletable": false,
    "id": "2a7cab99",
    "outputId": "1a8f3ef2-d323-4ec2-ddf7-89670b5944c4"
   },
   "outputs": [
    {
     "data": {
      "text/html": [
       "<div>\n",
       "<style scoped>\n",
       "    .dataframe tbody tr th:only-of-type {\n",
       "        vertical-align: middle;\n",
       "    }\n",
       "\n",
       "    .dataframe tbody tr th {\n",
       "        vertical-align: top;\n",
       "    }\n",
       "\n",
       "    .dataframe thead th {\n",
       "        text-align: right;\n",
       "    }\n",
       "</style>\n",
       "<table border=\"1\" class=\"dataframe\">\n",
       "  <thead>\n",
       "    <tr style=\"text-align: right;\">\n",
       "      <th></th>\n",
       "      <th>children</th>\n",
       "      <th>days_employed</th>\n",
       "      <th>dob_years</th>\n",
       "      <th>education</th>\n",
       "      <th>education_id</th>\n",
       "      <th>family_status</th>\n",
       "      <th>family_status_id</th>\n",
       "      <th>gender</th>\n",
       "      <th>income_type</th>\n",
       "      <th>debt</th>\n",
       "      <th>total_income</th>\n",
       "      <th>purpose</th>\n",
       "    </tr>\n",
       "  </thead>\n",
       "  <tbody>\n",
       "    <tr>\n",
       "      <th>0</th>\n",
       "      <td>1</td>\n",
       "      <td>-8437.673028</td>\n",
       "      <td>42</td>\n",
       "      <td>высшее</td>\n",
       "      <td>0</td>\n",
       "      <td>женат / замужем</td>\n",
       "      <td>0</td>\n",
       "      <td>F</td>\n",
       "      <td>сотрудник</td>\n",
       "      <td>0</td>\n",
       "      <td>253875.639453</td>\n",
       "      <td>покупка жилья</td>\n",
       "    </tr>\n",
       "    <tr>\n",
       "      <th>1</th>\n",
       "      <td>1</td>\n",
       "      <td>-4024.803754</td>\n",
       "      <td>36</td>\n",
       "      <td>среднее</td>\n",
       "      <td>1</td>\n",
       "      <td>женат / замужем</td>\n",
       "      <td>0</td>\n",
       "      <td>F</td>\n",
       "      <td>сотрудник</td>\n",
       "      <td>0</td>\n",
       "      <td>112080.014102</td>\n",
       "      <td>приобретение автомобиля</td>\n",
       "    </tr>\n",
       "    <tr>\n",
       "      <th>2</th>\n",
       "      <td>0</td>\n",
       "      <td>-5623.422610</td>\n",
       "      <td>33</td>\n",
       "      <td>Среднее</td>\n",
       "      <td>1</td>\n",
       "      <td>женат / замужем</td>\n",
       "      <td>0</td>\n",
       "      <td>M</td>\n",
       "      <td>сотрудник</td>\n",
       "      <td>0</td>\n",
       "      <td>145885.952297</td>\n",
       "      <td>покупка жилья</td>\n",
       "    </tr>\n",
       "    <tr>\n",
       "      <th>3</th>\n",
       "      <td>3</td>\n",
       "      <td>-4124.747207</td>\n",
       "      <td>32</td>\n",
       "      <td>среднее</td>\n",
       "      <td>1</td>\n",
       "      <td>женат / замужем</td>\n",
       "      <td>0</td>\n",
       "      <td>M</td>\n",
       "      <td>сотрудник</td>\n",
       "      <td>0</td>\n",
       "      <td>267628.550329</td>\n",
       "      <td>дополнительное образование</td>\n",
       "    </tr>\n",
       "    <tr>\n",
       "      <th>4</th>\n",
       "      <td>0</td>\n",
       "      <td>340266.072047</td>\n",
       "      <td>53</td>\n",
       "      <td>среднее</td>\n",
       "      <td>1</td>\n",
       "      <td>гражданский брак</td>\n",
       "      <td>1</td>\n",
       "      <td>F</td>\n",
       "      <td>пенсионер</td>\n",
       "      <td>0</td>\n",
       "      <td>158616.077870</td>\n",
       "      <td>сыграть свадьбу</td>\n",
       "    </tr>\n",
       "  </tbody>\n",
       "</table>\n",
       "</div>"
      ],
      "text/plain": [
       "   children  days_employed  dob_years education  education_id  \\\n",
       "0         1   -8437.673028         42    высшее             0   \n",
       "1         1   -4024.803754         36   среднее             1   \n",
       "2         0   -5623.422610         33   Среднее             1   \n",
       "3         3   -4124.747207         32   среднее             1   \n",
       "4         0  340266.072047         53   среднее             1   \n",
       "\n",
       "      family_status  family_status_id gender income_type  debt   total_income  \\\n",
       "0   женат / замужем                 0      F   сотрудник     0  253875.639453   \n",
       "1   женат / замужем                 0      F   сотрудник     0  112080.014102   \n",
       "2   женат / замужем                 0      M   сотрудник     0  145885.952297   \n",
       "3   женат / замужем                 0      M   сотрудник     0  267628.550329   \n",
       "4  гражданский брак                 1      F   пенсионер     0  158616.077870   \n",
       "\n",
       "                      purpose  \n",
       "0               покупка жилья  \n",
       "1     приобретение автомобиля  \n",
       "2               покупка жилья  \n",
       "3  дополнительное образование  \n",
       "4             сыграть свадьбу  "
      ]
     },
     "execution_count": 2,
     "metadata": {},
     "output_type": "execute_result"
    }
   ],
   "source": [
    "data.head(5)"
   ]
  },
  {
   "cell_type": "markdown",
   "id": "412fd9de",
   "metadata": {
    "deletable": false,
    "editable": false,
    "id": "1c12e233"
   },
   "source": [
    "**Задание 3. Выведите основную информацию о датафрейме с помощью метода `info()`.**"
   ]
  },
  {
   "cell_type": "code",
   "execution_count": 3,
   "id": "586964d3",
   "metadata": {
    "deletable": false,
    "id": "2b757bca",
    "outputId": "15376089-8dad-46c9-b520-c05248d43158"
   },
   "outputs": [
    {
     "name": "stdout",
     "output_type": "stream",
     "text": [
      "<class 'pandas.core.frame.DataFrame'>\n",
      "RangeIndex: 21525 entries, 0 to 21524\n",
      "Data columns (total 12 columns):\n",
      " #   Column            Non-Null Count  Dtype  \n",
      "---  ------            --------------  -----  \n",
      " 0   children          21525 non-null  int64  \n",
      " 1   days_employed     19351 non-null  float64\n",
      " 2   dob_years         21525 non-null  int64  \n",
      " 3   education         21525 non-null  object \n",
      " 4   education_id      21525 non-null  int64  \n",
      " 5   family_status     21525 non-null  object \n",
      " 6   family_status_id  21525 non-null  int64  \n",
      " 7   gender            21525 non-null  object \n",
      " 8   income_type       21525 non-null  object \n",
      " 9   debt              21525 non-null  int64  \n",
      " 10  total_income      19351 non-null  float64\n",
      " 11  purpose           21525 non-null  object \n",
      "dtypes: float64(2), int64(5), object(5)\n",
      "memory usage: 2.0+ MB\n"
     ]
    }
   ],
   "source": [
    "data.info()"
   ]
  },
  {
   "cell_type": "markdown",
   "id": "d4efde75",
   "metadata": {
    "deletable": false,
    "editable": false,
    "id": "333ec665"
   },
   "source": [
    "## Предобработка данных"
   ]
  },
  {
   "cell_type": "markdown",
   "id": "82bbf914",
   "metadata": {
    "deletable": false,
    "editable": false,
    "id": "02d92d53"
   },
   "source": [
    "### Удаление пропусков"
   ]
  },
  {
   "cell_type": "markdown",
   "id": "badbd7a6",
   "metadata": {
    "deletable": false,
    "editable": false,
    "id": "cd84967c"
   },
   "source": [
    "**Задание 4. Выведите количество пропущенных значений для каждого столбца. Используйте комбинацию двух методов.**"
   ]
  },
  {
   "cell_type": "code",
   "execution_count": 4,
   "id": "57148797",
   "metadata": {
    "deletable": false,
    "id": "7f9b2309",
    "outputId": "81f4d817-781c-465c-ed15-91ce4446810d"
   },
   "outputs": [
    {
     "data": {
      "text/plain": [
       "children               0\n",
       "days_employed       2174\n",
       "dob_years              0\n",
       "education              0\n",
       "education_id           0\n",
       "family_status          0\n",
       "family_status_id       0\n",
       "gender                 0\n",
       "income_type            0\n",
       "debt                   0\n",
       "total_income        2174\n",
       "purpose                0\n",
       "dtype: int64"
      ]
     },
     "execution_count": 4,
     "metadata": {},
     "output_type": "execute_result"
    }
   ],
   "source": [
    "data.isna().sum()"
   ]
  },
  {
   "cell_type": "markdown",
   "id": "ef3a3acd",
   "metadata": {
    "deletable": false,
    "editable": false,
    "id": "db86e27b"
   },
   "source": [
    "**Задание 5. В двух столбцах есть пропущенные значения. Один из них — `days_employed`. Пропуски в этом столбце вы обработаете на следующем этапе. Другой столбец с пропущенными значениями — `total_income` — хранит данные о доходах. На сумму дохода сильнее всего влияет тип занятости, поэтому заполнить пропуски в этом столбце нужно медианным значением по каждому типу из столбца `income_type`. Например, у человека с типом занятости `сотрудник` пропуск в столбце `total_income` должен быть заполнен медианным доходом среди всех записей с тем же типом.**"
   ]
  },
  {
   "cell_type": "code",
   "execution_count": 5,
   "id": "507f7613",
   "metadata": {
    "deletable": false,
    "id": "42006a93"
   },
   "outputs": [],
   "source": [
    "for t in data['income_type'].unique():\n",
    "    data.loc[(data['income_type'] == t) & (data['total_income'].isna()), 'total_income'] = \\\n",
    "    data.loc[(data['income_type'] == t), 'total_income'].median()"
   ]
  },
  {
   "cell_type": "markdown",
   "id": "18de46a0",
   "metadata": {
    "deletable": false,
    "editable": false,
    "id": "89da5ece"
   },
   "source": [
    "### Обработка аномальных значений"
   ]
  },
  {
   "cell_type": "markdown",
   "id": "00f3ae30",
   "metadata": {
    "deletable": false,
    "editable": false,
    "id": "57964554"
   },
   "source": [
    "**Задание 6. В данных могут встречаться артефакты (аномалии) — значения, которые не отражают действительность и появились по какой-то ошибке. таким артефактом будет отрицательное количество дней трудового стажа в столбце `days_employed`. Для реальных данных это нормально. Обработайте значения в этом столбце: замените все отрицательные значения положительными с помощью метода `abs()`.**"
   ]
  },
  {
   "cell_type": "code",
   "execution_count": 6,
   "id": "6aff7899",
   "metadata": {
    "deletable": false,
    "id": "f6f055bf"
   },
   "outputs": [],
   "source": [
    "data['days_employed'] = data['days_employed'].abs()"
   ]
  },
  {
   "cell_type": "markdown",
   "id": "bed93d6d",
   "metadata": {
    "deletable": false,
    "editable": false,
    "id": "6107dd2f"
   },
   "source": [
    "**Задание 7. Для каждого типа занятости выведите медианное значение трудового стажа `days_employed` в днях.**"
   ]
  },
  {
   "cell_type": "code",
   "execution_count": 7,
   "id": "54116a36",
   "metadata": {
    "deletable": false,
    "id": "85a5faf6",
    "outputId": "801ef80e-522b-4668-f34e-565af7432bcf"
   },
   "outputs": [
    {
     "data": {
      "text/plain": [
       "income_type\n",
       "безработный        366413.652744\n",
       "в декрете            3296.759962\n",
       "госслужащий          2689.368353\n",
       "компаньон            1547.382223\n",
       "пенсионер          365213.306266\n",
       "предприниматель       520.848083\n",
       "сотрудник            1574.202821\n",
       "студент               578.751554\n",
       "Name: days_employed, dtype: float64"
      ]
     },
     "execution_count": 7,
     "metadata": {},
     "output_type": "execute_result"
    }
   ],
   "source": [
    "data.groupby('income_type')['days_employed'].agg('median')"
   ]
  },
  {
   "cell_type": "markdown",
   "id": "8cc381b9",
   "metadata": {
    "deletable": false,
    "editable": false,
    "id": "38d1a030"
   },
   "source": [
    "У двух типов (безработные и пенсионеры) получатся аномально большие значения. Исправить такие значения сложно, поэтому оставьте их как есть. Тем более этот столбец не понадобится вам для исследования."
   ]
  },
  {
   "cell_type": "markdown",
   "id": "1e9f0153",
   "metadata": {
    "deletable": false,
    "editable": false,
    "id": "d8a9f147"
   },
   "source": [
    "**Задание 8. Выведите перечень уникальных значений столбца `children`.**"
   ]
  },
  {
   "cell_type": "code",
   "execution_count": 8,
   "id": "a544e0e9",
   "metadata": {
    "deletable": false,
    "id": "ef5056eb",
    "outputId": "6975b15c-7f95-4697-d16d-a0c79b657b03"
   },
   "outputs": [
    {
     "data": {
      "text/plain": [
       "array([ 1,  0,  3,  2, -1,  4, 20,  5])"
      ]
     },
     "execution_count": 8,
     "metadata": {},
     "output_type": "execute_result"
    }
   ],
   "source": [
    "data['children'].unique()"
   ]
  },
  {
   "cell_type": "markdown",
   "id": "bef882bc",
   "metadata": {
    "deletable": false,
    "editable": false,
    "id": "40b9ebf2"
   },
   "source": [
    "**Задание 9. В столбце `children` есть два аномальных значения. Удалите строки, в которых встречаются такие аномальные значения из датафрейма `data`.**"
   ]
  },
  {
   "cell_type": "code",
   "execution_count": 9,
   "id": "28c02adf",
   "metadata": {
    "deletable": false,
    "id": "3ff9801d"
   },
   "outputs": [],
   "source": [
    "data = data[(data['children'] != -1) & (data['children'] != 20)]"
   ]
  },
  {
   "cell_type": "markdown",
   "id": "7607bc69",
   "metadata": {
    "deletable": false,
    "editable": false,
    "id": "bbc4d0ce"
   },
   "source": [
    "**Задание 10. Ещё раз выведите перечень уникальных значений столбца `children`, чтобы убедиться, что артефакты удалены.**"
   ]
  },
  {
   "cell_type": "code",
   "execution_count": 10,
   "id": "b7776db6",
   "metadata": {
    "deletable": false,
    "id": "ad4fa8b7",
    "outputId": "b2097101-d49d-44d9-901b-32a65c9463d1"
   },
   "outputs": [
    {
     "data": {
      "text/plain": [
       "array([1, 0, 3, 2, 4, 5])"
      ]
     },
     "execution_count": 10,
     "metadata": {},
     "output_type": "execute_result"
    }
   ],
   "source": [
    "data['children'].unique()"
   ]
  },
  {
   "cell_type": "markdown",
   "id": "2b60417f",
   "metadata": {
    "deletable": false,
    "editable": false,
    "id": "75440b63"
   },
   "source": [
    "### Удаление пропусков (продолжение)"
   ]
  },
  {
   "cell_type": "markdown",
   "id": "961dc1fa",
   "metadata": {
    "deletable": false,
    "editable": false,
    "id": "f4ea573f"
   },
   "source": [
    "**Задание 11. Заполните пропуски в столбце `days_employed` медианными значениями по каждого типа занятости `income_type`.**"
   ]
  },
  {
   "cell_type": "code",
   "execution_count": 11,
   "id": "6e0962e9",
   "metadata": {
    "deletable": false,
    "id": "af6b1a7e"
   },
   "outputs": [],
   "source": [
    "for t in data['income_type'].unique():\n",
    "    data.loc[(data['income_type'] == t) & (data['days_employed'].isna()), 'days_employed'] = \\\n",
    "    data.loc[(data['income_type'] == t), 'days_employed'].median()"
   ]
  },
  {
   "cell_type": "markdown",
   "id": "faa5c063",
   "metadata": {
    "deletable": false,
    "editable": false,
    "id": "2753f40d"
   },
   "source": [
    "**Задание 12. Убедитесь, что все пропуски заполнены. Проверьте себя и ещё раз выведите количество пропущенных значений для каждого столбца с помощью двух методов.**"
   ]
  },
  {
   "cell_type": "code",
   "execution_count": 12,
   "id": "a418284a",
   "metadata": {
    "deletable": false,
    "id": "55f78bc2",
    "outputId": "8da1e4e1-358e-4e87-98c9-f261bce0a7b2"
   },
   "outputs": [
    {
     "data": {
      "text/plain": [
       "children            0\n",
       "days_employed       0\n",
       "dob_years           0\n",
       "education           0\n",
       "education_id        0\n",
       "family_status       0\n",
       "family_status_id    0\n",
       "gender              0\n",
       "income_type         0\n",
       "debt                0\n",
       "total_income        0\n",
       "purpose             0\n",
       "dtype: int64"
      ]
     },
     "execution_count": 12,
     "metadata": {},
     "output_type": "execute_result"
    }
   ],
   "source": [
    "data.isna().sum()"
   ]
  },
  {
   "cell_type": "markdown",
   "id": "f1d02260",
   "metadata": {
    "deletable": false,
    "editable": false,
    "id": "ddc81e43"
   },
   "source": [
    "### Изменение типов данных"
   ]
  },
  {
   "cell_type": "markdown",
   "id": "f8ca0424",
   "metadata": {
    "deletable": false,
    "editable": false,
    "id": "42d19d24"
   },
   "source": [
    "**Задание 13. Замените вещественный тип данных в столбце `total_income` на целочисленный с помощью метода `astype()`.**"
   ]
  },
  {
   "cell_type": "code",
   "execution_count": 13,
   "id": "54e30d4d",
   "metadata": {
    "deletable": false,
    "id": "920b65ad"
   },
   "outputs": [],
   "source": [
    "data['total_income'] = data['total_income'].astype(int)"
   ]
  },
  {
   "cell_type": "markdown",
   "id": "de7afbab",
   "metadata": {
    "deletable": false,
    "editable": false,
    "id": "80c420ba"
   },
   "source": [
    "### Обработка дубликатов"
   ]
  },
  {
   "cell_type": "markdown",
   "id": "1c053de8",
   "metadata": {
    "deletable": false,
    "editable": false
   },
   "source": [
    "**Задание 14. Обработайте неявные дубликаты в столбце `education`. В этом столбце есть одни и те же значения, но записанные по-разному: с использованием заглавных и строчных букв. Приведите их к нижнему регистру. Проверьте остальные столбцы.**"
   ]
  },
  {
   "cell_type": "code",
   "execution_count": 14,
   "id": "e55fff78",
   "metadata": {
    "deletable": false
   },
   "outputs": [],
   "source": [
    "data['education'] = data['education'].str.lower()"
   ]
  },
  {
   "cell_type": "markdown",
   "id": "957c3fe9",
   "metadata": {
    "deletable": false,
    "editable": false,
    "id": "dc587695"
   },
   "source": [
    "**Задание 15. Выведите на экран количество строк-дубликатов в данных. Если такие строки присутствуют, удалите их.**"
   ]
  },
  {
   "cell_type": "code",
   "execution_count": 15,
   "id": "76ae46ca",
   "metadata": {
    "deletable": false,
    "id": "3ee445e4",
    "outputId": "9684deba-1934-42d1-99e1-cda61740f822"
   },
   "outputs": [
    {
     "data": {
      "text/plain": [
       "71"
      ]
     },
     "execution_count": 15,
     "metadata": {},
     "output_type": "execute_result"
    }
   ],
   "source": [
    "data.duplicated().sum()"
   ]
  },
  {
   "cell_type": "code",
   "execution_count": 16,
   "id": "0e306e64",
   "metadata": {
    "deletable": false,
    "id": "8575fe05"
   },
   "outputs": [],
   "source": [
    "data = data.drop_duplicates()"
   ]
  },
  {
   "cell_type": "markdown",
   "id": "d4681b80",
   "metadata": {
    "deletable": false,
    "editable": false,
    "id": "9904cf55"
   },
   "source": [
    "### Категоризация данных"
   ]
  },
  {
   "cell_type": "markdown",
   "id": "9fcb1e0e",
   "metadata": {
    "deletable": false,
    "editable": false,
    "id": "72fcc8a2"
   },
   "source": [
    "**Задание 16. На основании диапазонов, указанных ниже, создайте в датафрейме `data` столбец `total_income_category` с категориями:**\n",
    "\n",
    "- 0–30000 — `'E'`;\n",
    "- 30001–50000 — `'D'`;\n",
    "- 50001–200000 — `'C'`;\n",
    "- 200001–1000000 — `'B'`;\n",
    "- 1000001 и выше — `'A'`.\n",
    "\n",
    "\n",
    "**Например, кредитополучателю с доходом 25000 нужно назначить категорию `'E'`, а клиенту, получающему 235000, — `'B'`. Используйте собственную функцию с именем `categorize_income()` и метод `apply()`.**"
   ]
  },
  {
   "cell_type": "code",
   "execution_count": 17,
   "id": "9b9e91db",
   "metadata": {
    "deletable": false,
    "id": "e1771346"
   },
   "outputs": [],
   "source": [
    "def categorize_income(income):\n",
    "    try:\n",
    "        if 0 <= income <= 30000:\n",
    "            return 'E'\n",
    "        elif 30001 <= income <= 50000:\n",
    "            return 'D'\n",
    "        elif 50001 <= income <= 200000:\n",
    "            return 'C'\n",
    "        elif 200001 <= income <= 1000000:\n",
    "            return 'B'\n",
    "        elif income >= 1000001:\n",
    "            return 'A'\n",
    "    except:\n",
    "        pass"
   ]
  },
  {
   "cell_type": "code",
   "execution_count": 18,
   "id": "e80cee4a",
   "metadata": {
    "deletable": false,
    "id": "d5f3586d"
   },
   "outputs": [],
   "source": [
    "data['total_income_category'] = data['total_income'].apply(categorize_income)"
   ]
  },
  {
   "cell_type": "markdown",
   "id": "6f4f1598",
   "metadata": {
    "deletable": false,
    "editable": false,
    "id": "dde49b5c"
   },
   "source": [
    "**Задание 17. Выведите на экран перечень уникальных целей взятия кредита из столбца `purpose`.**"
   ]
  },
  {
   "cell_type": "code",
   "execution_count": 19,
   "id": "9fc6d2a4",
   "metadata": {
    "deletable": false,
    "id": "f67ce9b3",
    "outputId": "673c12d9-7d7e-4ae0-9812-c622c89dd244"
   },
   "outputs": [
    {
     "data": {
      "text/plain": [
       "array(['покупка жилья', 'приобретение автомобиля',\n",
       "       'дополнительное образование', 'сыграть свадьбу',\n",
       "       'операции с жильем', 'образование', 'на проведение свадьбы',\n",
       "       'покупка жилья для семьи', 'покупка недвижимости',\n",
       "       'покупка коммерческой недвижимости', 'покупка жилой недвижимости',\n",
       "       'строительство собственной недвижимости', 'недвижимость',\n",
       "       'строительство недвижимости', 'на покупку подержанного автомобиля',\n",
       "       'на покупку своего автомобиля',\n",
       "       'операции с коммерческой недвижимостью',\n",
       "       'строительство жилой недвижимости', 'жилье',\n",
       "       'операции со своей недвижимостью', 'автомобили',\n",
       "       'заняться образованием', 'сделка с подержанным автомобилем',\n",
       "       'получение образования', 'автомобиль', 'свадьба',\n",
       "       'получение дополнительного образования', 'покупка своего жилья',\n",
       "       'операции с недвижимостью', 'получение высшего образования',\n",
       "       'свой автомобиль', 'сделка с автомобилем',\n",
       "       'профильное образование', 'высшее образование',\n",
       "       'покупка жилья для сдачи', 'на покупку автомобиля', 'ремонт жилью',\n",
       "       'заняться высшим образованием'], dtype=object)"
      ]
     },
     "execution_count": 19,
     "metadata": {},
     "output_type": "execute_result"
    }
   ],
   "source": [
    "data['purpose'].unique()"
   ]
  },
  {
   "cell_type": "markdown",
   "id": "f5fd8b8e",
   "metadata": {
    "deletable": false,
    "editable": false,
    "id": "85d0aef0"
   },
   "source": [
    "**Задание 18. Создайте функцию, которая на основании данных из столбца `purpose` сформирует новый столбец `purpose_category`, в который войдут следующие категории:**\n",
    "\n",
    "- `'операции с автомобилем'`,\n",
    "- `'операции с недвижимостью'`,\n",
    "- `'проведение свадьбы'`,\n",
    "- `'получение образования'`.\n",
    "\n",
    "**Например, если в столбце `purpose` находится подстрока `'на покупку автомобиля'`, то в столбце `purpose_category` должна появиться строка `'операции с автомобилем'`.**\n",
    "\n",
    "**Используйте собственную функцию с именем `categorize_purpose()` и метод `apply()`. Изучите данные в столбце `purpose` и определите, какие подстроки помогут вам правильно определить категорию.**"
   ]
  },
  {
   "cell_type": "code",
   "execution_count": 20,
   "id": "4ac60bea",
   "metadata": {
    "deletable": false,
    "id": "e149fab4"
   },
   "outputs": [],
   "source": [
    "def categorize_purpose(row):\n",
    "    try:\n",
    "        if 'автом' in row:\n",
    "            return 'операции с автомобилем'\n",
    "        elif 'жил' in row or 'недвиж' in row:\n",
    "            return 'операции с недвижимостью'\n",
    "        elif 'свад' in row:\n",
    "            return 'проведение свадьбы'\n",
    "        elif 'образов' in row:\n",
    "            return 'получение образования'\n",
    "    except:\n",
    "        return 'нет категории'"
   ]
  },
  {
   "cell_type": "code",
   "execution_count": 21,
   "id": "711cd561",
   "metadata": {
    "deletable": false,
    "id": "bf36e69b"
   },
   "outputs": [
    {
     "data": {
      "text/html": [
       "<div>\n",
       "<style scoped>\n",
       "    .dataframe tbody tr th:only-of-type {\n",
       "        vertical-align: middle;\n",
       "    }\n",
       "\n",
       "    .dataframe tbody tr th {\n",
       "        vertical-align: top;\n",
       "    }\n",
       "\n",
       "    .dataframe thead th {\n",
       "        text-align: right;\n",
       "    }\n",
       "</style>\n",
       "<table border=\"1\" class=\"dataframe\">\n",
       "  <thead>\n",
       "    <tr style=\"text-align: right;\">\n",
       "      <th></th>\n",
       "      <th>children</th>\n",
       "      <th>days_employed</th>\n",
       "      <th>dob_years</th>\n",
       "      <th>education</th>\n",
       "      <th>education_id</th>\n",
       "      <th>family_status</th>\n",
       "      <th>family_status_id</th>\n",
       "      <th>gender</th>\n",
       "      <th>income_type</th>\n",
       "      <th>debt</th>\n",
       "      <th>total_income</th>\n",
       "      <th>purpose</th>\n",
       "      <th>total_income_category</th>\n",
       "      <th>purpose_category</th>\n",
       "    </tr>\n",
       "  </thead>\n",
       "  <tbody>\n",
       "    <tr>\n",
       "      <th>0</th>\n",
       "      <td>1</td>\n",
       "      <td>8437.673028</td>\n",
       "      <td>42</td>\n",
       "      <td>высшее</td>\n",
       "      <td>0</td>\n",
       "      <td>женат / замужем</td>\n",
       "      <td>0</td>\n",
       "      <td>F</td>\n",
       "      <td>сотрудник</td>\n",
       "      <td>0</td>\n",
       "      <td>253875</td>\n",
       "      <td>покупка жилья</td>\n",
       "      <td>B</td>\n",
       "      <td>операции с недвижимостью</td>\n",
       "    </tr>\n",
       "    <tr>\n",
       "      <th>1</th>\n",
       "      <td>1</td>\n",
       "      <td>4024.803754</td>\n",
       "      <td>36</td>\n",
       "      <td>среднее</td>\n",
       "      <td>1</td>\n",
       "      <td>женат / замужем</td>\n",
       "      <td>0</td>\n",
       "      <td>F</td>\n",
       "      <td>сотрудник</td>\n",
       "      <td>0</td>\n",
       "      <td>112080</td>\n",
       "      <td>приобретение автомобиля</td>\n",
       "      <td>C</td>\n",
       "      <td>операции с автомобилем</td>\n",
       "    </tr>\n",
       "    <tr>\n",
       "      <th>2</th>\n",
       "      <td>0</td>\n",
       "      <td>5623.422610</td>\n",
       "      <td>33</td>\n",
       "      <td>среднее</td>\n",
       "      <td>1</td>\n",
       "      <td>женат / замужем</td>\n",
       "      <td>0</td>\n",
       "      <td>M</td>\n",
       "      <td>сотрудник</td>\n",
       "      <td>0</td>\n",
       "      <td>145885</td>\n",
       "      <td>покупка жилья</td>\n",
       "      <td>C</td>\n",
       "      <td>операции с недвижимостью</td>\n",
       "    </tr>\n",
       "    <tr>\n",
       "      <th>3</th>\n",
       "      <td>3</td>\n",
       "      <td>4124.747207</td>\n",
       "      <td>32</td>\n",
       "      <td>среднее</td>\n",
       "      <td>1</td>\n",
       "      <td>женат / замужем</td>\n",
       "      <td>0</td>\n",
       "      <td>M</td>\n",
       "      <td>сотрудник</td>\n",
       "      <td>0</td>\n",
       "      <td>267628</td>\n",
       "      <td>дополнительное образование</td>\n",
       "      <td>B</td>\n",
       "      <td>получение образования</td>\n",
       "    </tr>\n",
       "    <tr>\n",
       "      <th>4</th>\n",
       "      <td>0</td>\n",
       "      <td>340266.072047</td>\n",
       "      <td>53</td>\n",
       "      <td>среднее</td>\n",
       "      <td>1</td>\n",
       "      <td>гражданский брак</td>\n",
       "      <td>1</td>\n",
       "      <td>F</td>\n",
       "      <td>пенсионер</td>\n",
       "      <td>0</td>\n",
       "      <td>158616</td>\n",
       "      <td>сыграть свадьбу</td>\n",
       "      <td>C</td>\n",
       "      <td>проведение свадьбы</td>\n",
       "    </tr>\n",
       "  </tbody>\n",
       "</table>\n",
       "</div>"
      ],
      "text/plain": [
       "   children  days_employed  dob_years education  education_id  \\\n",
       "0         1    8437.673028         42    высшее             0   \n",
       "1         1    4024.803754         36   среднее             1   \n",
       "2         0    5623.422610         33   среднее             1   \n",
       "3         3    4124.747207         32   среднее             1   \n",
       "4         0  340266.072047         53   среднее             1   \n",
       "\n",
       "      family_status  family_status_id gender income_type  debt  total_income  \\\n",
       "0   женат / замужем                 0      F   сотрудник     0        253875   \n",
       "1   женат / замужем                 0      F   сотрудник     0        112080   \n",
       "2   женат / замужем                 0      M   сотрудник     0        145885   \n",
       "3   женат / замужем                 0      M   сотрудник     0        267628   \n",
       "4  гражданский брак                 1      F   пенсионер     0        158616   \n",
       "\n",
       "                      purpose total_income_category          purpose_category  \n",
       "0               покупка жилья                     B  операции с недвижимостью  \n",
       "1     приобретение автомобиля                     C    операции с автомобилем  \n",
       "2               покупка жилья                     C  операции с недвижимостью  \n",
       "3  дополнительное образование                     B     получение образования  \n",
       "4             сыграть свадьбу                     C        проведение свадьбы  "
      ]
     },
     "execution_count": 21,
     "metadata": {},
     "output_type": "execute_result"
    }
   ],
   "source": [
    "data['purpose_category'] = data['purpose'].apply(categorize_purpose)\n",
    "data.head(5)"
   ]
  },
  {
   "cell_type": "markdown",
   "id": "e0e78c12",
   "metadata": {
    "deletable": false,
    "editable": false,
    "id": "09b242bf"
   },
   "source": [
    "### Шаг 3. Исследуйте данные и ответьте на вопросы"
   ]
  },
  {
   "cell_type": "markdown",
   "id": "d9e7e9d2",
   "metadata": {
    "deletable": false,
    "editable": false,
    "id": "c5d66278"
   },
   "source": [
    "#### 3.1 Есть ли зависимость между количеством детей и возвратом кредита в срок?"
   ]
  },
  {
   "cell_type": "code",
   "execution_count": 22,
   "id": "9b4de143",
   "metadata": {
    "deletable": false,
    "id": "2cacfc4a"
   },
   "outputs": [],
   "source": [
    "import seaborn# Ваш код будет здесь. Вы можете создавать новые ячейки."
   ]
  },
  {
   "cell_type": "code",
   "execution_count": 23,
   "id": "b2890825",
   "metadata": {},
   "outputs": [
    {
     "data": {
      "text/html": [
       "<div>\n",
       "<style scoped>\n",
       "    .dataframe tbody tr th:only-of-type {\n",
       "        vertical-align: middle;\n",
       "    }\n",
       "\n",
       "    .dataframe tbody tr th {\n",
       "        vertical-align: top;\n",
       "    }\n",
       "\n",
       "    .dataframe thead th {\n",
       "        text-align: right;\n",
       "    }\n",
       "</style>\n",
       "<table border=\"1\" class=\"dataframe\">\n",
       "  <thead>\n",
       "    <tr style=\"text-align: right;\">\n",
       "      <th></th>\n",
       "      <th>debt</th>\n",
       "      <th>counts</th>\n",
       "      <th>convers</th>\n",
       "    </tr>\n",
       "    <tr>\n",
       "      <th>children</th>\n",
       "      <th></th>\n",
       "      <th></th>\n",
       "      <th></th>\n",
       "    </tr>\n",
       "  </thead>\n",
       "  <tbody>\n",
       "    <tr>\n",
       "      <th>0</th>\n",
       "      <td>1063</td>\n",
       "      <td>14091</td>\n",
       "      <td>0.075438</td>\n",
       "    </tr>\n",
       "    <tr>\n",
       "      <th>1</th>\n",
       "      <td>444</td>\n",
       "      <td>4808</td>\n",
       "      <td>0.092346</td>\n",
       "    </tr>\n",
       "    <tr>\n",
       "      <th>2</th>\n",
       "      <td>194</td>\n",
       "      <td>2052</td>\n",
       "      <td>0.094542</td>\n",
       "    </tr>\n",
       "    <tr>\n",
       "      <th>3</th>\n",
       "      <td>27</td>\n",
       "      <td>330</td>\n",
       "      <td>0.081818</td>\n",
       "    </tr>\n",
       "    <tr>\n",
       "      <th>4</th>\n",
       "      <td>4</td>\n",
       "      <td>41</td>\n",
       "      <td>0.097561</td>\n",
       "    </tr>\n",
       "    <tr>\n",
       "      <th>5</th>\n",
       "      <td>0</td>\n",
       "      <td>9</td>\n",
       "      <td>0.000000</td>\n",
       "    </tr>\n",
       "  </tbody>\n",
       "</table>\n",
       "</div>"
      ],
      "text/plain": [
       "          debt  counts   convers\n",
       "children                        \n",
       "0         1063   14091  0.075438\n",
       "1          444    4808  0.092346\n",
       "2          194    2052  0.094542\n",
       "3           27     330  0.081818\n",
       "4            4      41  0.097561\n",
       "5            0       9  0.000000"
      ]
     },
     "execution_count": 23,
     "metadata": {},
     "output_type": "execute_result"
    }
   ],
   "source": [
    "data_children_debt = data[['children','debt']]\n",
    "group_data = data_children_debt.groupby('children').sum() # считаем количество просрочек, группируя по количеству детей\n",
    "group_data['counts'] = data_children_debt.groupby('children').count() #считаем количество заемщиков по количеству детей\n",
    "group_data['convers'] = group_data['debt']/group_data['counts']# считаем конверсию\n",
    "group_data\n",
    "\n"
   ]
  },
  {
   "cell_type": "code",
   "execution_count": 24,
   "id": "7543c4cd",
   "metadata": {},
   "outputs": [
    {
     "data": {
      "image/png": "[encoded data removed]",
      "text/plain": [
       "<Figure size 640x480 with 2 Axes>"
      ]
     },
     "metadata": {},
     "output_type": "display_data"
    }
   ],
   "source": [
    "seaborn.heatmap(data_children_debt);"
   ]
  },
  {
   "cell_type": "markdown",
   "id": "bac6090d",
   "metadata": {
    "deletable": false,
    "id": "3a6b99ec"
   },
   "source": [
    "Количество заемщиков, имеющих 3,4 и 5 детей, настоклько мало по отношению к другим заемщикам, что этими данными можно пренебречь. У заемщиков, которые не имеют детей, процент просрочек наименьший, у заемщиков с 2 детьми самый большой процент просрочек. Чем больше детей у заемщика, тем процент просрочек больше.\n",
    "  "
   ]
  },
  {
   "cell_type": "markdown",
   "id": "eb6679b6",
   "metadata": {
    "deletable": false,
    "editable": false,
    "id": "97be82ca"
   },
   "source": [
    "#### 3.2 Есть ли зависимость между семейным положением и возвратом кредита в срок?"
   ]
  },
  {
   "cell_type": "code",
   "execution_count": 25,
   "id": "f5ff0351",
   "metadata": {
    "deletable": false,
    "id": "dc3f7ee8"
   },
   "outputs": [
    {
     "data": {
      "text/html": [
       "<div>\n",
       "<style scoped>\n",
       "    .dataframe tbody tr th:only-of-type {\n",
       "        vertical-align: middle;\n",
       "    }\n",
       "\n",
       "    .dataframe tbody tr th {\n",
       "        vertical-align: top;\n",
       "    }\n",
       "\n",
       "    .dataframe thead th {\n",
       "        text-align: right;\n",
       "    }\n",
       "</style>\n",
       "<table border=\"1\" class=\"dataframe\">\n",
       "  <thead>\n",
       "    <tr style=\"text-align: right;\">\n",
       "      <th></th>\n",
       "      <th>debt</th>\n",
       "      <th>counts</th>\n",
       "      <th>convers</th>\n",
       "    </tr>\n",
       "    <tr>\n",
       "      <th>family_status</th>\n",
       "      <th></th>\n",
       "      <th></th>\n",
       "      <th></th>\n",
       "    </tr>\n",
       "  </thead>\n",
       "  <tbody>\n",
       "    <tr>\n",
       "      <th>Не женат / не замужем</th>\n",
       "      <td>273</td>\n",
       "      <td>2796</td>\n",
       "      <td>0.097639</td>\n",
       "    </tr>\n",
       "    <tr>\n",
       "      <th>в разводе</th>\n",
       "      <td>84</td>\n",
       "      <td>1189</td>\n",
       "      <td>0.070648</td>\n",
       "    </tr>\n",
       "    <tr>\n",
       "      <th>вдовец / вдова</th>\n",
       "      <td>63</td>\n",
       "      <td>951</td>\n",
       "      <td>0.066246</td>\n",
       "    </tr>\n",
       "    <tr>\n",
       "      <th>гражданский брак</th>\n",
       "      <td>385</td>\n",
       "      <td>4134</td>\n",
       "      <td>0.093130</td>\n",
       "    </tr>\n",
       "    <tr>\n",
       "      <th>женат / замужем</th>\n",
       "      <td>927</td>\n",
       "      <td>12261</td>\n",
       "      <td>0.075606</td>\n",
       "    </tr>\n",
       "  </tbody>\n",
       "</table>\n",
       "</div>"
      ],
      "text/plain": [
       "                       debt  counts   convers\n",
       "family_status                                \n",
       "Не женат / не замужем   273    2796  0.097639\n",
       "в разводе                84    1189  0.070648\n",
       "вдовец / вдова           63     951  0.066246\n",
       "гражданский брак        385    4134  0.093130\n",
       "женат / замужем         927   12261  0.075606"
      ]
     },
     "execution_count": 25,
     "metadata": {},
     "output_type": "execute_result"
    }
   ],
   "source": [
    "data_family_status_debt = data[['family_status','debt']]\n",
    "group_data_status = data_family_status_debt.groupby('family_status').sum() # считаем количество просрочек для каждой категории столбца семейное положение\n",
    "group_data_status['counts'] = data_family_status_debt.groupby('family_status').count() #считаем количество заемщиков по семейному положению\n",
    "group_data_status['convers'] = group_data_status['debt']/group_data_status['counts']# считаем конверсию\n",
    "group_data_status\n",
    "\n",
    "\n",
    "\n"
   ]
  },
  {
   "cell_type": "markdown",
   "id": "1a21fcde",
   "metadata": {
    "deletable": false,
    "id": "1cef7837"
   },
   "source": [
    "**Вывод:**  Процент просрочек меньше всего у вдовцов и разведенных. Самый высокий процент просрочек у не женатых/не замужних и тех кто живет в гражданском браке.\n",
    "\n"
   ]
  },
  {
   "cell_type": "markdown",
   "id": "de173bf8",
   "metadata": {
    "deletable": false,
    "editable": false,
    "id": "1e8b2fca"
   },
   "source": [
    "#### 3.3 Есть ли зависимость между уровнем дохода и возвратом кредита в срок?"
   ]
  },
  {
   "cell_type": "code",
   "execution_count": 26,
   "id": "e3b23c48",
   "metadata": {
    "deletable": false,
    "id": "cd7e3720"
   },
   "outputs": [
    {
     "data": {
      "text/html": [
       "<div>\n",
       "<style scoped>\n",
       "    .dataframe tbody tr th:only-of-type {\n",
       "        vertical-align: middle;\n",
       "    }\n",
       "\n",
       "    .dataframe tbody tr th {\n",
       "        vertical-align: top;\n",
       "    }\n",
       "\n",
       "    .dataframe thead th {\n",
       "        text-align: right;\n",
       "    }\n",
       "</style>\n",
       "<table border=\"1\" class=\"dataframe\">\n",
       "  <thead>\n",
       "    <tr style=\"text-align: right;\">\n",
       "      <th></th>\n",
       "      <th>debt</th>\n",
       "      <th>counts</th>\n",
       "      <th>convers</th>\n",
       "    </tr>\n",
       "    <tr>\n",
       "      <th>total_income_category</th>\n",
       "      <th></th>\n",
       "      <th></th>\n",
       "      <th></th>\n",
       "    </tr>\n",
       "  </thead>\n",
       "  <tbody>\n",
       "    <tr>\n",
       "      <th>A</th>\n",
       "      <td>2</td>\n",
       "      <td>25</td>\n",
       "      <td>0.080000</td>\n",
       "    </tr>\n",
       "    <tr>\n",
       "      <th>B</th>\n",
       "      <td>354</td>\n",
       "      <td>5014</td>\n",
       "      <td>0.070602</td>\n",
       "    </tr>\n",
       "    <tr>\n",
       "      <th>C</th>\n",
       "      <td>1353</td>\n",
       "      <td>15921</td>\n",
       "      <td>0.084982</td>\n",
       "    </tr>\n",
       "    <tr>\n",
       "      <th>D</th>\n",
       "      <td>21</td>\n",
       "      <td>349</td>\n",
       "      <td>0.060172</td>\n",
       "    </tr>\n",
       "    <tr>\n",
       "      <th>E</th>\n",
       "      <td>2</td>\n",
       "      <td>22</td>\n",
       "      <td>0.090909</td>\n",
       "    </tr>\n",
       "  </tbody>\n",
       "</table>\n",
       "</div>"
      ],
      "text/plain": [
       "                       debt  counts   convers\n",
       "total_income_category                        \n",
       "A                         2      25  0.080000\n",
       "B                       354    5014  0.070602\n",
       "C                      1353   15921  0.084982\n",
       "D                        21     349  0.060172\n",
       "E                         2      22  0.090909"
      ]
     },
     "execution_count": 26,
     "metadata": {},
     "output_type": "execute_result"
    }
   ],
   "source": [
    "data_total_income_debt = data[['total_income_category','debt']]\n",
    "group_data_data_total_income_debt = data_total_income_debt.groupby('total_income_category').sum() # считаем кролическтво просрощек по уровню дохода\n",
    "group_data_data_total_income_debt['counts'] = data_total_income_debt.groupby('total_income_category').count() #считаем количествор заемщиков по уровню дохода\n",
    "group_data_data_total_income_debt['convers'] = group_data_data_total_income_debt['debt']/group_data_data_total_income_debt['counts']# считаем конверсию\n",
    "group_data_data_total_income_debt"
   ]
  },
  {
   "cell_type": "markdown",
   "id": "d11f9ef5",
   "metadata": {
    "deletable": false,
    "id": "e8593def"
   },
   "source": [
    "Вывод: Данными по заемщикам, относящимся по уровню ежемесячного дохода к категориям А,D, и Е, можно принебречь, так как их количество по отношению к количеству других заемщиков мало. Отбросив эти данные, можно сделать вывод, что чем выше ежемесячный доход заемщика, тем ниже процент просрочек по кредиту."
   ]
  },
  {
   "cell_type": "markdown",
   "id": "d34b5ed5",
   "metadata": {
    "deletable": false,
    "editable": false,
    "id": "99ecbd1f"
   },
   "source": [
    "#### 3.4 Как разные цели кредита влияют на его возврат в срок?"
   ]
  },
  {
   "cell_type": "code",
   "execution_count": 27,
   "id": "7fb19fc3",
   "metadata": {
    "deletable": false,
    "id": "2b687290"
   },
   "outputs": [
    {
     "data": {
      "text/html": [
       "<div>\n",
       "<style scoped>\n",
       "    .dataframe tbody tr th:only-of-type {\n",
       "        vertical-align: middle;\n",
       "    }\n",
       "\n",
       "    .dataframe tbody tr th {\n",
       "        vertical-align: top;\n",
       "    }\n",
       "\n",
       "    .dataframe thead th {\n",
       "        text-align: right;\n",
       "    }\n",
       "</style>\n",
       "<table border=\"1\" class=\"dataframe\">\n",
       "  <thead>\n",
       "    <tr style=\"text-align: right;\">\n",
       "      <th></th>\n",
       "      <th>debt</th>\n",
       "      <th>counts</th>\n",
       "      <th>convers</th>\n",
       "    </tr>\n",
       "    <tr>\n",
       "      <th>purpose_category</th>\n",
       "      <th></th>\n",
       "      <th></th>\n",
       "      <th></th>\n",
       "    </tr>\n",
       "  </thead>\n",
       "  <tbody>\n",
       "    <tr>\n",
       "      <th>операции с автомобилем</th>\n",
       "      <td>400</td>\n",
       "      <td>4279</td>\n",
       "      <td>0.093480</td>\n",
       "    </tr>\n",
       "    <tr>\n",
       "      <th>операции с недвижимостью</th>\n",
       "      <td>780</td>\n",
       "      <td>10751</td>\n",
       "      <td>0.072551</td>\n",
       "    </tr>\n",
       "    <tr>\n",
       "      <th>получение образования</th>\n",
       "      <td>369</td>\n",
       "      <td>3988</td>\n",
       "      <td>0.092528</td>\n",
       "    </tr>\n",
       "    <tr>\n",
       "      <th>проведение свадьбы</th>\n",
       "      <td>183</td>\n",
       "      <td>2313</td>\n",
       "      <td>0.079118</td>\n",
       "    </tr>\n",
       "  </tbody>\n",
       "</table>\n",
       "</div>"
      ],
      "text/plain": [
       "                          debt  counts   convers\n",
       "purpose_category                                \n",
       "операции с автомобилем     400    4279  0.093480\n",
       "операции с недвижимостью   780   10751  0.072551\n",
       "получение образования      369    3988  0.092528\n",
       "проведение свадьбы         183    2313  0.079118"
      ]
     },
     "execution_count": 27,
     "metadata": {},
     "output_type": "execute_result"
    }
   ],
   "source": [
    "# Ваш код будет здесь. Вы можете создавать новые ячейки.\n",
    "data_purpose = data[['purpose_category','debt']]\n",
    "group_data_purpose = data_purpose.groupby('purpose_category').sum()# количество просрочек по каждой категории кредита\n",
    "group_data_purpose['counts'] = data_purpose.groupby('purpose_category').count()# количество заемщиком по каждой категории кредита\n",
    "group_data_purpose['convers'] = group_data_purpose['debt']/group_data_purpose['counts']# считаем конверсию\n",
    "group_data_purpose\n"
   ]
  },
  {
   "cell_type": "markdown",
   "id": "2316f688",
   "metadata": {
    "deletable": false,
    "id": "b4bb2ce6"
   },
   "source": [
    "**Вывод:** Процент просрочек по кредитам на автомобиль и на образование выше чем на недвижимость и проведение свадеб"
   ]
  },
  {
   "cell_type": "markdown",
   "id": "4ba6a294",
   "metadata": {
    "deletable": false,
    "editable": false,
    "id": "09c3ac4c"
   },
   "source": [
    "#### 3.5 Приведите возможные причины появления пропусков в исходных данных."
   ]
  },
  {
   "cell_type": "markdown",
   "id": "08cbdcd8",
   "metadata": {
    "deletable": false,
    "id": "9da2ceda"
   },
   "source": [
    "# *Ответ:* \n",
    "1) пользователь не ввел данные ( например email при регистрации) и они не попали в выгрузку\n",
    "2) некорректная вызгрузка файла"
   ]
  },
  {
   "cell_type": "markdown",
   "id": "7ecb3c43",
   "metadata": {
    "deletable": false,
    "editable": false,
    "id": "7b0487d6"
   },
   "source": [
    "#### 3.6 Объясните, почему заполнить пропуски медианным значением — лучшее решение для количественных переменных."
   ]
  },
  {
   "cell_type": "markdown",
   "id": "d9b6769e",
   "metadata": {
    "deletable": false,
    "id": "7ecf2b8e"
   },
   "source": [
    "*Ответ:* Заполнять строки медианным значением лучше, так как наличие очень высоких или очень низких значен\n",
    "ий в данных (которые могут быть ошибочными по разным причинам) сильно сдвигает значение средней в ту или инную сторону."
   ]
  },
  {
   "cell_type": "markdown",
   "id": "ec9febad",
   "metadata": {
    "deletable": false,
    "editable": false,
    "id": "6db5255a"
   },
   "source": [
    "### Шаг 4: общий вывод."
   ]
  },
  {
   "cell_type": "markdown",
   "id": "794689ed",
   "metadata": {
    "deletable": false,
    "id": "bad65432"
   },
   "source": [
    "Напишите ваш общий вывод. \n",
    "\n",
    "  Количество заемщиков, имеющих 3,4 и 5 детей, настоклько мало по отношению к другим заемщикам,  что этими данными можно пренебречь. У заемщиков, которые не имеют детей, процент просрочек наименьший, у заемщиков с 2 детьми самый большой процент просрочек. Чем больше детей у заемщика, тем процент просрочек больше.\n",
    "\n",
    "  Процент просрочек меньше всего у вдовцов и разведенных. Самый высокий процент просрочек у не женатых/не замужних и тех кто живет в гражданском браке.\n",
    "\n",
    "  Данными по заемщикам, относящимся по уровню ежемесячного дохода к категориям А,D, и Е, можно принебречь, так как их количество по отношению к количеству других заемщиков мало. Отбросив эти данные, можно сделать вывод, что чем выше ежемесячный доход заемщика, тем ниже процент просрочек по кредиту \n",
    "\n",
    "  Процент просрочек по кредитам на автомобиль и на образование выше чем на недвижимость и проведение свадеб\n",
    "\n",
    "  Исходя из анализа данных по заемщикам, можно сделать вывод, что наиболее привлекательные заемщики, это заемщики, не имеющие детей, с ежемесячным доходом от 200 000 руб. до 1 000 000 руб ., вдовцы, берущие кредит на жилье или проведение свадьбы, так как у них наболее меньший процент просрочек по кредитам. Так же, самые не желанные клиенты для банка это заемщики, имеющие 2 детей,  с доходом менее 200 00 руб, не женатые/не замужние и берущие кредит на покупку автомобиля или на образование, так как имеют наибольший процент просрочек.\n",
    "  "
   ]
  }
 ],
 "metadata": {
  "ExecuteTimeLog": [
   {
    "duration": 1302,
    "start_time": "2022-11-12T09:05:37.242Z"
   },
   {
    "duration": 2,
    "start_time": "2022-11-12T09:11:31.393Z"
   },
   {
    "duration": 103,
    "start_time": "2022-11-12T09:12:23.277Z"
   },
   {
    "duration": 10,
    "start_time": "2022-11-12T09:12:43.643Z"
   },
   {
    "duration": 8,
    "start_time": "2022-11-12T09:12:49.984Z"
   },
   {
    "duration": 490,
    "start_time": "2022-11-12T09:13:05.289Z"
   },
   {
    "duration": 23,
    "start_time": "2022-11-12T09:13:05.781Z"
   },
   {
    "duration": 18,
    "start_time": "2022-11-12T09:13:05.806Z"
   },
   {
    "duration": 10,
    "start_time": "2022-11-12T09:13:05.827Z"
   },
   {
    "duration": 49,
    "start_time": "2022-11-12T09:13:05.839Z"
   },
   {
    "duration": 3,
    "start_time": "2022-11-12T09:13:05.890Z"
   },
   {
    "duration": 16,
    "start_time": "2022-11-12T09:13:05.895Z"
   },
   {
    "duration": 20,
    "start_time": "2022-11-12T09:13:05.913Z"
   },
   {
    "duration": 14,
    "start_time": "2022-11-12T09:13:05.935Z"
   },
   {
    "duration": 6,
    "start_time": "2022-11-12T09:13:05.953Z"
   },
   {
    "duration": 37,
    "start_time": "2022-11-12T09:13:05.960Z"
   },
   {
    "duration": 9,
    "start_time": "2022-11-12T09:13:05.999Z"
   },
   {
    "duration": 12,
    "start_time": "2022-11-12T09:13:06.010Z"
   },
   {
    "duration": 26,
    "start_time": "2022-11-12T09:13:06.024Z"
   },
   {
    "duration": 41,
    "start_time": "2022-11-12T09:13:06.053Z"
   },
   {
    "duration": 24,
    "start_time": "2022-11-12T09:13:06.095Z"
   },
   {
    "duration": 8,
    "start_time": "2022-11-12T09:13:06.120Z"
   },
   {
    "duration": 14,
    "start_time": "2022-11-12T09:13:06.130Z"
   },
   {
    "duration": 12,
    "start_time": "2022-11-12T09:13:06.145Z"
   },
   {
    "duration": 4,
    "start_time": "2022-11-12T09:13:06.159Z"
   },
   {
    "duration": 13,
    "start_time": "2022-11-12T09:13:06.164Z"
   },
   {
    "duration": 773,
    "start_time": "2022-11-12T09:13:06.179Z"
   },
   {
    "duration": 106,
    "start_time": "2022-11-12T09:13:06.954Z"
   },
   {
    "duration": 0,
    "start_time": "2022-11-12T09:13:07.062Z"
   },
   {
    "duration": 0,
    "start_time": "2022-11-12T09:13:07.063Z"
   },
   {
    "duration": 0,
    "start_time": "2022-11-12T09:13:07.064Z"
   },
   {
    "duration": 10,
    "start_time": "2022-11-12T09:14:23.867Z"
   },
   {
    "duration": 15,
    "start_time": "2022-11-12T09:14:32.101Z"
   },
   {
    "duration": 25,
    "start_time": "2022-11-12T09:14:38.657Z"
   },
   {
    "duration": 3,
    "start_time": "2022-11-12T09:14:57.594Z"
   },
   {
    "duration": 42,
    "start_time": "2022-11-12T09:15:04.266Z"
   },
   {
    "duration": 22,
    "start_time": "2022-11-12T09:21:57.521Z"
   },
   {
    "duration": 1199,
    "start_time": "2022-11-12T09:22:33.211Z"
   },
   {
    "duration": 10,
    "start_time": "2022-11-12T09:22:50.604Z"
   },
   {
    "duration": 3,
    "start_time": "2022-11-12T09:23:29.205Z"
   },
   {
    "duration": 3,
    "start_time": "2022-11-12T09:23:37.085Z"
   },
   {
    "duration": 11,
    "start_time": "2022-11-12T09:23:42.206Z"
   },
   {
    "duration": 450,
    "start_time": "2022-11-12T09:24:20.784Z"
   },
   {
    "duration": 13,
    "start_time": "2022-11-12T09:25:07.185Z"
   },
   {
    "duration": 11,
    "start_time": "2022-11-12T09:25:28.939Z"
   },
   {
    "duration": 12,
    "start_time": "2022-11-12T09:25:43.915Z"
   },
   {
    "duration": 416,
    "start_time": "2022-11-12T09:25:45.453Z"
   },
   {
    "duration": 9,
    "start_time": "2022-11-12T09:26:45.634Z"
   },
   {
    "duration": 10,
    "start_time": "2022-11-12T09:27:22.152Z"
   },
   {
    "duration": 15,
    "start_time": "2022-11-12T09:30:25.604Z"
   },
   {
    "duration": 12,
    "start_time": "2022-11-12T09:31:35.699Z"
   },
   {
    "duration": 11,
    "start_time": "2022-11-12T09:43:00.174Z"
   },
   {
    "duration": 11,
    "start_time": "2022-11-12T09:44:10.599Z"
   },
   {
    "duration": 22,
    "start_time": "2022-11-12T09:47:20.765Z"
   },
   {
    "duration": 5,
    "start_time": "2022-11-12T09:48:35.687Z"
   },
   {
    "duration": 12,
    "start_time": "2022-11-12T09:49:11.542Z"
   },
   {
    "duration": 15,
    "start_time": "2022-11-12T09:55:51.516Z"
   },
   {
    "duration": 13,
    "start_time": "2022-11-12T09:56:22.427Z"
   },
   {
    "duration": 12,
    "start_time": "2022-11-12T09:56:48.582Z"
   },
   {
    "duration": 73,
    "start_time": "2022-11-13T07:40:24.860Z"
   },
   {
    "duration": 7,
    "start_time": "2022-11-13T07:42:57.427Z"
   },
   {
    "duration": 9,
    "start_time": "2022-11-13T07:43:00.271Z"
   },
   {
    "duration": 789,
    "start_time": "2022-11-13T07:43:06.720Z"
   },
   {
    "duration": 30,
    "start_time": "2022-11-13T07:43:07.511Z"
   },
   {
    "duration": 25,
    "start_time": "2022-11-13T07:43:07.544Z"
   },
   {
    "duration": 37,
    "start_time": "2022-11-13T07:43:07.571Z"
   },
   {
    "duration": 59,
    "start_time": "2022-11-13T07:43:07.610Z"
   },
   {
    "duration": 4,
    "start_time": "2022-11-13T07:43:07.671Z"
   },
   {
    "duration": 31,
    "start_time": "2022-11-13T07:43:07.677Z"
   },
   {
    "duration": 24,
    "start_time": "2022-11-13T07:43:07.710Z"
   },
   {
    "duration": 36,
    "start_time": "2022-11-13T07:43:07.737Z"
   },
   {
    "duration": 24,
    "start_time": "2022-11-13T07:43:07.777Z"
   },
   {
    "duration": 47,
    "start_time": "2022-11-13T07:43:07.803Z"
   },
   {
    "duration": 15,
    "start_time": "2022-11-13T07:43:07.852Z"
   },
   {
    "duration": 21,
    "start_time": "2022-11-13T07:43:07.869Z"
   },
   {
    "duration": 55,
    "start_time": "2022-11-13T07:43:07.892Z"
   },
   {
    "duration": 57,
    "start_time": "2022-11-13T07:43:07.949Z"
   },
   {
    "duration": 28,
    "start_time": "2022-11-13T07:43:08.009Z"
   },
   {
    "duration": 12,
    "start_time": "2022-11-13T07:43:08.039Z"
   },
   {
    "duration": 37,
    "start_time": "2022-11-13T07:43:08.054Z"
   },
   {
    "duration": 29,
    "start_time": "2022-11-13T07:43:08.094Z"
   },
   {
    "duration": 36,
    "start_time": "2022-11-13T07:43:08.126Z"
   },
   {
    "duration": 47,
    "start_time": "2022-11-13T07:43:08.165Z"
   },
   {
    "duration": 1037,
    "start_time": "2022-11-13T07:43:08.214Z"
   },
   {
    "duration": 12,
    "start_time": "2022-11-13T07:43:09.253Z"
   },
   {
    "duration": 152,
    "start_time": "2022-11-13T07:43:09.268Z"
   },
   {
    "duration": 0,
    "start_time": "2022-11-13T07:43:09.422Z"
   },
   {
    "duration": 0,
    "start_time": "2022-11-13T07:43:09.424Z"
   },
   {
    "duration": 0,
    "start_time": "2022-11-13T07:43:09.425Z"
   },
   {
    "duration": 12,
    "start_time": "2022-11-13T07:48:16.729Z"
   },
   {
    "duration": 11,
    "start_time": "2022-11-13T07:48:19.828Z"
   },
   {
    "duration": 12,
    "start_time": "2022-11-13T07:48:30.657Z"
   },
   {
    "duration": 14,
    "start_time": "2022-11-13T07:49:38.191Z"
   },
   {
    "duration": 10,
    "start_time": "2022-11-13T07:54:44.323Z"
   },
   {
    "duration": 482,
    "start_time": "2022-11-13T07:54:58.087Z"
   },
   {
    "duration": 22,
    "start_time": "2022-11-13T07:54:58.571Z"
   },
   {
    "duration": 17,
    "start_time": "2022-11-13T07:54:58.594Z"
   },
   {
    "duration": 11,
    "start_time": "2022-11-13T07:54:58.613Z"
   },
   {
    "duration": 63,
    "start_time": "2022-11-13T07:54:58.626Z"
   },
   {
    "duration": 4,
    "start_time": "2022-11-13T07:54:58.690Z"
   },
   {
    "duration": 37,
    "start_time": "2022-11-13T07:54:58.695Z"
   },
   {
    "duration": 15,
    "start_time": "2022-11-13T07:54:58.734Z"
   },
   {
    "duration": 15,
    "start_time": "2022-11-13T07:54:58.751Z"
   },
   {
    "duration": 15,
    "start_time": "2022-11-13T07:54:58.768Z"
   },
   {
    "duration": 43,
    "start_time": "2022-11-13T07:54:58.785Z"
   },
   {
    "duration": 10,
    "start_time": "2022-11-13T07:54:58.830Z"
   },
   {
    "duration": 13,
    "start_time": "2022-11-13T07:54:58.841Z"
   },
   {
    "duration": 30,
    "start_time": "2022-11-13T07:54:58.857Z"
   },
   {
    "duration": 35,
    "start_time": "2022-11-13T07:54:58.888Z"
   },
   {
    "duration": 18,
    "start_time": "2022-11-13T07:54:58.924Z"
   },
   {
    "duration": 4,
    "start_time": "2022-11-13T07:54:58.944Z"
   },
   {
    "duration": 20,
    "start_time": "2022-11-13T07:54:58.949Z"
   },
   {
    "duration": 12,
    "start_time": "2022-11-13T07:54:58.971Z"
   },
   {
    "duration": 11,
    "start_time": "2022-11-13T07:54:58.985Z"
   },
   {
    "duration": 15,
    "start_time": "2022-11-13T07:54:58.998Z"
   },
   {
    "duration": 723,
    "start_time": "2022-11-13T07:54:59.015Z"
   },
   {
    "duration": 107,
    "start_time": "2022-11-13T07:54:59.740Z"
   },
   {
    "duration": 0,
    "start_time": "2022-11-13T07:54:59.849Z"
   },
   {
    "duration": 0,
    "start_time": "2022-11-13T07:54:59.850Z"
   },
   {
    "duration": 0,
    "start_time": "2022-11-13T07:54:59.852Z"
   },
   {
    "duration": 0,
    "start_time": "2022-11-13T07:54:59.853Z"
   },
   {
    "duration": 9,
    "start_time": "2022-11-13T07:55:20.874Z"
   },
   {
    "duration": 17,
    "start_time": "2022-11-13T07:55:36.528Z"
   },
   {
    "duration": 16,
    "start_time": "2022-11-13T07:56:11.964Z"
   },
   {
    "duration": 11,
    "start_time": "2022-11-13T07:57:02.102Z"
   },
   {
    "duration": 12,
    "start_time": "2022-11-13T07:57:16.514Z"
   },
   {
    "duration": 17,
    "start_time": "2022-11-13T07:57:30.783Z"
   },
   {
    "duration": 11,
    "start_time": "2022-11-13T07:58:16.968Z"
   },
   {
    "duration": 15,
    "start_time": "2022-11-13T07:58:31.623Z"
   },
   {
    "duration": 11,
    "start_time": "2022-11-13T07:59:18.221Z"
   },
   {
    "duration": 14,
    "start_time": "2022-11-13T07:59:29.882Z"
   },
   {
    "duration": 17,
    "start_time": "2022-11-13T08:00:28.607Z"
   },
   {
    "duration": 401,
    "start_time": "2022-11-13T08:02:13.690Z"
   },
   {
    "duration": 292,
    "start_time": "2022-11-13T08:02:23.277Z"
   },
   {
    "duration": 370,
    "start_time": "2022-11-13T08:02:55.613Z"
   },
   {
    "duration": 19,
    "start_time": "2022-11-13T08:08:30.474Z"
   },
   {
    "duration": 4,
    "start_time": "2022-11-13T08:09:00.959Z"
   },
   {
    "duration": 9,
    "start_time": "2022-11-13T08:09:03.834Z"
   },
   {
    "duration": 26,
    "start_time": "2022-11-13T08:09:08.805Z"
   },
   {
    "duration": 13,
    "start_time": "2022-11-13T08:09:47.119Z"
   },
   {
    "duration": 18,
    "start_time": "2022-11-13T08:09:54.723Z"
   },
   {
    "duration": 27,
    "start_time": "2022-11-13T08:09:57.306Z"
   },
   {
    "duration": 19,
    "start_time": "2022-11-13T08:12:08.596Z"
   },
   {
    "duration": 424,
    "start_time": "2022-11-13T08:15:46.311Z"
   },
   {
    "duration": 48,
    "start_time": "2022-11-13T08:15:51.450Z"
   },
   {
    "duration": 79,
    "start_time": "2022-11-13T08:17:20.621Z"
   },
   {
    "duration": 4,
    "start_time": "2022-11-13T08:17:56.227Z"
   },
   {
    "duration": 41,
    "start_time": "2022-11-13T08:18:21.682Z"
   },
   {
    "duration": 46,
    "start_time": "2022-11-13T08:18:36.244Z"
   },
   {
    "duration": 60,
    "start_time": "2022-11-13T08:19:16.090Z"
   },
   {
    "duration": 18,
    "start_time": "2022-11-13T08:19:31.491Z"
   },
   {
    "duration": 63,
    "start_time": "2022-11-13T08:20:08.272Z"
   },
   {
    "duration": 45,
    "start_time": "2022-11-13T08:20:39.389Z"
   },
   {
    "duration": 553,
    "start_time": "2022-11-13T08:21:20.397Z"
   },
   {
    "duration": 23,
    "start_time": "2022-11-13T08:21:20.954Z"
   },
   {
    "duration": 30,
    "start_time": "2022-11-13T08:21:20.979Z"
   },
   {
    "duration": 36,
    "start_time": "2022-11-13T08:21:21.011Z"
   },
   {
    "duration": 77,
    "start_time": "2022-11-13T08:21:21.050Z"
   },
   {
    "duration": 47,
    "start_time": "2022-11-13T08:21:21.129Z"
   },
   {
    "duration": 31,
    "start_time": "2022-11-13T08:21:21.178Z"
   },
   {
    "duration": 27,
    "start_time": "2022-11-13T08:21:21.211Z"
   },
   {
    "duration": 25,
    "start_time": "2022-11-13T08:21:21.240Z"
   },
   {
    "duration": 7,
    "start_time": "2022-11-13T08:21:21.267Z"
   },
   {
    "duration": 37,
    "start_time": "2022-11-13T08:21:21.276Z"
   },
   {
    "duration": 10,
    "start_time": "2022-11-13T08:21:21.315Z"
   },
   {
    "duration": 29,
    "start_time": "2022-11-13T08:21:21.327Z"
   },
   {
    "duration": 36,
    "start_time": "2022-11-13T08:21:21.359Z"
   },
   {
    "duration": 26,
    "start_time": "2022-11-13T08:21:21.397Z"
   },
   {
    "duration": 18,
    "start_time": "2022-11-13T08:21:21.425Z"
   },
   {
    "duration": 4,
    "start_time": "2022-11-13T08:21:21.445Z"
   },
   {
    "duration": 47,
    "start_time": "2022-11-13T08:21:21.451Z"
   },
   {
    "duration": 25,
    "start_time": "2022-11-13T08:21:21.499Z"
   },
   {
    "duration": 16,
    "start_time": "2022-11-13T08:21:21.526Z"
   },
   {
    "duration": 37,
    "start_time": "2022-11-13T08:21:21.544Z"
   },
   {
    "duration": 845,
    "start_time": "2022-11-13T08:21:21.582Z"
   },
   {
    "duration": 25,
    "start_time": "2022-11-13T08:21:22.431Z"
   },
   {
    "duration": 477,
    "start_time": "2022-11-13T08:21:22.458Z"
   },
   {
    "duration": 46,
    "start_time": "2022-11-13T08:21:22.937Z"
   },
   {
    "duration": 0,
    "start_time": "2022-11-13T08:21:22.985Z"
   },
   {
    "duration": 0,
    "start_time": "2022-11-13T08:21:22.986Z"
   },
   {
    "duration": 0,
    "start_time": "2022-11-13T08:21:22.987Z"
   },
   {
    "duration": 54,
    "start_time": "2022-11-13T08:21:59.679Z"
   },
   {
    "duration": 47,
    "start_time": "2022-11-13T08:22:25.595Z"
   },
   {
    "duration": 18,
    "start_time": "2022-11-13T08:25:27.970Z"
   },
   {
    "duration": 46,
    "start_time": "2022-11-13T08:25:57.061Z"
   },
   {
    "duration": 52,
    "start_time": "2022-11-13T08:26:09.481Z"
   },
   {
    "duration": 59,
    "start_time": "2022-11-13T08:26:15.584Z"
   },
   {
    "duration": 46,
    "start_time": "2022-11-13T08:26:19.277Z"
   },
   {
    "duration": 17,
    "start_time": "2022-11-13T08:28:37.532Z"
   },
   {
    "duration": 58,
    "start_time": "2022-11-13T08:39:42.102Z"
   },
   {
    "duration": 77,
    "start_time": "2022-11-13T08:39:45.425Z"
   },
   {
    "duration": 45,
    "start_time": "2022-11-13T08:40:28.460Z"
   },
   {
    "duration": 96,
    "start_time": "2022-11-13T08:45:56.058Z"
   },
   {
    "duration": 27,
    "start_time": "2022-11-13T08:46:05.430Z"
   },
   {
    "duration": 11,
    "start_time": "2022-11-13T08:46:21.749Z"
   },
   {
    "duration": 10,
    "start_time": "2022-11-13T08:46:26.062Z"
   },
   {
    "duration": 5,
    "start_time": "2022-11-13T08:46:42.162Z"
   },
   {
    "duration": 12,
    "start_time": "2022-11-13T08:46:45.406Z"
   },
   {
    "duration": 10,
    "start_time": "2022-11-13T08:47:06.122Z"
   },
   {
    "duration": 14,
    "start_time": "2022-11-13T08:47:12.651Z"
   },
   {
    "duration": 16,
    "start_time": "2022-11-13T08:47:17.670Z"
   },
   {
    "duration": 14,
    "start_time": "2022-11-13T08:47:20.605Z"
   },
   {
    "duration": 16,
    "start_time": "2022-11-13T08:47:24.704Z"
   },
   {
    "duration": 16,
    "start_time": "2022-11-13T08:48:01.730Z"
   },
   {
    "duration": 489,
    "start_time": "2022-11-13T08:48:57.177Z"
   },
   {
    "duration": 23,
    "start_time": "2022-11-13T08:48:57.668Z"
   },
   {
    "duration": 16,
    "start_time": "2022-11-13T08:48:57.693Z"
   },
   {
    "duration": 11,
    "start_time": "2022-11-13T08:48:57.710Z"
   },
   {
    "duration": 57,
    "start_time": "2022-11-13T08:48:57.723Z"
   },
   {
    "duration": 3,
    "start_time": "2022-11-13T08:48:57.782Z"
   },
   {
    "duration": 17,
    "start_time": "2022-11-13T08:48:57.787Z"
   },
   {
    "duration": 7,
    "start_time": "2022-11-13T08:48:57.806Z"
   },
   {
    "duration": 29,
    "start_time": "2022-11-13T08:48:57.815Z"
   },
   {
    "duration": 15,
    "start_time": "2022-11-13T08:48:57.846Z"
   },
   {
    "duration": 56,
    "start_time": "2022-11-13T08:48:57.862Z"
   },
   {
    "duration": 12,
    "start_time": "2022-11-13T08:48:57.920Z"
   },
   {
    "duration": 5,
    "start_time": "2022-11-13T08:48:57.934Z"
   },
   {
    "duration": 21,
    "start_time": "2022-11-13T08:48:57.942Z"
   },
   {
    "duration": 28,
    "start_time": "2022-11-13T08:48:57.965Z"
   },
   {
    "duration": 17,
    "start_time": "2022-11-13T08:48:57.994Z"
   },
   {
    "duration": 3,
    "start_time": "2022-11-13T08:48:58.013Z"
   },
   {
    "duration": 11,
    "start_time": "2022-11-13T08:48:58.018Z"
   },
   {
    "duration": 6,
    "start_time": "2022-11-13T08:48:58.031Z"
   },
   {
    "duration": 6,
    "start_time": "2022-11-13T08:48:58.039Z"
   },
   {
    "duration": 32,
    "start_time": "2022-11-13T08:48:58.047Z"
   },
   {
    "duration": 750,
    "start_time": "2022-11-13T08:48:58.081Z"
   },
   {
    "duration": 21,
    "start_time": "2022-11-13T08:48:58.832Z"
   },
   {
    "duration": 438,
    "start_time": "2022-11-13T08:48:58.854Z"
   },
   {
    "duration": 57,
    "start_time": "2022-11-13T08:48:59.293Z"
   },
   {
    "duration": 0,
    "start_time": "2022-11-13T08:48:59.351Z"
   },
   {
    "duration": 0,
    "start_time": "2022-11-13T08:48:59.352Z"
   },
   {
    "duration": 0,
    "start_time": "2022-11-13T08:48:59.353Z"
   },
   {
    "duration": 17,
    "start_time": "2022-11-13T08:52:20.064Z"
   },
   {
    "duration": 47,
    "start_time": "2022-11-13T08:53:01.875Z"
   },
   {
    "duration": 45,
    "start_time": "2022-11-13T08:53:51.025Z"
   },
   {
    "duration": 47,
    "start_time": "2022-11-13T08:53:58.300Z"
   },
   {
    "duration": 3,
    "start_time": "2022-11-13T08:54:28.093Z"
   },
   {
    "duration": 21,
    "start_time": "2022-11-13T08:54:43.760Z"
   },
   {
    "duration": 27,
    "start_time": "2022-11-13T08:58:36.473Z"
   },
   {
    "duration": 506,
    "start_time": "2022-11-13T08:59:49.365Z"
   },
   {
    "duration": 25,
    "start_time": "2022-11-13T08:59:49.873Z"
   },
   {
    "duration": 22,
    "start_time": "2022-11-13T08:59:49.900Z"
   },
   {
    "duration": 12,
    "start_time": "2022-11-13T08:59:49.925Z"
   },
   {
    "duration": 62,
    "start_time": "2022-11-13T08:59:49.940Z"
   },
   {
    "duration": 5,
    "start_time": "2022-11-13T08:59:50.004Z"
   },
   {
    "duration": 22,
    "start_time": "2022-11-13T08:59:50.010Z"
   },
   {
    "duration": 10,
    "start_time": "2022-11-13T08:59:50.033Z"
   },
   {
    "duration": 32,
    "start_time": "2022-11-13T08:59:50.045Z"
   },
   {
    "duration": 5,
    "start_time": "2022-11-13T08:59:50.080Z"
   },
   {
    "duration": 40,
    "start_time": "2022-11-13T08:59:50.087Z"
   },
   {
    "duration": 10,
    "start_time": "2022-11-13T08:59:50.129Z"
   },
   {
    "duration": 6,
    "start_time": "2022-11-13T08:59:50.140Z"
   },
   {
    "duration": 34,
    "start_time": "2022-11-13T08:59:50.148Z"
   },
   {
    "duration": 32,
    "start_time": "2022-11-13T08:59:50.184Z"
   },
   {
    "duration": 31,
    "start_time": "2022-11-13T08:59:50.218Z"
   },
   {
    "duration": 5,
    "start_time": "2022-11-13T08:59:50.251Z"
   },
   {
    "duration": 15,
    "start_time": "2022-11-13T08:59:50.258Z"
   },
   {
    "duration": 7,
    "start_time": "2022-11-13T08:59:50.275Z"
   },
   {
    "duration": 7,
    "start_time": "2022-11-13T08:59:50.284Z"
   },
   {
    "duration": 40,
    "start_time": "2022-11-13T08:59:50.293Z"
   },
   {
    "duration": 811,
    "start_time": "2022-11-13T08:59:50.334Z"
   },
   {
    "duration": 23,
    "start_time": "2022-11-13T08:59:51.147Z"
   },
   {
    "duration": 441,
    "start_time": "2022-11-13T08:59:51.171Z"
   },
   {
    "duration": 3,
    "start_time": "2022-11-13T08:59:51.613Z"
   },
   {
    "duration": 43,
    "start_time": "2022-11-13T08:59:51.618Z"
   },
   {
    "duration": 22,
    "start_time": "2022-11-13T08:59:51.663Z"
   },
   {
    "duration": 59,
    "start_time": "2022-11-13T08:59:51.688Z"
   },
   {
    "duration": 4,
    "start_time": "2022-11-13T09:00:45.414Z"
   },
   {
    "duration": 12,
    "start_time": "2022-11-13T09:00:50.636Z"
   },
   {
    "duration": 11,
    "start_time": "2022-11-13T09:01:06.324Z"
   },
   {
    "duration": 14,
    "start_time": "2022-11-13T09:01:19.184Z"
   },
   {
    "duration": 20,
    "start_time": "2022-11-13T09:01:41.929Z"
   },
   {
    "duration": 12,
    "start_time": "2022-11-13T09:01:53.086Z"
   },
   {
    "duration": 15,
    "start_time": "2022-11-13T09:02:14.683Z"
   },
   {
    "duration": 16,
    "start_time": "2022-11-13T09:11:17.454Z"
   },
   {
    "duration": 19,
    "start_time": "2022-11-13T09:11:36.493Z"
   },
   {
    "duration": 25,
    "start_time": "2022-11-13T09:12:20.797Z"
   },
   {
    "duration": 19,
    "start_time": "2022-11-13T09:12:32.332Z"
   },
   {
    "duration": 18,
    "start_time": "2022-11-13T09:13:10.838Z"
   },
   {
    "duration": 16,
    "start_time": "2022-11-13T09:14:35.261Z"
   },
   {
    "duration": 10,
    "start_time": "2022-11-13T09:19:06.901Z"
   },
   {
    "duration": 8,
    "start_time": "2022-11-13T09:19:20.665Z"
   },
   {
    "duration": 9,
    "start_time": "2022-11-13T09:19:48.090Z"
   },
   {
    "duration": 13,
    "start_time": "2022-11-13T09:20:11.577Z"
   },
   {
    "duration": 13,
    "start_time": "2022-11-13T09:20:41.062Z"
   },
   {
    "duration": 12,
    "start_time": "2022-11-13T09:20:47.071Z"
   },
   {
    "duration": 13,
    "start_time": "2022-11-13T09:21:15.217Z"
   },
   {
    "duration": 13,
    "start_time": "2022-11-13T09:21:22.318Z"
   },
   {
    "duration": 11,
    "start_time": "2022-11-13T09:21:44.781Z"
   },
   {
    "duration": 14,
    "start_time": "2022-11-13T09:22:06.909Z"
   },
   {
    "duration": 500,
    "start_time": "2022-11-13T09:22:47.365Z"
   },
   {
    "duration": 22,
    "start_time": "2022-11-13T09:22:47.867Z"
   },
   {
    "duration": 16,
    "start_time": "2022-11-13T09:22:47.890Z"
   },
   {
    "duration": 11,
    "start_time": "2022-11-13T09:22:47.908Z"
   },
   {
    "duration": 33,
    "start_time": "2022-11-13T09:22:47.921Z"
   },
   {
    "duration": 22,
    "start_time": "2022-11-13T09:22:47.957Z"
   },
   {
    "duration": 15,
    "start_time": "2022-11-13T09:22:47.981Z"
   },
   {
    "duration": 26,
    "start_time": "2022-11-13T09:22:47.998Z"
   },
   {
    "duration": 20,
    "start_time": "2022-11-13T09:22:48.025Z"
   },
   {
    "duration": 5,
    "start_time": "2022-11-13T09:22:48.046Z"
   },
   {
    "duration": 46,
    "start_time": "2022-11-13T09:22:48.053Z"
   },
   {
    "duration": 11,
    "start_time": "2022-11-13T09:22:48.100Z"
   },
   {
    "duration": 12,
    "start_time": "2022-11-13T09:22:48.113Z"
   },
   {
    "duration": 17,
    "start_time": "2022-11-13T09:22:48.127Z"
   },
   {
    "duration": 31,
    "start_time": "2022-11-13T09:22:48.145Z"
   },
   {
    "duration": 21,
    "start_time": "2022-11-13T09:22:48.178Z"
   },
   {
    "duration": 4,
    "start_time": "2022-11-13T09:22:48.200Z"
   },
   {
    "duration": 21,
    "start_time": "2022-11-13T09:22:48.206Z"
   },
   {
    "duration": 10,
    "start_time": "2022-11-13T09:22:48.230Z"
   },
   {
    "duration": 8,
    "start_time": "2022-11-13T09:22:48.241Z"
   },
   {
    "duration": 46,
    "start_time": "2022-11-13T09:22:48.250Z"
   },
   {
    "duration": 777,
    "start_time": "2022-11-13T09:22:48.298Z"
   },
   {
    "duration": 20,
    "start_time": "2022-11-13T09:22:49.077Z"
   },
   {
    "duration": 395,
    "start_time": "2022-11-13T09:22:49.099Z"
   },
   {
    "duration": 2,
    "start_time": "2022-11-13T09:22:49.496Z"
   },
   {
    "duration": 31,
    "start_time": "2022-11-13T09:22:49.500Z"
   },
   {
    "duration": 15,
    "start_time": "2022-11-13T09:22:49.533Z"
   },
   {
    "duration": 21,
    "start_time": "2022-11-13T09:22:49.550Z"
   },
   {
    "duration": 8,
    "start_time": "2022-11-13T09:23:44.011Z"
   },
   {
    "duration": 11,
    "start_time": "2022-11-13T09:25:12.979Z"
   },
   {
    "duration": 11,
    "start_time": "2022-11-13T09:25:24.262Z"
   },
   {
    "duration": 17,
    "start_time": "2022-11-13T09:25:33.718Z"
   },
   {
    "duration": 17,
    "start_time": "2022-11-13T09:25:57.971Z"
   },
   {
    "duration": 11,
    "start_time": "2022-11-13T09:26:39.423Z"
   },
   {
    "duration": 13,
    "start_time": "2022-11-13T09:26:42.480Z"
   },
   {
    "duration": 14,
    "start_time": "2022-11-13T09:27:03.359Z"
   },
   {
    "duration": 15,
    "start_time": "2022-11-13T09:27:28.167Z"
   },
   {
    "duration": 17,
    "start_time": "2022-11-13T09:27:43.294Z"
   },
   {
    "duration": 504,
    "start_time": "2022-11-13T09:28:15.097Z"
   },
   {
    "duration": 21,
    "start_time": "2022-11-13T09:28:15.604Z"
   },
   {
    "duration": 15,
    "start_time": "2022-11-13T09:28:15.627Z"
   },
   {
    "duration": 36,
    "start_time": "2022-11-13T09:28:15.644Z"
   },
   {
    "duration": 35,
    "start_time": "2022-11-13T09:28:15.684Z"
   },
   {
    "duration": 3,
    "start_time": "2022-11-13T09:28:15.721Z"
   },
   {
    "duration": 14,
    "start_time": "2022-11-13T09:28:15.726Z"
   },
   {
    "duration": 7,
    "start_time": "2022-11-13T09:28:15.742Z"
   },
   {
    "duration": 29,
    "start_time": "2022-11-13T09:28:15.751Z"
   },
   {
    "duration": 6,
    "start_time": "2022-11-13T09:28:15.781Z"
   },
   {
    "duration": 40,
    "start_time": "2022-11-13T09:28:15.789Z"
   },
   {
    "duration": 11,
    "start_time": "2022-11-13T09:28:15.831Z"
   },
   {
    "duration": 11,
    "start_time": "2022-11-13T09:28:15.843Z"
   },
   {
    "duration": 32,
    "start_time": "2022-11-13T09:28:15.857Z"
   },
   {
    "duration": 26,
    "start_time": "2022-11-13T09:28:15.891Z"
   },
   {
    "duration": 17,
    "start_time": "2022-11-13T09:28:15.919Z"
   },
   {
    "duration": 3,
    "start_time": "2022-11-13T09:28:15.938Z"
   },
   {
    "duration": 16,
    "start_time": "2022-11-13T09:28:15.943Z"
   },
   {
    "duration": 7,
    "start_time": "2022-11-13T09:28:15.979Z"
   },
   {
    "duration": 8,
    "start_time": "2022-11-13T09:28:15.987Z"
   },
   {
    "duration": 35,
    "start_time": "2022-11-13T09:28:15.996Z"
   },
   {
    "duration": 794,
    "start_time": "2022-11-13T09:28:16.034Z"
   },
   {
    "duration": 19,
    "start_time": "2022-11-13T09:28:16.830Z"
   },
   {
    "duration": 451,
    "start_time": "2022-11-13T09:28:16.851Z"
   },
   {
    "duration": 2,
    "start_time": "2022-11-13T09:28:17.304Z"
   },
   {
    "duration": 44,
    "start_time": "2022-11-13T09:28:17.307Z"
   },
   {
    "duration": 31,
    "start_time": "2022-11-13T09:28:17.352Z"
   },
   {
    "duration": 47,
    "start_time": "2022-11-13T09:28:17.385Z"
   },
   {
    "duration": 18,
    "start_time": "2022-11-13T09:28:32.945Z"
   },
   {
    "duration": 513,
    "start_time": "2022-11-13T09:46:10.054Z"
   },
   {
    "duration": 24,
    "start_time": "2022-11-13T09:46:10.569Z"
   },
   {
    "duration": 16,
    "start_time": "2022-11-13T09:46:10.595Z"
   },
   {
    "duration": 12,
    "start_time": "2022-11-13T09:46:10.613Z"
   },
   {
    "duration": 68,
    "start_time": "2022-11-13T09:46:10.627Z"
   },
   {
    "duration": 4,
    "start_time": "2022-11-13T09:46:10.697Z"
   },
   {
    "duration": 12,
    "start_time": "2022-11-13T09:46:10.702Z"
   },
   {
    "duration": 6,
    "start_time": "2022-11-13T09:46:10.716Z"
   },
   {
    "duration": 19,
    "start_time": "2022-11-13T09:46:10.724Z"
   },
   {
    "duration": 17,
    "start_time": "2022-11-13T09:46:10.745Z"
   },
   {
    "duration": 44,
    "start_time": "2022-11-13T09:46:10.764Z"
   },
   {
    "duration": 11,
    "start_time": "2022-11-13T09:46:10.810Z"
   },
   {
    "duration": 14,
    "start_time": "2022-11-13T09:46:10.823Z"
   },
   {
    "duration": 22,
    "start_time": "2022-11-13T09:46:10.840Z"
   },
   {
    "duration": 27,
    "start_time": "2022-11-13T09:46:10.864Z"
   },
   {
    "duration": 18,
    "start_time": "2022-11-13T09:46:10.893Z"
   },
   {
    "duration": 4,
    "start_time": "2022-11-13T09:46:10.912Z"
   },
   {
    "duration": 16,
    "start_time": "2022-11-13T09:46:10.918Z"
   },
   {
    "duration": 18,
    "start_time": "2022-11-13T09:46:10.936Z"
   },
   {
    "duration": 7,
    "start_time": "2022-11-13T09:46:10.956Z"
   },
   {
    "duration": 47,
    "start_time": "2022-11-13T09:46:10.965Z"
   },
   {
    "duration": 750,
    "start_time": "2022-11-13T09:46:11.014Z"
   },
   {
    "duration": 24,
    "start_time": "2022-11-13T09:46:11.766Z"
   },
   {
    "duration": 414,
    "start_time": "2022-11-13T09:46:11.792Z"
   },
   {
    "duration": 3,
    "start_time": "2022-11-13T09:46:12.208Z"
   },
   {
    "duration": 33,
    "start_time": "2022-11-13T09:46:12.212Z"
   },
   {
    "duration": 18,
    "start_time": "2022-11-13T09:46:12.246Z"
   },
   {
    "duration": 29,
    "start_time": "2022-11-13T09:46:12.266Z"
   },
   {
    "duration": 81,
    "start_time": "2022-11-13T10:22:32.352Z"
   },
   {
    "duration": 701,
    "start_time": "2022-11-16T07:13:25.391Z"
   },
   {
    "duration": 21,
    "start_time": "2022-11-16T07:13:26.094Z"
   },
   {
    "duration": 14,
    "start_time": "2022-11-16T07:13:26.116Z"
   },
   {
    "duration": 10,
    "start_time": "2022-11-16T07:13:26.131Z"
   },
   {
    "duration": 60,
    "start_time": "2022-11-16T07:13:26.143Z"
   },
   {
    "duration": 3,
    "start_time": "2022-11-16T07:13:26.205Z"
   },
   {
    "duration": 14,
    "start_time": "2022-11-16T07:13:26.210Z"
   },
   {
    "duration": 8,
    "start_time": "2022-11-16T07:13:26.225Z"
   },
   {
    "duration": 13,
    "start_time": "2022-11-16T07:13:26.234Z"
   },
   {
    "duration": 19,
    "start_time": "2022-11-16T07:13:26.250Z"
   },
   {
    "duration": 36,
    "start_time": "2022-11-16T07:13:26.270Z"
   },
   {
    "duration": 9,
    "start_time": "2022-11-16T07:13:26.308Z"
   },
   {
    "duration": 5,
    "start_time": "2022-11-16T07:13:26.318Z"
   },
   {
    "duration": 26,
    "start_time": "2022-11-16T07:13:26.324Z"
   },
   {
    "duration": 21,
    "start_time": "2022-11-16T07:13:26.352Z"
   },
   {
    "duration": 16,
    "start_time": "2022-11-16T07:13:26.376Z"
   },
   {
    "duration": 4,
    "start_time": "2022-11-16T07:13:26.393Z"
   },
   {
    "duration": 19,
    "start_time": "2022-11-16T07:13:26.398Z"
   },
   {
    "duration": 16,
    "start_time": "2022-11-16T07:13:26.418Z"
   },
   {
    "duration": 9,
    "start_time": "2022-11-16T07:13:26.436Z"
   },
   {
    "duration": 35,
    "start_time": "2022-11-16T07:13:26.447Z"
   },
   {
    "duration": 855,
    "start_time": "2022-11-16T07:13:26.483Z"
   },
   {
    "duration": 22,
    "start_time": "2022-11-16T07:13:27.340Z"
   },
   {
    "duration": 438,
    "start_time": "2022-11-16T07:13:27.363Z"
   },
   {
    "duration": 3,
    "start_time": "2022-11-16T07:13:27.803Z"
   },
   {
    "duration": 19,
    "start_time": "2022-11-16T07:13:27.807Z"
   },
   {
    "duration": 14,
    "start_time": "2022-11-16T07:13:27.828Z"
   },
   {
    "duration": 43,
    "start_time": "2022-11-16T07:13:27.845Z"
   },
   {
    "duration": 452,
    "start_time": "2022-11-16T07:39:25.721Z"
   },
   {
    "duration": 21,
    "start_time": "2022-11-16T07:39:26.175Z"
   },
   {
    "duration": 15,
    "start_time": "2022-11-16T07:39:26.198Z"
   },
   {
    "duration": 9,
    "start_time": "2022-11-16T07:39:26.215Z"
   },
   {
    "duration": 61,
    "start_time": "2022-11-16T07:39:26.225Z"
   },
   {
    "duration": 4,
    "start_time": "2022-11-16T07:39:26.287Z"
   },
   {
    "duration": 20,
    "start_time": "2022-11-16T07:39:26.292Z"
   },
   {
    "duration": 8,
    "start_time": "2022-11-16T07:39:26.314Z"
   },
   {
    "duration": 11,
    "start_time": "2022-11-16T07:39:26.324Z"
   },
   {
    "duration": 4,
    "start_time": "2022-11-16T07:39:26.338Z"
   },
   {
    "duration": 40,
    "start_time": "2022-11-16T07:39:26.344Z"
   },
   {
    "duration": 10,
    "start_time": "2022-11-16T07:39:26.385Z"
   },
   {
    "duration": 5,
    "start_time": "2022-11-16T07:39:26.397Z"
   },
   {
    "duration": 13,
    "start_time": "2022-11-16T07:39:26.403Z"
   },
   {
    "duration": 22,
    "start_time": "2022-11-16T07:39:26.418Z"
   },
   {
    "duration": 36,
    "start_time": "2022-11-16T07:39:26.442Z"
   },
   {
    "duration": 5,
    "start_time": "2022-11-16T07:39:26.479Z"
   },
   {
    "duration": 17,
    "start_time": "2022-11-16T07:39:26.485Z"
   },
   {
    "duration": 15,
    "start_time": "2022-11-16T07:39:26.503Z"
   },
   {
    "duration": 5,
    "start_time": "2022-11-16T07:39:26.520Z"
   },
   {
    "duration": 32,
    "start_time": "2022-11-16T07:39:26.526Z"
   },
   {
    "duration": 722,
    "start_time": "2022-11-16T07:39:26.559Z"
   },
   {
    "duration": 20,
    "start_time": "2022-11-16T07:39:27.283Z"
   },
   {
    "duration": 384,
    "start_time": "2022-11-16T07:39:27.304Z"
   },
   {
    "duration": 3,
    "start_time": "2022-11-16T07:39:27.689Z"
   },
   {
    "duration": 21,
    "start_time": "2022-11-16T07:39:27.693Z"
   },
   {
    "duration": 17,
    "start_time": "2022-11-16T07:39:27.715Z"
   },
   {
    "duration": 16,
    "start_time": "2022-11-16T07:39:27.734Z"
   },
   {
    "duration": 87,
    "start_time": "2022-11-16T18:37:09.770Z"
   }
  ],
  "colab": {
   "name": "dpp_template_part2.ipynb",
   "provenance": []
  },
  "kernelspec": {
   "display_name": "Python 3 (ipykernel)",
   "language": "python",
   "name": "python3"
  },
  "language_info": {
   "codemirror_mode": {
    "name": "ipython",
    "version": 3
   },
   "file_extension": ".py",
   "mimetype": "text/x-python",
   "name": "python",
   "nbconvert_exporter": "python",
   "pygments_lexer": "ipython3",
   "version": "3.9.13"
  },
  "toc": {
   "base_numbering": 1,
   "nav_menu": {},
   "number_sections": true,
   "sideBar": true,
   "skip_h1_title": true,
   "title_cell": "Содержание",
   "title_sidebar": "Contents",
   "toc_cell": true,
   "toc_position": {
    "height": "calc(100% - 180px)",
    "left": "10px",
    "top": "150px",
    "width": "275.390625px"
   },
   "toc_section_display": true,
   "toc_window_display": true
  }
 },
 "nbformat": 4,
 "nbformat_minor": 5
}
