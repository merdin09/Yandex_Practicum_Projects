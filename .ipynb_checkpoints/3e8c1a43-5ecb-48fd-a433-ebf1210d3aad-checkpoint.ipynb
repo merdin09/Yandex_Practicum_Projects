{
 "cells": [
  {
   "cell_type": "markdown",
   "metadata": {
    "toc": true
   },
   "source": [
    "<h1>Содержание<span class=\"tocSkip\"></span></h1>\n",
    "<div class=\"toc\"><ul class=\"toc-item\"><li><span><a href=\"#Обзор-данных\" data-toc-modified-id=\"Обзор-данных-1\"><span class=\"toc-item-num\">1&nbsp;&nbsp;</span>Обзор данных</a></span></li><li><span><a href=\"#Предобработка-данных\" data-toc-modified-id=\"Предобработка-данных-2\"><span class=\"toc-item-num\">2&nbsp;&nbsp;</span>Предобработка данных</a></span><ul class=\"toc-item\"><li><span><a href=\"#Стиль-заголовков\" data-toc-modified-id=\"Стиль-заголовков-2.1\"><span class=\"toc-item-num\">2.1&nbsp;&nbsp;</span>Стиль заголовков</a></span></li><li><span><a href=\"#Пропуски-значений\" data-toc-modified-id=\"Пропуски-значений-2.2\"><span class=\"toc-item-num\">2.2&nbsp;&nbsp;</span>Пропуски значений</a></span></li><li><span><a href=\"#Дубликаты\" data-toc-modified-id=\"Дубликаты-2.3\"><span class=\"toc-item-num\">2.3&nbsp;&nbsp;</span>Дубликаты</a></span></li></ul></li><li><span><a href=\"#Проверка-гипотез\" data-toc-modified-id=\"Проверка-гипотез-3\"><span class=\"toc-item-num\">3&nbsp;&nbsp;</span>Проверка гипотез</a></span><ul class=\"toc-item\"><li><span><a href=\"#Сравнение-поведения-пользователей-двух-столиц\" data-toc-modified-id=\"Сравнение-поведения-пользователей-двух-столиц-3.1\"><span class=\"toc-item-num\">3.1&nbsp;&nbsp;</span>Сравнение поведения пользователей двух столиц</a></span></li><li><span><a href=\"#Музыка-в-начале-и-в-конце-недели\" data-toc-modified-id=\"Музыка-в-начале-и-в-конце-недели-3.2\"><span class=\"toc-item-num\">3.2&nbsp;&nbsp;</span>Музыка в начале и в конце недели</a></span></li><li><span><a href=\"#Жанровые-предпочтения-в-Москве-и-Петербурге\" data-toc-modified-id=\"Жанровые-предпочтения-в-Москве-и-Петербурге-3.3\"><span class=\"toc-item-num\">3.3&nbsp;&nbsp;</span>Жанровые предпочтения в Москве и Петербурге</a></span></li></ul></li><li><span><a href=\"#Итоги-исследования\" data-toc-modified-id=\"Итоги-исследования-4\"><span class=\"toc-item-num\">4&nbsp;&nbsp;</span>Итоги исследования</a></span></li></ul></div>"
   ]
  },
  {
   "cell_type": "markdown",
   "metadata": {
    "deletable": false,
    "editable": false,
    "id": "E0vqbgi9ay0H"
   },
   "source": [
    "# Яндекс Музыка"
   ]
  },
  {
   "cell_type": "markdown",
   "metadata": {
    "deletable": false,
    "editable": false,
    "id": "VUC88oWjTJw2"
   },
   "source": [
    "Сравнение Москвы и Петербурга окружено мифами. Например:\n",
    " * Москва — мегаполис, подчинённый жёсткому ритму рабочей недели;\n",
    " * Петербург — культурная столица, со своими вкусами.\n",
    "\n",
    "На данных Яндекс Музыки вы сравните поведение пользователей двух столиц.\n",
    "\n",
    "**Цель исследования** — проверьте три гипотезы:\n",
    "1. Активность пользователей зависит от дня недели. Причём в Москве и Петербурге это проявляется по-разному.\n",
    "2. В понедельник утром в Москве преобладают одни жанры, а в Петербурге — другие. Так же и вечером пятницы преобладают разные жанры — в зависимости от города. \n",
    "3. Москва и Петербург предпочитают разные жанры музыки. В Москве чаще слушают поп-музыку, в Петербурге — русский рэп.\n",
    "\n",
    "**Ход исследования**\n",
    "\n",
    "Данные о поведении пользователей вы получите из файла `yandex_music_project.csv`. О качестве данных ничего не известно. Поэтому перед проверкой гипотез понадобится обзор данных. \n",
    "\n",
    "Вы проверите данные на ошибки и оцените их влияние на исследование. Затем, на этапе предобработки вы поищете возможность исправить самые критичные ошибки данных.\n",
    " \n",
    "Таким образом, исследование пройдёт в три этапа:\n",
    " 1. Обзор данных.\n",
    " 2. Предобработка данных.\n",
    " 3. Проверка гипотез.\n",
    "\n"
   ]
  },
  {
   "cell_type": "markdown",
   "metadata": {
    "deletable": false,
    "editable": false,
    "id": "Ml1hmfXC_Zcs"
   },
   "source": [
    "## Обзор данных\n",
    "\n",
    "Составьте первое представление о данных Яндекс Музыки.\n",
    "\n",
    "\n"
   ]
  },
  {
   "cell_type": "markdown",
   "metadata": {
    "deletable": false,
    "editable": false,
    "id": "57eAOGIz_Zcs",
    "tags": [
     "start_task"
    ]
   },
   "source": [
    "**Задание 1**\n",
    "\n",
    "Основной инструмент аналитика — `pandas`. Импортируйте эту библиотеку."
   ]
  },
  {
   "cell_type": "code",
   "execution_count": 1,
   "metadata": {
    "deletable": false,
    "id": "AXN7PHPN_Zcs"
   },
   "outputs": [],
   "source": [
    "import pandas as pd# импорт библиотеки pandas"
   ]
  },
  {
   "cell_type": "markdown",
   "metadata": {
    "deletable": false,
    "editable": false,
    "id": "SG23P8tt_Zcs",
    "tags": [
     "start_task"
    ]
   },
   "source": [
    "**Задание 2**\n",
    "\n",
    "Прочитайте файл `yandex_music_project.csv` из папки `/datasets` и сохраните его в переменной `df`:"
   ]
  },
  {
   "cell_type": "code",
   "execution_count": 2,
   "metadata": {
    "deletable": false,
    "id": "fFVu7vqh_Zct"
   },
   "outputs": [],
   "source": [
    "try:\n",
    "    df = pd.read_csv('/datasets/yandex_music_project.csv')\n",
    "except:\n",
    "    df = pd.read_csv('/Users/sergeipakhar/Desktop/Phyton/1 СПРИНТ Музыка больших городов/yandex_music_project.csv')\n",
    "\n",
    "\n"
   ]
  },
  {
   "cell_type": "markdown",
   "metadata": {
    "deletable": false,
    "editable": false,
    "id": "rDoOMd3uTqnZ",
    "tags": [
     "start_task"
    ]
   },
   "source": [
    "**Задание 3**\n",
    "\n",
    "\n",
    "Выведите на экран первые десять строк таблицы:"
   ]
  },
  {
   "cell_type": "code",
   "execution_count": 3,
   "metadata": {
    "deletable": false,
    "id": "oWTVX3gW_Zct",
    "scrolled": false
   },
   "outputs": [
    {
     "data": {
      "text/html": [
       "<div>\n",
       "<style scoped>\n",
       "    .dataframe tbody tr th:only-of-type {\n",
       "        vertical-align: middle;\n",
       "    }\n",
       "\n",
       "    .dataframe tbody tr th {\n",
       "        vertical-align: top;\n",
       "    }\n",
       "\n",
       "    .dataframe thead th {\n",
       "        text-align: right;\n",
       "    }\n",
       "</style>\n",
       "<table border=\"1\" class=\"dataframe\">\n",
       "  <thead>\n",
       "    <tr style=\"text-align: right;\">\n",
       "      <th></th>\n",
       "      <th>userID</th>\n",
       "      <th>Track</th>\n",
       "      <th>artist</th>\n",
       "      <th>genre</th>\n",
       "      <th>City</th>\n",
       "      <th>time</th>\n",
       "      <th>Day</th>\n",
       "    </tr>\n",
       "  </thead>\n",
       "  <tbody>\n",
       "    <tr>\n",
       "      <th>0</th>\n",
       "      <td>FFB692EC</td>\n",
       "      <td>Kamigata To Boots</td>\n",
       "      <td>The Mass Missile</td>\n",
       "      <td>rock</td>\n",
       "      <td>Saint-Petersburg</td>\n",
       "      <td>20:28:33</td>\n",
       "      <td>Wednesday</td>\n",
       "    </tr>\n",
       "    <tr>\n",
       "      <th>1</th>\n",
       "      <td>55204538</td>\n",
       "      <td>Delayed Because of Accident</td>\n",
       "      <td>Andreas Rönnberg</td>\n",
       "      <td>rock</td>\n",
       "      <td>Moscow</td>\n",
       "      <td>14:07:09</td>\n",
       "      <td>Friday</td>\n",
       "    </tr>\n",
       "    <tr>\n",
       "      <th>2</th>\n",
       "      <td>20EC38</td>\n",
       "      <td>Funiculì funiculà</td>\n",
       "      <td>Mario Lanza</td>\n",
       "      <td>pop</td>\n",
       "      <td>Saint-Petersburg</td>\n",
       "      <td>20:58:07</td>\n",
       "      <td>Wednesday</td>\n",
       "    </tr>\n",
       "    <tr>\n",
       "      <th>3</th>\n",
       "      <td>A3DD03C9</td>\n",
       "      <td>Dragons in the Sunset</td>\n",
       "      <td>Fire + Ice</td>\n",
       "      <td>folk</td>\n",
       "      <td>Saint-Petersburg</td>\n",
       "      <td>08:37:09</td>\n",
       "      <td>Monday</td>\n",
       "    </tr>\n",
       "    <tr>\n",
       "      <th>4</th>\n",
       "      <td>E2DC1FAE</td>\n",
       "      <td>Soul People</td>\n",
       "      <td>Space Echo</td>\n",
       "      <td>dance</td>\n",
       "      <td>Moscow</td>\n",
       "      <td>08:34:34</td>\n",
       "      <td>Monday</td>\n",
       "    </tr>\n",
       "    <tr>\n",
       "      <th>5</th>\n",
       "      <td>842029A1</td>\n",
       "      <td>Преданная</td>\n",
       "      <td>IMPERVTOR</td>\n",
       "      <td>rusrap</td>\n",
       "      <td>Saint-Petersburg</td>\n",
       "      <td>13:09:41</td>\n",
       "      <td>Friday</td>\n",
       "    </tr>\n",
       "    <tr>\n",
       "      <th>6</th>\n",
       "      <td>4CB90AA5</td>\n",
       "      <td>True</td>\n",
       "      <td>Roman Messer</td>\n",
       "      <td>dance</td>\n",
       "      <td>Moscow</td>\n",
       "      <td>13:00:07</td>\n",
       "      <td>Wednesday</td>\n",
       "    </tr>\n",
       "    <tr>\n",
       "      <th>7</th>\n",
       "      <td>F03E1C1F</td>\n",
       "      <td>Feeling This Way</td>\n",
       "      <td>Polina Griffith</td>\n",
       "      <td>dance</td>\n",
       "      <td>Moscow</td>\n",
       "      <td>20:47:49</td>\n",
       "      <td>Wednesday</td>\n",
       "    </tr>\n",
       "    <tr>\n",
       "      <th>8</th>\n",
       "      <td>8FA1D3BE</td>\n",
       "      <td>И вновь продолжается бой</td>\n",
       "      <td>NaN</td>\n",
       "      <td>ruspop</td>\n",
       "      <td>Moscow</td>\n",
       "      <td>09:17:40</td>\n",
       "      <td>Friday</td>\n",
       "    </tr>\n",
       "    <tr>\n",
       "      <th>9</th>\n",
       "      <td>E772D5C0</td>\n",
       "      <td>Pessimist</td>\n",
       "      <td>NaN</td>\n",
       "      <td>dance</td>\n",
       "      <td>Saint-Petersburg</td>\n",
       "      <td>21:20:49</td>\n",
       "      <td>Wednesday</td>\n",
       "    </tr>\n",
       "  </tbody>\n",
       "</table>\n",
       "</div>"
      ],
      "text/plain": [
       "     userID                        Track            artist   genre  \\\n",
       "0  FFB692EC            Kamigata To Boots  The Mass Missile    rock   \n",
       "1  55204538  Delayed Because of Accident  Andreas Rönnberg    rock   \n",
       "2    20EC38            Funiculì funiculà       Mario Lanza     pop   \n",
       "3  A3DD03C9        Dragons in the Sunset        Fire + Ice    folk   \n",
       "4  E2DC1FAE                  Soul People        Space Echo   dance   \n",
       "5  842029A1                    Преданная         IMPERVTOR  rusrap   \n",
       "6  4CB90AA5                         True      Roman Messer   dance   \n",
       "7  F03E1C1F             Feeling This Way   Polina Griffith   dance   \n",
       "8  8FA1D3BE     И вновь продолжается бой               NaN  ruspop   \n",
       "9  E772D5C0                    Pessimist               NaN   dance   \n",
       "\n",
       "             City        time        Day  \n",
       "0  Saint-Petersburg  20:28:33  Wednesday  \n",
       "1            Moscow  14:07:09     Friday  \n",
       "2  Saint-Petersburg  20:58:07  Wednesday  \n",
       "3  Saint-Petersburg  08:37:09     Monday  \n",
       "4            Moscow  08:34:34     Monday  \n",
       "5  Saint-Petersburg  13:09:41     Friday  \n",
       "6            Moscow  13:00:07  Wednesday  \n",
       "7            Moscow  20:47:49  Wednesday  \n",
       "8            Moscow  09:17:40     Friday  \n",
       "9  Saint-Petersburg  21:20:49  Wednesday  "
      ]
     },
     "execution_count": 3,
     "metadata": {},
     "output_type": "execute_result"
    }
   ],
   "source": [
    "df.head(10)     # получение первых 10 строк таблицы df"
   ]
  },
  {
   "cell_type": "markdown",
   "metadata": {
    "deletable": false,
    "editable": false,
    "id": "EO73Kwic_Zct",
    "tags": [
     "start_task"
    ]
   },
   "source": [
    "**Задание 4**\n",
    "\n",
    "\n",
    "Одной командой получить общую информацию о таблице c помощью метода `info()`:"
   ]
  },
  {
   "cell_type": "code",
   "execution_count": 4,
   "metadata": {
    "deletable": false,
    "id": "DSf2kIb-_Zct"
   },
   "outputs": [
    {
     "name": "stdout",
     "output_type": "stream",
     "text": [
      "<class 'pandas.core.frame.DataFrame'>\n",
      "RangeIndex: 65079 entries, 0 to 65078\n",
      "Data columns (total 7 columns):\n",
      " #   Column    Non-Null Count  Dtype \n",
      "---  ------    --------------  ----- \n",
      " 0     userID  65079 non-null  object\n",
      " 1   Track     63848 non-null  object\n",
      " 2   artist    57876 non-null  object\n",
      " 3   genre     63881 non-null  object\n",
      " 4     City    65079 non-null  object\n",
      " 5   time      65079 non-null  object\n",
      " 6   Day       65079 non-null  object\n",
      "dtypes: object(7)\n",
      "memory usage: 3.5+ MB\n"
     ]
    }
   ],
   "source": [
    "df.info()    # получение общей информации о данных в таблице df"
   ]
  },
  {
   "cell_type": "markdown",
   "metadata": {
    "deletable": false,
    "editable": false,
    "id": "TaQ2Iwbr_Zct"
   },
   "source": [
    "Итак, в таблице семь столбцов. Тип данных во всех столбцах — `object`.\n",
    "\n",
    "Согласно документации к данным:\n",
    "* `userID` — идентификатор пользователя;\n",
    "* `Track` — название трека;  \n",
    "* `artist` — имя исполнителя;\n",
    "* `genre` — название жанра;\n",
    "* `City` — город пользователя;\n",
    "* `time` — время начала прослушивания;\n",
    "* `Day` — день недели.\n",
    "\n",
    "Количество значений в столбцах различается. Значит, в данных есть пропущенные значения."
   ]
  },
  {
   "cell_type": "markdown",
   "metadata": {
    "deletable": false,
    "editable": false,
    "id": "rAfziTBDmf2h",
    "tags": [
     "start_task"
    ]
   },
   "source": [
    "**Задание 5**\n",
    "\n",
    "**Вопрос со свободной формой ответа**\n",
    "\n",
    "В названиях колонок видны нарушения стиля:\n",
    "* Строчные буквы сочетаются с прописными.\n",
    "* Встречаются пробелы.\n",
    "\n",
    "Какое третье нарушение?"
   ]
  },
  {
   "cell_type": "markdown",
   "metadata": {
    "id": "jD8EXEIvmf2h"
   },
   "source": [
    "название колонки не записано в змеином регистре"
   ]
  },
  {
   "cell_type": "markdown",
   "metadata": {
    "deletable": false,
    "editable": false,
    "id": "MCB6-dXG_Zct"
   },
   "source": [
    "**Выводы**\n",
    "\n",
    "В каждой строке таблицы — данные о прослушанном треке. Часть колонок описывает саму композицию: название, исполнителя и жанр. Остальные данные рассказывают о пользователе: из какого он города, когда он слушал музыку. \n",
    "\n",
    "Предварительно можно утверждать, что данных достаточно для проверки гипотез. Но встречаются пропуски в данных, а в названиях колонок — расхождения с хорошим стилем.\n",
    "\n",
    "Чтобы двигаться дальше, нужно устранить проблемы в данных."
   ]
  },
  {
   "cell_type": "markdown",
   "metadata": {
    "deletable": false,
    "editable": false,
    "id": "SjYF6Ub9_Zct"
   },
   "source": [
    "## Предобработка данных\n",
    "Исправьте стиль в заголовках столбцов, исключите пропуски. Затем проверьте данные на дубликаты."
   ]
  },
  {
   "cell_type": "markdown",
   "metadata": {
    "deletable": false,
    "editable": false,
    "id": "dIaKXr29_Zct",
    "tags": [
     "start_task"
    ]
   },
   "source": [
    "### Стиль заголовков\n",
    "\n",
    "**Задание 6**\n",
    "\n",
    "Выведите на экран названия столбцов:"
   ]
  },
  {
   "cell_type": "code",
   "execution_count": 5,
   "metadata": {
    "deletable": false,
    "id": "oKOTdF_Q_Zct"
   },
   "outputs": [
    {
     "data": {
      "text/plain": [
       "Index(['  userID', 'Track', 'artist', 'genre', '  City  ', 'time', 'Day'], dtype='object')"
      ]
     },
     "execution_count": 5,
     "metadata": {},
     "output_type": "execute_result"
    }
   ],
   "source": [
    "df.columns   # перечень названий столбцов таблицы df\n"
   ]
  },
  {
   "cell_type": "markdown",
   "metadata": {
    "deletable": false,
    "editable": false,
    "id": "zj5534cv_Zct",
    "tags": [
     "start_task"
    ]
   },
   "source": [
    "**Задание 7**\n",
    "\n",
    "\n",
    "Приведите названия в соответствие с хорошим стилем:\n",
    "* несколько слов в названии запишите в «змеином_регистре»,\n",
    "* все символы сделайте строчными,\n",
    "* устраните пробелы.\n",
    "\n",
    "Для этого переименуйте колонки так:\n",
    "* `'  userID'` → `'user_id'`;\n",
    "* `'Track'` → `'track'`;\n",
    "* `'  City  '` → `'city'`;\n",
    "* `'Day'` → `'day'`."
   ]
  },
  {
   "cell_type": "code",
   "execution_count": 6,
   "metadata": {
    "deletable": false,
    "id": "ISlFqs5y_Zct"
   },
   "outputs": [],
   "source": [
    "df = df.rename(columns = {'  userID':'user_id','Track':'track','  City  ':'city','Day':'day'})# переименование столбцов"
   ]
  },
  {
   "cell_type": "markdown",
   "metadata": {
    "deletable": false,
    "editable": false,
    "id": "1dqbh00J_Zct",
    "tags": [
     "start_task"
    ]
   },
   "source": [
    "**Задание 8**\n",
    "\n",
    "\n",
    "Проверьте результат. Для этого ещё раз выведите на экран названия столбцов:"
   ]
  },
  {
   "cell_type": "code",
   "execution_count": 7,
   "metadata": {
    "deletable": false,
    "id": "d4NOAmTW_Zct"
   },
   "outputs": [
    {
     "data": {
      "text/plain": [
       "Index(['user_id', 'track', 'artist', 'genre', 'city', 'time', 'day'], dtype='object')"
      ]
     },
     "execution_count": 7,
     "metadata": {},
     "output_type": "execute_result"
    }
   ],
   "source": [
    "df.columns   # проверка результатов - перечень названий столбцов"
   ]
  },
  {
   "cell_type": "markdown",
   "metadata": {
    "deletable": false,
    "editable": false,
    "id": "5ISfbcfY_Zct",
    "tags": [
     "start_task"
    ]
   },
   "source": [
    "### Пропуски значений\n",
    "\n",
    "**Задание 9**\n",
    "\n",
    "Сначала посчитайте, сколько в таблице пропущенных значений. Для этого достаточно двух методов `pandas`:"
   ]
  },
  {
   "cell_type": "code",
   "execution_count": 8,
   "metadata": {
    "deletable": false,
    "id": "RskX29qr_Zct"
   },
   "outputs": [
    {
     "data": {
      "text/plain": [
       "user_id       0\n",
       "track      1231\n",
       "artist     7203\n",
       "genre      1198\n",
       "city          0\n",
       "time          0\n",
       "day           0\n",
       "dtype: int64"
      ]
     },
     "execution_count": 8,
     "metadata": {},
     "output_type": "execute_result"
    }
   ],
   "source": [
    "df.isna().sum()# подсчёт пропусков\n"
   ]
  },
  {
   "cell_type": "markdown",
   "metadata": {
    "deletable": false,
    "editable": false,
    "id": "qubhgnlO_Zct"
   },
   "source": [
    "Не все пропущенные значения влияют на исследование. Так в `track` и `artist` пропуски не важны для вашей работы. Достаточно заменить их явными обозначениями.\n",
    "\n",
    "Но пропуски в `genre` могут помешать сравнению музыкальных вкусов в Москве и Санкт-Петербурге. На практике было бы правильно установить причину пропусков и восстановить данные. Такой возможности нет в учебном проекте. Придётся:\n",
    "* заполнить и эти пропуски явными обозначениями;\n",
    "* оценить, насколько они повредят расчётам. "
   ]
  },
  {
   "cell_type": "markdown",
   "metadata": {
    "deletable": false,
    "editable": false,
    "id": "fSv2laPA_Zct",
    "tags": [
     "start_task"
    ]
   },
   "source": [
    "**Задание 10**\n",
    "\n",
    "Замените пропущенные значения в столбцах `track`, `artist` и `genre` на строку `'unknown'`. Для этого создайте список `columns_to_replace`, переберите его элементы циклом `for` и для каждого столбца выполните замену пропущенных значений:"
   ]
  },
  {
   "cell_type": "code",
   "execution_count": 9,
   "metadata": {
    "deletable": false,
    "id": "KplB5qWs_Zct"
   },
   "outputs": [],
   "source": [
    "df['track'] = df['track'].fillna('unknown')\n",
    "df['artist'] = df['artist'].fillna('unknown')\n",
    "df['genre'] = df['genre'].fillna('unknown')\n",
    "        # перебор названий столбцов в цикле и замена пропущенных значений на 'unknown'"
   ]
  },
  {
   "cell_type": "markdown",
   "metadata": {
    "deletable": false,
    "editable": false,
    "id": "Ilsm-MZo_Zct",
    "tags": [
     "start_task"
    ]
   },
   "source": [
    "**Задание 11**\n",
    "\n",
    "Убедитесь, что в таблице не осталось пропусков. Для этого ещё раз посчитайте пропущенные значения."
   ]
  },
  {
   "cell_type": "code",
   "execution_count": 10,
   "metadata": {
    "deletable": false,
    "id": "Tq4nYRX4_Zct"
   },
   "outputs": [
    {
     "data": {
      "text/plain": [
       "user_id    0\n",
       "track      0\n",
       "artist     0\n",
       "genre      0\n",
       "city       0\n",
       "time       0\n",
       "day        0\n",
       "dtype: int64"
      ]
     },
     "execution_count": 10,
     "metadata": {},
     "output_type": "execute_result"
    }
   ],
   "source": [
    "df.isna().sum()# подсчёт пропусков"
   ]
  },
  {
   "cell_type": "markdown",
   "metadata": {
    "deletable": false,
    "editable": false,
    "id": "BWKRtBJ3_Zct",
    "tags": [
     "start_task"
    ]
   },
   "source": [
    "### Дубликаты\n",
    "\n",
    "**Задание 12**\n",
    "\n",
    "Посчитайте явные дубликаты в таблице одной командой:"
   ]
  },
  {
   "cell_type": "code",
   "execution_count": 11,
   "metadata": {
    "deletable": false,
    "id": "36eES_S0_Zct"
   },
   "outputs": [
    {
     "data": {
      "text/plain": [
       "3826"
      ]
     },
     "execution_count": 11,
     "metadata": {},
     "output_type": "execute_result"
    }
   ],
   "source": [
    "df.duplicated().sum()# подсчёт явных дубликатов"
   ]
  },
  {
   "cell_type": "markdown",
   "metadata": {
    "deletable": false,
    "editable": false,
    "id": "Ot25h6XR_Zct",
    "tags": [
     "start_task"
    ]
   },
   "source": [
    "**Задание 13**\n",
    "\n",
    "Вызовите специальный метод `pandas`, чтобы удалить явные дубликаты:"
   ]
  },
  {
   "cell_type": "code",
   "execution_count": 12,
   "metadata": {
    "deletable": false,
    "id": "exFHq6tt_Zct"
   },
   "outputs": [
    {
     "data": {
      "text/html": [
       "<div>\n",
       "<style scoped>\n",
       "    .dataframe tbody tr th:only-of-type {\n",
       "        vertical-align: middle;\n",
       "    }\n",
       "\n",
       "    .dataframe tbody tr th {\n",
       "        vertical-align: top;\n",
       "    }\n",
       "\n",
       "    .dataframe thead th {\n",
       "        text-align: right;\n",
       "    }\n",
       "</style>\n",
       "<table border=\"1\" class=\"dataframe\">\n",
       "  <thead>\n",
       "    <tr style=\"text-align: right;\">\n",
       "      <th></th>\n",
       "      <th>user_id</th>\n",
       "      <th>track</th>\n",
       "      <th>artist</th>\n",
       "      <th>genre</th>\n",
       "      <th>city</th>\n",
       "      <th>time</th>\n",
       "      <th>day</th>\n",
       "    </tr>\n",
       "  </thead>\n",
       "  <tbody>\n",
       "    <tr>\n",
       "      <th>0</th>\n",
       "      <td>FFB692EC</td>\n",
       "      <td>Kamigata To Boots</td>\n",
       "      <td>The Mass Missile</td>\n",
       "      <td>rock</td>\n",
       "      <td>Saint-Petersburg</td>\n",
       "      <td>20:28:33</td>\n",
       "      <td>Wednesday</td>\n",
       "    </tr>\n",
       "    <tr>\n",
       "      <th>1</th>\n",
       "      <td>55204538</td>\n",
       "      <td>Delayed Because of Accident</td>\n",
       "      <td>Andreas Rönnberg</td>\n",
       "      <td>rock</td>\n",
       "      <td>Moscow</td>\n",
       "      <td>14:07:09</td>\n",
       "      <td>Friday</td>\n",
       "    </tr>\n",
       "    <tr>\n",
       "      <th>2</th>\n",
       "      <td>20EC38</td>\n",
       "      <td>Funiculì funiculà</td>\n",
       "      <td>Mario Lanza</td>\n",
       "      <td>pop</td>\n",
       "      <td>Saint-Petersburg</td>\n",
       "      <td>20:58:07</td>\n",
       "      <td>Wednesday</td>\n",
       "    </tr>\n",
       "    <tr>\n",
       "      <th>3</th>\n",
       "      <td>A3DD03C9</td>\n",
       "      <td>Dragons in the Sunset</td>\n",
       "      <td>Fire + Ice</td>\n",
       "      <td>folk</td>\n",
       "      <td>Saint-Petersburg</td>\n",
       "      <td>08:37:09</td>\n",
       "      <td>Monday</td>\n",
       "    </tr>\n",
       "    <tr>\n",
       "      <th>4</th>\n",
       "      <td>E2DC1FAE</td>\n",
       "      <td>Soul People</td>\n",
       "      <td>Space Echo</td>\n",
       "      <td>dance</td>\n",
       "      <td>Moscow</td>\n",
       "      <td>08:34:34</td>\n",
       "      <td>Monday</td>\n",
       "    </tr>\n",
       "  </tbody>\n",
       "</table>\n",
       "</div>"
      ],
      "text/plain": [
       "    user_id                        track            artist  genre  \\\n",
       "0  FFB692EC            Kamigata To Boots  The Mass Missile   rock   \n",
       "1  55204538  Delayed Because of Accident  Andreas Rönnberg   rock   \n",
       "2    20EC38            Funiculì funiculà       Mario Lanza    pop   \n",
       "3  A3DD03C9        Dragons in the Sunset        Fire + Ice   folk   \n",
       "4  E2DC1FAE                  Soul People        Space Echo  dance   \n",
       "\n",
       "               city      time        day  \n",
       "0  Saint-Petersburg  20:28:33  Wednesday  \n",
       "1            Moscow  14:07:09     Friday  \n",
       "2  Saint-Petersburg  20:58:07  Wednesday  \n",
       "3  Saint-Petersburg  08:37:09     Monday  \n",
       "4            Moscow  08:34:34     Monday  "
      ]
     },
     "execution_count": 12,
     "metadata": {},
     "output_type": "execute_result"
    }
   ],
   "source": [
    "df = df.drop_duplicates()# удаление явных дубликатов\n",
    "df.head()"
   ]
  },
  {
   "cell_type": "markdown",
   "metadata": {
    "deletable": false,
    "editable": false,
    "id": "Im2YwBEG_Zct",
    "tags": [
     "start_task"
    ]
   },
   "source": [
    "**Задание 14**\n",
    "\n",
    "Ещё раз посчитайте явные дубликаты в таблице — убедитесь, что полностью от них избавились:"
   ]
  },
  {
   "cell_type": "code",
   "execution_count": 13,
   "metadata": {
    "deletable": false,
    "id": "-8PuNWQ0_Zct"
   },
   "outputs": [
    {
     "data": {
      "text/plain": [
       "0"
      ]
     },
     "execution_count": 13,
     "metadata": {},
     "output_type": "execute_result"
    }
   ],
   "source": [
    "df.duplicated().sum() #проверка явных дубликатов\n",
    "#df.head()"
   ]
  },
  {
   "cell_type": "markdown",
   "metadata": {
    "deletable": false,
    "editable": false,
    "id": "QlFBsxAr_Zct"
   },
   "source": [
    "Теперь избавьтесь от неявных дубликатов в колонке `genre`. Например, название одного и того же жанра может быть записано немного по-разному. Такие ошибки тоже повлияют на результат исследования."
   ]
  },
  {
   "cell_type": "markdown",
   "metadata": {
    "deletable": false,
    "editable": false,
    "id": "eSjWwsOh_Zct",
    "tags": [
     "start_task"
    ]
   },
   "source": [
    "**Задание 15**\n",
    "\n",
    "Выведите на экран список уникальных названий жанров, отсортированный в алфавитном порядке. Для этого:\n",
    "1. извлеките нужный столбец датафрейма; \n",
    "2. примените к нему метод сортировки;\n",
    "3. для отсортированного столбца вызовите метод, который вернёт уникальные значения из столбца."
   ]
  },
  {
   "cell_type": "code",
   "execution_count": 14,
   "metadata": {
    "deletable": false,
    "id": "JIUcqzZN_Zct"
   },
   "outputs": [
    {
     "data": {
      "text/html": [
       "<div>\n",
       "<style scoped>\n",
       "    .dataframe tbody tr th:only-of-type {\n",
       "        vertical-align: middle;\n",
       "    }\n",
       "\n",
       "    .dataframe tbody tr th {\n",
       "        vertical-align: top;\n",
       "    }\n",
       "\n",
       "    .dataframe thead th {\n",
       "        text-align: right;\n",
       "    }\n",
       "</style>\n",
       "<table border=\"1\" class=\"dataframe\">\n",
       "  <thead>\n",
       "    <tr style=\"text-align: right;\">\n",
       "      <th></th>\n",
       "      <th>user_id</th>\n",
       "      <th>track</th>\n",
       "      <th>artist</th>\n",
       "      <th>genre</th>\n",
       "      <th>city</th>\n",
       "      <th>time</th>\n",
       "      <th>day</th>\n",
       "    </tr>\n",
       "  </thead>\n",
       "  <tbody>\n",
       "    <tr>\n",
       "      <th>0</th>\n",
       "      <td>FFB692EC</td>\n",
       "      <td>Kamigata To Boots</td>\n",
       "      <td>The Mass Missile</td>\n",
       "      <td>rock</td>\n",
       "      <td>Saint-Petersburg</td>\n",
       "      <td>20:28:33</td>\n",
       "      <td>Wednesday</td>\n",
       "    </tr>\n",
       "    <tr>\n",
       "      <th>1</th>\n",
       "      <td>55204538</td>\n",
       "      <td>Delayed Because of Accident</td>\n",
       "      <td>Andreas Rönnberg</td>\n",
       "      <td>rock</td>\n",
       "      <td>Moscow</td>\n",
       "      <td>14:07:09</td>\n",
       "      <td>Friday</td>\n",
       "    </tr>\n",
       "    <tr>\n",
       "      <th>2</th>\n",
       "      <td>20EC38</td>\n",
       "      <td>Funiculì funiculà</td>\n",
       "      <td>Mario Lanza</td>\n",
       "      <td>pop</td>\n",
       "      <td>Saint-Petersburg</td>\n",
       "      <td>20:58:07</td>\n",
       "      <td>Wednesday</td>\n",
       "    </tr>\n",
       "    <tr>\n",
       "      <th>3</th>\n",
       "      <td>A3DD03C9</td>\n",
       "      <td>Dragons in the Sunset</td>\n",
       "      <td>Fire + Ice</td>\n",
       "      <td>folk</td>\n",
       "      <td>Saint-Petersburg</td>\n",
       "      <td>08:37:09</td>\n",
       "      <td>Monday</td>\n",
       "    </tr>\n",
       "    <tr>\n",
       "      <th>4</th>\n",
       "      <td>E2DC1FAE</td>\n",
       "      <td>Soul People</td>\n",
       "      <td>Space Echo</td>\n",
       "      <td>dance</td>\n",
       "      <td>Moscow</td>\n",
       "      <td>08:34:34</td>\n",
       "      <td>Monday</td>\n",
       "    </tr>\n",
       "  </tbody>\n",
       "</table>\n",
       "</div>"
      ],
      "text/plain": [
       "    user_id                        track            artist  genre  \\\n",
       "0  FFB692EC            Kamigata To Boots  The Mass Missile   rock   \n",
       "1  55204538  Delayed Because of Accident  Andreas Rönnberg   rock   \n",
       "2    20EC38            Funiculì funiculà       Mario Lanza    pop   \n",
       "3  A3DD03C9        Dragons in the Sunset        Fire + Ice   folk   \n",
       "4  E2DC1FAE                  Soul People        Space Echo  dance   \n",
       "\n",
       "               city      time        day  \n",
       "0  Saint-Petersburg  20:28:33  Wednesday  \n",
       "1            Moscow  14:07:09     Friday  \n",
       "2  Saint-Petersburg  20:58:07  Wednesday  \n",
       "3  Saint-Petersburg  08:37:09     Monday  \n",
       "4            Moscow  08:34:34     Monday  "
      ]
     },
     "execution_count": 14,
     "metadata": {},
     "output_type": "execute_result"
    }
   ],
   "source": [
    "df['genre'].sort_values().unique()# Просмотр уникальных названий жанров\n",
    "df.head()"
   ]
  },
  {
   "cell_type": "markdown",
   "metadata": {
    "deletable": false,
    "editable": false,
    "id": "qej-Qmuo_Zct",
    "tags": [
     "start_task"
    ]
   },
   "source": [
    "**Задание 16**\n",
    "\n",
    "Просмотрите список и найдите неявные дубликаты названия `hiphop`. Это могут быть названия с ошибками или альтернативные названия того же жанра.\n",
    "\n",
    "Вы увидите следующие неявные дубликаты:\n",
    "* *hip*,\n",
    "* *hop*,\n",
    "* *hip-hop*.\n",
    "\n",
    "Чтобы очистить от них таблицу используйте метод `replace()` с двумя аргументами: списком строк-дубликатов (включащий *hip*, *hop* и *hip-hop*) и строкой с правильным значением. Вам нужно исправить колонку `genre` в таблице `df`: заменить каждое значение из списка дубликатов на верное. Вместо `hip`, `hop` и `hip-hop` в таблице должно быть значение `hiphop`:"
   ]
  },
  {
   "cell_type": "code",
   "execution_count": 15,
   "metadata": {
    "deletable": false,
    "id": "ErNDkmns_Zct"
   },
   "outputs": [
    {
     "data": {
      "text/html": [
       "<div>\n",
       "<style scoped>\n",
       "    .dataframe tbody tr th:only-of-type {\n",
       "        vertical-align: middle;\n",
       "    }\n",
       "\n",
       "    .dataframe tbody tr th {\n",
       "        vertical-align: top;\n",
       "    }\n",
       "\n",
       "    .dataframe thead th {\n",
       "        text-align: right;\n",
       "    }\n",
       "</style>\n",
       "<table border=\"1\" class=\"dataframe\">\n",
       "  <thead>\n",
       "    <tr style=\"text-align: right;\">\n",
       "      <th></th>\n",
       "      <th>user_id</th>\n",
       "      <th>track</th>\n",
       "      <th>artist</th>\n",
       "      <th>genre</th>\n",
       "      <th>city</th>\n",
       "      <th>time</th>\n",
       "      <th>day</th>\n",
       "    </tr>\n",
       "  </thead>\n",
       "  <tbody>\n",
       "    <tr>\n",
       "      <th>0</th>\n",
       "      <td>FFB692EC</td>\n",
       "      <td>Kamigata To Boots</td>\n",
       "      <td>The Mass Missile</td>\n",
       "      <td>rock</td>\n",
       "      <td>Saint-Petersburg</td>\n",
       "      <td>20:28:33</td>\n",
       "      <td>Wednesday</td>\n",
       "    </tr>\n",
       "    <tr>\n",
       "      <th>1</th>\n",
       "      <td>55204538</td>\n",
       "      <td>Delayed Because of Accident</td>\n",
       "      <td>Andreas Rönnberg</td>\n",
       "      <td>rock</td>\n",
       "      <td>Moscow</td>\n",
       "      <td>14:07:09</td>\n",
       "      <td>Friday</td>\n",
       "    </tr>\n",
       "    <tr>\n",
       "      <th>2</th>\n",
       "      <td>20EC38</td>\n",
       "      <td>Funiculì funiculà</td>\n",
       "      <td>Mario Lanza</td>\n",
       "      <td>pop</td>\n",
       "      <td>Saint-Petersburg</td>\n",
       "      <td>20:58:07</td>\n",
       "      <td>Wednesday</td>\n",
       "    </tr>\n",
       "    <tr>\n",
       "      <th>3</th>\n",
       "      <td>A3DD03C9</td>\n",
       "      <td>Dragons in the Sunset</td>\n",
       "      <td>Fire + Ice</td>\n",
       "      <td>folk</td>\n",
       "      <td>Saint-Petersburg</td>\n",
       "      <td>08:37:09</td>\n",
       "      <td>Monday</td>\n",
       "    </tr>\n",
       "    <tr>\n",
       "      <th>4</th>\n",
       "      <td>E2DC1FAE</td>\n",
       "      <td>Soul People</td>\n",
       "      <td>Space Echo</td>\n",
       "      <td>dance</td>\n",
       "      <td>Moscow</td>\n",
       "      <td>08:34:34</td>\n",
       "      <td>Monday</td>\n",
       "    </tr>\n",
       "  </tbody>\n",
       "</table>\n",
       "</div>"
      ],
      "text/plain": [
       "    user_id                        track            artist  genre  \\\n",
       "0  FFB692EC            Kamigata To Boots  The Mass Missile   rock   \n",
       "1  55204538  Delayed Because of Accident  Andreas Rönnberg   rock   \n",
       "2    20EC38            Funiculì funiculà       Mario Lanza    pop   \n",
       "3  A3DD03C9        Dragons in the Sunset        Fire + Ice   folk   \n",
       "4  E2DC1FAE                  Soul People        Space Echo  dance   \n",
       "\n",
       "               city      time        day  \n",
       "0  Saint-Petersburg  20:28:33  Wednesday  \n",
       "1            Moscow  14:07:09     Friday  \n",
       "2  Saint-Petersburg  20:58:07  Wednesday  \n",
       "3  Saint-Petersburg  08:37:09     Monday  \n",
       "4            Moscow  08:34:34     Monday  "
      ]
     },
     "execution_count": 15,
     "metadata": {},
     "output_type": "execute_result"
    }
   ],
   "source": [
    "df = df.replace(['hip', 'hop', 'hip-hop'], 'hiphop')\n",
    "df.head()\n",
    "\n",
    "\n",
    "# Устранение неявных дубликатов"
   ]
  },
  {
   "cell_type": "markdown",
   "metadata": {
    "deletable": false,
    "editable": false,
    "id": "zQKF16_RG15m",
    "tags": [
     "start_task"
    ]
   },
   "source": [
    "**Задание 17**\n",
    "\n",
    "Проверьте, что заменили неправильные названия:\n",
    "\n",
    "*   hip,\n",
    "*   hop,\n",
    "*   hip-hop.\n",
    "\n",
    "Выведите отсортированный список уникальных значений столбца `genre`:"
   ]
  },
  {
   "cell_type": "code",
   "execution_count": 16,
   "metadata": {
    "deletable": false,
    "id": "wvixALnFG15m"
   },
   "outputs": [
    {
     "data": {
      "text/plain": [
       "array(['acid', 'acoustic', 'action', 'adult', 'africa', 'afrikaans',\n",
       "       'alternative', 'alternativepunk', 'ambient', 'americana',\n",
       "       'animated', 'anime', 'arabesk', 'arabic', 'arena',\n",
       "       'argentinetango', 'art', 'audiobook', 'author', 'avantgarde',\n",
       "       'axé', 'baile', 'balkan', 'beats', 'bigroom', 'black', 'bluegrass',\n",
       "       'blues', 'bollywood', 'bossa', 'brazilian', 'breakbeat', 'breaks',\n",
       "       'broadway', 'cantautori', 'cantopop', 'canzone', 'caribbean',\n",
       "       'caucasian', 'celtic', 'chamber', 'chanson', 'children', 'chill',\n",
       "       'chinese', 'choral', 'christian', 'christmas', 'classical',\n",
       "       'classicmetal', 'club', 'colombian', 'comedy', 'conjazz',\n",
       "       'contemporary', 'country', 'cuban', 'dance', 'dancehall',\n",
       "       'dancepop', 'dark', 'death', 'deep', 'deutschrock', 'deutschspr',\n",
       "       'dirty', 'disco', 'dnb', 'documentary', 'downbeat', 'downtempo',\n",
       "       'drum', 'dub', 'dubstep', 'eastern', 'easy', 'electronic',\n",
       "       'electropop', 'emo', 'entehno', 'epicmetal', 'estrada', 'ethnic',\n",
       "       'eurofolk', 'european', 'experimental', 'extrememetal', 'fado',\n",
       "       'fairytail', 'film', 'fitness', 'flamenco', 'folk', 'folklore',\n",
       "       'folkmetal', 'folkrock', 'folktronica', 'forró', 'frankreich',\n",
       "       'französisch', 'french', 'funk', 'future', 'gangsta', 'garage',\n",
       "       'german', 'ghazal', 'gitarre', 'glitch', 'gospel', 'gothic',\n",
       "       'grime', 'grunge', 'gypsy', 'handsup', \"hard'n'heavy\", 'hardcore',\n",
       "       'hardstyle', 'hardtechno', 'hiphop', 'historisch', 'holiday',\n",
       "       'horror', 'house', 'hymn', 'idm', 'independent', 'indian', 'indie',\n",
       "       'indipop', 'industrial', 'inspirational', 'instrumental',\n",
       "       'international', 'irish', 'jam', 'japanese', 'jazz', 'jewish',\n",
       "       'jpop', 'jungle', 'k-pop', 'karadeniz', 'karaoke', 'kayokyoku',\n",
       "       'korean', 'laiko', 'latin', 'latino', 'leftfield', 'local',\n",
       "       'lounge', 'loungeelectronic', 'lovers', 'malaysian', 'mandopop',\n",
       "       'marschmusik', 'meditative', 'mediterranean', 'melodic', 'metal',\n",
       "       'metalcore', 'mexican', 'middle', 'minimal', 'miscellaneous',\n",
       "       'modern', 'mood', 'mpb', 'muslim', 'native', 'neoklassik', 'neue',\n",
       "       'new', 'newage', 'newwave', 'nu', 'nujazz', 'numetal', 'oceania',\n",
       "       'old', 'opera', 'orchestral', 'other', 'piano', 'podcasts', 'pop',\n",
       "       'popdance', 'popelectronic', 'popeurodance', 'poprussian', 'post',\n",
       "       'posthardcore', 'postrock', 'power', 'progmetal', 'progressive',\n",
       "       'psychedelic', 'punjabi', 'punk', 'quebecois', 'ragga', 'ram',\n",
       "       'rancheras', 'rap', 'rave', 'reggae', 'reggaeton', 'regional',\n",
       "       'relax', 'religious', 'retro', 'rhythm', 'rnb', 'rnr', 'rock',\n",
       "       'rockabilly', 'rockalternative', 'rockindie', 'rockother',\n",
       "       'romance', 'roots', 'ruspop', 'rusrap', 'rusrock', 'russian',\n",
       "       'salsa', 'samba', 'scenic', 'schlager', 'self', 'sertanejo',\n",
       "       'shanson', 'shoegazing', 'showtunes', 'singer', 'ska', 'skarock',\n",
       "       'slow', 'smooth', 'soft', 'soul', 'soulful', 'sound', 'soundtrack',\n",
       "       'southern', 'specialty', 'speech', 'spiritual', 'sport',\n",
       "       'stonerrock', 'surf', 'swing', 'synthpop', 'synthrock',\n",
       "       'sängerportrait', 'tango', 'tanzorchester', 'taraftar', 'tatar',\n",
       "       'tech', 'techno', 'teen', 'thrash', 'top', 'traditional',\n",
       "       'tradjazz', 'trance', 'tribal', 'trip', 'triphop', 'tropical',\n",
       "       'türk', 'türkçe', 'ukrrock', 'unknown', 'urban', 'uzbek',\n",
       "       'variété', 'vi', 'videogame', 'vocal', 'western', 'world',\n",
       "       'worldbeat', 'ïîï', 'электроника'], dtype=object)"
      ]
     },
     "execution_count": 16,
     "metadata": {},
     "output_type": "execute_result"
    }
   ],
   "source": [
    "df['genre'].sort_values().unique()# Проверка на неявные дубликаты"
   ]
  },
  {
   "cell_type": "markdown",
   "metadata": {
    "deletable": false,
    "editable": false,
    "id": "jz6a9-7HQUDd"
   },
   "source": [
    "**Выводы**\n",
    "\n",
    "Предобработка обнаружила три проблемы в данных:\n",
    "\n",
    "- нарушения в стиле заголовков,\n",
    "- пропущенные значения,\n",
    "- дубликаты — явные и неявные.\n",
    "\n",
    "Вы исправили заголовки, чтобы упростить работу с таблицей. Без дубликатов исследование станет более точным.\n",
    "\n",
    "Пропущенные значения вы заменили на `'unknown'`. Ещё предстоит увидеть, не повредят ли исследованию пропуски в колонке `genre`.\n",
    "\n",
    "Теперь можно перейти к проверке гипотез. "
   ]
  },
  {
   "cell_type": "markdown",
   "metadata": {
    "deletable": false,
    "editable": false,
    "id": "WttZHXH0SqKk"
   },
   "source": [
    "## Проверка гипотез"
   ]
  },
  {
   "cell_type": "markdown",
   "metadata": {
    "deletable": false,
    "editable": false,
    "id": "Im936VVi_Zcu"
   },
   "source": [
    "### Сравнение поведения пользователей двух столиц"
   ]
  },
  {
   "cell_type": "markdown",
   "metadata": {
    "deletable": false,
    "editable": false,
    "id": "nwt_MuaL_Zcu"
   },
   "source": [
    "Первая гипотеза утверждает, что пользователи по-разному слушают музыку в Москве и Санкт-Петербурге. Проверьте это предположение по данным о трёх днях недели — понедельнике, среде и пятнице. Для этого:\n",
    "\n",
    "* Разделите пользователей Москвы и Санкт-Петербурга.\n",
    "* Сравните, сколько треков послушала каждая группа пользователей в понедельник, среду и пятницу.\n"
   ]
  },
  {
   "cell_type": "markdown",
   "metadata": {
    "deletable": false,
    "editable": false,
    "id": "8Dw_YMmT_Zcu",
    "tags": [
     "start_task"
    ]
   },
   "source": [
    "**Задание 18**\n",
    "\n",
    "Для тренировки сначала выполните каждый из расчётов по отдельности. \n",
    "\n",
    "Оцените активность пользователей в каждом городе. Сгруппируйте данные по городу и посчитайте прослушивания в каждой группе.\n",
    "\n"
   ]
  },
  {
   "cell_type": "code",
   "execution_count": 17,
   "metadata": {
    "deletable": false,
    "id": "0_Qs96oh_Zcu"
   },
   "outputs": [
    {
     "data": {
      "text/plain": [
       "city\n",
       "Moscow              42741\n",
       "Saint-Petersburg    18512\n",
       "Name: genre, dtype: int64"
      ]
     },
     "execution_count": 17,
     "metadata": {},
     "output_type": "execute_result"
    }
   ],
   "source": [
    "df.groupby('city')['genre'].count()# Подсчёт прослушиваний в каждом городе\n",
    "\n",
    "\n"
   ]
  },
  {
   "cell_type": "markdown",
   "metadata": {
    "deletable": false,
    "editable": false,
    "id": "dzli3w8o_Zcu",
    "tags": [
     "start_task"
    ]
   },
   "source": [
    "В Москве прослушиваний больше, чем в Петербурге. Из этого не следует, что московские пользователи чаще слушают музыку. Просто самих пользователей в Москве больше.\n",
    "\n",
    "**Задание 19**\n",
    "\n",
    "Теперь сгруппируйте данные по дню недели и посчитайте прослушивания в понедельник, среду и пятницу. Учтите, что в данных есть информация о прослушиваниях только за эти дни.\n"
   ]
  },
  {
   "cell_type": "code",
   "execution_count": 18,
   "metadata": {
    "deletable": false,
    "id": "uZMKjiJz_Zcu"
   },
   "outputs": [
    {
     "data": {
      "text/plain": [
       "day\n",
       "Friday       21840\n",
       "Monday       21354\n",
       "Wednesday    18059\n",
       "Name: genre, dtype: int64"
      ]
     },
     "execution_count": 18,
     "metadata": {},
     "output_type": "execute_result"
    }
   ],
   "source": [
    "df.groupby('day')['genre'].count()# Подсчёт прослушиваний в каждый из трёх дней"
   ]
  },
  {
   "cell_type": "markdown",
   "metadata": {
    "deletable": false,
    "editable": false,
    "id": "cC2tNrlL_Zcu"
   },
   "source": [
    "В среднем пользователи из двух городов менее активны по средам. Но картина может измениться, если рассмотреть каждый город в отдельности."
   ]
  },
  {
   "cell_type": "markdown",
   "metadata": {
    "deletable": false,
    "editable": false,
    "id": "POzs8bGa_Zcu",
    "tags": [
     "start_task"
    ]
   },
   "source": [
    "**Задание 20**\n",
    "\n",
    "\n",
    "Вы видели, как работает группировка по городу и по дням недели. Теперь напишите функцию, которая объединит два эти расчёта.\n",
    "\n",
    "Создайте функцию `number_tracks()`, которая посчитает прослушивания для заданного дня и города. Ей понадобятся два параметра:\n",
    "* день недели,\n",
    "* название города.\n",
    "\n",
    "В функции сохраните в переменную строки исходной таблицы, у которых значение:\n",
    "  * в колонке `day` равно параметру `day`,\n",
    "  * в колонке `city` равно параметру `city`.\n",
    "\n",
    "Для этого примените последовательную фильтрацию с логической индексацией (или сложные логические выражения в одну строку, если вы уже знакомы с ними).\n",
    "\n",
    "Затем посчитайте значения в столбце `user_id` получившейся таблицы. Результат сохраните в новую переменную. Верните эту переменную из функции."
   ]
  },
  {
   "cell_type": "code",
   "execution_count": 19,
   "metadata": {
    "deletable": false,
    "id": "Nz3GdQB1_Zcu"
   },
   "outputs": [],
   "source": [
    "# <создание функции number_tracks()>\n",
    "# Объявляется функция с двумя параметрами: day, city.\n",
    "\n",
    "def number_tracks (day,city):\n",
    "   # for row in df:\n",
    "    track_list = df[df['day'] == day]\n",
    "    track_list = track_list[track_list['city'] == city]\n",
    "    track_list_count = track_list['user_id'].count()\n",
    "    return(track_list_count)      \n",
    "\n",
    "\n",
    "                                \n",
    "                                \n",
    "# В переменной track_list сохраняются те строки таблицы df, для которых \n",
    "# значение в столбце 'day' равно параметру day и одновременно значение\n",
    "# в столбце 'city' равно параметру city (используйте последовательную фильтрацию\n",
    "# с помощью логической индексации или сложные логические выражения в одну строку, если вы уже знакомы с ними).\n",
    "# В переменной track_list_count сохраняется число значений столбца 'user_id',\n",
    "# рассчитанное методом count() для таблицы track_list.\n",
    "# Функция возвращает число - значение track_list_count.\n",
    "\n",
    "# Функция для подсчёта прослушиваний для конкретного города и дня.\n",
    "# С помощью последовательной фильтрации с логической индексацией она \n",
    "# сначала получит из исходной таблицы строки с нужным днём,\n",
    "# затем из результата отфильтрует строки с нужным городом,\n",
    "# методом count() посчитает количество значений в колонке user_id. \n",
    "# Это количество функция вернёт в качестве результата"
   ]
  },
  {
   "cell_type": "markdown",
   "metadata": {
    "deletable": false,
    "editable": false,
    "id": "ytf7xFrFJQ2r",
    "tags": [
     "start_task"
    ]
   },
   "source": [
    "**Задание 21**\n",
    "\n",
    "Вызовите `number_tracks()` шесть раз, меняя значение параметров — так, чтобы получить данные для каждого города в каждый из трёх дней."
   ]
  },
  {
   "cell_type": "code",
   "execution_count": 20,
   "metadata": {
    "deletable": false,
    "id": "rJcRATNQ_Zcu"
   },
   "outputs": [
    {
     "data": {
      "text/plain": [
       "15740"
      ]
     },
     "execution_count": 20,
     "metadata": {},
     "output_type": "execute_result"
    }
   ],
   "source": [
    "number_tracks ('Monday','Moscow')# количество прослушиваний в Москве по понедельникам"
   ]
  },
  {
   "cell_type": "code",
   "execution_count": 21,
   "metadata": {
    "deletable": false,
    "id": "hq_ncZ5T_Zcu"
   },
   "outputs": [
    {
     "data": {
      "text/plain": [
       "5614"
      ]
     },
     "execution_count": 21,
     "metadata": {},
     "output_type": "execute_result"
    }
   ],
   "source": [
    "number_tracks ('Monday','Saint-Petersburg')# количество прослушиваний в Санкт-Петербурге по понедельникам"
   ]
  },
  {
   "cell_type": "code",
   "execution_count": 22,
   "metadata": {
    "deletable": false,
    "id": "_NTy2VPU_Zcu"
   },
   "outputs": [
    {
     "data": {
      "text/plain": [
       "11056"
      ]
     },
     "execution_count": 22,
     "metadata": {},
     "output_type": "execute_result"
    }
   ],
   "source": [
    "number_tracks ('Wednesday','Moscow')# количество прослушиваний в Москве по средам"
   ]
  },
  {
   "cell_type": "code",
   "execution_count": 23,
   "metadata": {
    "deletable": false,
    "id": "j2y3TAwo_Zcu"
   },
   "outputs": [
    {
     "data": {
      "text/plain": [
       "7003"
      ]
     },
     "execution_count": 23,
     "metadata": {},
     "output_type": "execute_result"
    }
   ],
   "source": [
    "number_tracks ('Wednesday','Saint-Petersburg')# количество прослушиваний в Санкт-Петербурге по средам"
   ]
  },
  {
   "cell_type": "code",
   "execution_count": 24,
   "metadata": {
    "deletable": false,
    "id": "vYDw5u_K_Zcu"
   },
   "outputs": [
    {
     "data": {
      "text/plain": [
       "15945"
      ]
     },
     "execution_count": 24,
     "metadata": {},
     "output_type": "execute_result"
    }
   ],
   "source": [
    "number_tracks ('Friday','Moscow')# количество прослушиваний в Москве по пятницам"
   ]
  },
  {
   "cell_type": "code",
   "execution_count": 25,
   "metadata": {
    "deletable": false,
    "id": "8_yzFtW3_Zcu"
   },
   "outputs": [
    {
     "data": {
      "text/plain": [
       "5895"
      ]
     },
     "execution_count": 25,
     "metadata": {},
     "output_type": "execute_result"
    }
   ],
   "source": [
    "number_tracks ('Friday','Saint-Petersburg')# количество прослушиваний в Санкт-Петербурге по пятницам"
   ]
  },
  {
   "cell_type": "markdown",
   "metadata": {
    "deletable": false,
    "editable": false,
    "id": "7QXffbO-_Zcu",
    "tags": [
     "start_task"
    ]
   },
   "source": [
    "**Задание 22**\n",
    "\n",
    "Создайте c помощью конструктора `pd.DataFrame` таблицу, где\n",
    "* названия колонок — `['city', 'monday', 'wednesday', 'friday']`;\n",
    "* данные — результаты, которые вы получили с помощью `number_tracks`."
   ]
  },
  {
   "cell_type": "code",
   "execution_count": 26,
   "metadata": {
    "deletable": false,
    "id": "APAcLpOr_Zcu"
   },
   "outputs": [],
   "source": [
    "data = [\n",
    "    ['Moscow', 15740, 11056, 5895],\n",
    "    ['Saint-Petersburg', 15740, 7003, 5895],\n",
    "]# Таблица с результатами\n",
    "columns = ['city', 'monday', 'wednesday', 'friday']\n",
    "info = pd.DataFrame(data=data, columns=columns)"
   ]
  },
  {
   "cell_type": "markdown",
   "metadata": {
    "deletable": false,
    "editable": false,
    "id": "-EgPIHYu_Zcu"
   },
   "source": [
    "**Выводы**\n",
    "\n",
    "Данные показывают разницу поведения пользователей:\n",
    "\n",
    "- В Москве пик прослушиваний приходится на понедельник и пятницу, а в среду заметен спад.\n",
    "- В Петербурге, наоборот, больше слушают музыку по средам. Активность в понедельник и пятницу здесь почти в равной мере уступает среде.\n",
    "\n",
    "Значит, данные говорят в пользу первой гипотезы."
   ]
  },
  {
   "cell_type": "markdown",
   "metadata": {
    "deletable": false,
    "editable": false,
    "id": "atZAxtq4_Zcu"
   },
   "source": [
    "### Музыка в начале и в конце недели"
   ]
  },
  {
   "cell_type": "markdown",
   "metadata": {
    "deletable": false,
    "editable": false,
    "id": "eXrQqXFH_Zcu"
   },
   "source": [
    "Согласно второй гипотезе, утром в понедельник в Москве преобладают одни жанры, а в Петербурге — другие. Так же и вечером пятницы преобладают разные жанры — в зависимости от города."
   ]
  },
  {
   "cell_type": "markdown",
   "metadata": {
    "deletable": false,
    "editable": false,
    "id": "S8UcW6Hw_Zcu",
    "tags": [
     "start_task"
    ]
   },
   "source": [
    "**Задание 23**\n",
    "\n",
    "Сохраните таблицы с данными в две переменные:\n",
    "* по Москве — в `moscow_general`;\n",
    "* по Санкт-Петербургу — в `spb_general`."
   ]
  },
  {
   "cell_type": "code",
   "execution_count": 27,
   "metadata": {
    "deletable": false,
    "id": "qeaFfM_P_Zcu"
   },
   "outputs": [],
   "source": [
    "moscow_general = df[df['city'] == 'Moscow']# получение таблицы moscow_general из тех строк таблицы df, \n",
    "# для которых значение в столбце 'city' равно 'Moscow'\n"
   ]
  },
  {
   "cell_type": "code",
   "execution_count": 28,
   "metadata": {
    "deletable": false,
    "id": "ORaVRKto_Zcu"
   },
   "outputs": [],
   "source": [
    "spb_general = df[df['city'] == 'Saint-Petersburg']# получение таблицы spb_general из тех строк таблицы df,\n",
    "# для которых значение в столбце 'city' равно 'Saint-Petersburg'\n"
   ]
  },
  {
   "cell_type": "markdown",
   "metadata": {
    "deletable": false,
    "editable": false,
    "id": "MEJV-CX2_Zcu",
    "tags": [
     "start_task"
    ]
   },
   "source": [
    "**Задание 24**\n",
    "\n",
    "Создайте функцию `genre_weekday()` с четырьмя параметрами:\n",
    "* таблица (датафрейм) с данными,\n",
    "* день недели,\n",
    "* начальная временная метка в формате 'hh:mm', \n",
    "* последняя временная метка в формате 'hh:mm'.\n",
    "\n",
    "Функция должна вернуть информацию о топ-10 жанров тех треков, которые прослушивали в указанный день, в промежутке между двумя отметками времени."
   ]
  },
  {
   "cell_type": "code",
   "execution_count": 29,
   "metadata": {
    "deletable": false,
    "id": "laJT9BYl_Zcu"
   },
   "outputs": [],
   "source": [
    "def genre_weekday(df, day, time1, time2):\n",
    "    # последовательная фильтрация\n",
    "    # оставляем в genre_df только те строки df, у которых день равен day\n",
    "    genre_df = df[df['day'] == day]# ваш код здесь\n",
    "    # оставляем в genre_df только те строки genre_df, у которых время меньше time2\n",
    "    genre_df = genre_df[genre_df['time'] < time2]# ваш код здесь\n",
    "    # оставляем в genre_df только те строки genre_df, у которых время больше time1\n",
    "    genre_df = genre_df[genre_df['time'] > time1]# ваш код здесь\n",
    "    # сгруппируем отфильтрованный датафрейм по столбцу с названиями жанров, возьмём столбец genre и посчитаем кол-во строк для каждого жанра методом count()\n",
    "    genre_df_grouped = genre_df.groupby('genre')['genre'].count()# ваш код здесь\n",
    "    # отсортируем результат по убыванию (чтобы в начале Series оказались самые популярные жанры)\n",
    "    genre_df_sorted = genre_df_grouped.sort_values(ascending = False)# ваш код здесь\n",
    "    # вернём Series с 10 самыми популярными жанрами в указанный отрезок времени заданного дня\n",
    "    return genre_df_sorted[:10]"
   ]
  },
  {
   "cell_type": "markdown",
   "metadata": {
    "deletable": false,
    "editable": false,
    "id": "la2s2_PF_Zcu",
    "tags": [
     "start_task"
    ]
   },
   "source": [
    "**Задание 25**\n",
    "\n",
    "\n",
    "Cравните результаты функции `genre_weekday()` для Москвы и Санкт-Петербурга в понедельник утром (с 7:00 до 11:00) и в пятницу вечером (с 17:00 до 23:00):"
   ]
  },
  {
   "cell_type": "code",
   "execution_count": 30,
   "metadata": {
    "deletable": false,
    "id": "yz7itPUQ_Zcu"
   },
   "outputs": [
    {
     "data": {
      "text/plain": [
       "genre\n",
       "pop            781\n",
       "dance          549\n",
       "electronic     480\n",
       "rock           474\n",
       "hiphop         286\n",
       "ruspop         186\n",
       "world          181\n",
       "rusrap         175\n",
       "alternative    164\n",
       "unknown        161\n",
       "Name: genre, dtype: int64"
      ]
     },
     "execution_count": 30,
     "metadata": {},
     "output_type": "execute_result"
    }
   ],
   "source": [
    "genre_weekday(moscow_general, 'Monday', '07:00', '11:00')   # вызов функции для утра понедельника в Москве "
   ]
  },
  {
   "cell_type": "code",
   "execution_count": 31,
   "metadata": {
    "deletable": false,
    "id": "kwUcHPdy_Zcu"
   },
   "outputs": [
    {
     "data": {
      "text/plain": [
       "genre\n",
       "pop            218\n",
       "dance          182\n",
       "rock           162\n",
       "electronic     147\n",
       "hiphop          80\n",
       "ruspop          64\n",
       "alternative     58\n",
       "rusrap          55\n",
       "jazz            44\n",
       "classical       40\n",
       "Name: genre, dtype: int64"
      ]
     },
     "execution_count": 31,
     "metadata": {},
     "output_type": "execute_result"
    }
   ],
   "source": [
    "genre_weekday(spb_general, 'Monday', '07:00', '11:00')  # вызов функции для утра понедельника в Петербурге"
   ]
  },
  {
   "cell_type": "code",
   "execution_count": 32,
   "metadata": {
    "deletable": false,
    "id": "EzXVRE1o_Zcu"
   },
   "outputs": [
    {
     "data": {
      "text/plain": [
       "genre\n",
       "pop            713\n",
       "rock           517\n",
       "dance          495\n",
       "electronic     482\n",
       "hiphop         273\n",
       "world          208\n",
       "ruspop         170\n",
       "alternative    163\n",
       "classical      163\n",
       "rusrap         142\n",
       "Name: genre, dtype: int64"
      ]
     },
     "execution_count": 32,
     "metadata": {},
     "output_type": "execute_result"
    }
   ],
   "source": [
    "genre_weekday(moscow_general, 'Friday', '17:00', '23:00') # вызов функции для вечера пятницы в Москве"
   ]
  },
  {
   "cell_type": "code",
   "execution_count": 33,
   "metadata": {
    "deletable": false,
    "id": "JZaEKu5v_Zcu"
   },
   "outputs": [
    {
     "data": {
      "text/plain": [
       "genre\n",
       "pop            256\n",
       "electronic     216\n",
       "rock           216\n",
       "dance          210\n",
       "hiphop          97\n",
       "alternative     63\n",
       "jazz            61\n",
       "classical       60\n",
       "rusrap          59\n",
       "world           54\n",
       "Name: genre, dtype: int64"
      ]
     },
     "execution_count": 33,
     "metadata": {},
     "output_type": "execute_result"
    }
   ],
   "source": [
    "genre_weekday(spb_general, 'Friday', '17:00', '23:00')# вызов функции для вечера пятницы в Петербурге"
   ]
  },
  {
   "cell_type": "markdown",
   "metadata": {
    "deletable": false,
    "editable": false,
    "id": "wrCe4MNX_Zcu"
   },
   "source": [
    "**Выводы**\n",
    "\n",
    "Если сравнить топ-10 жанров в понедельник утром, можно сделать такие выводы:\n",
    "\n",
    "1. В Москве и Петербурге слушают похожую музыку. Единственное отличие — в московский рейтинг вошёл жанр “world”, а в петербургский — джаз и классика.\n",
    "\n",
    "2. В Москве пропущенных значений оказалось так много, что значение `'unknown'` заняло десятое место среди самых популярных жанров. Значит, пропущенные значения занимают существенную долю в данных и угрожают достоверности исследования.\n",
    "\n",
    "Вечер пятницы не меняет эту картину. Некоторые жанры поднимаются немного выше, другие спускаются, но в целом топ-10 остаётся тем же самым.\n",
    "\n",
    "Таким образом, вторая гипотеза подтвердилась лишь частично:\n",
    "* Пользователи слушают похожую музыку в начале недели и в конце.\n",
    "* Разница между Москвой и Петербургом не слишком выражена. В Москве чаще слушают русскую популярную музыку, в Петербурге — джаз.\n",
    "\n",
    "Однако пропуски в данных ставят под сомнение этот результат. В Москве их так много, что рейтинг топ-10 мог бы выглядеть иначе, если бы не утерянные  данные о жанрах."
   ]
  },
  {
   "cell_type": "markdown",
   "metadata": {
    "deletable": false,
    "editable": false,
    "id": "JolODAqr_Zcu"
   },
   "source": [
    "### Жанровые предпочтения в Москве и Петербурге\n",
    "\n",
    "Гипотеза: Петербург — столица рэпа, музыку этого жанра там слушают чаще, чем в Москве.  А Москва — город контрастов, в котором, тем не менее, преобладает поп-музыка."
   ]
  },
  {
   "cell_type": "markdown",
   "metadata": {
    "deletable": false,
    "editable": false,
    "id": "DlegSvaT_Zcu",
    "tags": [
     "start_task"
    ]
   },
   "source": [
    "**Задание 26**\n",
    "\n",
    "Сгруппируйте таблицу `moscow_general` по жанру и посчитайте прослушивания треков каждого жанра методом `count()`. Затем отсортируйте результат в порядке убывания и сохраните его в таблице `moscow_genres`."
   ]
  },
  {
   "cell_type": "code",
   "execution_count": 34,
   "metadata": {
    "deletable": false,
    "id": "r19lIPke_Zcu"
   },
   "outputs": [],
   "source": [
    "moscow_genres = moscow_general.groupby('genre')['genre'].count().sort_values(ascending = False)"
   ]
  },
  {
   "cell_type": "markdown",
   "metadata": {
    "deletable": false,
    "editable": false,
    "id": "6kMuomxTiIr8",
    "tags": [
     "start_task"
    ]
   },
   "source": [
    "**Задание 27**\n",
    "\n",
    "Выведите на экран первые десять строк `moscow_genres`:"
   ]
  },
  {
   "cell_type": "code",
   "execution_count": 35,
   "metadata": {
    "deletable": false,
    "id": "WhCSooF8_Zcv"
   },
   "outputs": [
    {
     "data": {
      "text/plain": [
       "genre\n",
       "pop            5892\n",
       "dance          4435\n",
       "rock           3965\n",
       "electronic     3786\n",
       "hiphop         2096\n",
       "classical      1616\n",
       "world          1432\n",
       "alternative    1379\n",
       "ruspop         1372\n",
       "rusrap         1161\n",
       "Name: genre, dtype: int64"
      ]
     },
     "execution_count": 35,
     "metadata": {},
     "output_type": "execute_result"
    }
   ],
   "source": [
    "moscow_genres.head(10) # просмотр первых 10 строк moscow_genres"
   ]
  },
  {
   "cell_type": "markdown",
   "metadata": {
    "deletable": false,
    "editable": false,
    "id": "cnPG2vnN_Zcv",
    "tags": [
     "start_task"
    ]
   },
   "source": [
    "**Задание 28**\n",
    "\n",
    "\n",
    "Теперь повторите то же и для Петербурга.\n",
    "\n",
    "Сгруппируйте таблицу `spb_general` по жанру. Посчитайте прослушивания треков каждого жанра. Результат отсортируйте в порядке убывания и сохраните в таблице `spb_genres`:\n"
   ]
  },
  {
   "cell_type": "code",
   "execution_count": 36,
   "metadata": {
    "deletable": false,
    "id": "gluLIpE7_Zcv"
   },
   "outputs": [],
   "source": [
    "spb_genres = spb_general.groupby('genre')['genre'].count().sort_values(ascending = False)"
   ]
  },
  {
   "cell_type": "markdown",
   "metadata": {
    "deletable": false,
    "editable": false,
    "id": "5Doha_ODgyQ8",
    "tags": [
     "start_task"
    ]
   },
   "source": [
    "**Задание 29**\n",
    "\n",
    "Выведите на экран первые десять строк `spb_genres`:"
   ]
  },
  {
   "cell_type": "code",
   "execution_count": 37,
   "metadata": {
    "deletable": false,
    "id": "uaGJHjVU_Zcv"
   },
   "outputs": [
    {
     "data": {
      "text/plain": [
       "genre\n",
       "pop            2431\n",
       "dance          1932\n",
       "rock           1879\n",
       "electronic     1736\n",
       "hiphop          960\n",
       "alternative     649\n",
       "classical       646\n",
       "rusrap          564\n",
       "ruspop          538\n",
       "world           515\n",
       "Name: genre, dtype: int64"
      ]
     },
     "execution_count": 37,
     "metadata": {},
     "output_type": "execute_result"
    }
   ],
   "source": [
    "spb_genres.head(10) "
   ]
  },
  {
   "cell_type": "markdown",
   "metadata": {
    "deletable": false,
    "editable": false,
    "id": "RY51YJYu_Zcv"
   },
   "source": [
    "**Выводы**"
   ]
  },
  {
   "cell_type": "markdown",
   "metadata": {
    "deletable": false,
    "editable": false,
    "id": "nVhnJEm__Zcv"
   },
   "source": [
    "Гипотеза частично подтвердилась:\n",
    "* Поп-музыка — самый популярный жанр в Москве, как и предполагала гипотеза. Более того, в топ-10 жанров встречается близкий жанр — русская популярная музыка.\n",
    "* Вопреки ожиданиям, рэп одинаково популярен в Москве и Петербурге. \n"
   ]
  },
  {
   "cell_type": "markdown",
   "metadata": {
    "deletable": false,
    "editable": false,
    "id": "ykKQ0N65_Zcv"
   },
   "source": [
    "## Итоги исследования"
   ]
  },
  {
   "cell_type": "markdown",
   "metadata": {
    "deletable": false,
    "editable": false,
    "id": "tjUwbHb3_Zcv"
   },
   "source": [
    "Вы проверили три гипотезы и установили:\n",
    "\n",
    "1. День недели по-разному влияет на активность пользователей в Москве и Петербурге. \n",
    "\n",
    "Первая гипотеза полностью подтвердилась.\n",
    "\n",
    "2. Музыкальные предпочтения не сильно меняются в течение недели — будь то Москва или Петербург. Небольшие различия заметны в начале недели, по понедельникам:\n",
    "* в Москве слушают музыку жанра “world”,\n",
    "* в Петербурге — джаз и классику.\n",
    "\n",
    "Таким образом, вторая гипотеза подтвердилась лишь отчасти. Этот результат мог оказаться иным, если бы не пропуски в данных.\n",
    "\n",
    "3. Во вкусах пользователей Москвы и Петербурга больше общего чем различий. Вопреки ожиданиям, предпочтения жанров в Петербурге напоминают московские.\n",
    "\n",
    "Третья гипотеза не подтвердилась. Если различия в предпочтениях и существуют, на основной массе пользователей они незаметны.\n",
    "\n",
    "**На практике исследования содержат проверки статистических гипотез.**\n",
    "Из данных одного сервиса не всегда можно сделать вывод о всех жителях города.\n",
    "Проверки статистических гипотез покажут, насколько они достоверны, исходя из имеющихся данных. \n",
    "С методами проверок гипотез вы ещё познакомитесь в следующих темах."
   ]
  }
 ],
 "metadata": {
  "ExecuteTimeLog": [
   {
    "duration": 441,
    "start_time": "2022-11-04T07:04:57.376Z"
   },
   {
    "duration": 75,
    "start_time": "2022-11-04T07:06:01.761Z"
   },
   {
    "duration": 98,
    "start_time": "2022-11-04T07:06:20.056Z"
   },
   {
    "duration": 72,
    "start_time": "2022-11-04T07:08:13.795Z"
   },
   {
    "duration": 70,
    "start_time": "2022-11-04T07:09:38.985Z"
   },
   {
    "duration": 105,
    "start_time": "2022-11-04T07:09:50.829Z"
   },
   {
    "duration": 59,
    "start_time": "2022-11-04T07:10:30.303Z"
   },
   {
    "duration": 170,
    "start_time": "2022-11-04T07:20:31.125Z"
   },
   {
    "duration": 17,
    "start_time": "2022-11-04T07:20:48.186Z"
   },
   {
    "duration": 27,
    "start_time": "2022-11-04T07:21:23.114Z"
   },
   {
    "duration": 9,
    "start_time": "2022-11-04T07:21:46.815Z"
   },
   {
    "duration": 97,
    "start_time": "2022-11-04T07:23:49.954Z"
   },
   {
    "duration": 5,
    "start_time": "2022-11-04T07:24:13.615Z"
   },
   {
    "duration": 3,
    "start_time": "2022-11-04T07:24:25.556Z"
   },
   {
    "duration": 8,
    "start_time": "2022-11-04T07:25:23.288Z"
   },
   {
    "duration": 4,
    "start_time": "2022-11-04T07:25:40.144Z"
   },
   {
    "duration": 12,
    "start_time": "2022-11-04T07:28:58.403Z"
   },
   {
    "duration": 4,
    "start_time": "2022-11-04T07:29:10.204Z"
   },
   {
    "duration": 23,
    "start_time": "2022-11-04T07:30:17.870Z"
   },
   {
    "duration": 8,
    "start_time": "2022-11-04T07:33:43.154Z"
   },
   {
    "duration": 8,
    "start_time": "2022-11-04T07:35:57.786Z"
   },
   {
    "duration": 74,
    "start_time": "2022-11-04T07:39:01.189Z"
   },
   {
    "duration": 11,
    "start_time": "2022-11-04T07:39:06.725Z"
   },
   {
    "duration": 8,
    "start_time": "2022-11-04T07:39:26.029Z"
   },
   {
    "duration": 8,
    "start_time": "2022-11-04T07:39:46.517Z"
   },
   {
    "duration": 3,
    "start_time": "2022-11-04T07:41:11.233Z"
   },
   {
    "duration": 23,
    "start_time": "2022-11-04T07:41:38.562Z"
   },
   {
    "duration": 3,
    "start_time": "2022-11-04T07:42:17.807Z"
   },
   {
    "duration": 77,
    "start_time": "2022-11-04T07:42:26.182Z"
   },
   {
    "duration": 74,
    "start_time": "2022-11-04T07:42:40.592Z"
   },
   {
    "duration": 3,
    "start_time": "2022-11-04T07:43:04.942Z"
   },
   {
    "duration": 36,
    "start_time": "2022-11-04T07:43:07.872Z"
   },
   {
    "duration": 8,
    "start_time": "2022-11-04T07:46:53.468Z"
   },
   {
    "duration": 7,
    "start_time": "2022-11-04T07:47:24.381Z"
   },
   {
    "duration": 38,
    "start_time": "2022-11-04T07:49:15.858Z"
   },
   {
    "duration": 37,
    "start_time": "2022-11-04T07:49:18.212Z"
   },
   {
    "duration": 70,
    "start_time": "2022-11-04T07:50:35.795Z"
   },
   {
    "duration": 90,
    "start_time": "2022-11-04T07:50:52.678Z"
   },
   {
    "duration": 12,
    "start_time": "2022-11-04T07:51:46.417Z"
   },
   {
    "duration": 74,
    "start_time": "2022-11-04T07:52:00.117Z"
   },
   {
    "duration": 62,
    "start_time": "2022-11-04T07:52:55.297Z"
   },
   {
    "duration": 11,
    "start_time": "2022-11-04T07:55:59.529Z"
   },
   {
    "duration": 6,
    "start_time": "2022-11-04T07:56:18.435Z"
   },
   {
    "duration": 34,
    "start_time": "2022-11-04T08:01:35.983Z"
   },
   {
    "duration": 10,
    "start_time": "2022-11-04T08:15:41.452Z"
   },
   {
    "duration": 32,
    "start_time": "2022-11-04T08:17:03.458Z"
   },
   {
    "duration": 11,
    "start_time": "2022-11-04T08:23:09.304Z"
   },
   {
    "duration": 31,
    "start_time": "2022-11-04T08:24:40.871Z"
   },
   {
    "duration": 9,
    "start_time": "2022-11-04T08:24:50.757Z"
   },
   {
    "duration": 1115,
    "start_time": "2022-11-04T08:24:55.938Z"
   },
   {
    "duration": 35,
    "start_time": "2022-11-04T08:27:07.742Z"
   },
   {
    "duration": 39,
    "start_time": "2022-11-04T08:27:14.411Z"
   },
   {
    "duration": 1169,
    "start_time": "2022-11-04T08:30:28.631Z"
   },
   {
    "duration": 1267,
    "start_time": "2022-11-04T08:31:17.175Z"
   },
   {
    "duration": 1083,
    "start_time": "2022-11-04T08:32:48.892Z"
   },
   {
    "duration": 8,
    "start_time": "2022-11-04T08:34:11.519Z"
   },
   {
    "duration": 6,
    "start_time": "2022-11-04T08:34:23.047Z"
   },
   {
    "duration": 370,
    "start_time": "2022-11-04T08:35:05.886Z"
   },
   {
    "duration": 1161,
    "start_time": "2022-11-04T08:35:36.281Z"
   },
   {
    "duration": 7,
    "start_time": "2022-11-04T08:35:53.284Z"
   },
   {
    "duration": 7,
    "start_time": "2022-11-04T08:35:58.890Z"
   },
   {
    "duration": 1177,
    "start_time": "2022-11-04T08:37:30.866Z"
   },
   {
    "duration": 1102,
    "start_time": "2022-11-04T08:41:44.934Z"
   },
   {
    "duration": 3,
    "start_time": "2022-11-04T08:43:47.968Z"
   },
   {
    "duration": 164,
    "start_time": "2022-11-04T08:43:47.973Z"
   },
   {
    "duration": 9,
    "start_time": "2022-11-04T08:43:48.139Z"
   },
   {
    "duration": 27,
    "start_time": "2022-11-04T08:43:48.150Z"
   },
   {
    "duration": 4,
    "start_time": "2022-11-04T08:43:48.192Z"
   },
   {
    "duration": 8,
    "start_time": "2022-11-04T08:43:48.198Z"
   },
   {
    "duration": 18,
    "start_time": "2022-11-04T08:43:48.208Z"
   },
   {
    "duration": 6,
    "start_time": "2022-11-04T08:43:48.228Z"
   },
   {
    "duration": 26,
    "start_time": "2022-11-04T08:43:48.236Z"
   },
   {
    "duration": 54,
    "start_time": "2022-11-04T08:43:48.263Z"
   },
   {
    "duration": 22,
    "start_time": "2022-11-04T08:43:48.318Z"
   },
   {
    "duration": 73,
    "start_time": "2022-11-04T08:43:48.342Z"
   },
   {
    "duration": 77,
    "start_time": "2022-11-04T08:43:48.417Z"
   },
   {
    "duration": 63,
    "start_time": "2022-11-04T08:43:48.497Z"
   },
   {
    "duration": 47,
    "start_time": "2022-11-04T08:43:48.562Z"
   },
   {
    "duration": 11,
    "start_time": "2022-11-04T08:43:48.611Z"
   },
   {
    "duration": 34,
    "start_time": "2022-11-04T08:43:48.624Z"
   },
   {
    "duration": 2,
    "start_time": "2022-11-04T08:43:48.660Z"
   },
   {
    "duration": 27,
    "start_time": "2022-11-04T08:43:48.664Z"
   },
   {
    "duration": 7,
    "start_time": "2022-11-04T08:43:48.693Z"
   },
   {
    "duration": 6,
    "start_time": "2022-11-04T08:43:48.702Z"
   },
   {
    "duration": 4,
    "start_time": "2022-11-04T08:43:48.710Z"
   },
   {
    "duration": 6,
    "start_time": "2022-11-04T08:43:48.716Z"
   },
   {
    "duration": 3,
    "start_time": "2022-11-04T08:43:48.724Z"
   },
   {
    "duration": 5,
    "start_time": "2022-11-04T08:43:48.729Z"
   },
   {
    "duration": 4,
    "start_time": "2022-11-04T08:43:48.735Z"
   },
   {
    "duration": 3,
    "start_time": "2022-11-04T08:43:48.741Z"
   },
   {
    "duration": 7,
    "start_time": "2022-11-04T08:43:48.746Z"
   },
   {
    "duration": 4,
    "start_time": "2022-11-04T08:43:48.754Z"
   },
   {
    "duration": 70,
    "start_time": "2022-11-04T08:43:48.760Z"
   },
   {
    "duration": 0,
    "start_time": "2022-11-04T08:43:48.832Z"
   },
   {
    "duration": 0,
    "start_time": "2022-11-04T08:43:48.833Z"
   },
   {
    "duration": 0,
    "start_time": "2022-11-04T08:43:48.835Z"
   },
   {
    "duration": 0,
    "start_time": "2022-11-04T08:43:48.837Z"
   },
   {
    "duration": 0,
    "start_time": "2022-11-04T08:43:48.838Z"
   },
   {
    "duration": 0,
    "start_time": "2022-11-04T08:43:48.840Z"
   },
   {
    "duration": 0,
    "start_time": "2022-11-04T08:43:48.841Z"
   },
   {
    "duration": 0,
    "start_time": "2022-11-04T08:43:48.842Z"
   },
   {
    "duration": 1102,
    "start_time": "2022-11-04T08:44:02.575Z"
   },
   {
    "duration": 1183,
    "start_time": "2022-11-04T08:50:36.870Z"
   },
   {
    "duration": 348,
    "start_time": "2022-11-04T08:50:54.678Z"
   },
   {
    "duration": 316,
    "start_time": "2022-11-04T08:51:15.390Z"
   },
   {
    "duration": 5,
    "start_time": "2022-11-04T08:51:21.914Z"
   },
   {
    "duration": 55,
    "start_time": "2022-11-04T08:52:18.864Z"
   },
   {
    "duration": 62,
    "start_time": "2022-11-04T08:52:24.479Z"
   },
   {
    "duration": 53,
    "start_time": "2022-11-04T08:52:41.205Z"
   },
   {
    "duration": 5,
    "start_time": "2022-11-04T08:53:25.975Z"
   },
   {
    "duration": 9,
    "start_time": "2022-11-04T08:54:10.320Z"
   },
   {
    "duration": 4,
    "start_time": "2022-11-04T08:54:17.413Z"
   },
   {
    "duration": 187,
    "start_time": "2022-11-04T08:54:20.728Z"
   },
   {
    "duration": 9,
    "start_time": "2022-11-04T08:54:24.177Z"
   },
   {
    "duration": 29,
    "start_time": "2022-11-04T08:54:28.617Z"
   },
   {
    "duration": 3,
    "start_time": "2022-11-04T08:54:36.730Z"
   },
   {
    "duration": 4,
    "start_time": "2022-11-04T08:54:40.883Z"
   },
   {
    "duration": 12,
    "start_time": "2022-11-04T08:54:44.627Z"
   },
   {
    "duration": 4,
    "start_time": "2022-11-04T08:54:48.043Z"
   },
   {
    "duration": 24,
    "start_time": "2022-11-04T08:54:53.768Z"
   },
   {
    "duration": 33,
    "start_time": "2022-11-04T08:55:13.251Z"
   },
   {
    "duration": 42,
    "start_time": "2022-11-04T08:55:15.686Z"
   },
   {
    "duration": 24,
    "start_time": "2022-11-04T08:55:17.445Z"
   },
   {
    "duration": 64,
    "start_time": "2022-11-04T08:55:27.320Z"
   },
   {
    "duration": 57,
    "start_time": "2022-11-04T08:55:33.243Z"
   },
   {
    "duration": 60,
    "start_time": "2022-11-04T08:55:58.309Z"
   },
   {
    "duration": 60,
    "start_time": "2022-11-04T08:56:00.086Z"
   },
   {
    "duration": 62,
    "start_time": "2022-11-04T08:56:07.172Z"
   },
   {
    "duration": 11,
    "start_time": "2022-11-04T08:56:15.776Z"
   },
   {
    "duration": 50,
    "start_time": "2022-11-04T09:00:25.137Z"
   },
   {
    "duration": 50,
    "start_time": "2022-11-04T09:00:30.536Z"
   },
   {
    "duration": 1195,
    "start_time": "2022-11-04T09:01:35.656Z"
   },
   {
    "duration": 1202,
    "start_time": "2022-11-04T09:20:33.830Z"
   },
   {
    "duration": 1233,
    "start_time": "2022-11-04T09:20:43.421Z"
   },
   {
    "duration": 1645,
    "start_time": "2022-11-04T09:20:52.468Z"
   },
   {
    "duration": 1153,
    "start_time": "2022-11-04T09:21:23.244Z"
   },
   {
    "duration": 1554,
    "start_time": "2022-11-04T09:21:46.134Z"
   },
   {
    "duration": 72,
    "start_time": "2022-11-04T09:24:19.997Z"
   },
   {
    "duration": 1154,
    "start_time": "2022-11-04T09:24:27.004Z"
   },
   {
    "duration": 9,
    "start_time": "2022-11-04T09:24:46.728Z"
   },
   {
    "duration": 6,
    "start_time": "2022-11-04T09:25:37.214Z"
   },
   {
    "duration": 9,
    "start_time": "2022-11-04T09:26:19.841Z"
   },
   {
    "duration": 10,
    "start_time": "2022-11-04T09:26:53.634Z"
   },
   {
    "duration": 3,
    "start_time": "2022-11-04T09:27:05.701Z"
   },
   {
    "duration": 171,
    "start_time": "2022-11-04T09:27:05.708Z"
   },
   {
    "duration": 18,
    "start_time": "2022-11-04T09:27:05.881Z"
   },
   {
    "duration": 29,
    "start_time": "2022-11-04T09:27:05.901Z"
   },
   {
    "duration": 4,
    "start_time": "2022-11-04T09:27:05.931Z"
   },
   {
    "duration": 17,
    "start_time": "2022-11-04T09:27:05.937Z"
   },
   {
    "duration": 12,
    "start_time": "2022-11-04T09:27:05.955Z"
   },
   {
    "duration": 5,
    "start_time": "2022-11-04T09:27:05.990Z"
   },
   {
    "duration": 37,
    "start_time": "2022-11-04T09:27:05.997Z"
   },
   {
    "duration": 63,
    "start_time": "2022-11-04T09:27:06.036Z"
   },
   {
    "duration": 15,
    "start_time": "2022-11-04T09:27:06.102Z"
   },
   {
    "duration": 81,
    "start_time": "2022-11-04T09:27:06.119Z"
   },
   {
    "duration": 61,
    "start_time": "2022-11-04T09:27:06.202Z"
   },
   {
    "duration": 74,
    "start_time": "2022-11-04T09:27:06.264Z"
   },
   {
    "duration": 13,
    "start_time": "2022-11-04T09:27:06.341Z"
   },
   {
    "duration": 11,
    "start_time": "2022-11-04T09:27:06.356Z"
   },
   {
    "duration": 46,
    "start_time": "2022-11-04T09:27:06.369Z"
   },
   {
    "duration": 3,
    "start_time": "2022-11-04T09:27:06.417Z"
   },
   {
    "duration": 4,
    "start_time": "2022-11-04T09:27:06.422Z"
   },
   {
    "duration": 5,
    "start_time": "2022-11-04T09:27:06.427Z"
   },
   {
    "duration": 6,
    "start_time": "2022-11-04T09:27:06.434Z"
   },
   {
    "duration": 4,
    "start_time": "2022-11-04T09:27:06.441Z"
   },
   {
    "duration": 4,
    "start_time": "2022-11-04T09:27:06.446Z"
   },
   {
    "duration": 6,
    "start_time": "2022-11-04T09:27:06.452Z"
   },
   {
    "duration": 7,
    "start_time": "2022-11-04T09:27:06.460Z"
   },
   {
    "duration": 4,
    "start_time": "2022-11-04T09:27:06.492Z"
   },
   {
    "duration": 5,
    "start_time": "2022-11-04T09:27:06.498Z"
   },
   {
    "duration": 4,
    "start_time": "2022-11-04T09:27:06.505Z"
   },
   {
    "duration": 5,
    "start_time": "2022-11-04T09:27:06.510Z"
   },
   {
    "duration": 108,
    "start_time": "2022-11-04T09:27:06.517Z"
   },
   {
    "duration": 0,
    "start_time": "2022-11-04T09:27:06.627Z"
   },
   {
    "duration": 0,
    "start_time": "2022-11-04T09:27:06.629Z"
   },
   {
    "duration": 0,
    "start_time": "2022-11-04T09:27:06.630Z"
   },
   {
    "duration": 0,
    "start_time": "2022-11-04T09:27:06.631Z"
   },
   {
    "duration": 0,
    "start_time": "2022-11-04T09:27:06.633Z"
   },
   {
    "duration": 0,
    "start_time": "2022-11-04T09:27:06.634Z"
   },
   {
    "duration": 0,
    "start_time": "2022-11-04T09:27:06.635Z"
   },
   {
    "duration": 0,
    "start_time": "2022-11-04T09:27:06.637Z"
   },
   {
    "duration": 4,
    "start_time": "2022-11-04T09:28:05.949Z"
   },
   {
    "duration": 52,
    "start_time": "2022-11-04T09:28:09.146Z"
   },
   {
    "duration": 50,
    "start_time": "2022-11-04T09:28:12.335Z"
   },
   {
    "duration": 70,
    "start_time": "2022-11-04T09:28:14.427Z"
   },
   {
    "duration": 1140,
    "start_time": "2022-11-04T09:28:30.731Z"
   },
   {
    "duration": 8,
    "start_time": "2022-11-04T09:28:55.289Z"
   },
   {
    "duration": 308,
    "start_time": "2022-11-04T09:29:18.541Z"
   },
   {
    "duration": 6,
    "start_time": "2022-11-04T09:29:27.363Z"
   },
   {
    "duration": 7,
    "start_time": "2022-11-04T09:29:58.355Z"
   },
   {
    "duration": 6,
    "start_time": "2022-11-04T09:30:12.917Z"
   },
   {
    "duration": 4,
    "start_time": "2022-11-04T09:30:36.511Z"
   },
   {
    "duration": 4,
    "start_time": "2022-11-04T09:30:39.010Z"
   },
   {
    "duration": 200,
    "start_time": "2022-11-04T09:30:39.016Z"
   },
   {
    "duration": 11,
    "start_time": "2022-11-04T09:30:39.217Z"
   },
   {
    "duration": 65,
    "start_time": "2022-11-04T09:30:39.230Z"
   },
   {
    "duration": 5,
    "start_time": "2022-11-04T09:30:39.299Z"
   },
   {
    "duration": 5,
    "start_time": "2022-11-04T09:30:39.307Z"
   },
   {
    "duration": 9,
    "start_time": "2022-11-04T09:30:39.314Z"
   },
   {
    "duration": 6,
    "start_time": "2022-11-04T09:30:39.325Z"
   },
   {
    "duration": 68,
    "start_time": "2022-11-04T09:30:39.332Z"
   },
   {
    "duration": 16,
    "start_time": "2022-11-04T09:30:39.402Z"
   },
   {
    "duration": 24,
    "start_time": "2022-11-04T09:30:39.421Z"
   },
   {
    "duration": 103,
    "start_time": "2022-11-04T09:30:39.447Z"
   },
   {
    "duration": 129,
    "start_time": "2022-11-04T09:30:39.553Z"
   },
   {
    "duration": 67,
    "start_time": "2022-11-04T09:30:39.690Z"
   },
   {
    "duration": 12,
    "start_time": "2022-11-04T09:30:39.759Z"
   },
   {
    "duration": 3,
    "start_time": "2022-11-04T09:30:39.792Z"
   },
   {
    "duration": 41,
    "start_time": "2022-11-04T09:30:39.797Z"
   },
   {
    "duration": 3,
    "start_time": "2022-11-04T09:30:39.840Z"
   },
   {
    "duration": 3,
    "start_time": "2022-11-04T09:30:39.845Z"
   },
   {
    "duration": 4,
    "start_time": "2022-11-04T09:30:39.850Z"
   },
   {
    "duration": 7,
    "start_time": "2022-11-04T09:30:39.856Z"
   },
   {
    "duration": 3,
    "start_time": "2022-11-04T09:30:39.892Z"
   },
   {
    "duration": 4,
    "start_time": "2022-11-04T09:30:39.897Z"
   },
   {
    "duration": 4,
    "start_time": "2022-11-04T09:30:39.903Z"
   },
   {
    "duration": 9,
    "start_time": "2022-11-04T09:30:39.910Z"
   },
   {
    "duration": 3,
    "start_time": "2022-11-04T09:30:39.921Z"
   },
   {
    "duration": 4,
    "start_time": "2022-11-04T09:30:39.926Z"
   },
   {
    "duration": 4,
    "start_time": "2022-11-04T09:30:39.932Z"
   },
   {
    "duration": 8,
    "start_time": "2022-11-04T09:30:39.937Z"
   },
   {
    "duration": 84,
    "start_time": "2022-11-04T09:30:39.947Z"
   },
   {
    "duration": 0,
    "start_time": "2022-11-04T09:30:40.033Z"
   },
   {
    "duration": 0,
    "start_time": "2022-11-04T09:30:40.034Z"
   },
   {
    "duration": 0,
    "start_time": "2022-11-04T09:30:40.036Z"
   },
   {
    "duration": 0,
    "start_time": "2022-11-04T09:30:40.037Z"
   },
   {
    "duration": 0,
    "start_time": "2022-11-04T09:30:40.039Z"
   },
   {
    "duration": 0,
    "start_time": "2022-11-04T09:30:40.040Z"
   },
   {
    "duration": 0,
    "start_time": "2022-11-04T09:30:40.041Z"
   },
   {
    "duration": 0,
    "start_time": "2022-11-04T09:30:40.043Z"
   },
   {
    "duration": 11,
    "start_time": "2022-11-04T09:30:49.716Z"
   },
   {
    "duration": 8,
    "start_time": "2022-11-04T09:30:55.409Z"
   },
   {
    "duration": 9,
    "start_time": "2022-11-04T09:31:01.081Z"
   },
   {
    "duration": 5,
    "start_time": "2022-11-04T09:31:13.956Z"
   },
   {
    "duration": 6,
    "start_time": "2022-11-04T09:31:17.462Z"
   },
   {
    "duration": 422,
    "start_time": "2022-11-04T09:32:01.591Z"
   },
   {
    "duration": 236,
    "start_time": "2022-11-04T09:32:02.015Z"
   },
   {
    "duration": 17,
    "start_time": "2022-11-04T09:32:02.253Z"
   },
   {
    "duration": 36,
    "start_time": "2022-11-04T09:32:02.272Z"
   },
   {
    "duration": 3,
    "start_time": "2022-11-04T09:32:02.309Z"
   },
   {
    "duration": 10,
    "start_time": "2022-11-04T09:32:02.314Z"
   },
   {
    "duration": 13,
    "start_time": "2022-11-04T09:32:02.325Z"
   },
   {
    "duration": 15,
    "start_time": "2022-11-04T09:32:02.340Z"
   },
   {
    "duration": 44,
    "start_time": "2022-11-04T09:32:02.356Z"
   },
   {
    "duration": 13,
    "start_time": "2022-11-04T09:32:02.404Z"
   },
   {
    "duration": 39,
    "start_time": "2022-11-04T09:32:02.420Z"
   },
   {
    "duration": 105,
    "start_time": "2022-11-04T09:32:02.461Z"
   },
   {
    "duration": 94,
    "start_time": "2022-11-04T09:32:02.567Z"
   },
   {
    "duration": 77,
    "start_time": "2022-11-04T09:32:02.663Z"
   },
   {
    "duration": 10,
    "start_time": "2022-11-04T09:32:02.742Z"
   },
   {
    "duration": 4,
    "start_time": "2022-11-04T09:32:02.754Z"
   },
   {
    "duration": 47,
    "start_time": "2022-11-04T09:32:02.760Z"
   },
   {
    "duration": 2,
    "start_time": "2022-11-04T09:32:02.809Z"
   },
   {
    "duration": 3,
    "start_time": "2022-11-04T09:32:02.813Z"
   },
   {
    "duration": 4,
    "start_time": "2022-11-04T09:32:02.818Z"
   },
   {
    "duration": 4,
    "start_time": "2022-11-04T09:32:02.824Z"
   },
   {
    "duration": 6,
    "start_time": "2022-11-04T09:32:02.829Z"
   },
   {
    "duration": 8,
    "start_time": "2022-11-04T09:32:02.836Z"
   },
   {
    "duration": 5,
    "start_time": "2022-11-04T09:32:02.846Z"
   },
   {
    "duration": 4,
    "start_time": "2022-11-04T09:32:02.852Z"
   },
   {
    "duration": 3,
    "start_time": "2022-11-04T09:32:02.858Z"
   },
   {
    "duration": 15,
    "start_time": "2022-11-04T09:32:02.892Z"
   },
   {
    "duration": 4,
    "start_time": "2022-11-04T09:32:02.911Z"
   },
   {
    "duration": 4,
    "start_time": "2022-11-04T09:32:02.917Z"
   },
   {
    "duration": 74,
    "start_time": "2022-11-04T09:32:02.923Z"
   },
   {
    "duration": 0,
    "start_time": "2022-11-04T09:32:02.999Z"
   },
   {
    "duration": 0,
    "start_time": "2022-11-04T09:32:03.001Z"
   },
   {
    "duration": 0,
    "start_time": "2022-11-04T09:32:03.003Z"
   },
   {
    "duration": 0,
    "start_time": "2022-11-04T09:32:03.004Z"
   },
   {
    "duration": 0,
    "start_time": "2022-11-04T09:32:03.006Z"
   },
   {
    "duration": 0,
    "start_time": "2022-11-04T09:32:03.007Z"
   },
   {
    "duration": 0,
    "start_time": "2022-11-04T09:32:03.009Z"
   },
   {
    "duration": 0,
    "start_time": "2022-11-04T09:32:03.010Z"
   },
   {
    "duration": 435,
    "start_time": "2022-11-04T09:32:58.482Z"
   },
   {
    "duration": 176,
    "start_time": "2022-11-04T09:32:58.919Z"
   },
   {
    "duration": 17,
    "start_time": "2022-11-04T09:32:59.097Z"
   },
   {
    "duration": 29,
    "start_time": "2022-11-04T09:32:59.116Z"
   },
   {
    "duration": 3,
    "start_time": "2022-11-04T09:32:59.147Z"
   },
   {
    "duration": 8,
    "start_time": "2022-11-04T09:32:59.151Z"
   },
   {
    "duration": 12,
    "start_time": "2022-11-04T09:32:59.190Z"
   },
   {
    "duration": 6,
    "start_time": "2022-11-04T09:32:59.204Z"
   },
   {
    "duration": 27,
    "start_time": "2022-11-04T09:32:59.212Z"
   },
   {
    "duration": 68,
    "start_time": "2022-11-04T09:32:59.242Z"
   },
   {
    "duration": 28,
    "start_time": "2022-11-04T09:32:59.312Z"
   },
   {
    "duration": 88,
    "start_time": "2022-11-04T09:32:59.342Z"
   },
   {
    "duration": 81,
    "start_time": "2022-11-04T09:32:59.432Z"
   },
   {
    "duration": 65,
    "start_time": "2022-11-04T09:32:59.515Z"
   },
   {
    "duration": 46,
    "start_time": "2022-11-04T09:32:59.582Z"
   },
   {
    "duration": 3,
    "start_time": "2022-11-04T09:32:59.631Z"
   },
   {
    "duration": 61,
    "start_time": "2022-11-04T09:32:59.635Z"
   },
   {
    "duration": 3,
    "start_time": "2022-11-04T09:32:59.698Z"
   },
   {
    "duration": 7,
    "start_time": "2022-11-04T09:32:59.702Z"
   },
   {
    "duration": 10,
    "start_time": "2022-11-04T09:32:59.711Z"
   },
   {
    "duration": 10,
    "start_time": "2022-11-04T09:32:59.723Z"
   },
   {
    "duration": 4,
    "start_time": "2022-11-04T09:32:59.734Z"
   },
   {
    "duration": 4,
    "start_time": "2022-11-04T09:32:59.740Z"
   },
   {
    "duration": 11,
    "start_time": "2022-11-04T09:32:59.746Z"
   },
   {
    "duration": 4,
    "start_time": "2022-11-04T09:32:59.759Z"
   },
   {
    "duration": 6,
    "start_time": "2022-11-04T09:32:59.764Z"
   },
   {
    "duration": 5,
    "start_time": "2022-11-04T09:32:59.772Z"
   },
   {
    "duration": 3,
    "start_time": "2022-11-04T09:32:59.790Z"
   },
   {
    "duration": 6,
    "start_time": "2022-11-04T09:32:59.794Z"
   },
   {
    "duration": 81,
    "start_time": "2022-11-04T09:32:59.801Z"
   },
   {
    "duration": 0,
    "start_time": "2022-11-04T09:32:59.883Z"
   },
   {
    "duration": 0,
    "start_time": "2022-11-04T09:32:59.885Z"
   },
   {
    "duration": 0,
    "start_time": "2022-11-04T09:32:59.885Z"
   },
   {
    "duration": 0,
    "start_time": "2022-11-04T09:32:59.887Z"
   },
   {
    "duration": 0,
    "start_time": "2022-11-04T09:32:59.887Z"
   },
   {
    "duration": 0,
    "start_time": "2022-11-04T09:32:59.889Z"
   },
   {
    "duration": 0,
    "start_time": "2022-11-04T09:32:59.889Z"
   },
   {
    "duration": 0,
    "start_time": "2022-11-04T09:32:59.891Z"
   },
   {
    "duration": 1225,
    "start_time": "2022-11-04T09:33:13.025Z"
   },
   {
    "duration": 1092,
    "start_time": "2022-11-04T09:33:23.099Z"
   },
   {
    "duration": 397,
    "start_time": "2022-11-04T09:34:51.522Z"
   },
   {
    "duration": 181,
    "start_time": "2022-11-04T09:34:51.921Z"
   },
   {
    "duration": 17,
    "start_time": "2022-11-04T09:34:52.103Z"
   },
   {
    "duration": 29,
    "start_time": "2022-11-04T09:34:52.121Z"
   },
   {
    "duration": 2,
    "start_time": "2022-11-04T09:34:52.153Z"
   },
   {
    "duration": 7,
    "start_time": "2022-11-04T09:34:52.157Z"
   },
   {
    "duration": 11,
    "start_time": "2022-11-04T09:34:52.191Z"
   },
   {
    "duration": 7,
    "start_time": "2022-11-04T09:34:52.204Z"
   },
   {
    "duration": 41,
    "start_time": "2022-11-04T09:34:52.212Z"
   },
   {
    "duration": 41,
    "start_time": "2022-11-04T09:34:52.254Z"
   },
   {
    "duration": 21,
    "start_time": "2022-11-04T09:34:52.297Z"
   },
   {
    "duration": 86,
    "start_time": "2022-11-04T09:34:52.320Z"
   },
   {
    "duration": 96,
    "start_time": "2022-11-04T09:34:52.408Z"
   },
   {
    "duration": 62,
    "start_time": "2022-11-04T09:34:52.507Z"
   },
   {
    "duration": 44,
    "start_time": "2022-11-04T09:34:52.570Z"
   },
   {
    "duration": 10,
    "start_time": "2022-11-04T09:34:52.615Z"
   },
   {
    "duration": 32,
    "start_time": "2022-11-04T09:34:52.627Z"
   },
   {
    "duration": 2,
    "start_time": "2022-11-04T09:34:52.661Z"
   },
   {
    "duration": 29,
    "start_time": "2022-11-04T09:34:52.666Z"
   },
   {
    "duration": 5,
    "start_time": "2022-11-04T09:34:52.697Z"
   },
   {
    "duration": 7,
    "start_time": "2022-11-04T09:34:52.703Z"
   },
   {
    "duration": 3,
    "start_time": "2022-11-04T09:34:52.712Z"
   },
   {
    "duration": 6,
    "start_time": "2022-11-04T09:34:52.717Z"
   },
   {
    "duration": 6,
    "start_time": "2022-11-04T09:34:52.724Z"
   },
   {
    "duration": 6,
    "start_time": "2022-11-04T09:34:52.732Z"
   },
   {
    "duration": 10,
    "start_time": "2022-11-04T09:34:52.740Z"
   },
   {
    "duration": 6,
    "start_time": "2022-11-04T09:34:52.752Z"
   },
   {
    "duration": 5,
    "start_time": "2022-11-04T09:34:52.760Z"
   },
   {
    "duration": 5,
    "start_time": "2022-11-04T09:34:52.766Z"
   },
   {
    "duration": 172,
    "start_time": "2022-11-04T09:34:52.773Z"
   },
   {
    "duration": 0,
    "start_time": "2022-11-04T09:34:52.947Z"
   },
   {
    "duration": 0,
    "start_time": "2022-11-04T09:34:52.948Z"
   },
   {
    "duration": 0,
    "start_time": "2022-11-04T09:34:52.949Z"
   },
   {
    "duration": 0,
    "start_time": "2022-11-04T09:34:52.951Z"
   },
   {
    "duration": 0,
    "start_time": "2022-11-04T09:34:52.952Z"
   },
   {
    "duration": 0,
    "start_time": "2022-11-04T09:34:52.953Z"
   },
   {
    "duration": 0,
    "start_time": "2022-11-04T09:34:52.954Z"
   },
   {
    "duration": 0,
    "start_time": "2022-11-04T09:34:52.955Z"
   },
   {
    "duration": 3263,
    "start_time": "2022-11-04T09:35:02.432Z"
   },
   {
    "duration": 5726,
    "start_time": "2022-11-04T09:35:06.710Z"
   },
   {
    "duration": 422,
    "start_time": "2022-11-04T09:39:16.114Z"
   },
   {
    "duration": 227,
    "start_time": "2022-11-04T09:39:16.539Z"
   },
   {
    "duration": 26,
    "start_time": "2022-11-04T09:39:16.768Z"
   },
   {
    "duration": 40,
    "start_time": "2022-11-04T09:39:16.796Z"
   },
   {
    "duration": 5,
    "start_time": "2022-11-04T09:39:16.837Z"
   },
   {
    "duration": 13,
    "start_time": "2022-11-04T09:39:16.843Z"
   },
   {
    "duration": 35,
    "start_time": "2022-11-04T09:39:16.857Z"
   },
   {
    "duration": 9,
    "start_time": "2022-11-04T09:39:16.894Z"
   },
   {
    "duration": 28,
    "start_time": "2022-11-04T09:39:16.905Z"
   },
   {
    "duration": 65,
    "start_time": "2022-11-04T09:39:16.937Z"
   },
   {
    "duration": 26,
    "start_time": "2022-11-04T09:39:17.005Z"
   },
   {
    "duration": 101,
    "start_time": "2022-11-04T09:39:17.034Z"
   },
   {
    "duration": 79,
    "start_time": "2022-11-04T09:39:17.137Z"
   },
   {
    "duration": 74,
    "start_time": "2022-11-04T09:39:17.217Z"
   },
   {
    "duration": 33,
    "start_time": "2022-11-04T09:39:17.292Z"
   },
   {
    "duration": 13,
    "start_time": "2022-11-04T09:39:17.327Z"
   },
   {
    "duration": 53,
    "start_time": "2022-11-04T09:39:17.342Z"
   },
   {
    "duration": 3,
    "start_time": "2022-11-04T09:39:17.397Z"
   },
   {
    "duration": 6,
    "start_time": "2022-11-04T09:39:17.402Z"
   },
   {
    "duration": 20,
    "start_time": "2022-11-04T09:39:17.409Z"
   },
   {
    "duration": 5,
    "start_time": "2022-11-04T09:39:17.431Z"
   },
   {
    "duration": 6,
    "start_time": "2022-11-04T09:39:17.438Z"
   },
   {
    "duration": 8,
    "start_time": "2022-11-04T09:39:17.445Z"
   },
   {
    "duration": 6,
    "start_time": "2022-11-04T09:39:17.454Z"
   },
   {
    "duration": 7,
    "start_time": "2022-11-04T09:39:17.461Z"
   },
   {
    "duration": 6,
    "start_time": "2022-11-04T09:39:17.469Z"
   },
   {
    "duration": 6,
    "start_time": "2022-11-04T09:39:17.476Z"
   },
   {
    "duration": 3,
    "start_time": "2022-11-04T09:39:17.484Z"
   },
   {
    "duration": 4,
    "start_time": "2022-11-04T09:39:17.489Z"
   },
   {
    "duration": 88,
    "start_time": "2022-11-04T09:39:17.495Z"
   },
   {
    "duration": 0,
    "start_time": "2022-11-04T09:39:17.585Z"
   },
   {
    "duration": 0,
    "start_time": "2022-11-04T09:39:17.586Z"
   },
   {
    "duration": 0,
    "start_time": "2022-11-04T09:39:17.588Z"
   },
   {
    "duration": 0,
    "start_time": "2022-11-04T09:39:17.589Z"
   },
   {
    "duration": 0,
    "start_time": "2022-11-04T09:39:17.591Z"
   },
   {
    "duration": 0,
    "start_time": "2022-11-04T09:39:17.592Z"
   },
   {
    "duration": 0,
    "start_time": "2022-11-04T09:39:17.593Z"
   },
   {
    "duration": 0,
    "start_time": "2022-11-04T09:39:17.595Z"
   },
   {
    "duration": 1231,
    "start_time": "2022-11-04T09:40:00.076Z"
   },
   {
    "duration": 1108,
    "start_time": "2022-11-04T09:42:25.966Z"
   },
   {
    "duration": 7,
    "start_time": "2022-11-04T09:42:35.781Z"
   },
   {
    "duration": 5,
    "start_time": "2022-11-04T09:42:49.274Z"
   },
   {
    "duration": 379,
    "start_time": "2022-11-04T09:43:24.930Z"
   },
   {
    "duration": 175,
    "start_time": "2022-11-04T09:43:25.311Z"
   },
   {
    "duration": 17,
    "start_time": "2022-11-04T09:43:25.488Z"
   },
   {
    "duration": 28,
    "start_time": "2022-11-04T09:43:25.507Z"
   },
   {
    "duration": 3,
    "start_time": "2022-11-04T09:43:25.538Z"
   },
   {
    "duration": 5,
    "start_time": "2022-11-04T09:43:25.542Z"
   },
   {
    "duration": 43,
    "start_time": "2022-11-04T09:43:25.549Z"
   },
   {
    "duration": 4,
    "start_time": "2022-11-04T09:43:25.594Z"
   },
   {
    "duration": 26,
    "start_time": "2022-11-04T09:43:25.599Z"
   },
   {
    "duration": 6,
    "start_time": "2022-11-04T09:43:25.626Z"
   },
   {
    "duration": 31,
    "start_time": "2022-11-04T09:43:25.633Z"
   },
   {
    "duration": 95,
    "start_time": "2022-11-04T09:43:25.665Z"
   },
   {
    "duration": 83,
    "start_time": "2022-11-04T09:43:25.761Z"
   },
   {
    "duration": 63,
    "start_time": "2022-11-04T09:43:25.847Z"
   },
   {
    "duration": 9,
    "start_time": "2022-11-04T09:43:25.912Z"
   },
   {
    "duration": 13,
    "start_time": "2022-11-04T09:43:25.923Z"
   },
   {
    "duration": 29,
    "start_time": "2022-11-04T09:43:25.938Z"
   },
   {
    "duration": 3,
    "start_time": "2022-11-04T09:43:25.968Z"
   },
   {
    "duration": 3,
    "start_time": "2022-11-04T09:43:25.992Z"
   },
   {
    "duration": 5,
    "start_time": "2022-11-04T09:43:25.997Z"
   },
   {
    "duration": 6,
    "start_time": "2022-11-04T09:43:26.004Z"
   },
   {
    "duration": 4,
    "start_time": "2022-11-04T09:43:26.012Z"
   },
   {
    "duration": 6,
    "start_time": "2022-11-04T09:43:26.017Z"
   },
   {
    "duration": 14,
    "start_time": "2022-11-04T09:43:26.025Z"
   },
   {
    "duration": 7,
    "start_time": "2022-11-04T09:43:26.041Z"
   },
   {
    "duration": 8,
    "start_time": "2022-11-04T09:43:26.050Z"
   },
   {
    "duration": 5,
    "start_time": "2022-11-04T09:43:26.060Z"
   },
   {
    "duration": 25,
    "start_time": "2022-11-04T09:43:26.066Z"
   },
   {
    "duration": 2,
    "start_time": "2022-11-04T09:43:26.093Z"
   },
   {
    "duration": 73,
    "start_time": "2022-11-04T09:43:26.096Z"
   },
   {
    "duration": 0,
    "start_time": "2022-11-04T09:43:26.170Z"
   },
   {
    "duration": 0,
    "start_time": "2022-11-04T09:43:26.171Z"
   },
   {
    "duration": 0,
    "start_time": "2022-11-04T09:43:26.172Z"
   },
   {
    "duration": 0,
    "start_time": "2022-11-04T09:43:26.174Z"
   },
   {
    "duration": 0,
    "start_time": "2022-11-04T09:43:26.175Z"
   },
   {
    "duration": 0,
    "start_time": "2022-11-04T09:43:26.176Z"
   },
   {
    "duration": 0,
    "start_time": "2022-11-04T09:43:26.177Z"
   },
   {
    "duration": 0,
    "start_time": "2022-11-04T09:43:26.178Z"
   },
   {
    "duration": 1344,
    "start_time": "2022-11-04T09:43:52.360Z"
   },
   {
    "duration": 6,
    "start_time": "2022-11-04T09:43:59.925Z"
   },
   {
    "duration": 1068,
    "start_time": "2022-11-04T09:44:07.968Z"
   },
   {
    "duration": 1279,
    "start_time": "2022-11-04T10:31:24.872Z"
   },
   {
    "duration": 1352,
    "start_time": "2022-11-04T10:34:05.291Z"
   },
   {
    "duration": 1214,
    "start_time": "2022-11-04T10:34:07.511Z"
   },
   {
    "duration": 1243,
    "start_time": "2022-11-04T10:34:17.475Z"
   },
   {
    "duration": 8,
    "start_time": "2022-11-04T10:34:38.809Z"
   },
   {
    "duration": 54,
    "start_time": "2022-11-04T10:34:42.823Z"
   },
   {
    "duration": 83,
    "start_time": "2022-11-04T10:35:20.076Z"
   },
   {
    "duration": 1334,
    "start_time": "2022-11-04T10:36:59.440Z"
   },
   {
    "duration": 61,
    "start_time": "2022-11-04T10:38:02.547Z"
   },
   {
    "duration": 420,
    "start_time": "2022-11-04T10:38:28.389Z"
   },
   {
    "duration": 176,
    "start_time": "2022-11-04T10:38:28.811Z"
   },
   {
    "duration": 22,
    "start_time": "2022-11-04T10:38:28.989Z"
   },
   {
    "duration": 28,
    "start_time": "2022-11-04T10:38:29.013Z"
   },
   {
    "duration": 2,
    "start_time": "2022-11-04T10:38:29.043Z"
   },
   {
    "duration": 8,
    "start_time": "2022-11-04T10:38:29.046Z"
   },
   {
    "duration": 39,
    "start_time": "2022-11-04T10:38:29.055Z"
   },
   {
    "duration": 11,
    "start_time": "2022-11-04T10:38:29.096Z"
   },
   {
    "duration": 24,
    "start_time": "2022-11-04T10:38:29.108Z"
   },
   {
    "duration": 20,
    "start_time": "2022-11-04T10:38:29.136Z"
   },
   {
    "duration": 39,
    "start_time": "2022-11-04T10:38:29.158Z"
   },
   {
    "duration": 66,
    "start_time": "2022-11-04T10:38:29.210Z"
   },
   {
    "duration": 84,
    "start_time": "2022-11-04T10:38:29.278Z"
   },
   {
    "duration": 83,
    "start_time": "2022-11-04T10:38:29.363Z"
   },
   {
    "duration": 52,
    "start_time": "2022-11-04T10:38:29.447Z"
   },
   {
    "duration": 14,
    "start_time": "2022-11-04T10:38:29.500Z"
   },
   {
    "duration": 36,
    "start_time": "2022-11-04T10:38:29.515Z"
   },
   {
    "duration": 3,
    "start_time": "2022-11-04T10:38:29.553Z"
   },
   {
    "duration": 7,
    "start_time": "2022-11-04T10:38:29.557Z"
   },
   {
    "duration": 10,
    "start_time": "2022-11-04T10:38:29.565Z"
   },
   {
    "duration": 6,
    "start_time": "2022-11-04T10:38:29.577Z"
   },
   {
    "duration": 22,
    "start_time": "2022-11-04T10:38:29.584Z"
   },
   {
    "duration": 3,
    "start_time": "2022-11-04T10:38:29.609Z"
   },
   {
    "duration": 8,
    "start_time": "2022-11-04T10:38:29.613Z"
   },
   {
    "duration": 6,
    "start_time": "2022-11-04T10:38:29.623Z"
   },
   {
    "duration": 8,
    "start_time": "2022-11-04T10:38:29.631Z"
   },
   {
    "duration": 5,
    "start_time": "2022-11-04T10:38:29.641Z"
   },
   {
    "duration": 3,
    "start_time": "2022-11-04T10:38:29.650Z"
   },
   {
    "duration": 11,
    "start_time": "2022-11-04T10:38:29.654Z"
   },
   {
    "duration": 76,
    "start_time": "2022-11-04T10:38:29.667Z"
   },
   {
    "duration": 0,
    "start_time": "2022-11-04T10:38:29.745Z"
   },
   {
    "duration": 0,
    "start_time": "2022-11-04T10:38:29.746Z"
   },
   {
    "duration": 0,
    "start_time": "2022-11-04T10:38:29.748Z"
   },
   {
    "duration": 0,
    "start_time": "2022-11-04T10:38:29.748Z"
   },
   {
    "duration": 0,
    "start_time": "2022-11-04T10:38:29.749Z"
   },
   {
    "duration": 0,
    "start_time": "2022-11-04T10:38:29.751Z"
   },
   {
    "duration": 0,
    "start_time": "2022-11-04T10:38:29.752Z"
   },
   {
    "duration": 0,
    "start_time": "2022-11-04T10:38:29.753Z"
   },
   {
    "duration": 1493,
    "start_time": "2022-11-04T10:39:32.209Z"
   },
   {
    "duration": 1252,
    "start_time": "2022-11-04T10:39:41.288Z"
   },
   {
    "duration": 1356,
    "start_time": "2022-11-04T10:41:03.417Z"
   },
   {
    "duration": 7,
    "start_time": "2022-11-04T10:41:18.572Z"
   },
   {
    "duration": 1191,
    "start_time": "2022-11-04T10:41:38.871Z"
   },
   {
    "duration": 83,
    "start_time": "2022-11-04T10:41:51.776Z"
   },
   {
    "duration": 1335,
    "start_time": "2022-11-04T10:42:03.508Z"
   },
   {
    "duration": 1141,
    "start_time": "2022-11-04T10:42:09.529Z"
   },
   {
    "duration": 66,
    "start_time": "2022-11-04T10:42:29.345Z"
   },
   {
    "duration": 62,
    "start_time": "2022-11-04T10:42:41.874Z"
   },
   {
    "duration": 13,
    "start_time": "2022-11-04T10:42:50.997Z"
   },
   {
    "duration": 1186,
    "start_time": "2022-11-04T10:43:07.681Z"
   },
   {
    "duration": 395,
    "start_time": "2022-11-04T10:43:23.749Z"
   },
   {
    "duration": 177,
    "start_time": "2022-11-04T10:43:24.146Z"
   },
   {
    "duration": 17,
    "start_time": "2022-11-04T10:43:24.325Z"
   },
   {
    "duration": 30,
    "start_time": "2022-11-04T10:43:24.344Z"
   },
   {
    "duration": 18,
    "start_time": "2022-11-04T10:43:24.375Z"
   },
   {
    "duration": 13,
    "start_time": "2022-11-04T10:43:24.395Z"
   },
   {
    "duration": 15,
    "start_time": "2022-11-04T10:43:24.409Z"
   },
   {
    "duration": 6,
    "start_time": "2022-11-04T10:43:24.427Z"
   },
   {
    "duration": 30,
    "start_time": "2022-11-04T10:43:24.434Z"
   },
   {
    "duration": 56,
    "start_time": "2022-11-04T10:43:24.467Z"
   },
   {
    "duration": 34,
    "start_time": "2022-11-04T10:43:24.525Z"
   },
   {
    "duration": 96,
    "start_time": "2022-11-04T10:43:24.561Z"
   },
   {
    "duration": 10,
    "start_time": "2022-11-04T10:43:24.658Z"
   },
   {
    "duration": 103,
    "start_time": "2022-11-04T10:43:24.669Z"
   },
   {
    "duration": 56,
    "start_time": "2022-11-04T10:43:24.774Z"
   },
   {
    "duration": 12,
    "start_time": "2022-11-04T10:43:24.832Z"
   },
   {
    "duration": 61,
    "start_time": "2022-11-04T10:43:24.845Z"
   },
   {
    "duration": 3,
    "start_time": "2022-11-04T10:43:24.908Z"
   },
   {
    "duration": 4,
    "start_time": "2022-11-04T10:43:24.913Z"
   },
   {
    "duration": 8,
    "start_time": "2022-11-04T10:43:24.919Z"
   },
   {
    "duration": 13,
    "start_time": "2022-11-04T10:43:24.929Z"
   },
   {
    "duration": 5,
    "start_time": "2022-11-04T10:43:24.944Z"
   },
   {
    "duration": 4,
    "start_time": "2022-11-04T10:43:24.951Z"
   },
   {
    "duration": 4,
    "start_time": "2022-11-04T10:43:24.957Z"
   },
   {
    "duration": 6,
    "start_time": "2022-11-04T10:43:24.962Z"
   },
   {
    "duration": 4,
    "start_time": "2022-11-04T10:43:24.970Z"
   },
   {
    "duration": 21,
    "start_time": "2022-11-04T10:43:24.976Z"
   },
   {
    "duration": 3,
    "start_time": "2022-11-04T10:43:25.003Z"
   },
   {
    "duration": 3,
    "start_time": "2022-11-04T10:43:25.010Z"
   },
   {
    "duration": 87,
    "start_time": "2022-11-04T10:43:25.015Z"
   },
   {
    "duration": 0,
    "start_time": "2022-11-04T10:43:25.104Z"
   },
   {
    "duration": 0,
    "start_time": "2022-11-04T10:43:25.106Z"
   },
   {
    "duration": 0,
    "start_time": "2022-11-04T10:43:25.106Z"
   },
   {
    "duration": 0,
    "start_time": "2022-11-04T10:43:25.109Z"
   },
   {
    "duration": 0,
    "start_time": "2022-11-04T10:43:25.110Z"
   },
   {
    "duration": 0,
    "start_time": "2022-11-04T10:43:25.112Z"
   },
   {
    "duration": 0,
    "start_time": "2022-11-04T10:43:25.113Z"
   },
   {
    "duration": 0,
    "start_time": "2022-11-04T10:43:25.114Z"
   },
   {
    "duration": 468,
    "start_time": "2022-11-04T10:44:04.367Z"
   },
   {
    "duration": 181,
    "start_time": "2022-11-04T10:44:04.838Z"
   },
   {
    "duration": 18,
    "start_time": "2022-11-04T10:44:05.021Z"
   },
   {
    "duration": 31,
    "start_time": "2022-11-04T10:44:05.041Z"
   },
   {
    "duration": 8,
    "start_time": "2022-11-04T10:44:05.095Z"
   },
   {
    "duration": 10,
    "start_time": "2022-11-04T10:44:05.105Z"
   },
   {
    "duration": 12,
    "start_time": "2022-11-04T10:44:05.116Z"
   },
   {
    "duration": 5,
    "start_time": "2022-11-04T10:44:05.130Z"
   },
   {
    "duration": 62,
    "start_time": "2022-11-04T10:44:05.136Z"
   },
   {
    "duration": 40,
    "start_time": "2022-11-04T10:44:05.203Z"
   },
   {
    "duration": 30,
    "start_time": "2022-11-04T10:44:05.245Z"
   },
   {
    "duration": 108,
    "start_time": "2022-11-04T10:44:05.276Z"
   },
   {
    "duration": 130,
    "start_time": "2022-11-04T10:44:05.386Z"
   },
   {
    "duration": 113,
    "start_time": "2022-11-04T10:44:05.520Z"
   },
   {
    "duration": 82,
    "start_time": "2022-11-04T10:44:05.635Z"
   },
   {
    "duration": 13,
    "start_time": "2022-11-04T10:44:05.719Z"
   },
   {
    "duration": 42,
    "start_time": "2022-11-04T10:44:05.734Z"
   },
   {
    "duration": 18,
    "start_time": "2022-11-04T10:44:05.778Z"
   },
   {
    "duration": 4,
    "start_time": "2022-11-04T10:44:05.806Z"
   },
   {
    "duration": 14,
    "start_time": "2022-11-04T10:44:05.812Z"
   },
   {
    "duration": 8,
    "start_time": "2022-11-04T10:44:05.828Z"
   },
   {
    "duration": 6,
    "start_time": "2022-11-04T10:44:05.841Z"
   },
   {
    "duration": 20,
    "start_time": "2022-11-04T10:44:05.848Z"
   },
   {
    "duration": 8,
    "start_time": "2022-11-04T10:44:05.871Z"
   },
   {
    "duration": 26,
    "start_time": "2022-11-04T10:44:05.881Z"
   },
   {
    "duration": 6,
    "start_time": "2022-11-04T10:44:05.911Z"
   },
   {
    "duration": 7,
    "start_time": "2022-11-04T10:44:05.919Z"
   },
   {
    "duration": 6,
    "start_time": "2022-11-04T10:44:05.928Z"
   },
   {
    "duration": 5,
    "start_time": "2022-11-04T10:44:05.936Z"
   },
   {
    "duration": 82,
    "start_time": "2022-11-04T10:44:05.943Z"
   },
   {
    "duration": 0,
    "start_time": "2022-11-04T10:44:06.027Z"
   },
   {
    "duration": 0,
    "start_time": "2022-11-04T10:44:06.028Z"
   },
   {
    "duration": 0,
    "start_time": "2022-11-04T10:44:06.030Z"
   },
   {
    "duration": 0,
    "start_time": "2022-11-04T10:44:06.031Z"
   },
   {
    "duration": 0,
    "start_time": "2022-11-04T10:44:06.031Z"
   },
   {
    "duration": 0,
    "start_time": "2022-11-04T10:44:06.033Z"
   },
   {
    "duration": 0,
    "start_time": "2022-11-04T10:44:06.034Z"
   },
   {
    "duration": 0,
    "start_time": "2022-11-04T10:44:06.035Z"
   },
   {
    "duration": 368,
    "start_time": "2022-11-04T10:46:09.730Z"
   },
   {
    "duration": 178,
    "start_time": "2022-11-04T10:46:10.100Z"
   },
   {
    "duration": 24,
    "start_time": "2022-11-04T10:46:10.280Z"
   },
   {
    "duration": 42,
    "start_time": "2022-11-04T10:46:10.308Z"
   },
   {
    "duration": 3,
    "start_time": "2022-11-04T10:46:10.352Z"
   },
   {
    "duration": 10,
    "start_time": "2022-11-04T10:46:10.358Z"
   },
   {
    "duration": 23,
    "start_time": "2022-11-04T10:46:10.370Z"
   },
   {
    "duration": 10,
    "start_time": "2022-11-04T10:46:10.401Z"
   },
   {
    "duration": 42,
    "start_time": "2022-11-04T10:46:10.413Z"
   },
   {
    "duration": 30,
    "start_time": "2022-11-04T10:46:10.459Z"
   },
   {
    "duration": 33,
    "start_time": "2022-11-04T10:46:10.491Z"
   },
   {
    "duration": 86,
    "start_time": "2022-11-04T10:46:10.526Z"
   },
   {
    "duration": 96,
    "start_time": "2022-11-04T10:46:10.614Z"
   },
   {
    "duration": 95,
    "start_time": "2022-11-04T10:46:10.712Z"
   },
   {
    "duration": 57,
    "start_time": "2022-11-04T10:46:10.808Z"
   },
   {
    "duration": 27,
    "start_time": "2022-11-04T10:46:10.867Z"
   },
   {
    "duration": 35,
    "start_time": "2022-11-04T10:46:10.896Z"
   },
   {
    "duration": 3,
    "start_time": "2022-11-04T10:46:10.933Z"
   },
   {
    "duration": 5,
    "start_time": "2022-11-04T10:46:10.937Z"
   },
   {
    "duration": 6,
    "start_time": "2022-11-04T10:46:10.943Z"
   },
   {
    "duration": 8,
    "start_time": "2022-11-04T10:46:10.950Z"
   },
   {
    "duration": 4,
    "start_time": "2022-11-04T10:46:10.960Z"
   },
   {
    "duration": 36,
    "start_time": "2022-11-04T10:46:10.966Z"
   },
   {
    "duration": 2,
    "start_time": "2022-11-04T10:46:11.004Z"
   },
   {
    "duration": 10,
    "start_time": "2022-11-04T10:46:11.009Z"
   },
   {
    "duration": 5,
    "start_time": "2022-11-04T10:46:11.020Z"
   },
   {
    "duration": 5,
    "start_time": "2022-11-04T10:46:11.027Z"
   },
   {
    "duration": 5,
    "start_time": "2022-11-04T10:46:11.035Z"
   },
   {
    "duration": 4,
    "start_time": "2022-11-04T10:46:11.042Z"
   },
   {
    "duration": 75,
    "start_time": "2022-11-04T10:46:11.047Z"
   },
   {
    "duration": 0,
    "start_time": "2022-11-04T10:46:11.124Z"
   },
   {
    "duration": 0,
    "start_time": "2022-11-04T10:46:11.125Z"
   },
   {
    "duration": 0,
    "start_time": "2022-11-04T10:46:11.126Z"
   },
   {
    "duration": 0,
    "start_time": "2022-11-04T10:46:11.128Z"
   },
   {
    "duration": 0,
    "start_time": "2022-11-04T10:46:11.129Z"
   },
   {
    "duration": 0,
    "start_time": "2022-11-04T10:46:11.130Z"
   },
   {
    "duration": 0,
    "start_time": "2022-11-04T10:46:11.131Z"
   },
   {
    "duration": 0,
    "start_time": "2022-11-04T10:46:11.132Z"
   },
   {
    "duration": 1336,
    "start_time": "2022-11-04T10:48:34.503Z"
   },
   {
    "duration": 76,
    "start_time": "2022-11-04T10:49:02.251Z"
   },
   {
    "duration": 5,
    "start_time": "2022-11-04T10:49:08.309Z"
   },
   {
    "duration": 56,
    "start_time": "2022-11-04T10:49:17.444Z"
   },
   {
    "duration": 53,
    "start_time": "2022-11-04T10:49:20.615Z"
   },
   {
    "duration": 6,
    "start_time": "2022-11-04T10:49:27.523Z"
   },
   {
    "duration": 3,
    "start_time": "2022-11-04T10:49:49.663Z"
   },
   {
    "duration": 186,
    "start_time": "2022-11-04T10:49:49.669Z"
   },
   {
    "duration": 11,
    "start_time": "2022-11-04T10:49:49.857Z"
   },
   {
    "duration": 39,
    "start_time": "2022-11-04T10:49:49.870Z"
   },
   {
    "duration": 3,
    "start_time": "2022-11-04T10:49:49.910Z"
   },
   {
    "duration": 9,
    "start_time": "2022-11-04T10:49:49.914Z"
   },
   {
    "duration": 19,
    "start_time": "2022-11-04T10:49:49.924Z"
   },
   {
    "duration": 4,
    "start_time": "2022-11-04T10:49:49.944Z"
   },
   {
    "duration": 24,
    "start_time": "2022-11-04T10:49:49.951Z"
   },
   {
    "duration": 44,
    "start_time": "2022-11-04T10:49:49.976Z"
   },
   {
    "duration": 23,
    "start_time": "2022-11-04T10:49:50.021Z"
   },
   {
    "duration": 83,
    "start_time": "2022-11-04T10:49:50.046Z"
   },
   {
    "duration": 92,
    "start_time": "2022-11-04T10:49:50.131Z"
   },
   {
    "duration": 12,
    "start_time": "2022-11-04T10:49:50.224Z"
   },
   {
    "duration": 59,
    "start_time": "2022-11-04T10:49:50.237Z"
   },
   {
    "duration": 15,
    "start_time": "2022-11-04T10:49:50.299Z"
   },
   {
    "duration": 31,
    "start_time": "2022-11-04T10:49:50.316Z"
   },
   {
    "duration": 2,
    "start_time": "2022-11-04T10:49:50.349Z"
   },
   {
    "duration": 5,
    "start_time": "2022-11-04T10:49:50.353Z"
   },
   {
    "duration": 3,
    "start_time": "2022-11-04T10:49:50.360Z"
   },
   {
    "duration": 29,
    "start_time": "2022-11-04T10:49:50.365Z"
   },
   {
    "duration": 12,
    "start_time": "2022-11-04T10:49:50.395Z"
   },
   {
    "duration": 2,
    "start_time": "2022-11-04T10:49:50.409Z"
   },
   {
    "duration": 5,
    "start_time": "2022-11-04T10:49:50.414Z"
   },
   {
    "duration": 4,
    "start_time": "2022-11-04T10:49:50.420Z"
   },
   {
    "duration": 4,
    "start_time": "2022-11-04T10:49:50.425Z"
   },
   {
    "duration": 4,
    "start_time": "2022-11-04T10:49:50.431Z"
   },
   {
    "duration": 16,
    "start_time": "2022-11-04T10:49:50.436Z"
   },
   {
    "duration": 4,
    "start_time": "2022-11-04T10:49:50.453Z"
   },
   {
    "duration": 98,
    "start_time": "2022-11-04T10:49:50.459Z"
   },
   {
    "duration": 0,
    "start_time": "2022-11-04T10:49:50.558Z"
   },
   {
    "duration": 0,
    "start_time": "2022-11-04T10:49:50.560Z"
   },
   {
    "duration": 0,
    "start_time": "2022-11-04T10:49:50.561Z"
   },
   {
    "duration": 0,
    "start_time": "2022-11-04T10:49:50.562Z"
   },
   {
    "duration": 0,
    "start_time": "2022-11-04T10:49:50.564Z"
   },
   {
    "duration": 0,
    "start_time": "2022-11-04T10:49:50.565Z"
   },
   {
    "duration": 0,
    "start_time": "2022-11-04T10:49:50.566Z"
   },
   {
    "duration": 0,
    "start_time": "2022-11-04T10:49:50.567Z"
   },
   {
    "duration": 3,
    "start_time": "2022-11-04T10:50:53.874Z"
   },
   {
    "duration": 215,
    "start_time": "2022-11-04T10:50:53.908Z"
   },
   {
    "duration": 12,
    "start_time": "2022-11-04T10:50:54.125Z"
   },
   {
    "duration": 39,
    "start_time": "2022-11-04T10:50:54.138Z"
   },
   {
    "duration": 2,
    "start_time": "2022-11-04T10:50:54.200Z"
   },
   {
    "duration": 14,
    "start_time": "2022-11-04T10:50:54.204Z"
   },
   {
    "duration": 16,
    "start_time": "2022-11-04T10:50:54.220Z"
   },
   {
    "duration": 10,
    "start_time": "2022-11-04T10:50:54.238Z"
   },
   {
    "duration": 33,
    "start_time": "2022-11-04T10:50:54.250Z"
   },
   {
    "duration": 36,
    "start_time": "2022-11-04T10:50:54.287Z"
   },
   {
    "duration": 35,
    "start_time": "2022-11-04T10:50:54.326Z"
   },
   {
    "duration": 102,
    "start_time": "2022-11-04T10:50:54.363Z"
   },
   {
    "duration": 98,
    "start_time": "2022-11-04T10:50:54.467Z"
   },
   {
    "duration": 10,
    "start_time": "2022-11-04T10:50:54.567Z"
   },
   {
    "duration": 55,
    "start_time": "2022-11-04T10:50:54.594Z"
   },
   {
    "duration": 11,
    "start_time": "2022-11-04T10:50:54.650Z"
   },
   {
    "duration": 52,
    "start_time": "2022-11-04T10:50:54.662Z"
   },
   {
    "duration": 3,
    "start_time": "2022-11-04T10:50:54.716Z"
   },
   {
    "duration": 11,
    "start_time": "2022-11-04T10:50:54.721Z"
   },
   {
    "duration": 4,
    "start_time": "2022-11-04T10:50:54.734Z"
   },
   {
    "duration": 4,
    "start_time": "2022-11-04T10:50:54.740Z"
   },
   {
    "duration": 4,
    "start_time": "2022-11-04T10:50:54.746Z"
   },
   {
    "duration": 7,
    "start_time": "2022-11-04T10:50:54.752Z"
   },
   {
    "duration": 9,
    "start_time": "2022-11-04T10:50:54.761Z"
   },
   {
    "duration": 5,
    "start_time": "2022-11-04T10:50:54.771Z"
   },
   {
    "duration": 15,
    "start_time": "2022-11-04T10:50:54.777Z"
   },
   {
    "duration": 7,
    "start_time": "2022-11-04T10:50:54.802Z"
   },
   {
    "duration": 3,
    "start_time": "2022-11-04T10:50:54.811Z"
   },
   {
    "duration": 3,
    "start_time": "2022-11-04T10:50:54.816Z"
   },
   {
    "duration": 88,
    "start_time": "2022-11-04T10:50:54.821Z"
   },
   {
    "duration": 0,
    "start_time": "2022-11-04T10:50:54.911Z"
   },
   {
    "duration": 0,
    "start_time": "2022-11-04T10:50:54.913Z"
   },
   {
    "duration": 0,
    "start_time": "2022-11-04T10:50:54.914Z"
   },
   {
    "duration": 0,
    "start_time": "2022-11-04T10:50:54.916Z"
   },
   {
    "duration": 0,
    "start_time": "2022-11-04T10:50:54.918Z"
   },
   {
    "duration": 0,
    "start_time": "2022-11-04T10:50:54.919Z"
   },
   {
    "duration": 0,
    "start_time": "2022-11-04T10:50:54.920Z"
   },
   {
    "duration": 0,
    "start_time": "2022-11-04T10:50:54.921Z"
   },
   {
    "duration": 1254,
    "start_time": "2022-11-04T10:52:34.424Z"
   },
   {
    "duration": 1207,
    "start_time": "2022-11-04T10:53:52.741Z"
   },
   {
    "duration": 6,
    "start_time": "2022-11-04T10:54:03.372Z"
   },
   {
    "duration": 2,
    "start_time": "2022-11-04T10:56:01.276Z"
   },
   {
    "duration": 207,
    "start_time": "2022-11-04T10:56:01.281Z"
   },
   {
    "duration": 12,
    "start_time": "2022-11-04T10:56:01.491Z"
   },
   {
    "duration": 48,
    "start_time": "2022-11-04T10:56:01.504Z"
   },
   {
    "duration": 3,
    "start_time": "2022-11-04T10:56:01.554Z"
   },
   {
    "duration": 6,
    "start_time": "2022-11-04T10:56:01.559Z"
   },
   {
    "duration": 10,
    "start_time": "2022-11-04T10:56:01.566Z"
   },
   {
    "duration": 16,
    "start_time": "2022-11-04T10:56:01.577Z"
   },
   {
    "duration": 36,
    "start_time": "2022-11-04T10:56:01.599Z"
   },
   {
    "duration": 37,
    "start_time": "2022-11-04T10:56:01.637Z"
   },
   {
    "duration": 41,
    "start_time": "2022-11-04T10:56:01.675Z"
   },
   {
    "duration": 86,
    "start_time": "2022-11-04T10:56:01.718Z"
   },
   {
    "duration": 73,
    "start_time": "2022-11-04T10:56:01.810Z"
   },
   {
    "duration": 19,
    "start_time": "2022-11-04T10:56:01.886Z"
   },
   {
    "duration": 44,
    "start_time": "2022-11-04T10:56:01.907Z"
   },
   {
    "duration": 9,
    "start_time": "2022-11-04T10:56:01.953Z"
   },
   {
    "duration": 58,
    "start_time": "2022-11-04T10:56:01.964Z"
   },
   {
    "duration": 3,
    "start_time": "2022-11-04T10:56:02.023Z"
   },
   {
    "duration": 6,
    "start_time": "2022-11-04T10:56:02.028Z"
   },
   {
    "duration": 15,
    "start_time": "2022-11-04T10:56:02.036Z"
   },
   {
    "duration": 6,
    "start_time": "2022-11-04T10:56:02.052Z"
   },
   {
    "duration": 7,
    "start_time": "2022-11-04T10:56:02.059Z"
   },
   {
    "duration": 6,
    "start_time": "2022-11-04T10:56:02.067Z"
   },
   {
    "duration": 8,
    "start_time": "2022-11-04T10:56:02.075Z"
   },
   {
    "duration": 12,
    "start_time": "2022-11-04T10:56:02.085Z"
   },
   {
    "duration": 5,
    "start_time": "2022-11-04T10:56:02.099Z"
   },
   {
    "duration": 3,
    "start_time": "2022-11-04T10:56:02.107Z"
   },
   {
    "duration": 4,
    "start_time": "2022-11-04T10:56:02.112Z"
   },
   {
    "duration": 5,
    "start_time": "2022-11-04T10:56:02.118Z"
   },
   {
    "duration": 83,
    "start_time": "2022-11-04T10:56:02.124Z"
   },
   {
    "duration": 0,
    "start_time": "2022-11-04T10:56:02.209Z"
   },
   {
    "duration": 0,
    "start_time": "2022-11-04T10:56:02.211Z"
   },
   {
    "duration": 0,
    "start_time": "2022-11-04T10:56:02.212Z"
   },
   {
    "duration": 0,
    "start_time": "2022-11-04T10:56:02.214Z"
   },
   {
    "duration": 0,
    "start_time": "2022-11-04T10:56:02.215Z"
   },
   {
    "duration": 0,
    "start_time": "2022-11-04T10:56:02.217Z"
   },
   {
    "duration": 0,
    "start_time": "2022-11-04T10:56:02.218Z"
   },
   {
    "duration": 0,
    "start_time": "2022-11-04T10:56:02.219Z"
   },
   {
    "duration": 1287,
    "start_time": "2022-11-04T11:00:44.219Z"
   },
   {
    "duration": 1253,
    "start_time": "2022-11-04T11:01:17.470Z"
   },
   {
    "duration": 48,
    "start_time": "2022-11-04T14:41:54.456Z"
   },
   {
    "duration": 375,
    "start_time": "2022-11-04T14:42:10.549Z"
   },
   {
    "duration": 245,
    "start_time": "2022-11-04T14:42:10.926Z"
   },
   {
    "duration": 16,
    "start_time": "2022-11-04T14:42:11.172Z"
   },
   {
    "duration": 38,
    "start_time": "2022-11-04T14:42:11.190Z"
   },
   {
    "duration": 21,
    "start_time": "2022-11-04T14:42:11.229Z"
   },
   {
    "duration": 29,
    "start_time": "2022-11-04T14:42:11.252Z"
   },
   {
    "duration": 18,
    "start_time": "2022-11-04T14:42:11.283Z"
   },
   {
    "duration": 28,
    "start_time": "2022-11-04T14:42:11.303Z"
   },
   {
    "duration": 36,
    "start_time": "2022-11-04T14:42:11.333Z"
   },
   {
    "duration": 59,
    "start_time": "2022-11-04T14:42:11.372Z"
   },
   {
    "duration": 30,
    "start_time": "2022-11-04T14:42:11.432Z"
   },
   {
    "duration": 73,
    "start_time": "2022-11-04T14:42:11.464Z"
   },
   {
    "duration": 83,
    "start_time": "2022-11-04T14:42:11.539Z"
   },
   {
    "duration": 76,
    "start_time": "2022-11-04T14:42:11.624Z"
   },
   {
    "duration": 61,
    "start_time": "2022-11-04T14:42:11.702Z"
   },
   {
    "duration": 13,
    "start_time": "2022-11-04T14:42:11.765Z"
   },
   {
    "duration": 69,
    "start_time": "2022-11-04T14:42:11.780Z"
   },
   {
    "duration": 7,
    "start_time": "2022-11-04T14:42:11.852Z"
   },
   {
    "duration": 10,
    "start_time": "2022-11-04T14:42:11.860Z"
   },
   {
    "duration": 7,
    "start_time": "2022-11-04T14:42:11.871Z"
   },
   {
    "duration": 9,
    "start_time": "2022-11-04T14:42:11.880Z"
   },
   {
    "duration": 9,
    "start_time": "2022-11-04T14:42:11.891Z"
   },
   {
    "duration": 6,
    "start_time": "2022-11-04T14:42:11.902Z"
   },
   {
    "duration": 6,
    "start_time": "2022-11-04T14:42:11.909Z"
   },
   {
    "duration": 12,
    "start_time": "2022-11-04T14:42:11.916Z"
   },
   {
    "duration": 11,
    "start_time": "2022-11-04T14:42:11.930Z"
   },
   {
    "duration": 9,
    "start_time": "2022-11-04T14:42:11.943Z"
   },
   {
    "duration": 5,
    "start_time": "2022-11-04T14:42:11.955Z"
   },
   {
    "duration": 7,
    "start_time": "2022-11-04T14:42:11.961Z"
   },
   {
    "duration": 43,
    "start_time": "2022-11-04T14:42:11.970Z"
   },
   {
    "duration": 0,
    "start_time": "2022-11-04T14:42:12.015Z"
   },
   {
    "duration": 0,
    "start_time": "2022-11-04T14:42:12.016Z"
   },
   {
    "duration": 0,
    "start_time": "2022-11-04T14:42:12.017Z"
   },
   {
    "duration": 0,
    "start_time": "2022-11-04T14:42:12.019Z"
   },
   {
    "duration": 0,
    "start_time": "2022-11-04T14:42:12.020Z"
   },
   {
    "duration": 0,
    "start_time": "2022-11-04T14:42:12.021Z"
   },
   {
    "duration": 0,
    "start_time": "2022-11-04T14:42:12.022Z"
   },
   {
    "duration": 0,
    "start_time": "2022-11-04T14:42:12.024Z"
   },
   {
    "duration": 800,
    "start_time": "2022-11-04T14:42:17.165Z"
   },
   {
    "duration": 732,
    "start_time": "2022-11-04T14:42:57.922Z"
   },
   {
    "duration": 2,
    "start_time": "2022-11-04T14:43:14.523Z"
   },
   {
    "duration": 2,
    "start_time": "2022-11-04T14:43:21.181Z"
   },
   {
    "duration": 173,
    "start_time": "2022-11-04T14:43:21.185Z"
   },
   {
    "duration": 11,
    "start_time": "2022-11-04T14:43:21.360Z"
   },
   {
    "duration": 31,
    "start_time": "2022-11-04T14:43:21.372Z"
   },
   {
    "duration": 2,
    "start_time": "2022-11-04T14:43:21.406Z"
   },
   {
    "duration": 6,
    "start_time": "2022-11-04T14:43:21.420Z"
   },
   {
    "duration": 12,
    "start_time": "2022-11-04T14:43:21.427Z"
   },
   {
    "duration": 4,
    "start_time": "2022-11-04T14:43:21.441Z"
   },
   {
    "duration": 24,
    "start_time": "2022-11-04T14:43:21.447Z"
   },
   {
    "duration": 35,
    "start_time": "2022-11-04T14:43:21.472Z"
   },
   {
    "duration": 22,
    "start_time": "2022-11-04T14:43:21.520Z"
   },
   {
    "duration": 72,
    "start_time": "2022-11-04T14:43:21.544Z"
   },
   {
    "duration": 68,
    "start_time": "2022-11-04T14:43:21.621Z"
   },
   {
    "duration": 78,
    "start_time": "2022-11-04T14:43:21.692Z"
   },
   {
    "duration": 39,
    "start_time": "2022-11-04T14:43:21.772Z"
   },
   {
    "duration": 2,
    "start_time": "2022-11-04T14:43:21.826Z"
   },
   {
    "duration": 51,
    "start_time": "2022-11-04T14:43:21.830Z"
   },
   {
    "duration": 2,
    "start_time": "2022-11-04T14:43:21.883Z"
   },
   {
    "duration": 15,
    "start_time": "2022-11-04T14:43:21.887Z"
   },
   {
    "duration": 27,
    "start_time": "2022-11-04T14:43:21.903Z"
   },
   {
    "duration": 29,
    "start_time": "2022-11-04T14:43:21.932Z"
   },
   {
    "duration": 15,
    "start_time": "2022-11-04T14:43:21.962Z"
   },
   {
    "duration": 25,
    "start_time": "2022-11-04T14:43:21.979Z"
   },
   {
    "duration": 8,
    "start_time": "2022-11-04T14:43:22.005Z"
   },
   {
    "duration": 26,
    "start_time": "2022-11-04T14:43:22.014Z"
   },
   {
    "duration": 23,
    "start_time": "2022-11-04T14:43:22.042Z"
   },
   {
    "duration": 29,
    "start_time": "2022-11-04T14:43:22.066Z"
   },
   {
    "duration": 27,
    "start_time": "2022-11-04T14:43:22.097Z"
   },
   {
    "duration": 12,
    "start_time": "2022-11-04T14:43:22.125Z"
   },
   {
    "duration": 46,
    "start_time": "2022-11-04T14:43:22.138Z"
   },
   {
    "duration": 0,
    "start_time": "2022-11-04T14:43:22.186Z"
   },
   {
    "duration": 0,
    "start_time": "2022-11-04T14:43:22.188Z"
   },
   {
    "duration": 0,
    "start_time": "2022-11-04T14:43:22.189Z"
   },
   {
    "duration": 0,
    "start_time": "2022-11-04T14:43:22.190Z"
   },
   {
    "duration": 0,
    "start_time": "2022-11-04T14:43:22.191Z"
   },
   {
    "duration": 0,
    "start_time": "2022-11-04T14:43:22.192Z"
   },
   {
    "duration": 0,
    "start_time": "2022-11-04T14:43:22.194Z"
   },
   {
    "duration": 0,
    "start_time": "2022-11-04T14:43:22.195Z"
   },
   {
    "duration": 5,
    "start_time": "2022-11-04T14:45:09.540Z"
   },
   {
    "duration": 933,
    "start_time": "2022-11-04T14:45:15.639Z"
   },
   {
    "duration": 6,
    "start_time": "2022-11-04T14:57:35.527Z"
   },
   {
    "duration": 661,
    "start_time": "2022-11-04T14:57:46.635Z"
   },
   {
    "duration": 3,
    "start_time": "2022-11-04T14:58:05.724Z"
   },
   {
    "duration": 172,
    "start_time": "2022-11-04T14:58:05.729Z"
   },
   {
    "duration": 10,
    "start_time": "2022-11-04T14:58:05.903Z"
   },
   {
    "duration": 27,
    "start_time": "2022-11-04T14:58:05.920Z"
   },
   {
    "duration": 2,
    "start_time": "2022-11-04T14:58:05.950Z"
   },
   {
    "duration": 8,
    "start_time": "2022-11-04T14:58:05.954Z"
   },
   {
    "duration": 9,
    "start_time": "2022-11-04T14:58:05.963Z"
   },
   {
    "duration": 4,
    "start_time": "2022-11-04T14:58:05.973Z"
   },
   {
    "duration": 47,
    "start_time": "2022-11-04T14:58:05.979Z"
   },
   {
    "duration": 27,
    "start_time": "2022-11-04T14:58:06.029Z"
   },
   {
    "duration": 23,
    "start_time": "2022-11-04T14:58:06.058Z"
   },
   {
    "duration": 85,
    "start_time": "2022-11-04T14:58:06.083Z"
   },
   {
    "duration": 87,
    "start_time": "2022-11-04T14:58:06.170Z"
   },
   {
    "duration": 72,
    "start_time": "2022-11-04T14:58:06.260Z"
   },
   {
    "duration": 43,
    "start_time": "2022-11-04T14:58:06.333Z"
   },
   {
    "duration": 5,
    "start_time": "2022-11-04T14:58:06.377Z"
   },
   {
    "duration": 56,
    "start_time": "2022-11-04T14:58:06.384Z"
   },
   {
    "duration": 2,
    "start_time": "2022-11-04T14:58:06.442Z"
   },
   {
    "duration": 8,
    "start_time": "2022-11-04T14:58:06.446Z"
   },
   {
    "duration": 9,
    "start_time": "2022-11-04T14:58:06.455Z"
   },
   {
    "duration": 13,
    "start_time": "2022-11-04T14:58:06.466Z"
   },
   {
    "duration": 6,
    "start_time": "2022-11-04T14:58:06.481Z"
   },
   {
    "duration": 6,
    "start_time": "2022-11-04T14:58:06.489Z"
   },
   {
    "duration": 8,
    "start_time": "2022-11-04T14:58:06.497Z"
   },
   {
    "duration": 10,
    "start_time": "2022-11-04T14:58:06.507Z"
   },
   {
    "duration": 8,
    "start_time": "2022-11-04T14:58:06.519Z"
   },
   {
    "duration": 9,
    "start_time": "2022-11-04T14:58:06.528Z"
   },
   {
    "duration": 7,
    "start_time": "2022-11-04T14:58:06.539Z"
   },
   {
    "duration": 7,
    "start_time": "2022-11-04T14:58:06.548Z"
   },
   {
    "duration": 41,
    "start_time": "2022-11-04T14:58:06.557Z"
   },
   {
    "duration": 0,
    "start_time": "2022-11-04T14:58:06.600Z"
   },
   {
    "duration": 0,
    "start_time": "2022-11-04T14:58:06.601Z"
   },
   {
    "duration": 0,
    "start_time": "2022-11-04T14:58:06.602Z"
   },
   {
    "duration": 0,
    "start_time": "2022-11-04T14:58:06.603Z"
   },
   {
    "duration": 0,
    "start_time": "2022-11-04T14:58:06.605Z"
   },
   {
    "duration": 0,
    "start_time": "2022-11-04T14:58:06.606Z"
   },
   {
    "duration": 0,
    "start_time": "2022-11-04T14:58:06.607Z"
   },
   {
    "duration": 0,
    "start_time": "2022-11-04T14:58:06.608Z"
   },
   {
    "duration": 10,
    "start_time": "2022-11-04T14:58:40.229Z"
   },
   {
    "duration": 2,
    "start_time": "2022-11-04T14:58:45.207Z"
   },
   {
    "duration": 156,
    "start_time": "2022-11-04T14:58:45.211Z"
   },
   {
    "duration": 10,
    "start_time": "2022-11-04T14:58:45.369Z"
   },
   {
    "duration": 39,
    "start_time": "2022-11-04T14:58:45.381Z"
   },
   {
    "duration": 3,
    "start_time": "2022-11-04T14:58:45.422Z"
   },
   {
    "duration": 6,
    "start_time": "2022-11-04T14:58:45.426Z"
   },
   {
    "duration": 13,
    "start_time": "2022-11-04T14:58:45.434Z"
   },
   {
    "duration": 4,
    "start_time": "2022-11-04T14:58:45.448Z"
   },
   {
    "duration": 27,
    "start_time": "2022-11-04T14:58:45.454Z"
   },
   {
    "duration": 44,
    "start_time": "2022-11-04T14:58:45.483Z"
   },
   {
    "duration": 23,
    "start_time": "2022-11-04T14:58:45.528Z"
   },
   {
    "duration": 80,
    "start_time": "2022-11-04T14:58:45.552Z"
   },
   {
    "duration": 71,
    "start_time": "2022-11-04T14:58:45.634Z"
   },
   {
    "duration": 73,
    "start_time": "2022-11-04T14:58:45.707Z"
   },
   {
    "duration": 58,
    "start_time": "2022-11-04T14:58:45.782Z"
   },
   {
    "duration": 707,
    "start_time": "2022-11-04T14:58:45.842Z"
   },
   {
    "duration": 0,
    "start_time": "2022-11-04T14:58:46.551Z"
   },
   {
    "duration": 0,
    "start_time": "2022-11-04T14:58:46.553Z"
   },
   {
    "duration": 0,
    "start_time": "2022-11-04T14:58:46.554Z"
   },
   {
    "duration": 0,
    "start_time": "2022-11-04T14:58:46.555Z"
   },
   {
    "duration": 0,
    "start_time": "2022-11-04T14:58:46.557Z"
   },
   {
    "duration": 0,
    "start_time": "2022-11-04T14:58:46.558Z"
   },
   {
    "duration": 0,
    "start_time": "2022-11-04T14:58:46.559Z"
   },
   {
    "duration": 0,
    "start_time": "2022-11-04T14:58:46.560Z"
   },
   {
    "duration": 0,
    "start_time": "2022-11-04T14:58:46.562Z"
   },
   {
    "duration": 0,
    "start_time": "2022-11-04T14:58:46.563Z"
   },
   {
    "duration": 0,
    "start_time": "2022-11-04T14:58:46.564Z"
   },
   {
    "duration": 0,
    "start_time": "2022-11-04T14:58:46.565Z"
   },
   {
    "duration": 0,
    "start_time": "2022-11-04T14:58:46.566Z"
   },
   {
    "duration": 0,
    "start_time": "2022-11-04T14:58:46.567Z"
   },
   {
    "duration": 0,
    "start_time": "2022-11-04T14:58:46.568Z"
   },
   {
    "duration": 0,
    "start_time": "2022-11-04T14:58:46.569Z"
   },
   {
    "duration": 0,
    "start_time": "2022-11-04T14:58:46.570Z"
   },
   {
    "duration": 0,
    "start_time": "2022-11-04T14:58:46.571Z"
   },
   {
    "duration": 0,
    "start_time": "2022-11-04T14:58:46.571Z"
   },
   {
    "duration": 0,
    "start_time": "2022-11-04T14:58:46.572Z"
   },
   {
    "duration": 0,
    "start_time": "2022-11-04T14:58:46.573Z"
   },
   {
    "duration": 0,
    "start_time": "2022-11-04T14:58:46.574Z"
   },
   {
    "duration": 50,
    "start_time": "2022-11-04T18:18:43.775Z"
   },
   {
    "duration": 7,
    "start_time": "2022-11-04T18:19:06.995Z"
   },
   {
    "duration": 6,
    "start_time": "2022-11-04T18:19:11.663Z"
   },
   {
    "duration": 403,
    "start_time": "2022-11-04T18:23:39.283Z"
   },
   {
    "duration": 893,
    "start_time": "2022-11-04T18:23:39.688Z"
   },
   {
    "duration": 22,
    "start_time": "2022-11-04T18:23:40.583Z"
   },
   {
    "duration": 34,
    "start_time": "2022-11-04T18:23:40.606Z"
   },
   {
    "duration": 3,
    "start_time": "2022-11-04T18:23:40.642Z"
   },
   {
    "duration": 5,
    "start_time": "2022-11-04T18:23:40.647Z"
   },
   {
    "duration": 12,
    "start_time": "2022-11-04T18:23:40.654Z"
   },
   {
    "duration": 6,
    "start_time": "2022-11-04T18:23:40.668Z"
   },
   {
    "duration": 60,
    "start_time": "2022-11-04T18:23:40.676Z"
   },
   {
    "duration": 22,
    "start_time": "2022-11-04T18:23:40.738Z"
   },
   {
    "duration": 28,
    "start_time": "2022-11-04T18:23:40.762Z"
   },
   {
    "duration": 97,
    "start_time": "2022-11-04T18:23:40.791Z"
   },
   {
    "duration": 92,
    "start_time": "2022-11-04T18:23:40.890Z"
   },
   {
    "duration": 87,
    "start_time": "2022-11-04T18:23:40.986Z"
   },
   {
    "duration": 54,
    "start_time": "2022-11-04T18:23:41.075Z"
   },
   {
    "duration": 116,
    "start_time": "2022-11-04T18:23:41.130Z"
   },
   {
    "duration": 34,
    "start_time": "2022-11-04T18:23:41.248Z"
   },
   {
    "duration": 2,
    "start_time": "2022-11-04T18:23:41.284Z"
   },
   {
    "duration": 4,
    "start_time": "2022-11-04T18:23:41.288Z"
   },
   {
    "duration": 5,
    "start_time": "2022-11-04T18:23:41.294Z"
   },
   {
    "duration": 5,
    "start_time": "2022-11-04T18:23:41.301Z"
   },
   {
    "duration": 5,
    "start_time": "2022-11-04T18:23:41.324Z"
   },
   {
    "duration": 3,
    "start_time": "2022-11-04T18:23:41.331Z"
   },
   {
    "duration": 5,
    "start_time": "2022-11-04T18:23:41.335Z"
   },
   {
    "duration": 5,
    "start_time": "2022-11-04T18:23:41.341Z"
   },
   {
    "duration": 4,
    "start_time": "2022-11-04T18:23:41.347Z"
   },
   {
    "duration": 3,
    "start_time": "2022-11-04T18:23:41.353Z"
   },
   {
    "duration": 3,
    "start_time": "2022-11-04T18:23:41.358Z"
   },
   {
    "duration": 4,
    "start_time": "2022-11-04T18:23:41.362Z"
   },
   {
    "duration": 77,
    "start_time": "2022-11-04T18:23:41.367Z"
   },
   {
    "duration": 0,
    "start_time": "2022-11-04T18:23:41.446Z"
   },
   {
    "duration": 0,
    "start_time": "2022-11-04T18:23:41.448Z"
   },
   {
    "duration": 0,
    "start_time": "2022-11-04T18:23:41.449Z"
   },
   {
    "duration": 0,
    "start_time": "2022-11-04T18:23:41.451Z"
   },
   {
    "duration": 0,
    "start_time": "2022-11-04T18:23:41.453Z"
   },
   {
    "duration": 0,
    "start_time": "2022-11-04T18:23:41.455Z"
   },
   {
    "duration": 0,
    "start_time": "2022-11-04T18:23:41.457Z"
   },
   {
    "duration": 0,
    "start_time": "2022-11-04T18:23:41.458Z"
   },
   {
    "duration": 6,
    "start_time": "2022-11-04T18:25:30.821Z"
   },
   {
    "duration": 5,
    "start_time": "2022-11-04T18:25:39.780Z"
   },
   {
    "duration": 9,
    "start_time": "2022-11-04T18:27:09.143Z"
   },
   {
    "duration": 3,
    "start_time": "2022-11-04T18:27:40.430Z"
   },
   {
    "duration": 204,
    "start_time": "2022-11-04T18:27:40.435Z"
   },
   {
    "duration": 12,
    "start_time": "2022-11-04T18:27:40.641Z"
   },
   {
    "duration": 32,
    "start_time": "2022-11-04T18:27:40.655Z"
   },
   {
    "duration": 3,
    "start_time": "2022-11-04T18:27:40.689Z"
   },
   {
    "duration": 6,
    "start_time": "2022-11-04T18:27:40.693Z"
   },
   {
    "duration": 11,
    "start_time": "2022-11-04T18:27:40.723Z"
   },
   {
    "duration": 4,
    "start_time": "2022-11-04T18:27:40.736Z"
   },
   {
    "duration": 32,
    "start_time": "2022-11-04T18:27:40.742Z"
   },
   {
    "duration": 28,
    "start_time": "2022-11-04T18:27:40.776Z"
   },
   {
    "duration": 43,
    "start_time": "2022-11-04T18:27:40.806Z"
   },
   {
    "duration": 95,
    "start_time": "2022-11-04T18:27:40.851Z"
   },
   {
    "duration": 80,
    "start_time": "2022-11-04T18:27:40.947Z"
   },
   {
    "duration": 69,
    "start_time": "2022-11-04T18:27:41.031Z"
   },
   {
    "duration": 63,
    "start_time": "2022-11-04T18:27:41.101Z"
   },
   {
    "duration": 122,
    "start_time": "2022-11-04T18:27:41.166Z"
   },
   {
    "duration": 2,
    "start_time": "2022-11-04T18:27:41.289Z"
   },
   {
    "duration": 38,
    "start_time": "2022-11-04T18:27:41.293Z"
   },
   {
    "duration": 27,
    "start_time": "2022-11-04T18:27:41.333Z"
   },
   {
    "duration": 22,
    "start_time": "2022-11-04T18:27:41.361Z"
   },
   {
    "duration": 24,
    "start_time": "2022-11-04T18:27:41.386Z"
   },
   {
    "duration": 41,
    "start_time": "2022-11-04T18:27:41.412Z"
   },
   {
    "duration": 20,
    "start_time": "2022-11-04T18:27:41.455Z"
   },
   {
    "duration": 35,
    "start_time": "2022-11-04T18:27:41.477Z"
   },
   {
    "duration": 31,
    "start_time": "2022-11-04T18:27:41.514Z"
   },
   {
    "duration": 28,
    "start_time": "2022-11-04T18:27:41.547Z"
   },
   {
    "duration": 22,
    "start_time": "2022-11-04T18:27:41.578Z"
   },
   {
    "duration": 25,
    "start_time": "2022-11-04T18:27:41.602Z"
   },
   {
    "duration": 32,
    "start_time": "2022-11-04T18:27:41.629Z"
   },
   {
    "duration": 74,
    "start_time": "2022-11-04T18:27:41.663Z"
   },
   {
    "duration": 0,
    "start_time": "2022-11-04T18:27:41.739Z"
   },
   {
    "duration": 0,
    "start_time": "2022-11-04T18:27:41.740Z"
   },
   {
    "duration": 0,
    "start_time": "2022-11-04T18:27:41.741Z"
   },
   {
    "duration": 0,
    "start_time": "2022-11-04T18:27:41.743Z"
   },
   {
    "duration": 0,
    "start_time": "2022-11-04T18:27:41.744Z"
   },
   {
    "duration": 0,
    "start_time": "2022-11-04T18:27:41.746Z"
   },
   {
    "duration": 0,
    "start_time": "2022-11-04T18:27:41.747Z"
   },
   {
    "duration": 0,
    "start_time": "2022-11-04T18:27:41.748Z"
   },
   {
    "duration": 357,
    "start_time": "2022-11-05T07:19:48.687Z"
   },
   {
    "duration": 453,
    "start_time": "2022-11-05T07:19:49.046Z"
   },
   {
    "duration": 15,
    "start_time": "2022-11-05T07:19:49.501Z"
   },
   {
    "duration": 28,
    "start_time": "2022-11-05T07:19:49.517Z"
   },
   {
    "duration": 8,
    "start_time": "2022-11-05T07:19:49.547Z"
   },
   {
    "duration": 10,
    "start_time": "2022-11-05T07:19:49.556Z"
   },
   {
    "duration": 15,
    "start_time": "2022-11-05T07:19:49.567Z"
   },
   {
    "duration": 7,
    "start_time": "2022-11-05T07:19:49.583Z"
   },
   {
    "duration": 22,
    "start_time": "2022-11-05T07:19:49.591Z"
   },
   {
    "duration": 20,
    "start_time": "2022-11-05T07:19:49.616Z"
   },
   {
    "duration": 19,
    "start_time": "2022-11-05T07:19:49.638Z"
   },
   {
    "duration": 67,
    "start_time": "2022-11-05T07:19:49.659Z"
   },
   {
    "duration": 67,
    "start_time": "2022-11-05T07:19:49.727Z"
   },
   {
    "duration": 77,
    "start_time": "2022-11-05T07:19:49.796Z"
   },
   {
    "duration": 37,
    "start_time": "2022-11-05T07:19:49.874Z"
   },
   {
    "duration": 87,
    "start_time": "2022-11-05T07:19:49.912Z"
   },
   {
    "duration": 3,
    "start_time": "2022-11-05T07:19:50.000Z"
   },
   {
    "duration": 18,
    "start_time": "2022-11-05T07:19:50.004Z"
   },
   {
    "duration": 24,
    "start_time": "2022-11-05T07:19:50.023Z"
   },
   {
    "duration": 15,
    "start_time": "2022-11-05T07:19:50.048Z"
   },
   {
    "duration": 26,
    "start_time": "2022-11-05T07:19:50.065Z"
   },
   {
    "duration": 22,
    "start_time": "2022-11-05T07:19:50.092Z"
   },
   {
    "duration": 28,
    "start_time": "2022-11-05T07:19:50.116Z"
   },
   {
    "duration": 9,
    "start_time": "2022-11-05T07:19:50.146Z"
   },
   {
    "duration": 24,
    "start_time": "2022-11-05T07:19:50.157Z"
   },
   {
    "duration": 18,
    "start_time": "2022-11-05T07:19:50.182Z"
   },
   {
    "duration": 32,
    "start_time": "2022-11-05T07:19:50.201Z"
   },
   {
    "duration": 5,
    "start_time": "2022-11-05T07:19:50.236Z"
   },
   {
    "duration": 5,
    "start_time": "2022-11-05T07:19:50.243Z"
   },
   {
    "duration": 75,
    "start_time": "2022-11-05T07:19:50.249Z"
   },
   {
    "duration": 1,
    "start_time": "2022-11-05T07:19:50.325Z"
   },
   {
    "duration": 0,
    "start_time": "2022-11-05T07:19:50.327Z"
   },
   {
    "duration": 0,
    "start_time": "2022-11-05T07:19:50.328Z"
   },
   {
    "duration": 0,
    "start_time": "2022-11-05T07:19:50.329Z"
   },
   {
    "duration": 0,
    "start_time": "2022-11-05T07:19:50.330Z"
   },
   {
    "duration": 0,
    "start_time": "2022-11-05T07:19:50.331Z"
   },
   {
    "duration": 0,
    "start_time": "2022-11-05T07:19:50.332Z"
   },
   {
    "duration": 0,
    "start_time": "2022-11-05T07:19:50.333Z"
   },
   {
    "duration": 38,
    "start_time": "2022-11-05T07:22:16.146Z"
   },
   {
    "duration": 71,
    "start_time": "2022-11-05T07:22:40.241Z"
   },
   {
    "duration": 10,
    "start_time": "2022-11-05T07:23:47.103Z"
   },
   {
    "duration": 1170,
    "start_time": "2022-11-05T07:25:05.462Z"
   },
   {
    "duration": 1171,
    "start_time": "2022-11-05T07:30:37.428Z"
   },
   {
    "duration": 385,
    "start_time": "2022-11-05T07:30:58.025Z"
   },
   {
    "duration": 155,
    "start_time": "2022-11-05T07:30:58.412Z"
   },
   {
    "duration": 16,
    "start_time": "2022-11-05T07:30:58.569Z"
   },
   {
    "duration": 24,
    "start_time": "2022-11-05T07:30:58.586Z"
   },
   {
    "duration": 2,
    "start_time": "2022-11-05T07:30:58.621Z"
   },
   {
    "duration": 7,
    "start_time": "2022-11-05T07:30:58.624Z"
   },
   {
    "duration": 12,
    "start_time": "2022-11-05T07:30:58.632Z"
   },
   {
    "duration": 6,
    "start_time": "2022-11-05T07:30:58.645Z"
   },
   {
    "duration": 22,
    "start_time": "2022-11-05T07:30:58.653Z"
   },
   {
    "duration": 28,
    "start_time": "2022-11-05T07:30:58.677Z"
   },
   {
    "duration": 31,
    "start_time": "2022-11-05T07:30:58.706Z"
   },
   {
    "duration": 60,
    "start_time": "2022-11-05T07:30:58.739Z"
   },
   {
    "duration": 80,
    "start_time": "2022-11-05T07:30:58.800Z"
   },
   {
    "duration": 66,
    "start_time": "2022-11-05T07:30:58.884Z"
   },
   {
    "duration": 38,
    "start_time": "2022-11-05T07:30:58.951Z"
   },
   {
    "duration": 89,
    "start_time": "2022-11-05T07:30:58.990Z"
   },
   {
    "duration": 41,
    "start_time": "2022-11-05T07:30:59.080Z"
   },
   {
    "duration": 2,
    "start_time": "2022-11-05T07:30:59.123Z"
   },
   {
    "duration": 5,
    "start_time": "2022-11-05T07:30:59.127Z"
   },
   {
    "duration": 6,
    "start_time": "2022-11-05T07:30:59.133Z"
   },
   {
    "duration": 13,
    "start_time": "2022-11-05T07:30:59.141Z"
   },
   {
    "duration": 13,
    "start_time": "2022-11-05T07:30:59.156Z"
   },
   {
    "duration": 5,
    "start_time": "2022-11-05T07:30:59.171Z"
   },
   {
    "duration": 6,
    "start_time": "2022-11-05T07:30:59.177Z"
   },
   {
    "duration": 7,
    "start_time": "2022-11-05T07:30:59.184Z"
   },
   {
    "duration": 5,
    "start_time": "2022-11-05T07:30:59.192Z"
   },
   {
    "duration": 11,
    "start_time": "2022-11-05T07:30:59.198Z"
   },
   {
    "duration": 5,
    "start_time": "2022-11-05T07:30:59.210Z"
   },
   {
    "duration": 6,
    "start_time": "2022-11-05T07:30:59.216Z"
   },
   {
    "duration": 93,
    "start_time": "2022-11-05T07:30:59.223Z"
   },
   {
    "duration": 0,
    "start_time": "2022-11-05T07:30:59.318Z"
   },
   {
    "duration": 0,
    "start_time": "2022-11-05T07:30:59.319Z"
   },
   {
    "duration": 0,
    "start_time": "2022-11-05T07:30:59.320Z"
   },
   {
    "duration": 0,
    "start_time": "2022-11-05T07:30:59.321Z"
   },
   {
    "duration": 0,
    "start_time": "2022-11-05T07:30:59.322Z"
   },
   {
    "duration": 0,
    "start_time": "2022-11-05T07:30:59.323Z"
   },
   {
    "duration": 0,
    "start_time": "2022-11-05T07:30:59.324Z"
   },
   {
    "duration": 0,
    "start_time": "2022-11-05T07:30:59.325Z"
   },
   {
    "duration": 32,
    "start_time": "2022-11-05T07:31:18.430Z"
   },
   {
    "duration": 76,
    "start_time": "2022-11-05T07:33:28.822Z"
   },
   {
    "duration": 15,
    "start_time": "2022-11-05T07:33:36.151Z"
   },
   {
    "duration": 393,
    "start_time": "2022-11-05T07:55:21.343Z"
   },
   {
    "duration": 142,
    "start_time": "2022-11-05T07:55:21.738Z"
   },
   {
    "duration": 17,
    "start_time": "2022-11-05T07:55:21.881Z"
   },
   {
    "duration": 35,
    "start_time": "2022-11-05T07:55:21.900Z"
   },
   {
    "duration": 2,
    "start_time": "2022-11-05T07:55:21.937Z"
   },
   {
    "duration": 9,
    "start_time": "2022-11-05T07:55:21.940Z"
   },
   {
    "duration": 12,
    "start_time": "2022-11-05T07:55:21.950Z"
   },
   {
    "duration": 8,
    "start_time": "2022-11-05T07:55:21.964Z"
   },
   {
    "duration": 23,
    "start_time": "2022-11-05T07:55:21.973Z"
   },
   {
    "duration": 35,
    "start_time": "2022-11-05T07:55:21.998Z"
   },
   {
    "duration": 24,
    "start_time": "2022-11-05T07:55:22.034Z"
   },
   {
    "duration": 71,
    "start_time": "2022-11-05T07:55:22.060Z"
   },
   {
    "duration": 76,
    "start_time": "2022-11-05T07:55:22.133Z"
   },
   {
    "duration": 67,
    "start_time": "2022-11-05T07:55:22.221Z"
   },
   {
    "duration": 52,
    "start_time": "2022-11-05T07:55:22.289Z"
   },
   {
    "duration": 108,
    "start_time": "2022-11-05T07:55:22.343Z"
   },
   {
    "duration": 38,
    "start_time": "2022-11-05T07:55:22.452Z"
   },
   {
    "duration": 74,
    "start_time": "2022-11-05T07:55:22.491Z"
   },
   {
    "duration": 0,
    "start_time": "2022-11-05T07:55:22.567Z"
   },
   {
    "duration": 0,
    "start_time": "2022-11-05T07:55:22.569Z"
   },
   {
    "duration": 0,
    "start_time": "2022-11-05T07:55:22.570Z"
   },
   {
    "duration": 0,
    "start_time": "2022-11-05T07:55:22.572Z"
   },
   {
    "duration": 0,
    "start_time": "2022-11-05T07:55:22.573Z"
   },
   {
    "duration": 0,
    "start_time": "2022-11-05T07:55:22.575Z"
   },
   {
    "duration": 1,
    "start_time": "2022-11-05T07:55:22.576Z"
   },
   {
    "duration": 0,
    "start_time": "2022-11-05T07:55:22.578Z"
   },
   {
    "duration": 0,
    "start_time": "2022-11-05T07:55:22.579Z"
   },
   {
    "duration": 0,
    "start_time": "2022-11-05T07:55:22.580Z"
   },
   {
    "duration": 0,
    "start_time": "2022-11-05T07:55:22.582Z"
   },
   {
    "duration": 0,
    "start_time": "2022-11-05T07:55:22.584Z"
   },
   {
    "duration": 0,
    "start_time": "2022-11-05T07:55:22.585Z"
   },
   {
    "duration": 0,
    "start_time": "2022-11-05T07:55:22.621Z"
   },
   {
    "duration": 1,
    "start_time": "2022-11-05T07:55:22.622Z"
   },
   {
    "duration": 0,
    "start_time": "2022-11-05T07:55:22.623Z"
   },
   {
    "duration": 0,
    "start_time": "2022-11-05T07:55:22.624Z"
   },
   {
    "duration": 0,
    "start_time": "2022-11-05T07:55:22.625Z"
   },
   {
    "duration": 0,
    "start_time": "2022-11-05T07:55:22.626Z"
   },
   {
    "duration": 0,
    "start_time": "2022-11-05T07:55:22.627Z"
   },
   {
    "duration": 10,
    "start_time": "2022-11-05T07:56:38.720Z"
   },
   {
    "duration": 400,
    "start_time": "2022-11-05T07:56:53.717Z"
   },
   {
    "duration": 147,
    "start_time": "2022-11-05T07:56:54.119Z"
   },
   {
    "duration": 14,
    "start_time": "2022-11-05T07:56:54.268Z"
   },
   {
    "duration": 24,
    "start_time": "2022-11-05T07:56:54.284Z"
   },
   {
    "duration": 12,
    "start_time": "2022-11-05T07:56:54.310Z"
   },
   {
    "duration": 7,
    "start_time": "2022-11-05T07:56:54.323Z"
   },
   {
    "duration": 14,
    "start_time": "2022-11-05T07:56:54.331Z"
   },
   {
    "duration": 8,
    "start_time": "2022-11-05T07:56:54.347Z"
   },
   {
    "duration": 22,
    "start_time": "2022-11-05T07:56:54.356Z"
   },
   {
    "duration": 17,
    "start_time": "2022-11-05T07:56:54.380Z"
   },
   {
    "duration": 33,
    "start_time": "2022-11-05T07:56:54.399Z"
   },
   {
    "duration": 67,
    "start_time": "2022-11-05T07:56:54.433Z"
   },
   {
    "duration": 75,
    "start_time": "2022-11-05T07:56:54.501Z"
   },
   {
    "duration": 67,
    "start_time": "2022-11-05T07:56:54.580Z"
   },
   {
    "duration": 38,
    "start_time": "2022-11-05T07:56:54.648Z"
   },
   {
    "duration": 88,
    "start_time": "2022-11-05T07:56:54.688Z"
   },
   {
    "duration": 44,
    "start_time": "2022-11-05T07:56:54.778Z"
   },
   {
    "duration": 59,
    "start_time": "2022-11-05T07:56:54.823Z"
   },
   {
    "duration": 0,
    "start_time": "2022-11-05T07:56:54.883Z"
   },
   {
    "duration": 0,
    "start_time": "2022-11-05T07:56:54.885Z"
   },
   {
    "duration": 0,
    "start_time": "2022-11-05T07:56:54.886Z"
   },
   {
    "duration": 0,
    "start_time": "2022-11-05T07:56:54.887Z"
   },
   {
    "duration": 0,
    "start_time": "2022-11-05T07:56:54.888Z"
   },
   {
    "duration": 0,
    "start_time": "2022-11-05T07:56:54.889Z"
   },
   {
    "duration": 0,
    "start_time": "2022-11-05T07:56:54.890Z"
   },
   {
    "duration": 0,
    "start_time": "2022-11-05T07:56:54.891Z"
   },
   {
    "duration": 0,
    "start_time": "2022-11-05T07:56:54.892Z"
   },
   {
    "duration": 0,
    "start_time": "2022-11-05T07:56:54.893Z"
   },
   {
    "duration": 0,
    "start_time": "2022-11-05T07:56:54.894Z"
   },
   {
    "duration": 0,
    "start_time": "2022-11-05T07:56:54.925Z"
   },
   {
    "duration": 0,
    "start_time": "2022-11-05T07:56:54.926Z"
   },
   {
    "duration": 0,
    "start_time": "2022-11-05T07:56:54.928Z"
   },
   {
    "duration": 0,
    "start_time": "2022-11-05T07:56:54.929Z"
   },
   {
    "duration": 0,
    "start_time": "2022-11-05T07:56:54.930Z"
   },
   {
    "duration": 0,
    "start_time": "2022-11-05T07:56:54.931Z"
   },
   {
    "duration": 0,
    "start_time": "2022-11-05T07:56:54.932Z"
   },
   {
    "duration": 0,
    "start_time": "2022-11-05T07:56:54.934Z"
   },
   {
    "duration": 0,
    "start_time": "2022-11-05T07:56:54.935Z"
   },
   {
    "duration": 9,
    "start_time": "2022-11-05T07:57:25.677Z"
   },
   {
    "duration": 9,
    "start_time": "2022-11-05T07:57:41.598Z"
   },
   {
    "duration": 8,
    "start_time": "2022-11-05T07:58:38.963Z"
   },
   {
    "duration": 14,
    "start_time": "2022-11-05T07:59:43.186Z"
   },
   {
    "duration": 10,
    "start_time": "2022-11-05T08:01:21.761Z"
   },
   {
    "duration": 10,
    "start_time": "2022-11-05T08:03:49.807Z"
   },
   {
    "duration": 7,
    "start_time": "2022-11-05T08:05:37.612Z"
   },
   {
    "duration": 7,
    "start_time": "2022-11-05T08:10:24.021Z"
   },
   {
    "duration": 10,
    "start_time": "2022-11-05T08:11:05.903Z"
   },
   {
    "duration": 10,
    "start_time": "2022-11-05T08:17:27.908Z"
   },
   {
    "duration": 56,
    "start_time": "2022-11-05T08:21:52.384Z"
   },
   {
    "duration": 62,
    "start_time": "2022-11-05T08:22:01.519Z"
   },
   {
    "duration": 402,
    "start_time": "2022-11-05T08:22:52.031Z"
   },
   {
    "duration": 151,
    "start_time": "2022-11-05T08:22:52.434Z"
   },
   {
    "duration": 15,
    "start_time": "2022-11-05T08:22:52.586Z"
   },
   {
    "duration": 26,
    "start_time": "2022-11-05T08:22:52.603Z"
   },
   {
    "duration": 2,
    "start_time": "2022-11-05T08:22:52.631Z"
   },
   {
    "duration": 6,
    "start_time": "2022-11-05T08:22:52.635Z"
   },
   {
    "duration": 15,
    "start_time": "2022-11-05T08:22:52.643Z"
   },
   {
    "duration": 6,
    "start_time": "2022-11-05T08:22:52.660Z"
   },
   {
    "duration": 22,
    "start_time": "2022-11-05T08:22:52.667Z"
   },
   {
    "duration": 46,
    "start_time": "2022-11-05T08:22:52.691Z"
   },
   {
    "duration": 22,
    "start_time": "2022-11-05T08:22:52.739Z"
   },
   {
    "duration": 72,
    "start_time": "2022-11-05T08:22:52.763Z"
   },
   {
    "duration": 68,
    "start_time": "2022-11-05T08:22:52.837Z"
   },
   {
    "duration": 55,
    "start_time": "2022-11-05T08:22:52.923Z"
   },
   {
    "duration": 48,
    "start_time": "2022-11-05T08:22:52.980Z"
   },
   {
    "duration": 82,
    "start_time": "2022-11-05T08:22:53.029Z"
   },
   {
    "duration": 39,
    "start_time": "2022-11-05T08:22:53.112Z"
   },
   {
    "duration": 9,
    "start_time": "2022-11-05T08:22:53.153Z"
   },
   {
    "duration": 2,
    "start_time": "2022-11-05T08:22:53.164Z"
   },
   {
    "duration": 6,
    "start_time": "2022-11-05T08:22:53.167Z"
   },
   {
    "duration": 9,
    "start_time": "2022-11-05T08:22:53.174Z"
   },
   {
    "duration": 5,
    "start_time": "2022-11-05T08:22:53.185Z"
   },
   {
    "duration": 5,
    "start_time": "2022-11-05T08:22:53.191Z"
   },
   {
    "duration": 25,
    "start_time": "2022-11-05T08:22:53.197Z"
   },
   {
    "duration": 7,
    "start_time": "2022-11-05T08:22:53.223Z"
   },
   {
    "duration": 5,
    "start_time": "2022-11-05T08:22:53.232Z"
   },
   {
    "duration": 5,
    "start_time": "2022-11-05T08:22:53.238Z"
   },
   {
    "duration": 5,
    "start_time": "2022-11-05T08:22:53.244Z"
   },
   {
    "duration": 4,
    "start_time": "2022-11-05T08:22:53.251Z"
   },
   {
    "duration": 67,
    "start_time": "2022-11-05T08:22:53.256Z"
   },
   {
    "duration": 0,
    "start_time": "2022-11-05T08:22:53.324Z"
   },
   {
    "duration": 0,
    "start_time": "2022-11-05T08:22:53.325Z"
   },
   {
    "duration": 0,
    "start_time": "2022-11-05T08:22:53.327Z"
   },
   {
    "duration": 0,
    "start_time": "2022-11-05T08:22:53.328Z"
   },
   {
    "duration": 0,
    "start_time": "2022-11-05T08:22:53.329Z"
   },
   {
    "duration": 0,
    "start_time": "2022-11-05T08:22:53.331Z"
   },
   {
    "duration": 0,
    "start_time": "2022-11-05T08:22:53.332Z"
   },
   {
    "duration": 0,
    "start_time": "2022-11-05T08:22:53.334Z"
   },
   {
    "duration": 63,
    "start_time": "2022-11-05T08:23:08.705Z"
   },
   {
    "duration": 52,
    "start_time": "2022-11-05T08:23:14.494Z"
   },
   {
    "duration": 12,
    "start_time": "2022-11-05T08:23:26.153Z"
   },
   {
    "duration": 11,
    "start_time": "2022-11-05T08:26:20.606Z"
   },
   {
    "duration": 54,
    "start_time": "2022-11-05T08:36:15.425Z"
   },
   {
    "duration": 84,
    "start_time": "2022-11-05T08:48:44.579Z"
   },
   {
    "duration": 70,
    "start_time": "2022-11-05T08:49:03.724Z"
   },
   {
    "duration": 77,
    "start_time": "2022-11-05T08:51:00.847Z"
   },
   {
    "duration": 72,
    "start_time": "2022-11-05T08:51:10.972Z"
   },
   {
    "duration": 367,
    "start_time": "2022-11-05T08:51:19.684Z"
   },
   {
    "duration": 151,
    "start_time": "2022-11-05T08:51:20.053Z"
   },
   {
    "duration": 16,
    "start_time": "2022-11-05T08:51:20.206Z"
   },
   {
    "duration": 23,
    "start_time": "2022-11-05T08:51:20.224Z"
   },
   {
    "duration": 2,
    "start_time": "2022-11-05T08:51:20.249Z"
   },
   {
    "duration": 12,
    "start_time": "2022-11-05T08:51:20.252Z"
   },
   {
    "duration": 11,
    "start_time": "2022-11-05T08:51:20.265Z"
   },
   {
    "duration": 7,
    "start_time": "2022-11-05T08:51:20.277Z"
   },
   {
    "duration": 50,
    "start_time": "2022-11-05T08:51:20.285Z"
   },
   {
    "duration": 18,
    "start_time": "2022-11-05T08:51:20.337Z"
   },
   {
    "duration": 27,
    "start_time": "2022-11-05T08:51:20.356Z"
   },
   {
    "duration": 71,
    "start_time": "2022-11-05T08:51:20.385Z"
   },
   {
    "duration": 75,
    "start_time": "2022-11-05T08:51:20.457Z"
   },
   {
    "duration": 63,
    "start_time": "2022-11-05T08:51:20.534Z"
   },
   {
    "duration": 66,
    "start_time": "2022-11-05T08:51:20.599Z"
   },
   {
    "duration": 88,
    "start_time": "2022-11-05T08:51:20.667Z"
   },
   {
    "duration": 33,
    "start_time": "2022-11-05T08:51:20.756Z"
   },
   {
    "duration": 11,
    "start_time": "2022-11-05T08:51:20.790Z"
   },
   {
    "duration": 29,
    "start_time": "2022-11-05T08:51:20.802Z"
   },
   {
    "duration": 74,
    "start_time": "2022-11-05T08:51:20.832Z"
   },
   {
    "duration": 0,
    "start_time": "2022-11-05T08:51:20.908Z"
   },
   {
    "duration": 0,
    "start_time": "2022-11-05T08:51:20.910Z"
   },
   {
    "duration": 0,
    "start_time": "2022-11-05T08:51:20.911Z"
   },
   {
    "duration": 0,
    "start_time": "2022-11-05T08:51:20.912Z"
   },
   {
    "duration": 0,
    "start_time": "2022-11-05T08:51:20.913Z"
   },
   {
    "duration": 0,
    "start_time": "2022-11-05T08:51:20.914Z"
   },
   {
    "duration": 0,
    "start_time": "2022-11-05T08:51:20.915Z"
   },
   {
    "duration": 0,
    "start_time": "2022-11-05T08:51:20.916Z"
   },
   {
    "duration": 0,
    "start_time": "2022-11-05T08:51:20.916Z"
   },
   {
    "duration": 0,
    "start_time": "2022-11-05T08:51:20.918Z"
   },
   {
    "duration": 0,
    "start_time": "2022-11-05T08:51:20.919Z"
   },
   {
    "duration": 0,
    "start_time": "2022-11-05T08:51:20.919Z"
   },
   {
    "duration": 0,
    "start_time": "2022-11-05T08:51:20.920Z"
   },
   {
    "duration": 0,
    "start_time": "2022-11-05T08:51:20.922Z"
   },
   {
    "duration": 0,
    "start_time": "2022-11-05T08:51:20.923Z"
   },
   {
    "duration": 0,
    "start_time": "2022-11-05T08:51:20.924Z"
   },
   {
    "duration": 0,
    "start_time": "2022-11-05T08:51:20.925Z"
   },
   {
    "duration": 0,
    "start_time": "2022-11-05T08:51:20.926Z"
   },
   {
    "duration": 70,
    "start_time": "2022-11-05T08:53:31.163Z"
   },
   {
    "duration": 71,
    "start_time": "2022-11-05T08:54:33.273Z"
   },
   {
    "duration": 70,
    "start_time": "2022-11-05T08:54:41.917Z"
   },
   {
    "duration": 85,
    "start_time": "2022-11-05T08:54:46.128Z"
   },
   {
    "duration": 69,
    "start_time": "2022-11-05T08:55:37.522Z"
   },
   {
    "duration": 72,
    "start_time": "2022-11-05T08:55:51.432Z"
   },
   {
    "duration": 62,
    "start_time": "2022-11-05T09:02:15.916Z"
   },
   {
    "duration": 391,
    "start_time": "2022-11-05T09:02:28.602Z"
   },
   {
    "duration": 150,
    "start_time": "2022-11-05T09:02:28.995Z"
   },
   {
    "duration": 15,
    "start_time": "2022-11-05T09:02:29.146Z"
   },
   {
    "duration": 23,
    "start_time": "2022-11-05T09:02:29.163Z"
   },
   {
    "duration": 2,
    "start_time": "2022-11-05T09:02:29.187Z"
   },
   {
    "duration": 9,
    "start_time": "2022-11-05T09:02:29.190Z"
   },
   {
    "duration": 24,
    "start_time": "2022-11-05T09:02:29.200Z"
   },
   {
    "duration": 8,
    "start_time": "2022-11-05T09:02:29.225Z"
   },
   {
    "duration": 21,
    "start_time": "2022-11-05T09:02:29.234Z"
   },
   {
    "duration": 16,
    "start_time": "2022-11-05T09:02:29.257Z"
   },
   {
    "duration": 18,
    "start_time": "2022-11-05T09:02:29.275Z"
   },
   {
    "duration": 79,
    "start_time": "2022-11-05T09:02:29.295Z"
   },
   {
    "duration": 83,
    "start_time": "2022-11-05T09:02:29.376Z"
   },
   {
    "duration": 61,
    "start_time": "2022-11-05T09:02:29.460Z"
   },
   {
    "duration": 35,
    "start_time": "2022-11-05T09:02:29.523Z"
   },
   {
    "duration": 80,
    "start_time": "2022-11-05T09:02:29.560Z"
   },
   {
    "duration": 31,
    "start_time": "2022-11-05T09:02:29.642Z"
   },
   {
    "duration": 9,
    "start_time": "2022-11-05T09:02:29.675Z"
   },
   {
    "duration": 9,
    "start_time": "2022-11-05T09:02:29.685Z"
   },
   {
    "duration": 79,
    "start_time": "2022-11-05T09:02:29.695Z"
   },
   {
    "duration": 0,
    "start_time": "2022-11-05T09:02:29.776Z"
   },
   {
    "duration": 0,
    "start_time": "2022-11-05T09:02:29.777Z"
   },
   {
    "duration": 0,
    "start_time": "2022-11-05T09:02:29.778Z"
   },
   {
    "duration": 0,
    "start_time": "2022-11-05T09:02:29.780Z"
   },
   {
    "duration": 0,
    "start_time": "2022-11-05T09:02:29.780Z"
   },
   {
    "duration": 0,
    "start_time": "2022-11-05T09:02:29.781Z"
   },
   {
    "duration": 0,
    "start_time": "2022-11-05T09:02:29.783Z"
   },
   {
    "duration": 0,
    "start_time": "2022-11-05T09:02:29.783Z"
   },
   {
    "duration": 0,
    "start_time": "2022-11-05T09:02:29.784Z"
   },
   {
    "duration": 0,
    "start_time": "2022-11-05T09:02:29.785Z"
   },
   {
    "duration": 0,
    "start_time": "2022-11-05T09:02:29.786Z"
   },
   {
    "duration": 0,
    "start_time": "2022-11-05T09:02:29.787Z"
   },
   {
    "duration": 0,
    "start_time": "2022-11-05T09:02:29.788Z"
   },
   {
    "duration": 0,
    "start_time": "2022-11-05T09:02:29.789Z"
   },
   {
    "duration": 0,
    "start_time": "2022-11-05T09:02:29.790Z"
   },
   {
    "duration": 0,
    "start_time": "2022-11-05T09:02:29.821Z"
   },
   {
    "duration": 0,
    "start_time": "2022-11-05T09:02:29.822Z"
   },
   {
    "duration": 0,
    "start_time": "2022-11-05T09:02:29.823Z"
   },
   {
    "duration": 9,
    "start_time": "2022-11-05T09:02:37.999Z"
   },
   {
    "duration": 7,
    "start_time": "2022-11-05T09:11:20.071Z"
   },
   {
    "duration": 94,
    "start_time": "2022-11-05T09:11:51.712Z"
   },
   {
    "duration": 353,
    "start_time": "2022-11-05T09:12:04.144Z"
   },
   {
    "duration": 143,
    "start_time": "2022-11-05T09:12:04.499Z"
   },
   {
    "duration": 15,
    "start_time": "2022-11-05T09:12:04.643Z"
   },
   {
    "duration": 36,
    "start_time": "2022-11-05T09:12:04.660Z"
   },
   {
    "duration": 9,
    "start_time": "2022-11-05T09:12:04.698Z"
   },
   {
    "duration": 26,
    "start_time": "2022-11-05T09:12:04.708Z"
   },
   {
    "duration": 14,
    "start_time": "2022-11-05T09:12:04.735Z"
   },
   {
    "duration": 9,
    "start_time": "2022-11-05T09:12:04.750Z"
   },
   {
    "duration": 23,
    "start_time": "2022-11-05T09:12:04.761Z"
   },
   {
    "duration": 17,
    "start_time": "2022-11-05T09:12:04.786Z"
   },
   {
    "duration": 19,
    "start_time": "2022-11-05T09:12:04.805Z"
   },
   {
    "duration": 65,
    "start_time": "2022-11-05T09:12:04.825Z"
   },
   {
    "duration": 67,
    "start_time": "2022-11-05T09:12:04.892Z"
   },
   {
    "duration": 51,
    "start_time": "2022-11-05T09:12:04.960Z"
   },
   {
    "duration": 45,
    "start_time": "2022-11-05T09:12:05.012Z"
   },
   {
    "duration": 85,
    "start_time": "2022-11-05T09:12:05.059Z"
   },
   {
    "duration": 34,
    "start_time": "2022-11-05T09:12:05.146Z"
   },
   {
    "duration": 11,
    "start_time": "2022-11-05T09:12:05.181Z"
   },
   {
    "duration": 29,
    "start_time": "2022-11-05T09:12:05.193Z"
   },
   {
    "duration": 122,
    "start_time": "2022-11-05T09:12:05.224Z"
   },
   {
    "duration": 0,
    "start_time": "2022-11-05T09:12:05.348Z"
   },
   {
    "duration": 0,
    "start_time": "2022-11-05T09:12:05.349Z"
   },
   {
    "duration": 0,
    "start_time": "2022-11-05T09:12:05.351Z"
   },
   {
    "duration": 0,
    "start_time": "2022-11-05T09:12:05.352Z"
   },
   {
    "duration": 0,
    "start_time": "2022-11-05T09:12:05.353Z"
   },
   {
    "duration": 0,
    "start_time": "2022-11-05T09:12:05.355Z"
   },
   {
    "duration": 0,
    "start_time": "2022-11-05T09:12:05.356Z"
   },
   {
    "duration": 0,
    "start_time": "2022-11-05T09:12:05.357Z"
   },
   {
    "duration": 0,
    "start_time": "2022-11-05T09:12:05.359Z"
   },
   {
    "duration": 0,
    "start_time": "2022-11-05T09:12:05.360Z"
   },
   {
    "duration": 0,
    "start_time": "2022-11-05T09:12:05.361Z"
   },
   {
    "duration": 0,
    "start_time": "2022-11-05T09:12:05.362Z"
   },
   {
    "duration": 0,
    "start_time": "2022-11-05T09:12:05.364Z"
   },
   {
    "duration": 0,
    "start_time": "2022-11-05T09:12:05.366Z"
   },
   {
    "duration": 0,
    "start_time": "2022-11-05T09:12:05.367Z"
   },
   {
    "duration": 0,
    "start_time": "2022-11-05T09:12:05.368Z"
   },
   {
    "duration": 0,
    "start_time": "2022-11-05T09:12:05.369Z"
   },
   {
    "duration": 0,
    "start_time": "2022-11-05T09:12:05.370Z"
   },
   {
    "duration": 8,
    "start_time": "2022-11-05T09:18:15.370Z"
   },
   {
    "duration": 3,
    "start_time": "2022-11-05T09:18:22.698Z"
   },
   {
    "duration": 8,
    "start_time": "2022-11-05T09:21:18.654Z"
   },
   {
    "duration": 354,
    "start_time": "2022-11-05T09:21:47.754Z"
   },
   {
    "duration": 144,
    "start_time": "2022-11-05T09:21:48.109Z"
   },
   {
    "duration": 15,
    "start_time": "2022-11-05T09:21:48.255Z"
   },
   {
    "duration": 25,
    "start_time": "2022-11-05T09:21:48.272Z"
   },
   {
    "duration": 2,
    "start_time": "2022-11-05T09:21:48.299Z"
   },
   {
    "duration": 20,
    "start_time": "2022-11-05T09:21:48.302Z"
   },
   {
    "duration": 9,
    "start_time": "2022-11-05T09:21:48.324Z"
   },
   {
    "duration": 6,
    "start_time": "2022-11-05T09:21:48.335Z"
   },
   {
    "duration": 24,
    "start_time": "2022-11-05T09:21:48.342Z"
   },
   {
    "duration": 16,
    "start_time": "2022-11-05T09:21:48.368Z"
   },
   {
    "duration": 37,
    "start_time": "2022-11-05T09:21:48.386Z"
   },
   {
    "duration": 57,
    "start_time": "2022-11-05T09:21:48.425Z"
   },
   {
    "duration": 82,
    "start_time": "2022-11-05T09:21:48.484Z"
   },
   {
    "duration": 61,
    "start_time": "2022-11-05T09:21:48.568Z"
   },
   {
    "duration": 38,
    "start_time": "2022-11-05T09:21:48.631Z"
   },
   {
    "duration": 88,
    "start_time": "2022-11-05T09:21:48.671Z"
   },
   {
    "duration": 34,
    "start_time": "2022-11-05T09:21:48.761Z"
   },
   {
    "duration": 10,
    "start_time": "2022-11-05T09:21:48.796Z"
   },
   {
    "duration": 22,
    "start_time": "2022-11-05T09:21:48.807Z"
   },
   {
    "duration": 8,
    "start_time": "2022-11-05T09:21:48.830Z"
   },
   {
    "duration": 67,
    "start_time": "2022-11-05T09:21:48.840Z"
   },
   {
    "duration": 0,
    "start_time": "2022-11-05T09:21:48.909Z"
   },
   {
    "duration": 0,
    "start_time": "2022-11-05T09:21:48.910Z"
   },
   {
    "duration": 0,
    "start_time": "2022-11-05T09:21:48.911Z"
   },
   {
    "duration": 0,
    "start_time": "2022-11-05T09:21:48.912Z"
   },
   {
    "duration": 0,
    "start_time": "2022-11-05T09:21:48.913Z"
   },
   {
    "duration": 0,
    "start_time": "2022-11-05T09:21:48.914Z"
   },
   {
    "duration": 0,
    "start_time": "2022-11-05T09:21:48.921Z"
   },
   {
    "duration": 0,
    "start_time": "2022-11-05T09:21:48.922Z"
   },
   {
    "duration": 0,
    "start_time": "2022-11-05T09:21:48.923Z"
   },
   {
    "duration": 0,
    "start_time": "2022-11-05T09:21:48.924Z"
   },
   {
    "duration": 0,
    "start_time": "2022-11-05T09:21:48.925Z"
   },
   {
    "duration": 0,
    "start_time": "2022-11-05T09:21:48.926Z"
   },
   {
    "duration": 0,
    "start_time": "2022-11-05T09:21:48.926Z"
   },
   {
    "duration": 0,
    "start_time": "2022-11-05T09:21:48.927Z"
   },
   {
    "duration": 0,
    "start_time": "2022-11-05T09:21:48.928Z"
   },
   {
    "duration": 0,
    "start_time": "2022-11-05T09:21:48.929Z"
   },
   {
    "duration": 0,
    "start_time": "2022-11-05T09:21:48.930Z"
   },
   {
    "duration": 7,
    "start_time": "2022-11-05T09:21:57.387Z"
   },
   {
    "duration": 9,
    "start_time": "2022-11-05T09:23:23.085Z"
   },
   {
    "duration": 2,
    "start_time": "2022-11-05T09:23:26.537Z"
   },
   {
    "duration": 4,
    "start_time": "2022-11-05T09:23:30.305Z"
   },
   {
    "duration": 95,
    "start_time": "2022-11-05T09:29:54.236Z"
   },
   {
    "duration": 400,
    "start_time": "2022-11-05T09:30:05.536Z"
   },
   {
    "duration": 168,
    "start_time": "2022-11-05T09:30:05.938Z"
   },
   {
    "duration": 25,
    "start_time": "2022-11-05T09:30:06.108Z"
   },
   {
    "duration": 36,
    "start_time": "2022-11-05T09:30:06.135Z"
   },
   {
    "duration": 4,
    "start_time": "2022-11-05T09:30:06.174Z"
   },
   {
    "duration": 11,
    "start_time": "2022-11-05T09:30:06.181Z"
   },
   {
    "duration": 28,
    "start_time": "2022-11-05T09:30:06.194Z"
   },
   {
    "duration": 7,
    "start_time": "2022-11-05T09:30:06.224Z"
   },
   {
    "duration": 31,
    "start_time": "2022-11-05T09:30:06.232Z"
   },
   {
    "duration": 17,
    "start_time": "2022-11-05T09:30:06.264Z"
   },
   {
    "duration": 20,
    "start_time": "2022-11-05T09:30:06.282Z"
   },
   {
    "duration": 73,
    "start_time": "2022-11-05T09:30:06.304Z"
   },
   {
    "duration": 78,
    "start_time": "2022-11-05T09:30:06.378Z"
   },
   {
    "duration": 53,
    "start_time": "2022-11-05T09:30:06.459Z"
   },
   {
    "duration": 38,
    "start_time": "2022-11-05T09:30:06.522Z"
   },
   {
    "duration": 86,
    "start_time": "2022-11-05T09:30:06.562Z"
   },
   {
    "duration": 32,
    "start_time": "2022-11-05T09:30:06.649Z"
   },
   {
    "duration": 9,
    "start_time": "2022-11-05T09:30:06.682Z"
   },
   {
    "duration": 11,
    "start_time": "2022-11-05T09:30:06.692Z"
   },
   {
    "duration": 85,
    "start_time": "2022-11-05T09:30:06.704Z"
   },
   {
    "duration": 0,
    "start_time": "2022-11-05T09:30:06.790Z"
   },
   {
    "duration": 0,
    "start_time": "2022-11-05T09:30:06.791Z"
   },
   {
    "duration": 0,
    "start_time": "2022-11-05T09:30:06.792Z"
   },
   {
    "duration": 0,
    "start_time": "2022-11-05T09:30:06.794Z"
   },
   {
    "duration": 0,
    "start_time": "2022-11-05T09:30:06.795Z"
   },
   {
    "duration": 0,
    "start_time": "2022-11-05T09:30:06.796Z"
   },
   {
    "duration": 1,
    "start_time": "2022-11-05T09:30:06.797Z"
   },
   {
    "duration": 0,
    "start_time": "2022-11-05T09:30:06.799Z"
   },
   {
    "duration": 0,
    "start_time": "2022-11-05T09:30:06.800Z"
   },
   {
    "duration": 0,
    "start_time": "2022-11-05T09:30:06.802Z"
   },
   {
    "duration": 0,
    "start_time": "2022-11-05T09:30:06.803Z"
   },
   {
    "duration": 0,
    "start_time": "2022-11-05T09:30:06.804Z"
   },
   {
    "duration": 0,
    "start_time": "2022-11-05T09:30:06.805Z"
   },
   {
    "duration": 0,
    "start_time": "2022-11-05T09:30:06.806Z"
   },
   {
    "duration": 0,
    "start_time": "2022-11-05T09:30:06.807Z"
   },
   {
    "duration": 0,
    "start_time": "2022-11-05T09:30:06.808Z"
   },
   {
    "duration": 0,
    "start_time": "2022-11-05T09:30:06.808Z"
   },
   {
    "duration": 0,
    "start_time": "2022-11-05T09:30:06.809Z"
   },
   {
    "duration": 104,
    "start_time": "2022-11-05T09:30:32.739Z"
   },
   {
    "duration": 72,
    "start_time": "2022-11-05T09:30:52.092Z"
   },
   {
    "duration": 82,
    "start_time": "2022-11-05T09:33:34.528Z"
   },
   {
    "duration": 4,
    "start_time": "2022-11-05T09:34:27.212Z"
   },
   {
    "duration": 4,
    "start_time": "2022-11-05T09:41:13.296Z"
   },
   {
    "duration": 68,
    "start_time": "2022-11-05T09:41:26.486Z"
   },
   {
    "duration": 389,
    "start_time": "2022-11-05T11:50:31.006Z"
   },
   {
    "duration": 476,
    "start_time": "2022-11-05T11:50:31.397Z"
   },
   {
    "duration": 19,
    "start_time": "2022-11-05T11:50:31.875Z"
   },
   {
    "duration": 25,
    "start_time": "2022-11-05T11:50:31.896Z"
   },
   {
    "duration": 2,
    "start_time": "2022-11-05T11:50:31.923Z"
   },
   {
    "duration": 5,
    "start_time": "2022-11-05T11:50:31.927Z"
   },
   {
    "duration": 11,
    "start_time": "2022-11-05T11:50:31.933Z"
   },
   {
    "duration": 6,
    "start_time": "2022-11-05T11:50:31.945Z"
   },
   {
    "duration": 21,
    "start_time": "2022-11-05T11:50:31.977Z"
   },
   {
    "duration": 19,
    "start_time": "2022-11-05T11:50:32.000Z"
   },
   {
    "duration": 20,
    "start_time": "2022-11-05T11:50:32.021Z"
   },
   {
    "duration": 80,
    "start_time": "2022-11-05T11:50:32.042Z"
   },
   {
    "duration": 75,
    "start_time": "2022-11-05T11:50:32.123Z"
   },
   {
    "duration": 54,
    "start_time": "2022-11-05T11:50:32.199Z"
   },
   {
    "duration": 51,
    "start_time": "2022-11-05T11:50:32.255Z"
   },
   {
    "duration": 85,
    "start_time": "2022-11-05T11:50:32.308Z"
   },
   {
    "duration": 31,
    "start_time": "2022-11-05T11:50:32.395Z"
   },
   {
    "duration": 10,
    "start_time": "2022-11-05T11:50:32.428Z"
   },
   {
    "duration": 11,
    "start_time": "2022-11-05T11:50:32.440Z"
   },
   {
    "duration": 4,
    "start_time": "2022-11-05T11:50:32.477Z"
   },
   {
    "duration": 76,
    "start_time": "2022-11-05T11:50:32.482Z"
   },
   {
    "duration": 0,
    "start_time": "2022-11-05T11:50:32.559Z"
   },
   {
    "duration": 0,
    "start_time": "2022-11-05T11:50:32.561Z"
   },
   {
    "duration": 0,
    "start_time": "2022-11-05T11:50:32.561Z"
   },
   {
    "duration": 0,
    "start_time": "2022-11-05T11:50:32.563Z"
   },
   {
    "duration": 0,
    "start_time": "2022-11-05T11:50:32.577Z"
   },
   {
    "duration": 0,
    "start_time": "2022-11-05T11:50:32.579Z"
   },
   {
    "duration": 0,
    "start_time": "2022-11-05T11:50:32.580Z"
   },
   {
    "duration": 0,
    "start_time": "2022-11-05T11:50:32.581Z"
   },
   {
    "duration": 0,
    "start_time": "2022-11-05T11:50:32.582Z"
   },
   {
    "duration": 0,
    "start_time": "2022-11-05T11:50:32.583Z"
   },
   {
    "duration": 0,
    "start_time": "2022-11-05T11:50:32.584Z"
   },
   {
    "duration": 0,
    "start_time": "2022-11-05T11:50:32.585Z"
   },
   {
    "duration": 0,
    "start_time": "2022-11-05T11:50:32.586Z"
   },
   {
    "duration": 0,
    "start_time": "2022-11-05T11:50:32.587Z"
   },
   {
    "duration": 0,
    "start_time": "2022-11-05T11:50:32.588Z"
   },
   {
    "duration": 0,
    "start_time": "2022-11-05T11:50:32.589Z"
   },
   {
    "duration": 0,
    "start_time": "2022-11-05T11:50:32.591Z"
   },
   {
    "duration": 19,
    "start_time": "2022-11-05T11:50:51.160Z"
   },
   {
    "duration": 4,
    "start_time": "2022-11-05T11:53:21.913Z"
   },
   {
    "duration": 19,
    "start_time": "2022-11-05T11:57:11.389Z"
   },
   {
    "duration": 8,
    "start_time": "2022-11-05T11:58:40.822Z"
   },
   {
    "duration": 2,
    "start_time": "2022-11-05T12:04:37.223Z"
   },
   {
    "duration": 24,
    "start_time": "2022-11-05T12:05:27.808Z"
   },
   {
    "duration": 4,
    "start_time": "2022-11-05T12:06:09.529Z"
   },
   {
    "duration": 20,
    "start_time": "2022-11-05T12:06:17.422Z"
   },
   {
    "duration": 4,
    "start_time": "2022-11-05T12:06:42.987Z"
   },
   {
    "duration": 3,
    "start_time": "2022-11-05T12:13:06.883Z"
   },
   {
    "duration": 18,
    "start_time": "2022-11-05T12:13:10.929Z"
   },
   {
    "duration": 3,
    "start_time": "2022-11-05T12:13:32.411Z"
   },
   {
    "duration": 69,
    "start_time": "2022-11-05T12:13:41.308Z"
   },
   {
    "duration": 338,
    "start_time": "2022-11-05T12:17:35.028Z"
   },
   {
    "duration": 151,
    "start_time": "2022-11-05T12:17:35.367Z"
   },
   {
    "duration": 16,
    "start_time": "2022-11-05T12:17:35.520Z"
   },
   {
    "duration": 30,
    "start_time": "2022-11-05T12:17:35.537Z"
   },
   {
    "duration": 8,
    "start_time": "2022-11-05T12:17:35.569Z"
   },
   {
    "duration": 7,
    "start_time": "2022-11-05T12:17:35.578Z"
   },
   {
    "duration": 11,
    "start_time": "2022-11-05T12:17:35.587Z"
   },
   {
    "duration": 6,
    "start_time": "2022-11-05T12:17:35.600Z"
   },
   {
    "duration": 29,
    "start_time": "2022-11-05T12:17:35.608Z"
   },
   {
    "duration": 18,
    "start_time": "2022-11-05T12:17:35.639Z"
   },
   {
    "duration": 21,
    "start_time": "2022-11-05T12:17:35.677Z"
   },
   {
    "duration": 59,
    "start_time": "2022-11-05T12:17:35.699Z"
   },
   {
    "duration": 89,
    "start_time": "2022-11-05T12:17:35.760Z"
   },
   {
    "duration": 70,
    "start_time": "2022-11-05T12:17:35.851Z"
   },
   {
    "duration": 37,
    "start_time": "2022-11-05T12:17:35.922Z"
   },
   {
    "duration": 80,
    "start_time": "2022-11-05T12:17:35.961Z"
   },
   {
    "duration": 46,
    "start_time": "2022-11-05T12:17:36.043Z"
   },
   {
    "duration": 9,
    "start_time": "2022-11-05T12:17:36.091Z"
   },
   {
    "duration": 10,
    "start_time": "2022-11-05T12:17:36.101Z"
   },
   {
    "duration": 11,
    "start_time": "2022-11-05T12:17:36.112Z"
   },
   {
    "duration": 84,
    "start_time": "2022-11-05T12:17:36.124Z"
   },
   {
    "duration": 75,
    "start_time": "2022-11-05T12:17:36.209Z"
   },
   {
    "duration": 64,
    "start_time": "2022-11-05T12:17:36.286Z"
   },
   {
    "duration": 0,
    "start_time": "2022-11-05T12:17:36.352Z"
   },
   {
    "duration": 0,
    "start_time": "2022-11-05T12:17:36.353Z"
   },
   {
    "duration": 0,
    "start_time": "2022-11-05T12:17:36.354Z"
   },
   {
    "duration": 0,
    "start_time": "2022-11-05T12:17:36.355Z"
   },
   {
    "duration": 0,
    "start_time": "2022-11-05T12:17:36.356Z"
   },
   {
    "duration": 0,
    "start_time": "2022-11-05T12:17:36.357Z"
   },
   {
    "duration": 0,
    "start_time": "2022-11-05T12:17:36.358Z"
   },
   {
    "duration": 0,
    "start_time": "2022-11-05T12:17:36.359Z"
   },
   {
    "duration": 0,
    "start_time": "2022-11-05T12:17:36.359Z"
   },
   {
    "duration": 0,
    "start_time": "2022-11-05T12:17:36.360Z"
   },
   {
    "duration": 0,
    "start_time": "2022-11-05T12:17:36.361Z"
   },
   {
    "duration": 0,
    "start_time": "2022-11-05T12:17:36.362Z"
   },
   {
    "duration": 0,
    "start_time": "2022-11-05T12:17:36.363Z"
   },
   {
    "duration": 0,
    "start_time": "2022-11-05T12:17:36.364Z"
   },
   {
    "duration": 0,
    "start_time": "2022-11-05T12:17:36.365Z"
   },
   {
    "duration": 58,
    "start_time": "2022-11-05T12:17:45.994Z"
   },
   {
    "duration": 55,
    "start_time": "2022-11-05T12:17:48.083Z"
   },
   {
    "duration": 60,
    "start_time": "2022-11-05T12:17:49.918Z"
   },
   {
    "duration": 62,
    "start_time": "2022-11-05T12:17:51.431Z"
   },
   {
    "duration": 82,
    "start_time": "2022-11-05T12:27:27.179Z"
   },
   {
    "duration": 4,
    "start_time": "2022-11-05T12:31:01.305Z"
   },
   {
    "duration": 4,
    "start_time": "2022-11-05T12:42:14.034Z"
   },
   {
    "duration": 10,
    "start_time": "2022-11-05T12:44:48.392Z"
   },
   {
    "duration": 7,
    "start_time": "2022-11-05T12:45:06.997Z"
   },
   {
    "duration": 75,
    "start_time": "2022-11-05T13:01:08.736Z"
   },
   {
    "duration": 68,
    "start_time": "2022-11-05T13:01:21.120Z"
   },
   {
    "duration": 80,
    "start_time": "2022-11-05T13:02:41.939Z"
   },
   {
    "duration": 81,
    "start_time": "2022-11-05T13:02:59.539Z"
   },
   {
    "duration": 72,
    "start_time": "2022-11-05T13:03:16.661Z"
   },
   {
    "duration": 5,
    "start_time": "2022-11-05T13:05:00.875Z"
   },
   {
    "duration": 7,
    "start_time": "2022-11-05T13:08:13.936Z"
   },
   {
    "duration": 8,
    "start_time": "2022-11-05T13:08:34.545Z"
   },
   {
    "duration": 2,
    "start_time": "2022-11-05T13:08:38.460Z"
   },
   {
    "duration": 366,
    "start_time": "2022-11-05T13:08:50.987Z"
   },
   {
    "duration": 152,
    "start_time": "2022-11-05T13:08:51.355Z"
   },
   {
    "duration": 17,
    "start_time": "2022-11-05T13:08:51.508Z"
   },
   {
    "duration": 25,
    "start_time": "2022-11-05T13:08:51.526Z"
   },
   {
    "duration": 3,
    "start_time": "2022-11-05T13:08:51.552Z"
   },
   {
    "duration": 22,
    "start_time": "2022-11-05T13:08:51.556Z"
   },
   {
    "duration": 10,
    "start_time": "2022-11-05T13:08:51.579Z"
   },
   {
    "duration": 7,
    "start_time": "2022-11-05T13:08:51.590Z"
   },
   {
    "duration": 22,
    "start_time": "2022-11-05T13:08:51.598Z"
   },
   {
    "duration": 17,
    "start_time": "2022-11-05T13:08:51.623Z"
   },
   {
    "duration": 42,
    "start_time": "2022-11-05T13:08:51.642Z"
   },
   {
    "duration": 69,
    "start_time": "2022-11-05T13:08:51.686Z"
   },
   {
    "duration": 90,
    "start_time": "2022-11-05T13:08:51.756Z"
   },
   {
    "duration": 74,
    "start_time": "2022-11-05T13:08:51.847Z"
   },
   {
    "duration": 37,
    "start_time": "2022-11-05T13:08:51.922Z"
   },
   {
    "duration": 102,
    "start_time": "2022-11-05T13:08:51.960Z"
   },
   {
    "duration": 44,
    "start_time": "2022-11-05T13:08:52.064Z"
   },
   {
    "duration": 10,
    "start_time": "2022-11-05T13:08:52.110Z"
   },
   {
    "duration": 10,
    "start_time": "2022-11-05T13:08:52.122Z"
   },
   {
    "duration": 17,
    "start_time": "2022-11-05T13:08:52.135Z"
   },
   {
    "duration": 35,
    "start_time": "2022-11-05T13:08:52.154Z"
   },
   {
    "duration": 14,
    "start_time": "2022-11-05T13:08:52.191Z"
   },
   {
    "duration": 14,
    "start_time": "2022-11-05T13:08:52.206Z"
   },
   {
    "duration": 15,
    "start_time": "2022-11-05T13:08:52.221Z"
   },
   {
    "duration": 15,
    "start_time": "2022-11-05T13:08:52.237Z"
   },
   {
    "duration": 15,
    "start_time": "2022-11-05T13:08:52.277Z"
   },
   {
    "duration": 4,
    "start_time": "2022-11-05T13:08:52.293Z"
   },
   {
    "duration": 10,
    "start_time": "2022-11-05T13:08:52.300Z"
   },
   {
    "duration": 9,
    "start_time": "2022-11-05T13:08:52.311Z"
   },
   {
    "duration": 4,
    "start_time": "2022-11-05T13:08:52.321Z"
   },
   {
    "duration": 56,
    "start_time": "2022-11-05T13:08:52.327Z"
   },
   {
    "duration": 2,
    "start_time": "2022-11-05T13:08:52.384Z"
   },
   {
    "duration": 5,
    "start_time": "2022-11-05T13:08:52.388Z"
   },
   {
    "duration": 4,
    "start_time": "2022-11-05T13:08:52.395Z"
   },
   {
    "duration": 5,
    "start_time": "2022-11-05T13:08:52.401Z"
   },
   {
    "duration": 7,
    "start_time": "2022-11-05T13:08:52.407Z"
   },
   {
    "duration": 7,
    "start_time": "2022-11-05T13:08:52.415Z"
   },
   {
    "duration": 3,
    "start_time": "2022-11-05T13:08:52.424Z"
   },
   {
    "duration": 391,
    "start_time": "2022-11-05T13:15:54.206Z"
   },
   {
    "duration": 158,
    "start_time": "2022-11-05T13:15:54.599Z"
   },
   {
    "duration": 16,
    "start_time": "2022-11-05T13:15:54.759Z"
   },
   {
    "duration": 25,
    "start_time": "2022-11-05T13:15:54.777Z"
   },
   {
    "duration": 2,
    "start_time": "2022-11-05T13:15:54.804Z"
   },
   {
    "duration": 5,
    "start_time": "2022-11-05T13:15:54.807Z"
   },
   {
    "duration": 11,
    "start_time": "2022-11-05T13:15:54.814Z"
   },
   {
    "duration": 6,
    "start_time": "2022-11-05T13:15:54.827Z"
   },
   {
    "duration": 43,
    "start_time": "2022-11-05T13:15:54.835Z"
   },
   {
    "duration": 17,
    "start_time": "2022-11-05T13:15:54.879Z"
   },
   {
    "duration": 24,
    "start_time": "2022-11-05T13:15:54.898Z"
   },
   {
    "duration": 69,
    "start_time": "2022-11-05T13:15:54.923Z"
   },
   {
    "duration": 74,
    "start_time": "2022-11-05T13:15:54.993Z"
   },
   {
    "duration": 62,
    "start_time": "2022-11-05T13:15:55.079Z"
   },
   {
    "duration": 53,
    "start_time": "2022-11-05T13:15:55.142Z"
   },
   {
    "duration": 101,
    "start_time": "2022-11-05T13:15:55.197Z"
   },
   {
    "duration": 33,
    "start_time": "2022-11-05T13:15:55.299Z"
   },
   {
    "duration": 10,
    "start_time": "2022-11-05T13:15:55.334Z"
   },
   {
    "duration": 13,
    "start_time": "2022-11-05T13:15:55.346Z"
   },
   {
    "duration": 3,
    "start_time": "2022-11-05T13:15:55.378Z"
   },
   {
    "duration": 23,
    "start_time": "2022-11-05T13:15:55.383Z"
   },
   {
    "duration": 14,
    "start_time": "2022-11-05T13:15:55.407Z"
   },
   {
    "duration": 13,
    "start_time": "2022-11-05T13:15:55.423Z"
   },
   {
    "duration": 12,
    "start_time": "2022-11-05T13:15:55.437Z"
   },
   {
    "duration": 38,
    "start_time": "2022-11-05T13:15:55.451Z"
   },
   {
    "duration": 13,
    "start_time": "2022-11-05T13:15:55.490Z"
   },
   {
    "duration": 4,
    "start_time": "2022-11-05T13:15:55.504Z"
   },
   {
    "duration": 12,
    "start_time": "2022-11-05T13:15:55.509Z"
   },
   {
    "duration": 8,
    "start_time": "2022-11-05T13:15:55.523Z"
   },
   {
    "duration": 4,
    "start_time": "2022-11-05T13:15:55.532Z"
   },
   {
    "duration": 61,
    "start_time": "2022-11-05T13:15:55.537Z"
   },
   {
    "duration": 16,
    "start_time": "2022-11-05T13:15:55.599Z"
   },
   {
    "duration": 21,
    "start_time": "2022-11-05T13:15:55.616Z"
   },
   {
    "duration": 39,
    "start_time": "2022-11-05T13:15:55.639Z"
   },
   {
    "duration": 2,
    "start_time": "2022-11-05T13:15:55.679Z"
   },
   {
    "duration": 6,
    "start_time": "2022-11-05T13:15:55.683Z"
   },
   {
    "duration": 12,
    "start_time": "2022-11-05T13:15:55.690Z"
   },
   {
    "duration": 6,
    "start_time": "2022-11-05T13:15:55.704Z"
   },
   {
    "duration": 4,
    "start_time": "2022-11-05T13:26:24.764Z"
   },
   {
    "duration": 8,
    "start_time": "2022-11-05T13:33:16.723Z"
   },
   {
    "duration": 5,
    "start_time": "2022-11-05T13:34:08.318Z"
   },
   {
    "duration": 8,
    "start_time": "2022-11-05T13:35:31.605Z"
   },
   {
    "duration": 62,
    "start_time": "2022-11-05T13:36:08.653Z"
   },
   {
    "duration": 5,
    "start_time": "2022-11-05T13:36:14.636Z"
   }
  ],
  "colab": {
   "collapsed_sections": [
    "E0vqbgi9ay0H",
    "VUC88oWjTJw2"
   ],
   "name": "automatization_template_upd4.ipynb",
   "provenance": []
  },
  "kernelspec": {
   "display_name": "Python 3 (ipykernel)",
   "language": "python",
   "name": "python3"
  },
  "language_info": {
   "codemirror_mode": {
    "name": "ipython",
    "version": 3
   },
   "file_extension": ".py",
   "mimetype": "text/x-python",
   "name": "python",
   "nbconvert_exporter": "python",
   "pygments_lexer": "ipython3",
   "version": "3.9.13"
  },
  "toc": {
   "base_numbering": 1,
   "nav_menu": {
    "height": "215px",
    "width": "403px"
   },
   "number_sections": true,
   "sideBar": true,
   "skip_h1_title": true,
   "title_cell": "Содержание",
   "title_sidebar": "Contents",
   "toc_cell": true,
   "toc_position": {
    "height": "calc(100% - 180px)",
    "left": "10px",
    "top": "150px",
    "width": "262.8125px"
   },
   "toc_section_display": true,
   "toc_window_display": true
  }
 },
 "nbformat": 4,
 "nbformat_minor": 1
}
